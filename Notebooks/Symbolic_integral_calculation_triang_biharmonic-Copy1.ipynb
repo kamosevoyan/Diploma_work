{
 "cells": [
  {
   "cell_type": "code",
   "execution_count": 43,
   "id": "f08b13c7",
   "metadata": {},
   "outputs": [],
   "source": [
    "import sympy\n",
    "import matplotlib.pyplot as plt\n",
    "import numpy as np\n",
    "from tqdm import tqdm"
   ]
  },
  {
   "cell_type": "code",
   "execution_count": 44,
   "id": "12b69267",
   "metadata": {},
   "outputs": [],
   "source": [
    "x, y, x_1, y_1, x_2, y_2, x_3, y_3, p_1, p_2, p_3 = sympy.symbols(\"x y x_1 y_1 x_2 y_2 x_3 y_3 p_1 p_2 p_3\")"
   ]
  },
  {
   "cell_type": "code",
   "execution_count": 45,
   "id": "bc9fbec8",
   "metadata": {},
   "outputs": [],
   "source": [
    "S2 = (x_2-x_1)*(y_3-y_1)-(y_2-y_1)*(x_3-x_1)"
   ]
  },
  {
   "cell_type": "code",
   "execution_count": 46,
   "id": "365ec5ee",
   "metadata": {},
   "outputs": [],
   "source": [
    "P_1 = (x_2*y_3 - y_2*x_3 + x*(y_2-y_3)-y*(x_2-x_3)) / S2"
   ]
  },
  {
   "cell_type": "code",
   "execution_count": 47,
   "id": "dfa93ad4",
   "metadata": {},
   "outputs": [],
   "source": [
    "P_2 = (x_3*y_1 - y_3*x_1 + x*(y_3-y_1)-y*(x_3-x_1)) / S2"
   ]
  },
  {
   "cell_type": "code",
   "execution_count": 48,
   "id": "62909b2c",
   "metadata": {},
   "outputs": [],
   "source": [
    "P_3 = (x_1*y_2 - y_1*x_2 + x*(y_1-y_2)-y*(x_1-x_2)) / S2"
   ]
  },
  {
   "cell_type": "code",
   "execution_count": 49,
   "id": "3d715329",
   "metadata": {},
   "outputs": [],
   "source": [
    "phi_1_0_0 = p_1**2*(10*p_1 - 15*p_1**2 + 6*p_1**3 + 15*p_2**2*p_3)\n",
    "phi_2_0_0 = p_2**2*(10*p_2 - 15*p_2**2 + 6*p_2**3 + 15*p_1**2*p_3)\n",
    "phi_3_0_0 = p_3**2*(10*p_3 - 15*p_3**2 + 6*p_3**3 + 30*p_1*p_2*(p_1 + p_2))"
   ]
  },
  {
   "cell_type": "code",
   "execution_count": 50,
   "id": "dacae03c",
   "metadata": {},
   "outputs": [],
   "source": [
    "phi_1_1_0 = p_1**2*(-4*p_1 + 7*p_1**2 - 3*p_1**3 - 15/2*p_2**2*p_3)\n",
    "phi_2_1_0 = p_1*p_2**2*(3 - 2*p_2 - 3/2*p_1 - 3/2*p_1**2 + 3/2*p_1*p_2)\n",
    "phi_3_1_0 = p_1*p_3**2*(3 - 2*p_3 - 3*p_1**2 + 6*p_1*p_2)"
   ]
  },
  {
   "cell_type": "code",
   "execution_count": 51,
   "id": "bb4d466b",
   "metadata": {},
   "outputs": [],
   "source": [
    "phi_1_0_1 = p_1**2*p_2*(3 - 2*p_1 - 3/2*p_2 - 3/2*p_2**2 + 3/2*p_1*p_2)\n",
    "phi_2_0_1 = p_2**2*(-4*p_2 + 7*p_2**2 - 3*p_2**3 - 15/2*p_1**2*p_3)\n",
    "phi_3_0_1 = p_2*p_3**2*(3 - 2*p_3 - 3*p_2**2 + 6*p_1*p_2)"
   ]
  },
  {
   "cell_type": "code",
   "execution_count": 52,
   "id": "bf3021c1",
   "metadata": {},
   "outputs": [],
   "source": [
    "phi_1_1_1 = p_1**2*p_2*(-1 + p_1 + 1/2*p_2 + 1/2*p_2**2 - 1/2*p_1*p_2)\n",
    "phi_2_1_1 = p_1*p_2**2*(-1 + 1/2*p_1 + p_2 + 1/2*p_1**2 - 1/2*p_1*p_2)\n",
    "phi_3_1_1 = p_1*p_2*p_3**2"
   ]
  },
  {
   "cell_type": "code",
   "execution_count": 53,
   "id": "bd4e8a53",
   "metadata": {},
   "outputs": [],
   "source": [
    "phi_1_2_0 = p_1**2*(1/2*p_1*(1-p_1)**2 + 5/4*p_2**2*p_3)\n",
    "phi_2_2_0 = 1/4*p_1**2*p_2**2*p_3 + 1/2*p_1**2*p_2**3\n",
    "phi_3_2_0 = 1/2*p_1**2*p_3**2*(1-p_1+2*p_2)"
   ]
  },
  {
   "cell_type": "code",
   "execution_count": 54,
   "id": "767e41f1",
   "metadata": {},
   "outputs": [],
   "source": [
    "phi_1_0_2 = 1/4*p_1**2*p_2**2*p_3 + 1/2*p_1**3*p_2**2\n",
    "phi_2_0_2 = p_2**2*(1/2*p_2*(1 - p_2)**2 + 5/4*p_1**2*p_3)\n",
    "phi_3_0_2 = 1/2*p_2**2*p_3**2*(1 + 2*p_1 - p_2)"
   ]
  },
  {
   "cell_type": "code",
   "execution_count": 68,
   "id": "402614ba",
   "metadata": {},
   "outputs": [],
   "source": [
    "all_basis = [\n",
    "phi_1_0_0, phi_2_0_0, phi_3_0_0, \n",
    "phi_1_1_0, phi_2_1_0, phi_3_1_0,\n",
    "phi_1_0_1, phi_2_0_1, phi_3_0_1,\n",
    "phi_1_1_1, phi_2_1_1, phi_3_1_1,\n",
    "phi_1_2_0, phi_2_2_0, phi_3_2_0,\n",
    "phi_1_0_2, phi_2_0_2, phi_3_0_2\n",
    "]"
   ]
  },
  {
   "cell_type": "code",
   "execution_count": 77,
   "id": "ae523d99",
   "metadata": {},
   "outputs": [
    {
     "name": "stdout",
     "output_type": "stream",
     "text": [
      " step 0 1 ..."
     ]
    },
    {
     "name": "stderr",
     "output_type": "stream",
     "text": [
      "\n",
      "KeyboardInterrupt\n",
      "\n"
     ]
    }
   ],
   "source": [
    "P_1_x, P_2_x, P_3_x, P_1_y, P_2_y, P_3_y = sympy.symbols(\"P_1_x P_2_x P_3_x P_1_y P_2_y P_3_y\")\n",
    "\n",
    "result = {}\n",
    "\n",
    "N = 18\n",
    "\n",
    "for idx in range(18):\n",
    "    for jdx in range(idx, 18):\n",
    "        \n",
    "        print(f\"\\r step {idx} {jdx} ...\", end=\"\")\n",
    "        \n",
    "        first = all_basis[idx]\n",
    "        second = all_basis[jdx]\n",
    "        \n",
    "        u_x = \\\n",
    "        sympy.diff(first, p_1)*P_1_x + \\\n",
    "        sympy.diff(first, p_2)*P_2_x + \\\n",
    "        sympy.diff(first, p_3)*P_3_x\n",
    "        \n",
    "        u_y = \\\n",
    "        sympy.diff(first, p_1)*P_1_y + \\\n",
    "        sympy.diff(first, p_2)*P_2_y + \\\n",
    "        sympy.diff(first, p_3)*P_3_y\n",
    "        \n",
    "        u_xx = \\\n",
    "        sympy.diff(u_x, p_1)*P_1_x + \\\n",
    "        sympy.diff(u_x, p_2)*P_2_x + \\\n",
    "        sympy.diff(u_x, p_2)*P_2_x\n",
    "        \n",
    "        u_yy = \\\n",
    "        sympy.diff(u_y, p_1)*P_1_y + \\\n",
    "        sympy.diff(u_y, p_2)*P_2_y + \\\n",
    "        sympy.diff(u_y, p_2)*P_2_y\n",
    "        \n",
    "        u_xy = \\\n",
    "        sympy.diff(u_x, p_1)*P_1_y + \\\n",
    "        sympy.diff(u_x, p_2)*P_2_y + \\\n",
    "        sympy.diff(u_x, p_2)*P_2_y\n",
    "        \n",
    "        v_x = \\\n",
    "        sympy.diff(second, p_1)*P_1_x + \\\n",
    "        sympy.diff(second, p_2)*P_2_x + \\\n",
    "        sympy.diff(second, p_3)*P_3_x\n",
    "        \n",
    "        \n",
    "        v_y = \\\n",
    "        sympy.diff(second, p_1)*P_1_y + \\\n",
    "        sympy.diff(second, p_2)*P_2_y + \\\n",
    "        sympy.diff(second, p_3)*P_3_y\n",
    "        \n",
    "        \n",
    "        v_xx = \\\n",
    "        sympy.diff(v_x, p_1)*P_1_x + \\\n",
    "        sympy.diff(v_x, p_2)*P_2_x + \\\n",
    "        sympy.diff(v_x, p_2)*P_2_x\n",
    "        \n",
    "        v_yy = \\\n",
    "        sympy.diff(v_y, p_1)*P_1_y + \\\n",
    "        sympy.diff(v_y, p_2)*P_2_y + \\\n",
    "        sympy.diff(v_y, p_2)*P_2_y\n",
    "        \n",
    "        v_xy = \\\n",
    "        sympy.diff(v_x, p_1)*P_1_y + \\\n",
    "        sympy.diff(v_x, p_2)*P_2_y + \\\n",
    "        sympy.diff(v_x, p_2)*P_2_y\n",
    "        \n",
    "        \n",
    "        \n",
    "        A = u_xx * v_xx\n",
    "        B = u_xy * v_xy\n",
    "        C = u_yy * v_yy\n",
    "        \n",
    "        A_pure = A.subs(p_3, 1 - p_1 - p_2)\n",
    "        B_pure = B.subs(p_3, 1 - p_1 - p_2)\n",
    "        C_pure = C.subs(p_3, 1 - p_1 - p_2)\n",
    "        \n",
    "        A_sym_int = sympy.integrate(A_pure, (p_2, 0, 1-p_1), (p_1, 0, 1))\n",
    "        B_sym_int = sympy.integrate(B_pure, (p_2, 0, 1-p_1), (p_1, 0, 1))\n",
    "        C_sym_int = sympy.integrate(C_pure, (p_2, 0, 1-p_1), (p_1, 0, 1))\n",
    "        \n",
    "        args = [x_1, y_1, x_2, y_2, x_3, y_3]\n",
    "        \n",
    "        result[f\"{idx}_{jdx}_xx\"] = A_sym_int\n",
    "        result[f\"{idx}_{jdx}_xy\"] = B_sym_int\n",
    "        result[f\"{idx}_{jdx}_yy\"] = C_sym_int"
   ]
  },
  {
   "cell_type": "code",
   "execution_count": 79,
   "id": "65b23053",
   "metadata": {},
   "outputs": [
    {
     "data": {
      "text/latex": [
       "$\\displaystyle \\frac{185 P_{1 x}^{4}}{14} + \\frac{165 P_{1 x}^{3} P_{2 x}}{14} + \\frac{55 P_{1 x}^{3} P_{3 x}}{14} + \\frac{50 P_{1 x}^{2} P_{2 x}^{2}}{7} + \\frac{30 P_{1 x}^{2} P_{2 x} P_{3 x}}{7} + \\frac{15 P_{1 x}^{2} P_{3 x}^{2}}{14} + \\frac{45 P_{1 x} P_{2 x}^{3}}{7} + \\frac{15 P_{1 x} P_{2 x}^{2} P_{3 x}}{2} + \\frac{45 P_{1 x} P_{2 x} P_{3 x}^{2}}{14} + \\frac{30 P_{2 x}^{4}}{7} + \\frac{30 P_{2 x}^{3} P_{3 x}}{7} + \\frac{30 P_{2 x}^{2} P_{3 x}^{2}}{7}$"
      ],
      "text/plain": [
       "185*P_1_x**4/14 + 165*P_1_x**3*P_2_x/14 + 55*P_1_x**3*P_3_x/14 + 50*P_1_x**2*P_2_x**2/7 + 30*P_1_x**2*P_2_x*P_3_x/7 + 15*P_1_x**2*P_3_x**2/14 + 45*P_1_x*P_2_x**3/7 + 15*P_1_x*P_2_x**2*P_3_x/2 + 45*P_1_x*P_2_x*P_3_x**2/14 + 30*P_2_x**4/7 + 30*P_2_x**3*P_3_x/7 + 30*P_2_x**2*P_3_x**2/7"
      ]
     },
     "execution_count": 79,
     "metadata": {},
     "output_type": "execute_result"
    }
   ],
   "source": [
    "result[\"0_0_xx\"]"
   ]
  },
  {
   "cell_type": "code",
   "execution_count": null,
   "id": "6607906e",
   "metadata": {},
   "outputs": [],
   "source": []
  },
  {
   "cell_type": "code",
   "execution_count": null,
   "id": "f3215229",
   "metadata": {},
   "outputs": [],
   "source": []
  },
  {
   "cell_type": "code",
   "execution_count": null,
   "id": "32dd6b24",
   "metadata": {},
   "outputs": [],
   "source": []
  },
  {
   "cell_type": "code",
   "execution_count": null,
   "id": "3b9bd799",
   "metadata": {},
   "outputs": [],
   "source": []
  },
  {
   "cell_type": "code",
   "execution_count": null,
   "id": "6b370f8b",
   "metadata": {},
   "outputs": [],
   "source": []
  },
  {
   "cell_type": "code",
   "execution_count": null,
   "id": "860377b7",
   "metadata": {},
   "outputs": [],
   "source": []
  },
  {
   "cell_type": "code",
   "execution_count": null,
   "id": "037830ff",
   "metadata": {},
   "outputs": [],
   "source": []
  },
  {
   "cell_type": "code",
   "execution_count": null,
   "id": "51abb938",
   "metadata": {},
   "outputs": [],
   "source": []
  },
  {
   "cell_type": "code",
   "execution_count": null,
   "id": "e61f2a65",
   "metadata": {},
   "outputs": [],
   "source": [
    "2 * sympy.diff(P_1, x, y)*sympy.diff(P_1, x, y)"
   ]
  },
  {
   "cell_type": "code",
   "execution_count": null,
   "id": "6c902113",
   "metadata": {},
   "outputs": [],
   "source": [
    "sympy.diff(P_1, y, y)*sympy.diff(P_1, y, y)"
   ]
  },
  {
   "cell_type": "code",
   "execution_count": null,
   "id": "a136aa7a",
   "metadata": {},
   "outputs": [],
   "source": []
  },
  {
   "cell_type": "code",
   "execution_count": null,
   "id": "86092678",
   "metadata": {},
   "outputs": [],
   "source": [
    "sympy.diff(P_1, x, x) * sympy.diff(P_2, x, x)"
   ]
  },
  {
   "cell_type": "code",
   "execution_count": null,
   "id": "aa564657",
   "metadata": {},
   "outputs": [],
   "source": [
    "2 * sympy.diff(P_1, x, y) * sympy.diff(P_2, x, y)"
   ]
  },
  {
   "cell_type": "code",
   "execution_count": null,
   "id": "06f9bec8",
   "metadata": {},
   "outputs": [],
   "source": [
    "sympy.diff(P_1, y, y) * sympy.diff(P_2, y, y)"
   ]
  },
  {
   "cell_type": "code",
   "execution_count": null,
   "id": "4ba62ba7",
   "metadata": {},
   "outputs": [],
   "source": []
  },
  {
   "cell_type": "code",
   "execution_count": null,
   "id": "09f5857e",
   "metadata": {},
   "outputs": [],
   "source": [
    "sympy.diff(P_1, x, x) * sympy.diff(P_3, x, x)"
   ]
  },
  {
   "cell_type": "code",
   "execution_count": null,
   "id": "913c1273",
   "metadata": {},
   "outputs": [],
   "source": [
    "2 * sympy.diff(P_1, x, y) * sympy.diff(P_3, x, y)"
   ]
  },
  {
   "cell_type": "code",
   "execution_count": null,
   "id": "5379494f",
   "metadata": {},
   "outputs": [],
   "source": [
    "sympy.diff(P_1, y, y) * sympy.diff(P_3, y, y)"
   ]
  },
  {
   "cell_type": "code",
   "execution_count": null,
   "id": "a8ca46ee",
   "metadata": {},
   "outputs": [],
   "source": []
  },
  {
   "cell_type": "code",
   "execution_count": null,
   "id": "3c7515ab",
   "metadata": {},
   "outputs": [],
   "source": [
    "sympy.diff(P_1, x, x) * sympy.diff(P_4, x, x)"
   ]
  },
  {
   "cell_type": "code",
   "execution_count": null,
   "id": "e3c457fd",
   "metadata": {},
   "outputs": [],
   "source": [
    "2 * sympy.diff(P_1, x, y) * sympy.diff(P_4, x, y)"
   ]
  },
  {
   "cell_type": "code",
   "execution_count": null,
   "id": "4bb4f378",
   "metadata": {},
   "outputs": [],
   "source": [
    "sympy.diff(P_1, y, y) * sympy.diff(P_4, y, y)"
   ]
  },
  {
   "cell_type": "code",
   "execution_count": null,
   "id": "53f09468",
   "metadata": {},
   "outputs": [],
   "source": []
  },
  {
   "cell_type": "code",
   "execution_count": null,
   "id": "f5bcb45a",
   "metadata": {},
   "outputs": [],
   "source": [
    "sympy.diff(P_1, x, x) * sympy.diff(P_5, x, x)"
   ]
  },
  {
   "cell_type": "code",
   "execution_count": null,
   "id": "2044fa60",
   "metadata": {},
   "outputs": [],
   "source": [
    "2 * sympy.diff(P_1, x, y) * sympy.diff(P_5, x, y)"
   ]
  },
  {
   "cell_type": "code",
   "execution_count": null,
   "id": "005187ee",
   "metadata": {},
   "outputs": [],
   "source": [
    "sympy.diff(P_1, y, y) * sympy.diff(P_5, y, y)"
   ]
  },
  {
   "cell_type": "code",
   "execution_count": null,
   "id": "03227315",
   "metadata": {},
   "outputs": [],
   "source": []
  },
  {
   "cell_type": "code",
   "execution_count": null,
   "id": "95e798ca",
   "metadata": {},
   "outputs": [],
   "source": [
    "sympy.diff(P_1, x, x) * sympy.diff(P_6, x, x)"
   ]
  },
  {
   "cell_type": "code",
   "execution_count": null,
   "id": "210fed6b",
   "metadata": {},
   "outputs": [],
   "source": [
    "2 * sympy.diff(P_1, x, y) * sympy.diff(P_6, x, y)"
   ]
  },
  {
   "cell_type": "code",
   "execution_count": null,
   "id": "e6affd28",
   "metadata": {},
   "outputs": [],
   "source": [
    "sympy.diff(P_1, y, y) * sympy.diff(P_6, y, y)"
   ]
  },
  {
   "cell_type": "code",
   "execution_count": null,
   "id": "68e48e34",
   "metadata": {},
   "outputs": [],
   "source": []
  },
  {
   "cell_type": "code",
   "execution_count": null,
   "id": "ebefedb9",
   "metadata": {},
   "outputs": [],
   "source": []
  },
  {
   "cell_type": "code",
   "execution_count": null,
   "id": "fabf8046",
   "metadata": {},
   "outputs": [],
   "source": [
    "sympy.diff(P_2, x, x) * sympy.diff(P_1, x, x)"
   ]
  },
  {
   "cell_type": "code",
   "execution_count": null,
   "id": "cfabf93d",
   "metadata": {},
   "outputs": [],
   "source": [
    "2 * sympy.diff(P_1, x, y) * sympy.diff(P_2, x, y)"
   ]
  },
  {
   "cell_type": "code",
   "execution_count": null,
   "id": "e0412d5b",
   "metadata": {},
   "outputs": [],
   "source": [
    "sympy.diff(P_1, y, y) * sympy.diff(P_2, y, y)"
   ]
  },
  {
   "cell_type": "code",
   "execution_count": null,
   "id": "12628a8c",
   "metadata": {},
   "outputs": [],
   "source": []
  },
  {
   "cell_type": "code",
   "execution_count": null,
   "id": "be1d4fc3",
   "metadata": {},
   "outputs": [],
   "source": [
    "sympy.diff(P_2, x, x) * sympy.diff(P_2, x, x)"
   ]
  },
  {
   "cell_type": "code",
   "execution_count": null,
   "id": "864123f2",
   "metadata": {},
   "outputs": [],
   "source": [
    "2 * sympy.diff(P_2, x, y) * sympy.diff(P_2, x, y)"
   ]
  },
  {
   "cell_type": "code",
   "execution_count": null,
   "id": "54ef6076",
   "metadata": {},
   "outputs": [],
   "source": [
    "sympy.diff(P_2, y, y) * sympy.diff(P_2, y, y)"
   ]
  },
  {
   "cell_type": "code",
   "execution_count": null,
   "id": "47a4fce4",
   "metadata": {},
   "outputs": [],
   "source": []
  },
  {
   "cell_type": "code",
   "execution_count": null,
   "id": "be92b512",
   "metadata": {},
   "outputs": [],
   "source": [
    "sympy.diff(P_2, x, x) * sympy.diff(P_3, x, x)"
   ]
  },
  {
   "cell_type": "code",
   "execution_count": null,
   "id": "e301e1c7",
   "metadata": {},
   "outputs": [],
   "source": [
    "2 * sympy.diff(P_2, x, y) * sympy.diff(P_3, x, y)"
   ]
  },
  {
   "cell_type": "code",
   "execution_count": null,
   "id": "2ba0bc5c",
   "metadata": {},
   "outputs": [],
   "source": [
    "sympy.diff(P_2, y, y) * sympy.diff(P_3, y, y)"
   ]
  },
  {
   "cell_type": "code",
   "execution_count": null,
   "id": "1eba5405",
   "metadata": {},
   "outputs": [],
   "source": []
  },
  {
   "cell_type": "code",
   "execution_count": null,
   "id": "58bde259",
   "metadata": {},
   "outputs": [],
   "source": [
    "sympy.diff(P_2, x, x) * sympy.diff(P_4, x, x)"
   ]
  },
  {
   "cell_type": "code",
   "execution_count": null,
   "id": "7ac5ee12",
   "metadata": {},
   "outputs": [],
   "source": [
    "2 * sympy.diff(P_2, x, y) * sympy.diff(P_4, x, y)"
   ]
  },
  {
   "cell_type": "code",
   "execution_count": null,
   "id": "4d8d9a3d",
   "metadata": {},
   "outputs": [],
   "source": [
    "sympy.diff(P_2, y, y) * sympy.diff(P_4, y, y)"
   ]
  },
  {
   "cell_type": "code",
   "execution_count": null,
   "id": "c9ec4ca1",
   "metadata": {},
   "outputs": [],
   "source": []
  },
  {
   "cell_type": "code",
   "execution_count": null,
   "id": "6e1faf34",
   "metadata": {},
   "outputs": [],
   "source": [
    "sympy.diff(P_2, x, x) * sympy.diff(P_5, x, x)"
   ]
  },
  {
   "cell_type": "code",
   "execution_count": null,
   "id": "94e2f9f1",
   "metadata": {},
   "outputs": [],
   "source": [
    "2 * sympy.diff(P_2, x, y) * sympy.diff(P_5, x, y)"
   ]
  },
  {
   "cell_type": "code",
   "execution_count": null,
   "id": "37c05681",
   "metadata": {},
   "outputs": [],
   "source": [
    "sympy.diff(P_2, y, y) * sympy.diff(P_5, y, y)"
   ]
  },
  {
   "cell_type": "code",
   "execution_count": null,
   "id": "891d5387",
   "metadata": {},
   "outputs": [],
   "source": []
  },
  {
   "cell_type": "code",
   "execution_count": null,
   "id": "ac06c618",
   "metadata": {},
   "outputs": [],
   "source": [
    "sympy.diff(P_2, x, x) * sympy.diff(P_6, x, x)"
   ]
  },
  {
   "cell_type": "code",
   "execution_count": null,
   "id": "ce10e63d",
   "metadata": {},
   "outputs": [],
   "source": [
    "2 * sympy.diff(P_2, x, y) * sympy.diff(P_6, x, y)"
   ]
  },
  {
   "cell_type": "code",
   "execution_count": null,
   "id": "75abb54c",
   "metadata": {},
   "outputs": [],
   "source": [
    "sympy.diff(P_2, y, y) * sympy.diff(P_6, y, y)"
   ]
  },
  {
   "cell_type": "code",
   "execution_count": null,
   "id": "b78dafeb",
   "metadata": {},
   "outputs": [],
   "source": []
  },
  {
   "cell_type": "code",
   "execution_count": null,
   "id": "d700d83d",
   "metadata": {},
   "outputs": [],
   "source": []
  },
  {
   "cell_type": "code",
   "execution_count": null,
   "id": "1de58c8a",
   "metadata": {},
   "outputs": [],
   "source": [
    "sympy.diff(P_3, x, x) * sympy.diff(P_1, x, x)"
   ]
  },
  {
   "cell_type": "code",
   "execution_count": null,
   "id": "ba5d2a92",
   "metadata": {},
   "outputs": [],
   "source": [
    "2 * sympy.diff(P_3, x, y) * sympy.diff(P_1, x, y)"
   ]
  },
  {
   "cell_type": "code",
   "execution_count": null,
   "id": "ab89d7ce",
   "metadata": {},
   "outputs": [],
   "source": [
    "sympy.diff(P_3, y, y) * sympy.diff(P_1, y, y)"
   ]
  },
  {
   "cell_type": "code",
   "execution_count": null,
   "id": "6860b794",
   "metadata": {},
   "outputs": [],
   "source": []
  },
  {
   "cell_type": "code",
   "execution_count": null,
   "id": "2c19a2f7",
   "metadata": {},
   "outputs": [],
   "source": [
    "sympy.diff(P_3, x, x) * sympy.diff(P_2, x, x)"
   ]
  },
  {
   "cell_type": "code",
   "execution_count": null,
   "id": "01aea744",
   "metadata": {},
   "outputs": [],
   "source": [
    "2 * sympy.diff(P_3, x, y) * sympy.diff(P_2, x, y)"
   ]
  },
  {
   "cell_type": "code",
   "execution_count": null,
   "id": "89a09405",
   "metadata": {},
   "outputs": [],
   "source": [
    "sympy.diff(P_3, y, y) * sympy.diff(P_2, y, y)"
   ]
  },
  {
   "cell_type": "code",
   "execution_count": null,
   "id": "11c1311a",
   "metadata": {},
   "outputs": [],
   "source": []
  },
  {
   "cell_type": "code",
   "execution_count": null,
   "id": "199b0527",
   "metadata": {},
   "outputs": [],
   "source": [
    "sympy.diff(P_3, x, x) * sympy.diff(P_3, x, x)"
   ]
  },
  {
   "cell_type": "code",
   "execution_count": null,
   "id": "8fe469b4",
   "metadata": {},
   "outputs": [],
   "source": [
    "2 * sympy.diff(P_3, x, y) * sympy.diff(P_3, x, y)"
   ]
  },
  {
   "cell_type": "code",
   "execution_count": null,
   "id": "84077288",
   "metadata": {},
   "outputs": [],
   "source": [
    "sympy.diff(P_3, y, y) * sympy.diff(P_3, y, y)"
   ]
  },
  {
   "cell_type": "code",
   "execution_count": null,
   "id": "ad328cb2",
   "metadata": {},
   "outputs": [],
   "source": []
  },
  {
   "cell_type": "code",
   "execution_count": null,
   "id": "ab2a06d3",
   "metadata": {},
   "outputs": [],
   "source": [
    "sympy.diff(P_3, x, x) * sympy.diff(P_4, x, x)"
   ]
  },
  {
   "cell_type": "code",
   "execution_count": null,
   "id": "daae4970",
   "metadata": {},
   "outputs": [],
   "source": [
    "2 * sympy.diff(P_3, x, y) * sympy.diff(P_4, x, y)"
   ]
  },
  {
   "cell_type": "code",
   "execution_count": null,
   "id": "becd9717",
   "metadata": {},
   "outputs": [],
   "source": [
    "sympy.diff(P_3, y, y) * sympy.diff(P_4, y, y)"
   ]
  },
  {
   "cell_type": "code",
   "execution_count": null,
   "id": "4634f78e",
   "metadata": {},
   "outputs": [],
   "source": []
  },
  {
   "cell_type": "code",
   "execution_count": null,
   "id": "151e6802",
   "metadata": {},
   "outputs": [],
   "source": [
    "sympy.diff(P_3, x, x) * sympy.diff(P_5, x, x)"
   ]
  },
  {
   "cell_type": "code",
   "execution_count": null,
   "id": "9b3912b3",
   "metadata": {},
   "outputs": [],
   "source": [
    "2 * sympy.diff(P_3, x, y) * sympy.diff(P_5, x, y)"
   ]
  },
  {
   "cell_type": "code",
   "execution_count": null,
   "id": "72e49d98",
   "metadata": {},
   "outputs": [],
   "source": [
    "sympy.diff(P_3, y, y) * sympy.diff(P_5, y, y)"
   ]
  },
  {
   "cell_type": "code",
   "execution_count": null,
   "id": "07ba7b25",
   "metadata": {},
   "outputs": [],
   "source": []
  },
  {
   "cell_type": "code",
   "execution_count": null,
   "id": "1c0c7744",
   "metadata": {},
   "outputs": [],
   "source": [
    "sympy.diff(P_3, x, x) * sympy.diff(P_6, x, x)"
   ]
  },
  {
   "cell_type": "code",
   "execution_count": null,
   "id": "7a5e62c2",
   "metadata": {},
   "outputs": [],
   "source": [
    "2 * sympy.diff(P_3, x, y) * sympy.diff(P_6, x, y)"
   ]
  },
  {
   "cell_type": "code",
   "execution_count": null,
   "id": "96954d5c",
   "metadata": {},
   "outputs": [],
   "source": [
    "sympy.diff(P_3, y, y) * sympy.diff(P_6, y, y)"
   ]
  },
  {
   "cell_type": "code",
   "execution_count": null,
   "id": "01201f74",
   "metadata": {},
   "outputs": [],
   "source": []
  },
  {
   "cell_type": "code",
   "execution_count": null,
   "id": "70864805",
   "metadata": {},
   "outputs": [],
   "source": []
  },
  {
   "cell_type": "code",
   "execution_count": null,
   "id": "1bdf3781",
   "metadata": {},
   "outputs": [],
   "source": [
    "sympy.diff(P_4, x, x) * sympy.diff(P_1, x, x)"
   ]
  },
  {
   "cell_type": "code",
   "execution_count": null,
   "id": "ebe8510e",
   "metadata": {},
   "outputs": [],
   "source": [
    "2 * sympy.diff(P_4, x, y) * sympy.diff(P_1, x, y)"
   ]
  },
  {
   "cell_type": "code",
   "execution_count": null,
   "id": "37f88dba",
   "metadata": {},
   "outputs": [],
   "source": [
    "sympy.diff(P_4, y, y) * sympy.diff(P_1, y, y)"
   ]
  },
  {
   "cell_type": "code",
   "execution_count": null,
   "id": "a308990f",
   "metadata": {},
   "outputs": [],
   "source": []
  },
  {
   "cell_type": "code",
   "execution_count": null,
   "id": "fdde2682",
   "metadata": {},
   "outputs": [],
   "source": [
    "sympy.diff(P_4, x, x) * sympy.diff(P_2, x, x)"
   ]
  },
  {
   "cell_type": "code",
   "execution_count": null,
   "id": "a6dc8614",
   "metadata": {},
   "outputs": [],
   "source": [
    "2 * sympy.diff(P_4, x, y) * sympy.diff(P_2, x, y)"
   ]
  },
  {
   "cell_type": "code",
   "execution_count": null,
   "id": "323521f9",
   "metadata": {},
   "outputs": [],
   "source": [
    "sympy.diff(P_4, y, y) * sympy.diff(P_2, y, y)"
   ]
  },
  {
   "cell_type": "code",
   "execution_count": null,
   "id": "f3e7cbde",
   "metadata": {},
   "outputs": [],
   "source": []
  },
  {
   "cell_type": "code",
   "execution_count": null,
   "id": "f4a1500f",
   "metadata": {},
   "outputs": [],
   "source": [
    "sympy.diff(P_4, x, x) * sympy.diff(P_3, x, x)"
   ]
  },
  {
   "cell_type": "code",
   "execution_count": null,
   "id": "0b026540",
   "metadata": {},
   "outputs": [],
   "source": [
    "2 * sympy.diff(P_4, x, y) * sympy.diff(P_3, x, y)"
   ]
  },
  {
   "cell_type": "code",
   "execution_count": null,
   "id": "1f8b6ada",
   "metadata": {},
   "outputs": [],
   "source": [
    "sympy.diff(P_4, y, y) * sympy.diff(P_3, y, y)"
   ]
  },
  {
   "cell_type": "code",
   "execution_count": null,
   "id": "8801edbf",
   "metadata": {},
   "outputs": [],
   "source": []
  },
  {
   "cell_type": "code",
   "execution_count": null,
   "id": "67369a26",
   "metadata": {},
   "outputs": [],
   "source": [
    "sympy.diff(P_4, x, x) * sympy.diff(P_4, x, x)"
   ]
  },
  {
   "cell_type": "code",
   "execution_count": null,
   "id": "ccb156ea",
   "metadata": {},
   "outputs": [],
   "source": [
    "2 * sympy.diff(P_4, x, y) * sympy.diff(P_4, x, y)"
   ]
  },
  {
   "cell_type": "code",
   "execution_count": null,
   "id": "88c94a39",
   "metadata": {},
   "outputs": [],
   "source": [
    "sympy.diff(P_4, y, y) * sympy.diff(P_4, y, y)"
   ]
  },
  {
   "cell_type": "code",
   "execution_count": null,
   "id": "09e9ed94",
   "metadata": {},
   "outputs": [],
   "source": []
  },
  {
   "cell_type": "code",
   "execution_count": null,
   "id": "93032ccf",
   "metadata": {},
   "outputs": [],
   "source": [
    "sympy.diff(P_4, x, x) * sympy.diff(P_5, x, x)"
   ]
  },
  {
   "cell_type": "code",
   "execution_count": null,
   "id": "0299d3ef",
   "metadata": {},
   "outputs": [],
   "source": [
    "2 * sympy.diff(P_4, x, y) * sympy.diff(P_5, x, y)"
   ]
  },
  {
   "cell_type": "code",
   "execution_count": null,
   "id": "36c765ff",
   "metadata": {},
   "outputs": [],
   "source": [
    "sympy.diff(P_4, y, y) * sympy.diff(P_5, y, y)"
   ]
  },
  {
   "cell_type": "code",
   "execution_count": null,
   "id": "a9e49664",
   "metadata": {},
   "outputs": [],
   "source": []
  },
  {
   "cell_type": "code",
   "execution_count": null,
   "id": "1758648d",
   "metadata": {},
   "outputs": [],
   "source": [
    "sympy.diff(P_4, x, x) * sympy.diff(P_6, x, x)"
   ]
  },
  {
   "cell_type": "code",
   "execution_count": null,
   "id": "b4d4a205",
   "metadata": {},
   "outputs": [],
   "source": [
    "2 * sympy.diff(P_4, x, y) * sympy.diff(P_6, x, y)"
   ]
  },
  {
   "cell_type": "code",
   "execution_count": null,
   "id": "f2199296",
   "metadata": {},
   "outputs": [],
   "source": [
    "sympy.diff(P_4, y, y) * sympy.diff(P_6, y, y)"
   ]
  },
  {
   "cell_type": "code",
   "execution_count": null,
   "id": "57828780",
   "metadata": {},
   "outputs": [],
   "source": []
  },
  {
   "cell_type": "code",
   "execution_count": null,
   "id": "9bee4a23",
   "metadata": {},
   "outputs": [],
   "source": []
  },
  {
   "cell_type": "code",
   "execution_count": null,
   "id": "21808251",
   "metadata": {},
   "outputs": [],
   "source": [
    "sympy.diff(P_5, x, x) * sympy.diff(P_1, x, x)"
   ]
  },
  {
   "cell_type": "code",
   "execution_count": null,
   "id": "122e4361",
   "metadata": {},
   "outputs": [],
   "source": [
    "2 * sympy.diff(P_5, x, y) * sympy.diff(P_1, x, y)"
   ]
  },
  {
   "cell_type": "code",
   "execution_count": null,
   "id": "6c19fc5c",
   "metadata": {},
   "outputs": [],
   "source": [
    "sympy.diff(P_5, y, y) * sympy.diff(P_1, y, y)"
   ]
  },
  {
   "cell_type": "code",
   "execution_count": null,
   "id": "3158d86f",
   "metadata": {},
   "outputs": [],
   "source": []
  },
  {
   "cell_type": "code",
   "execution_count": null,
   "id": "95099962",
   "metadata": {},
   "outputs": [],
   "source": [
    "sympy.diff(P_5, x, x) * sympy.diff(P_2, x, x)"
   ]
  },
  {
   "cell_type": "code",
   "execution_count": null,
   "id": "883f065d",
   "metadata": {},
   "outputs": [],
   "source": [
    "2 * sympy.diff(P_5, x, y) * sympy.diff(P_2, x, y)"
   ]
  },
  {
   "cell_type": "code",
   "execution_count": null,
   "id": "c4faf45b",
   "metadata": {},
   "outputs": [],
   "source": [
    "sympy.diff(P_5, y, y) * sympy.diff(P_2, y, y)"
   ]
  },
  {
   "cell_type": "code",
   "execution_count": null,
   "id": "4a5d3a28",
   "metadata": {},
   "outputs": [],
   "source": []
  },
  {
   "cell_type": "code",
   "execution_count": null,
   "id": "0ecf79c5",
   "metadata": {},
   "outputs": [],
   "source": [
    "sympy.diff(P_5, x, x) * sympy.diff(P_3, x, x)"
   ]
  },
  {
   "cell_type": "code",
   "execution_count": null,
   "id": "164bd533",
   "metadata": {},
   "outputs": [],
   "source": [
    "2 * sympy.diff(P_5, x, y) * sympy.diff(P_3, x, y)"
   ]
  },
  {
   "cell_type": "code",
   "execution_count": null,
   "id": "39ee1cc7",
   "metadata": {},
   "outputs": [],
   "source": [
    "sympy.diff(P_5, y, y) * sympy.diff(P_3, y, y)"
   ]
  },
  {
   "cell_type": "code",
   "execution_count": null,
   "id": "85ad8f48",
   "metadata": {},
   "outputs": [],
   "source": []
  },
  {
   "cell_type": "code",
   "execution_count": null,
   "id": "06849055",
   "metadata": {},
   "outputs": [],
   "source": [
    "sympy.diff(P_5, x, x) * sympy.diff(P_4, x, x)"
   ]
  },
  {
   "cell_type": "code",
   "execution_count": null,
   "id": "ce7365b4",
   "metadata": {},
   "outputs": [],
   "source": [
    "2 * sympy.diff(P_5, x, y) * sympy.diff(P_4, x, y)"
   ]
  },
  {
   "cell_type": "code",
   "execution_count": null,
   "id": "9fd84b9f",
   "metadata": {},
   "outputs": [],
   "source": [
    "sympy.diff(P_5, y, y) * sympy.diff(P_4, y, y)"
   ]
  },
  {
   "cell_type": "code",
   "execution_count": null,
   "id": "4b1ce523",
   "metadata": {},
   "outputs": [],
   "source": []
  },
  {
   "cell_type": "code",
   "execution_count": null,
   "id": "f206e2f3",
   "metadata": {},
   "outputs": [],
   "source": [
    "sympy.diff(P_5, x, x) * sympy.diff(P_5, x, x)"
   ]
  },
  {
   "cell_type": "code",
   "execution_count": null,
   "id": "7b86b463",
   "metadata": {},
   "outputs": [],
   "source": [
    "2 * sympy.diff(P_5, x, y) * sympy.diff(P_5, x, y)"
   ]
  },
  {
   "cell_type": "code",
   "execution_count": null,
   "id": "bb00aa10",
   "metadata": {},
   "outputs": [],
   "source": [
    "sympy.diff(P_5, y, y) * sympy.diff(P_5, y, y)"
   ]
  },
  {
   "cell_type": "code",
   "execution_count": null,
   "id": "9dd82d72",
   "metadata": {},
   "outputs": [],
   "source": []
  },
  {
   "cell_type": "code",
   "execution_count": null,
   "id": "bf3edae3",
   "metadata": {},
   "outputs": [],
   "source": [
    "sympy.diff(P_5, x, x) * sympy.diff(P_6, x, x)"
   ]
  },
  {
   "cell_type": "code",
   "execution_count": null,
   "id": "46ec28ab",
   "metadata": {},
   "outputs": [],
   "source": [
    "2 * sympy.diff(P_5, x, y) * sympy.diff(P_6, x, y)"
   ]
  },
  {
   "cell_type": "code",
   "execution_count": null,
   "id": "44eddd4b",
   "metadata": {},
   "outputs": [],
   "source": [
    "sympy.diff(P_5, y, y) * sympy.diff(P_6, y, y)"
   ]
  },
  {
   "cell_type": "code",
   "execution_count": null,
   "id": "9543b740",
   "metadata": {},
   "outputs": [],
   "source": []
  },
  {
   "cell_type": "code",
   "execution_count": null,
   "id": "a060b8d5",
   "metadata": {},
   "outputs": [],
   "source": []
  },
  {
   "cell_type": "code",
   "execution_count": null,
   "id": "aa58c703",
   "metadata": {},
   "outputs": [],
   "source": [
    "sympy.diff(P_6, x, x) * sympy.diff(P_1, x, x)"
   ]
  },
  {
   "cell_type": "code",
   "execution_count": null,
   "id": "215a5099",
   "metadata": {},
   "outputs": [],
   "source": [
    "2 * sympy.diff(P_6, x, y) * sympy.diff(P_1, x, y)"
   ]
  },
  {
   "cell_type": "code",
   "execution_count": null,
   "id": "e7efdf86",
   "metadata": {},
   "outputs": [],
   "source": [
    "sympy.diff(P_6, y, y) * sympy.diff(P_1, y, y)"
   ]
  },
  {
   "cell_type": "code",
   "execution_count": null,
   "id": "13745247",
   "metadata": {},
   "outputs": [],
   "source": []
  },
  {
   "cell_type": "code",
   "execution_count": null,
   "id": "ebaa8867",
   "metadata": {},
   "outputs": [],
   "source": [
    "sympy.diff(P_6, x, x) * sympy.diff(P_2, x, x)"
   ]
  },
  {
   "cell_type": "code",
   "execution_count": null,
   "id": "d43b1619",
   "metadata": {},
   "outputs": [],
   "source": [
    "2 * sympy.diff(P_6, x, y) * sympy.diff(P_2, x, y)"
   ]
  },
  {
   "cell_type": "code",
   "execution_count": null,
   "id": "14c44c3f",
   "metadata": {},
   "outputs": [],
   "source": [
    "sympy.diff(P_6, y, y) * sympy.diff(P_2, y, y)"
   ]
  },
  {
   "cell_type": "code",
   "execution_count": null,
   "id": "99d21164",
   "metadata": {},
   "outputs": [],
   "source": []
  },
  {
   "cell_type": "code",
   "execution_count": null,
   "id": "e07fb226",
   "metadata": {},
   "outputs": [],
   "source": [
    "sympy.diff(P_6, x, x) * sympy.diff(P_3, x, x)"
   ]
  },
  {
   "cell_type": "code",
   "execution_count": null,
   "id": "b53bd161",
   "metadata": {},
   "outputs": [],
   "source": [
    "2 * sympy.diff(P_6, x, y) * sympy.diff(P_3, x, y)"
   ]
  },
  {
   "cell_type": "code",
   "execution_count": null,
   "id": "0127fc19",
   "metadata": {},
   "outputs": [],
   "source": [
    "sympy.diff(P_6, y, y) * sympy.diff(P_3, y, y)"
   ]
  },
  {
   "cell_type": "code",
   "execution_count": null,
   "id": "9b9002cc",
   "metadata": {},
   "outputs": [],
   "source": []
  },
  {
   "cell_type": "code",
   "execution_count": null,
   "id": "6502bd12",
   "metadata": {},
   "outputs": [],
   "source": [
    "sympy.diff(P_6, x, x) * sympy.diff(P_4, x, x)"
   ]
  },
  {
   "cell_type": "code",
   "execution_count": null,
   "id": "e08ba5de",
   "metadata": {},
   "outputs": [],
   "source": [
    "2 * sympy.diff(P_6, x, y) * sympy.diff(P_4, x, y)"
   ]
  },
  {
   "cell_type": "code",
   "execution_count": null,
   "id": "a0cdbb57",
   "metadata": {},
   "outputs": [],
   "source": [
    "sympy.diff(P_6, y, y) * sympy.diff(P_4, y, y)"
   ]
  },
  {
   "cell_type": "code",
   "execution_count": null,
   "id": "1db94ea8",
   "metadata": {},
   "outputs": [],
   "source": []
  },
  {
   "cell_type": "code",
   "execution_count": null,
   "id": "6c93c357",
   "metadata": {},
   "outputs": [],
   "source": [
    "sympy.diff(P_6, x, x) * sympy.diff(P_5, x, x)"
   ]
  },
  {
   "cell_type": "code",
   "execution_count": null,
   "id": "c0474064",
   "metadata": {},
   "outputs": [],
   "source": [
    "2 * sympy.diff(P_6, x, y) * sympy.diff(P_5, x, y)"
   ]
  },
  {
   "cell_type": "code",
   "execution_count": null,
   "id": "d7fe789a",
   "metadata": {},
   "outputs": [],
   "source": [
    "sympy.diff(P_6, y, y) * sympy.diff(P_5, y, y)"
   ]
  },
  {
   "cell_type": "code",
   "execution_count": null,
   "id": "c6f1b385",
   "metadata": {},
   "outputs": [],
   "source": []
  },
  {
   "cell_type": "code",
   "execution_count": null,
   "id": "eaa7d674",
   "metadata": {},
   "outputs": [],
   "source": [
    "sympy.diff(P_6, x, x) * sympy.diff(P_6, x, x)"
   ]
  },
  {
   "cell_type": "code",
   "execution_count": null,
   "id": "3af9ff37",
   "metadata": {},
   "outputs": [],
   "source": [
    "2 * sympy.diff(P_6, x, y) * sympy.diff(P_6, x, y)"
   ]
  },
  {
   "cell_type": "code",
   "execution_count": null,
   "id": "07f1b699",
   "metadata": {},
   "outputs": [],
   "source": [
    "sympy.diff(P_6, y, y) * sympy.diff(P_6, y, y)"
   ]
  }
 ],
 "metadata": {
  "kernelspec": {
   "display_name": "Python 3 (ipykernel)",
   "language": "python",
   "name": "python3"
  },
  "language_info": {
   "codemirror_mode": {
    "name": "ipython",
    "version": 3
   },
   "file_extension": ".py",
   "mimetype": "text/x-python",
   "name": "python",
   "nbconvert_exporter": "python",
   "pygments_lexer": "ipython3",
   "version": "3.9.12"
  }
 },
 "nbformat": 4,
 "nbformat_minor": 5
}
