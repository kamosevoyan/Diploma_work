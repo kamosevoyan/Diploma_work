{
 "cells": [
  {
   "cell_type": "code",
   "execution_count": 1,
   "id": "b4873376",
   "metadata": {},
   "outputs": [],
   "source": [
    "import matplotlib.pyplot as plt\n",
    "import numpy as np"
   ]
  },
  {
   "cell_type": "code",
   "execution_count": 12,
   "id": "5ea7ac7b",
   "metadata": {},
   "outputs": [],
   "source": [
    "x0 = 0\n",
    "xN = 1\n",
    "\n",
    "y0 = -1\n",
    "yN = 1\n",
    "\n",
    "Nx = 4\n",
    "Ny = 4\n",
    "\n",
    "X, h_1 = np.linspace(x0, xN, Nx, retstep=True)\n",
    "Y, h_2 = np.linspace(y0, yN, Ny, retstep=True)\n",
    "\n",
    "x =    np.linspace(x0, xN, 1000)\n",
    "y =    np.linspace(y0, yN, 1000)\n",
    "IX, IY = np.meshgrid(X, Y, indexing=\"xy\")\n",
    "\n",
    "n_points_x = X.shape[0]\n",
    "n_points_y = Y.shape[0]\n",
    "\n",
    "matrix = np.zeros((4 * n_points_y * 4 * n_points_x, 4 * n_points_y * 4 * n_points_x))\n",
    "b = np.zeros(4 * n_points_y * 4 * n_points_x)\n",
    "f = np.ones_like(IX)"
   ]
  },
  {
   "cell_type": "code",
   "execution_count": null,
   "id": "b7b05ffa",
   "metadata": {},
   "outputs": [],
   "source": []
  },
  {
   "cell_type": "code",
   "execution_count": 13,
   "id": "c32eba2d",
   "metadata": {},
   "outputs": [],
   "source": [
    "# f dfdx dfdy d2fdxdy\n",
    "\n",
    "for i in range(4 * n_points_y * 4 * n_points_x):\n",
    "    \n",
    "    idx = np.unravel_index(i, (4 * n_points_y, 4 * n_points_x))\n",
    "    tmp = np.zeros((4 * n_points_y, 4 * n_points_x))\n",
    "    \n",
    "    if (idx[0] < 4) or (idx[1] < 4) or (idx[0] > n_points_y-5) or (idx[1] > n_points_x-5):\n",
    "        tmp[idx] = 1        \n",
    "        matrix[i] = tmp.flatten()\n",
    "        b[i] = 0\n",
    "        continue\n",
    "\n",
    "    if "
   ]
  }
 ],
 "metadata": {
  "kernelspec": {
   "display_name": "Python 3 (ipykernel)",
   "language": "python",
   "name": "python3"
  },
  "language_info": {
   "codemirror_mode": {
    "name": "ipython",
    "version": 3
   },
   "file_extension": ".py",
   "mimetype": "text/x-python",
   "name": "python",
   "nbconvert_exporter": "python",
   "pygments_lexer": "ipython3",
   "version": "3.9.12"
  }
 },
 "nbformat": 4,
 "nbformat_minor": 5
}
