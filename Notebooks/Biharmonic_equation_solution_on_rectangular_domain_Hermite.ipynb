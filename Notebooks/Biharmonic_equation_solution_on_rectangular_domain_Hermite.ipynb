{
 "cells": [
  {
   "cell_type": "code",
   "execution_count": 1,
   "id": "0d007802",
   "metadata": {},
   "outputs": [],
   "source": [
    "import matplotlib.pyplot as plt\n",
    "import numpy as np"
   ]
  },
  {
   "cell_type": "code",
   "execution_count": 5,
   "id": "8f19cc2e",
   "metadata": {},
   "outputs": [],
   "source": [
    "alpha_alpha_xx =  np.array(\n",
    "[\n",
    "    [-54/35, 108/35, -54/35],\n",
    "    [-321/35, 624/35, -321/35],\n",
    "    [-54/35, 108/35, -54/35],\n",
    "])\n",
    "\n",
    "alpha_alpha_xy = np.array(\n",
    "[\n",
    "    [36/25, -72/25, 35/25],\n",
    "    [-72/25, 144/25, -72/25],\n",
    "    [36/25, -72/25, 35/25]\n",
    "])\n",
    "\n",
    "alpha_alpha_yy = np.array(\n",
    "[\n",
    "    [-54/35, -312/35, -54/35],\n",
    "    [108/35, 624/35, 108/35],\n",
    "    [-54/35, -312/35, -54/35],\n",
    "])"
   ]
  },
  {
   "cell_type": "code",
   "execution_count": 7,
   "id": "04421aa9",
   "metadata": {},
   "outputs": [],
   "source": [
    "alpha_beta_xx = np.array(\n",
    "[\n",
    "    [-27/35, 0, 27/35],\n",
    "    [-156/35, 0, 156/35],\n",
    "    [-27/35, 0, 27/35],\n",
    "])\n",
    "\n",
    "alpha_beta_xy = np.array(\n",
    "[\n",
    "    [3/25, 0, -3/25],\n",
    "    [-156/35, 0, 156/35],\n",
    "    [3/25, 0, -3/25],\n",
    "])\n",
    "\n",
    "alpha_beta_yy = np.array(\n",
    "[\n",
    "    [-13/35, 0, 13/35],\n",
    "    [26/35, 0, -26/35],\n",
    "    [-13/35, 0, 13/35],\n",
    "])"
   ]
  },
  {
   "cell_type": "code",
   "execution_count": 8,
   "id": "e1effda7",
   "metadata": {},
   "outputs": [],
   "source": [
    "alpha_gamma_xx = np.array(\n",
    "[\n",
    "    [-13/35, 26/35, -13/35],\n",
    "    [0, 0, 0],\n",
    "    [-13/35, 26/35, -13/35]\n",
    "])\n",
    "\n",
    "##"
   ]
  },
  {
   "cell_type": "code",
   "execution_count": 9,
   "id": "0ca46288",
   "metadata": {},
   "outputs": [],
   "source": [
    "alpha_delta_xx = np.array(\n",
    "[\n",
    "    [-13/70, 26/35, +13/70],\n",
    "    [0, 0, 0],\n",
    "    [+13/70, 26/35, -13/70],\n",
    "])\n",
    "\n",
    "##"
   ]
  },
  {
   "cell_type": "code",
   "execution_count": 4,
   "id": "a48861cc",
   "metadata": {},
   "outputs": [],
   "source": [
    "x0 = 0\n",
    "xN = 1\n",
    "\n",
    "y0 = -1\n",
    "yN = 1\n",
    "\n",
    "Nx = 4\n",
    "Ny = 4\n",
    "\n",
    "X, h_1 = np.linspace(x0, xN, Nx, retstep=True)\n",
    "Y, h_2 = np.linspace(y0, yN, Ny, retstep=True)\n",
    "\n",
    "x =    np.linspace(x0, xN, 1000)\n",
    "y =    np.linspace(y0, yN, 1000)\n",
    "IX, IY = np.meshgrid(X, Y, indexing=\"xy\")\n",
    "\n",
    "n_points_x = X.shape[0]\n",
    "n_points_y = Y.shape[0]\n",
    "\n",
    "matrix = np.zeros((4 * n_points_y * n_points_x, 4 * n_points_y * n_points_x))\n",
    "b = np.zeros(4 * n_points_y * n_points_x)\n",
    "f = np.ones_like(IX)"
   ]
  },
  {
   "cell_type": "code",
   "execution_count": 86,
   "id": "39adcda7",
   "metadata": {},
   "outputs": [
    {
     "name": "stdout",
     "output_type": "stream",
     "text": [
      "(4, 1)\n",
      "(4, 2)\n",
      "(5, 1)\n",
      "(5, 2)\n",
      "(6, 1)\n",
      "(6, 2)\n",
      "(7, 1)\n",
      "(7, 2)\n",
      "(8, 1)\n",
      "(8, 2)\n",
      "(9, 1)\n",
      "(9, 2)\n",
      "(10, 1)\n",
      "(10, 2)\n",
      "(11, 1)\n",
      "(11, 2)\n"
     ]
    }
   ],
   "source": [
    "# f dfdx dfdy d2fdxdy\n",
    "\n",
    "for i in range(4 * n_points_y * n_points_x):\n",
    "    \n",
    "    idx = np.unravel_index(i, (4 * n_points_y, n_points_x))\n",
    "    tmp = np.zeros((4 * n_points_y, n_points_x))\n",
    "        \n",
    "    if (idx[0] < 4) or (idx[1] < 1) or (idx[0] > 4*n_points_y-5) or (idx[1] > n_points_x-2):\n",
    "        \n",
    "        tmp[idx] = 1        \n",
    "        matrix[i] = tmp.flatten()\n",
    "        b[i] = 0\n",
    "        \n",
    "        continue\n",
    "\n",
    "    print(idx)\n",
    "    \n",
    "    if idx[0] % 4 == 0: # f\n",
    "        \n",
    "        # alpha alpha\n",
    "        \n",
    "        # u_xx\n",
    "        \n",
    "        \n",
    "        tmp[idx[0]-4:idx[0]+8:4, idx[1]-1:idx[1]+2:1] += alpha_alpha_xx\n",
    "        \n",
    "        tmp[idx[0]-3:idx[0]+9:4, idx[1]-1:idx[1]+2:1] += alpha_beta_xx\n",
    "        \n",
    "        tmp[idx[0]-2:idx[0]+10:4, idx[1]-1:idx[1]+2:1] += alpha_gamma_xx\n",
    "        \n",
    "        tmp[idx[0]-1:idx[0]+11:4, idx[1]-1:idx[1]+2:1] += alpha_delta_xx\n",
    "\n",
    "        \n",
    "        # u_yy\n",
    "        \n",
    "        \n",
    "        # u_yy\n",
    "        \n",
    "        # alpha beta\n",
    "        \n",
    "        \n",
    "        # alpha gamma\n",
    "        \n",
    "        \n",
    "        # alpha delta\n",
    "    \n",
    "    \n",
    "    elif idx[0] % 4 == 1: # dx\n",
    "        pass\n",
    "    \n",
    "    \n",
    "    elif idx[0] % 4 == 2: # dy\n",
    "        pass\n",
    "    \n",
    "    \n",
    "    elif idx[0] % 4 == 3: # dxdy\n",
    "        pass\n",
    "    \n",
    "    \n",
    "    matrix[i] = tmp.flatten()\n"
   ]
  },
  {
   "cell_type": "code",
   "execution_count": 87,
   "id": "842d2686",
   "metadata": {},
   "outputs": [
    {
     "data": {
      "text/plain": [
       "<matplotlib.image.AxesImage at 0x7f70f75590a0>"
      ]
     },
     "execution_count": 87,
     "metadata": {},
     "output_type": "execute_result"
    },
    {
     "data": {
      "image/png": "[encoded data removed]",
      "text/plain": [
       "<Figure size 432x288 with 1 Axes>"
      ]
     },
     "metadata": {
      "needs_background": "light"
     },
     "output_type": "display_data"
    }
   ],
   "source": [
    "plt.imshow(matrix)"
   ]
  }
 ],
 "metadata": {
  "kernelspec": {
   "display_name": "Python 3 (ipykernel)",
   "language": "python",
   "name": "python3"
  },
  "language_info": {
   "codemirror_mode": {
    "name": "ipython",
    "version": 3
   },
   "file_extension": ".py",
   "mimetype": "text/x-python",
   "name": "python",
   "nbconvert_exporter": "python",
   "pygments_lexer": "ipython3",
   "version": "3.9.12"
  }
 },
 "nbformat": 4,
 "nbformat_minor": 5
}
