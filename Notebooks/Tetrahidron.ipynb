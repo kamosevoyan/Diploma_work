{
 "cells": [
  {
   "cell_type": "code",
   "execution_count": 11,
   "id": "34480b05",
   "metadata": {},
   "outputs": [],
   "source": [
    "import symfem, sympy\n",
    "import numpy as np"
   ]
  },
  {
   "cell_type": "code",
   "execution_count": 26,
   "id": "ec359685",
   "metadata": {},
   "outputs": [],
   "source": [
    "x, y, z = sympy.symbols(\"x y z\")"
   ]
  },
  {
   "cell_type": "code",
   "execution_count": 27,
   "id": "19bf8512",
   "metadata": {},
   "outputs": [],
   "source": [
    "var = sympy.symbols(\"x1:5 y1:5 z1:5\")"
   ]
  },
  {
   "cell_type": "code",
   "execution_count": 28,
   "id": "c676d43e",
   "metadata": {},
   "outputs": [],
   "source": [
    "SYM = np.array(var).reshape(3, -1).T"
   ]
  },
  {
   "cell_type": "code",
   "execution_count": 29,
   "id": "49d6a504",
   "metadata": {},
   "outputs": [],
   "source": [
    "A = symfem.create_element(\"tetrahedron\", \"Lagrange\", 2)"
   ]
  },
  {
   "cell_type": "code",
   "execution_count": null,
   "id": "e9aca1d5",
   "metadata": {},
   "outputs": [],
   "source": []
  },
  {
   "cell_type": "code",
   "execution_count": 20,
   "id": "79e39f57",
   "metadata": {},
   "outputs": [],
   "source": [
    "INV_MAP = A.reference.get_inverse_map_to(SYM)"
   ]
  },
  {
   "cell_type": "code",
   "execution_count": 66,
   "id": "4b86831e",
   "metadata": {},
   "outputs": [
    {
     "data": {
      "text/latex": [
       "$\\displaystyle \\frac{- y_{1} z_{3} + y_{1} z_{4} + y_{3} z_{1} - y_{3} z_{4} - y_{4} z_{1} + y_{4} z_{3}}{x_{1} y_{2} z_{3} - x_{1} y_{2} z_{4} - x_{1} y_{3} z_{2} + x_{1} y_{3} z_{4} + x_{1} y_{4} z_{2} - x_{1} y_{4} z_{3} - x_{2} y_{1} z_{3} + x_{2} y_{1} z_{4} + x_{2} y_{3} z_{1} - x_{2} y_{3} z_{4} - x_{2} y_{4} z_{1} + x_{2} y_{4} z_{3} + x_{3} y_{1} z_{2} - x_{3} y_{1} z_{4} - x_{3} y_{2} z_{1} + x_{3} y_{2} z_{4} + x_{3} y_{4} z_{1} - x_{3} y_{4} z_{2} - x_{4} y_{1} z_{2} + x_{4} y_{1} z_{3} + x_{4} y_{2} z_{1} - x_{4} y_{2} z_{3} - x_{4} y_{3} z_{1} + x_{4} y_{3} z_{2}}$"
      ],
      "text/plain": [
       "(-y1*z3 + y1*z4 + y3*z1 - y3*z4 - y4*z1 + y4*z3)/(x1*y2*z3 - x1*y2*z4 - x1*y3*z2 + x1*y3*z4 + x1*y4*z2 - x1*y4*z3 - x2*y1*z3 + x2*y1*z4 + x2*y3*z1 - x2*y3*z4 - x2*y4*z1 + x2*y4*z3 + x3*y1*z2 - x3*y1*z4 - x3*y2*z1 + x3*y2*z4 + x3*y4*z1 - x3*y4*z2 - x4*y1*z2 + x4*y1*z3 + x4*y2*z1 - x4*y2*z3 - x4*y3*z1 + x4*y3*z2)"
      ]
     },
     "execution_count": 66,
     "metadata": {},
     "output_type": "execute_result"
    }
   ],
   "source": [
    "INV_MAP[0].diff(x)"
   ]
  },
  {
   "cell_type": "code",
   "execution_count": null,
   "id": "42be7c84",
   "metadata": {},
   "outputs": [],
   "source": []
  }
 ],
 "metadata": {
  "kernelspec": {
   "display_name": "Python 3 (ipykernel)",
   "language": "python",
   "name": "python3"
  },
  "language_info": {
   "codemirror_mode": {
    "name": "ipython",
    "version": 3
   },
   "file_extension": ".py",
   "mimetype": "text/x-python",
   "name": "python",
   "nbconvert_exporter": "python",
   "pygments_lexer": "ipython3",
   "version": "3.9.12"
  }
 },
 "nbformat": 4,
 "nbformat_minor": 5
}
