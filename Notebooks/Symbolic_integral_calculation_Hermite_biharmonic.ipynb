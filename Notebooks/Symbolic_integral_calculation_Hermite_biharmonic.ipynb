{
 "cells": [
  {
   "cell_type": "code",
   "execution_count": null,
   "id": "f08b13c7",
   "metadata": {},
   "outputs": [],
   "source": [
    "import sympy\n",
    "import matplotlib.pyplot as plt\n",
    "import numpy as np"
   ]
  },
  {
   "cell_type": "code",
   "execution_count": null,
   "id": "d2b65333",
   "metadata": {},
   "outputs": [],
   "source": [
    "t, x, y = sympy.symbols(\"t x y\", real=True)"
   ]
  },
  {
   "cell_type": "code",
   "execution_count": null,
   "id": "9b543f6e",
   "metadata": {},
   "outputs": [],
   "source": [
    "phi_0 = sympy.Piecewise(((1+t)**2*(1-2*t), (t >= -1) & (t <= 0)),\n",
    "                        ((1-t)**2*(1+2*t), (t >=  0) & (t <= 1)),\n",
    "                        (0, True)\n",
    "                       )\n",
    "\n",
    "phi_1 = sympy.Piecewise(((1+t)**2*t, (t >= -1) & (t <= 0)),\n",
    "                        ((1-t)**2*t, (t >=  0) & (t <= 1)),\n",
    "                        (0, True)\n",
    "                       )"
   ]
  },
  {
   "cell_type": "code",
   "execution_count": null,
   "id": "6782ff51",
   "metadata": {},
   "outputs": [],
   "source": [
    "alpha_ij = phi_0.subs(t, x)*phi_0.subs(t, y)\n",
    "beta_ij = phi_1.subs(t, x)*phi_0.subs(t, y)\n",
    "gamma_ij = phi_0.subs(t, x)*phi_1.subs(t, y)\n",
    "delta_ij = phi_1.subs(t, x)*phi_1.subs(t, y)"
   ]
  },
  {
   "cell_type": "markdown",
   "id": "5fe98e67",
   "metadata": {},
   "source": [
    "# For $\\alpha^{(ij)}$"
   ]
  },
  {
   "cell_type": "markdown",
   "id": "638d0149",
   "metadata": {},
   "source": [
    "## $u_{xx}$"
   ]
  },
  {
   "cell_type": "markdown",
   "id": "a309503b",
   "metadata": {},
   "source": [
    "### $\\alpha^{(ij)}\\alpha^{(i-1,j-1)}$"
   ]
  },
  {
   "cell_type": "code",
   "execution_count": null,
   "id": "65ce17ab",
   "metadata": {},
   "outputs": [],
   "source": [
    "sympy.integrate(sympy.diff(phi_0, t, t)*sympy.diff(phi_0.subs(t, t+1), t, t), (t, -1, 1)) * \\\n",
    "sympy.integrate(phi_0*phi_0.subs(t, t+1), (t, -1, 1))"
   ]
  },
  {
   "cell_type": "markdown",
   "id": "cb62f99d",
   "metadata": {},
   "source": [
    "### $\\alpha^{(ij)}\\alpha^{(i,j-1)}$"
   ]
  },
  {
   "cell_type": "code",
   "execution_count": null,
   "id": "5e951e35",
   "metadata": {},
   "outputs": [],
   "source": [
    "sympy.integrate(sympy.diff(phi_0, t, t)*sympy.diff(phi_0.subs(t, t), t, t), (t, -1, 1)) * \\\n",
    "sympy.integrate(phi_0*phi_0.subs(t, t+1), (t, -1, 1))"
   ]
  },
  {
   "cell_type": "markdown",
   "id": "03326e6d",
   "metadata": {},
   "source": [
    "### $\\alpha^{(ij)}\\alpha^{(i+1,j-1)}$"
   ]
  },
  {
   "cell_type": "code",
   "execution_count": null,
   "id": "e668f58b",
   "metadata": {},
   "outputs": [],
   "source": [
    "sympy.integrate(sympy.diff(phi_0, t, t)*sympy.diff(phi_0.subs(t, t-1), t, t), (t, -1, 1)) * \\\n",
    "sympy.integrate(phi_0*phi_0.subs(t, t+1), (t, -1, 1))"
   ]
  },
  {
   "cell_type": "markdown",
   "id": "eccef86d",
   "metadata": {},
   "source": [
    "### $\\alpha^{(ij)}\\alpha^{(i-1,j)}$"
   ]
  },
  {
   "cell_type": "code",
   "execution_count": null,
   "id": "db8a37d6",
   "metadata": {},
   "outputs": [],
   "source": [
    "sympy.integrate(sympy.diff(phi_0, t, t)*sympy.diff(phi_0.subs(t, t+1), t, t), (t, -1, 1)) * \\\n",
    "sympy.integrate(phi_0*phi_0.subs(t, t), (t, -1, 1))"
   ]
  },
  {
   "cell_type": "markdown",
   "id": "89fbd6d4",
   "metadata": {},
   "source": [
    "### $(\\alpha^{(ij)})^{2}$"
   ]
  },
  {
   "cell_type": "code",
   "execution_count": null,
   "id": "6e836381",
   "metadata": {
    "scrolled": true
   },
   "outputs": [],
   "source": [
    "sympy.integrate(sympy.diff(phi_0, t, t)**2, (t, -1, 1))*sympy.integrate(phi_0**2, (t, -1, 1))"
   ]
  },
  {
   "cell_type": "markdown",
   "id": "5e0273a5",
   "metadata": {},
   "source": [
    "### $\\alpha^{(ij)}\\alpha^{(i+1,j)}$"
   ]
  },
  {
   "cell_type": "code",
   "execution_count": null,
   "id": "1ba3d534",
   "metadata": {},
   "outputs": [],
   "source": [
    "sympy.integrate(sympy.diff(phi_0, t, t)*sympy.diff(phi_0.subs(t, t-1), t, t), (t, -1, 1)) * \\\n",
    "sympy.integrate(phi_0*phi_0.subs(t, t), (t, -1, 1))"
   ]
  },
  {
   "cell_type": "markdown",
   "id": "ef0c2943",
   "metadata": {},
   "source": [
    "### $\\alpha^{(ij)}\\alpha^{(i-1,j+1)}$"
   ]
  },
  {
   "cell_type": "code",
   "execution_count": null,
   "id": "0b2d00f0",
   "metadata": {},
   "outputs": [],
   "source": [
    "sympy.integrate(sympy.diff(phi_0, t, t)*sympy.diff(phi_0.subs(t, t+1), t, t), (t, -1, 1)) * \\\n",
    "sympy.integrate(phi_0*phi_0.subs(t, t-1), (t, -1, 1))"
   ]
  },
  {
   "cell_type": "markdown",
   "id": "5661086b",
   "metadata": {},
   "source": [
    "### $\\alpha^{(ij)}\\alpha^{(i,j+1)}$"
   ]
  },
  {
   "cell_type": "code",
   "execution_count": null,
   "id": "b07020cb",
   "metadata": {},
   "outputs": [],
   "source": [
    "sympy.integrate(sympy.diff(phi_0, t, t)*sympy.diff(phi_0.subs(t, t), t, t), (t, -1, 1)) * \\\n",
    "sympy.integrate(phi_0*phi_0.subs(t, t-1), (t, -1, 1))"
   ]
  },
  {
   "cell_type": "markdown",
   "id": "2cb31381",
   "metadata": {},
   "source": [
    "### $\\alpha^{(ij)}\\alpha^{(i+1,j+1)}$"
   ]
  },
  {
   "cell_type": "code",
   "execution_count": null,
   "id": "64972934",
   "metadata": {},
   "outputs": [],
   "source": [
    "sympy.integrate(sympy.diff(phi_0, t, t)*sympy.diff(phi_0.subs(t, t-1), t, t), (t, -1, 1)) * \\\n",
    "sympy.integrate(phi_0*phi_0.subs(t, t-1), (t, -1, 1))"
   ]
  },
  {
   "cell_type": "markdown",
   "id": "fff525da",
   "metadata": {},
   "source": [
    "## $u_{xy}$"
   ]
  },
  {
   "cell_type": "markdown",
   "id": "be0f961b",
   "metadata": {},
   "source": [
    "### $\\alpha^{(ij)}\\alpha^{(i-1,j-1)}$"
   ]
  },
  {
   "cell_type": "code",
   "execution_count": null,
   "id": "9fb82957",
   "metadata": {},
   "outputs": [],
   "source": [
    "sympy.integrate(sympy.diff(phi_0, t)*sympy.diff(phi_0.subs(t, t+1), t), (t, -1, 1)) * \\\n",
    "sympy.integrate(sympy.diff(phi_0, t)*sympy.diff(phi_0.subs(t, t+1), t), (t, -1, 1))"
   ]
  },
  {
   "cell_type": "markdown",
   "id": "b8d12ef7",
   "metadata": {},
   "source": [
    "### $\\alpha^{(ij)}\\alpha^{(i,j-1)}$"
   ]
  },
  {
   "cell_type": "code",
   "execution_count": null,
   "id": "7c361155",
   "metadata": {},
   "outputs": [],
   "source": [
    "sympy.integrate(sympy.diff(phi_0, t)*sympy.diff(phi_0.subs(t, t), t), (t, -1, 1)) * \\\n",
    "sympy.integrate(sympy.diff(phi_0, t)*sympy.diff(phi_0.subs(t, t+1), t), (t, -1, 1))"
   ]
  },
  {
   "cell_type": "markdown",
   "id": "bb3fe390",
   "metadata": {},
   "source": [
    "### $\\alpha^{(ij)}\\alpha^{(i+1,j-1)}$"
   ]
  },
  {
   "cell_type": "code",
   "execution_count": null,
   "id": "8ce7c840",
   "metadata": {},
   "outputs": [],
   "source": [
    "sympy.integrate(sympy.diff(phi_0, t)*sympy.diff(phi_0.subs(t, t-1), t), (t, -1, 1)) * \\\n",
    "sympy.integrate(sympy.diff(phi_0, t)*sympy.diff(phi_0.subs(t, t+1), t), (t, -1, 1))"
   ]
  },
  {
   "cell_type": "markdown",
   "id": "f48f1816",
   "metadata": {},
   "source": [
    "### $\\alpha^{(ij)}\\alpha^{(i-1,j)}$"
   ]
  },
  {
   "cell_type": "code",
   "execution_count": null,
   "id": "84438d9e",
   "metadata": {},
   "outputs": [],
   "source": [
    "sympy.integrate(sympy.diff(phi_0, t)*sympy.diff(phi_0.subs(t, t+1), t), (t, -1, 1)) * \\\n",
    "sympy.integrate(sympy.diff(phi_0, t)*sympy.diff(phi_0.subs(t, t), t), (t, -1, 1))"
   ]
  },
  {
   "cell_type": "markdown",
   "id": "8a25f50b",
   "metadata": {},
   "source": [
    "### $\\alpha^{(ij)}\\alpha^{(i,j)}$"
   ]
  },
  {
   "cell_type": "code",
   "execution_count": null,
   "id": "cf3acf35",
   "metadata": {},
   "outputs": [],
   "source": [
    "sympy.integrate(sympy.diff(phi_0, t)*sympy.diff(phi_0.subs(t, t), t), (t, -1, 1)) * \\\n",
    "sympy.integrate(sympy.diff(phi_0, t)*sympy.diff(phi_0.subs(t, t), t), (t, -1, 1))"
   ]
  },
  {
   "cell_type": "markdown",
   "id": "1513785e",
   "metadata": {},
   "source": [
    "### $\\alpha^{(ij)}\\alpha^{(i+1,j)}$"
   ]
  },
  {
   "cell_type": "code",
   "execution_count": null,
   "id": "d460bf05",
   "metadata": {},
   "outputs": [],
   "source": [
    "sympy.integrate(sympy.diff(phi_0, t)*sympy.diff(phi_0.subs(t, t-1), t), (t, -1, 1)) * \\\n",
    "sympy.integrate(sympy.diff(phi_0, t)*sympy.diff(phi_0.subs(t, t), t), (t, -1, 1))"
   ]
  },
  {
   "cell_type": "markdown",
   "id": "d373c069",
   "metadata": {},
   "source": [
    "### $\\alpha^{(ij)}\\alpha^{(i-1,j+1)}$"
   ]
  },
  {
   "cell_type": "code",
   "execution_count": null,
   "id": "15196ef0",
   "metadata": {},
   "outputs": [],
   "source": [
    "sympy.integrate(sympy.diff(phi_0, t)*sympy.diff(phi_0.subs(t, t+1), t), (t, -1, 1)) * \\\n",
    "sympy.integrate(sympy.diff(phi_0, t)*sympy.diff(phi_0.subs(t, t-1), t), (t, -1, 1))"
   ]
  },
  {
   "cell_type": "markdown",
   "id": "e51031fd",
   "metadata": {},
   "source": [
    "### $\\alpha^{(ij)}\\alpha^{(i,j+1)}$"
   ]
  },
  {
   "cell_type": "code",
   "execution_count": null,
   "id": "611334bc",
   "metadata": {},
   "outputs": [],
   "source": [
    "sympy.integrate(sympy.diff(phi_0, t)*sympy.diff(phi_0.subs(t, t), t), (t, -1, 1)) * \\\n",
    "sympy.integrate(sympy.diff(phi_0, t)*sympy.diff(phi_0.subs(t, t-1), t), (t, -1, 1))"
   ]
  },
  {
   "cell_type": "markdown",
   "id": "b4c69a38",
   "metadata": {},
   "source": [
    "### $\\alpha^{(ij)}\\alpha^{(i+1,j+1)}$"
   ]
  },
  {
   "cell_type": "code",
   "execution_count": null,
   "id": "80a904e8",
   "metadata": {},
   "outputs": [],
   "source": [
    "sympy.integrate(sympy.diff(phi_0, t)*sympy.diff(phi_0.subs(t, t-1), t), (t, -1, 1)) * \\\n",
    "sympy.integrate(sympy.diff(phi_0, t)*sympy.diff(phi_0.subs(t, t-1), t), (t, -1, 1))"
   ]
  },
  {
   "cell_type": "markdown",
   "id": "b2f18b95",
   "metadata": {},
   "source": [
    "## $u_{yy}$"
   ]
  },
  {
   "cell_type": "markdown",
   "id": "8ac38b94",
   "metadata": {},
   "source": [
    "### $\\alpha^{(ij)}\\alpha^{(i-1,j-1)}$"
   ]
  },
  {
   "cell_type": "code",
   "execution_count": null,
   "id": "8ce53f58",
   "metadata": {},
   "outputs": [],
   "source": [
    "sympy.integrate(phi_0*phi_0.subs(t, t+1), (t, -1, 1)) * \\\n",
    "sympy.integrate(sympy.diff(phi_0, t, t)*sympy.diff(phi_0.subs(t, t+1), t, t), (t, -1, 1))"
   ]
  },
  {
   "cell_type": "markdown",
   "id": "aeaa8ab6",
   "metadata": {},
   "source": [
    "### $\\alpha^{(ij)}\\alpha^{(i,j-1)}$"
   ]
  },
  {
   "cell_type": "code",
   "execution_count": null,
   "id": "6ade768e",
   "metadata": {},
   "outputs": [],
   "source": [
    "sympy.integrate(phi_0*phi_0.subs(t, t), (t, -1, 1)) * \\\n",
    "sympy.integrate(sympy.diff(phi_0, t, t)*sympy.diff(phi_0.subs(t, t+1), t, t), (t, -1, 1))"
   ]
  },
  {
   "cell_type": "markdown",
   "id": "25d2d79a",
   "metadata": {},
   "source": [
    "### $\\alpha^{(ij)}\\alpha^{(i+1,j-1)}$"
   ]
  },
  {
   "cell_type": "code",
   "execution_count": null,
   "id": "2dcebee6",
   "metadata": {},
   "outputs": [],
   "source": [
    "sympy.integrate(phi_0*phi_0.subs(t, t-1), (t, -1, 1)) * \\\n",
    "sympy.integrate(sympy.diff(phi_0, t, t)*sympy.diff(phi_0.subs(t, t+1), t, t), (t, -1, 1))"
   ]
  },
  {
   "cell_type": "markdown",
   "id": "7ca7aa77",
   "metadata": {},
   "source": [
    "### $\\alpha^{(ij)}\\alpha^{(i-1,j)}$"
   ]
  },
  {
   "cell_type": "code",
   "execution_count": null,
   "id": "1595a72a",
   "metadata": {},
   "outputs": [],
   "source": [
    "sympy.integrate(phi_0*phi_0.subs(t, t+1), (t, -1, 1)) * \\\n",
    "sympy.integrate(sympy.diff(phi_0, t, t)*sympy.diff(phi_0.subs(t, t), t, t), (t, -1, 1))"
   ]
  },
  {
   "cell_type": "markdown",
   "id": "ba417139",
   "metadata": {},
   "source": [
    "### $\\alpha^{(ij)}\\alpha^{(i,j)}$"
   ]
  },
  {
   "cell_type": "code",
   "execution_count": null,
   "id": "b3237b2f",
   "metadata": {},
   "outputs": [],
   "source": [
    "sympy.integrate(phi_0*phi_0.subs(t, t), (t, -1, 1)) * \\\n",
    "sympy.integrate(sympy.diff(phi_0, t, t)*sympy.diff(phi_0.subs(t, t), t, t), (t, -1, 1))"
   ]
  },
  {
   "cell_type": "markdown",
   "id": "fbc8f59d",
   "metadata": {},
   "source": [
    "### $\\alpha^{(ij)}\\alpha^{(i+1,j)}$"
   ]
  },
  {
   "cell_type": "code",
   "execution_count": null,
   "id": "e8feaef6",
   "metadata": {},
   "outputs": [],
   "source": [
    "sympy.integrate(phi_0*phi_0.subs(t, t-1), (t, -1, 1)) * \\\n",
    "sympy.integrate(sympy.diff(phi_0, t, t)*sympy.diff(phi_0.subs(t, t), t, t), (t, -1, 1))"
   ]
  },
  {
   "cell_type": "markdown",
   "id": "0024006f",
   "metadata": {},
   "source": [
    "### $\\alpha^{(ij)}\\alpha^{(i-1,j+1)}$"
   ]
  },
  {
   "cell_type": "code",
   "execution_count": null,
   "id": "3c1195f6",
   "metadata": {},
   "outputs": [],
   "source": [
    "sympy.integrate(phi_0*phi_0.subs(t, t+1), (t, -1, 1)) * \\\n",
    "sympy.integrate(sympy.diff(phi_0, t, t)*sympy.diff(phi_0.subs(t, t-1), t, t), (t, -1, 1))"
   ]
  },
  {
   "cell_type": "markdown",
   "id": "5f3722da",
   "metadata": {},
   "source": [
    "### $\\alpha^{(ij)}\\alpha^{(i,j+1)}$"
   ]
  },
  {
   "cell_type": "code",
   "execution_count": null,
   "id": "e67881f2",
   "metadata": {},
   "outputs": [],
   "source": [
    "sympy.integrate(phi_0*phi_0.subs(t, t), (t, -1, 1)) * \\\n",
    "sympy.integrate(sympy.diff(phi_0, t, t)*sympy.diff(phi_0.subs(t, t-1), t, t), (t, -1, 1))"
   ]
  },
  {
   "cell_type": "markdown",
   "id": "e595f936",
   "metadata": {},
   "source": [
    "### $\\alpha^{(ij)}\\alpha^{(i+1,j+1)}$"
   ]
  },
  {
   "cell_type": "code",
   "execution_count": null,
   "id": "2a7f85c1",
   "metadata": {},
   "outputs": [],
   "source": [
    "sympy.integrate(phi_0*phi_0.subs(t, t-1), (t, -1, 1)) * \\\n",
    "sympy.integrate(sympy.diff(phi_0, t, t)*sympy.diff(phi_0.subs(t, t-1), t, t), (t, -1, 1))"
   ]
  },
  {
   "cell_type": "markdown",
   "id": "ac198a86",
   "metadata": {},
   "source": [
    "## Done"
   ]
  },
  {
   "cell_type": "markdown",
   "id": "12e08e12",
   "metadata": {},
   "source": [
    "## $u_{xx}$"
   ]
  },
  {
   "cell_type": "markdown",
   "id": "cad724c0",
   "metadata": {},
   "source": [
    "### $\\alpha^{(ij)}\\beta^{(i-1,j-1)}$"
   ]
  },
  {
   "cell_type": "code",
   "execution_count": null,
   "id": "ba2fea19",
   "metadata": {},
   "outputs": [],
   "source": [
    "sympy.integrate(sympy.diff(phi_0, t, t) * sympy.diff(phi_1.subs(t, t+1), t, t), (t, -1, 1)) * \\\n",
    "sympy.integrate(phi_0*phi_0.subs(t, t+1), (t, -1, 1))"
   ]
  },
  {
   "cell_type": "markdown",
   "id": "736bd23e",
   "metadata": {},
   "source": [
    "### $\\alpha^{(ij)}\\beta^{(i,j-1)}$"
   ]
  },
  {
   "cell_type": "code",
   "execution_count": null,
   "id": "48a702f7",
   "metadata": {},
   "outputs": [],
   "source": [
    "sympy.integrate(sympy.diff(phi_0, t, t)*sympy.diff(phi_1, t, t), (t, -1, 1)) * \\\n",
    "sympy.integrate(phi_0*phi_0.subs(t, t+1), (t, -1, 1))"
   ]
  },
  {
   "cell_type": "markdown",
   "id": "12404f4e",
   "metadata": {},
   "source": [
    "### $\\alpha^{(ij)}\\beta^{(i+1,j-1)}$"
   ]
  },
  {
   "cell_type": "code",
   "execution_count": null,
   "id": "b3e9de4e",
   "metadata": {},
   "outputs": [],
   "source": [
    "sympy.integrate(sympy.diff(phi_0, t, t) * sympy.diff(phi_1.subs(t, t-1), t, t), (t, -1, 1)) * \\\n",
    "sympy.integrate(phi_0*phi_0.subs(t, t+1), (t, -1, 1))"
   ]
  },
  {
   "cell_type": "markdown",
   "id": "81890fba",
   "metadata": {},
   "source": [
    "### $\\alpha^{(ij)}\\beta^{(i-1,j)}$"
   ]
  },
  {
   "cell_type": "code",
   "execution_count": null,
   "id": "fe505765",
   "metadata": {},
   "outputs": [],
   "source": [
    "sympy.integrate(sympy.diff(phi_0, t, t) * sympy.diff(phi_1.subs(t, t+1), t, t), (t, -1, 1)) * \\\n",
    "sympy.integrate(phi_0*phi_0.subs(t, t), (t, -1, 1))"
   ]
  },
  {
   "cell_type": "markdown",
   "id": "ab5821a4",
   "metadata": {},
   "source": [
    "### $\\alpha^{(ij)}\\beta^{(i,j)}$"
   ]
  },
  {
   "cell_type": "code",
   "execution_count": null,
   "id": "0545135a",
   "metadata": {},
   "outputs": [],
   "source": [
    "sympy.integrate(sympy.diff(phi_0, t, t) * sympy.diff(phi_1.subs(t, t), t, t), (t, -1, 1)) * \\\n",
    "sympy.integrate(phi_0*phi_0.subs(t, t), (t, -1, 1))"
   ]
  },
  {
   "cell_type": "markdown",
   "id": "c393e0a6",
   "metadata": {},
   "source": [
    "### $\\alpha^{(ij)}\\beta^{(i-1,j)}$"
   ]
  },
  {
   "cell_type": "code",
   "execution_count": null,
   "id": "10a25df9",
   "metadata": {},
   "outputs": [],
   "source": [
    "sympy.integrate(sympy.diff(phi_0, t, t) * sympy.diff(phi_1.subs(t, t-1), t, t), (t, -1, 1)) * \\\n",
    "sympy.integrate(phi_0*phi_0.subs(t, t), (t, -1, 1))"
   ]
  },
  {
   "cell_type": "markdown",
   "id": "2e25e3db",
   "metadata": {},
   "source": [
    "### $\\alpha^{(ij)}\\beta^{(i-1,j+1)}$"
   ]
  },
  {
   "cell_type": "code",
   "execution_count": null,
   "id": "c12899d7",
   "metadata": {},
   "outputs": [],
   "source": [
    "sympy.integrate(sympy.diff(phi_0, t, t) * sympy.diff(phi_1.subs(t, t+1), t, t), (t, -1, 1)) * \\\n",
    "sympy.integrate(phi_0*phi_0.subs(t, t-1), (t, -1, 1))"
   ]
  },
  {
   "cell_type": "markdown",
   "id": "a9ba8992",
   "metadata": {},
   "source": [
    "### $\\alpha^{(ij)}\\beta^{(i,j+1)}$"
   ]
  },
  {
   "cell_type": "code",
   "execution_count": null,
   "id": "7da7505f",
   "metadata": {},
   "outputs": [],
   "source": [
    "sympy.integrate(sympy.diff(phi_0, t, t) * sympy.diff(phi_1.subs(t, t), t, t), (t, -1, 1)) * \\\n",
    "sympy.integrate(phi_0*phi_0.subs(t, t-1), (t, -1, 1))"
   ]
  },
  {
   "cell_type": "markdown",
   "id": "88ed2893",
   "metadata": {},
   "source": [
    "### $\\alpha^{(ij)}\\beta^{(i+1,j+1)}$"
   ]
  },
  {
   "cell_type": "code",
   "execution_count": null,
   "id": "f375cffa",
   "metadata": {},
   "outputs": [],
   "source": [
    "sympy.integrate(sympy.diff(phi_0, t, t) * sympy.diff(phi_1.subs(t, t-1), t, t), (t, -1, 1)) * \\\n",
    "sympy.integrate(phi_0*phi_0.subs(t, t-1), (t, -1, 1))"
   ]
  },
  {
   "cell_type": "markdown",
   "id": "f2e7d2a0",
   "metadata": {},
   "source": [
    "## $u_{xy}$"
   ]
  },
  {
   "cell_type": "markdown",
   "id": "9bdd7f9d",
   "metadata": {},
   "source": [
    "### $\\alpha^{(ij)}\\beta^{(i-1,j-1)}$"
   ]
  },
  {
   "cell_type": "code",
   "execution_count": null,
   "id": "1af18098",
   "metadata": {},
   "outputs": [],
   "source": [
    "sympy.integrate(sympy.diff(phi_0, t) * sympy.diff(phi_1.subs(t, t+1), t), (t, -1, 1)) * \\\n",
    "sympy.integrate(sympy.diff(phi_0, t) * sympy.diff(phi_0.subs(t, t+1), t), (t, -1, 1))"
   ]
  },
  {
   "cell_type": "markdown",
   "id": "302eed19",
   "metadata": {},
   "source": [
    "### $\\alpha^{(ij)}\\beta^{(i,j-1)}$"
   ]
  },
  {
   "cell_type": "code",
   "execution_count": null,
   "id": "2122bd2d",
   "metadata": {},
   "outputs": [],
   "source": [
    "sympy.integrate(sympy.diff(phi_0, t) * sympy.diff(phi_1.subs(t, t), t), (t, -1, 1)) * \\\n",
    "sympy.integrate(sympy.diff(phi_0, t) * sympy.diff(phi_0.subs(t, t+1), t), (t, -1, 1))"
   ]
  },
  {
   "cell_type": "markdown",
   "id": "dcbb589b",
   "metadata": {},
   "source": [
    "### $\\alpha^{(ij)}\\beta^{(i+1,j-1)}$"
   ]
  },
  {
   "cell_type": "code",
   "execution_count": null,
   "id": "e16c43fd",
   "metadata": {},
   "outputs": [],
   "source": [
    "sympy.integrate(sympy.diff(phi_0, t) * sympy.diff(phi_1.subs(t, t-1), t), (t, -1, 1)) * \\\n",
    "sympy.integrate(sympy.diff(phi_0, t) * sympy.diff(phi_0.subs(t, t+1), t), (t, -1, 1))"
   ]
  },
  {
   "cell_type": "markdown",
   "id": "1242fade",
   "metadata": {},
   "source": [
    "### $\\alpha^{(ij)}\\beta^{(i-1,j)}$"
   ]
  },
  {
   "cell_type": "code",
   "execution_count": null,
   "id": "39b69e97",
   "metadata": {},
   "outputs": [],
   "source": [
    "sympy.integrate(sympy.diff(phi_0, t) * sympy.diff(phi_1.subs(t, t+1), t), (t, -1, 1)) * \\\n",
    "sympy.integrate(sympy.diff(phi_0, t) * sympy.diff(phi_0.subs(t, t), t), (t, -1, 1))"
   ]
  },
  {
   "cell_type": "markdown",
   "id": "b661af6e",
   "metadata": {},
   "source": [
    "### $\\alpha^{(ij)}\\beta^{(i,j)}$"
   ]
  },
  {
   "cell_type": "code",
   "execution_count": null,
   "id": "d05ca33d",
   "metadata": {},
   "outputs": [],
   "source": [
    "sympy.integrate(sympy.diff(phi_0, t) * sympy.diff(phi_1.subs(t, t), t), (t, -1, 1)) * \\\n",
    "sympy.integrate(sympy.diff(phi_0, t) * sympy.diff(phi_0.subs(t, t), t), (t, -1, 1))"
   ]
  },
  {
   "cell_type": "markdown",
   "id": "4fb0be00",
   "metadata": {},
   "source": [
    "### $\\alpha^{(ij)}\\beta^{(i+1,j)}$"
   ]
  },
  {
   "cell_type": "code",
   "execution_count": null,
   "id": "49d86b47",
   "metadata": {},
   "outputs": [],
   "source": [
    "sympy.integrate(sympy.diff(phi_0, t) * sympy.diff(phi_1.subs(t, t-1), t), (t, -1, 1)) * \\\n",
    "sympy.integrate(sympy.diff(phi_0, t) * sympy.diff(phi_0.subs(t, t), t), (t, -1, 1))"
   ]
  },
  {
   "cell_type": "markdown",
   "id": "81c7d3ed",
   "metadata": {},
   "source": [
    "### $\\alpha^{(ij)}\\beta^{(i-1,j+1)}$"
   ]
  },
  {
   "cell_type": "code",
   "execution_count": null,
   "id": "0450ce25",
   "metadata": {},
   "outputs": [],
   "source": [
    "sympy.integrate(sympy.diff(phi_0, t) * sympy.diff(phi_1.subs(t, t+1), t), (t, -1, 1)) * \\\n",
    "sympy.integrate(sympy.diff(phi_0, t) * sympy.diff(phi_0.subs(t, t-1), t), (t, -1, 1))"
   ]
  },
  {
   "cell_type": "markdown",
   "id": "228ac6df",
   "metadata": {},
   "source": [
    "### $\\alpha^{(ij)}\\beta^{(i,j+1)}$"
   ]
  },
  {
   "cell_type": "code",
   "execution_count": null,
   "id": "930556d9",
   "metadata": {},
   "outputs": [],
   "source": [
    "sympy.integrate(sympy.diff(phi_0, t) * sympy.diff(phi_1.subs(t, t), t), (t, -1, 1)) * \\\n",
    "sympy.integrate(sympy.diff(phi_0, t) * sympy.diff(phi_0.subs(t, t-1), t), (t, -1, 1))"
   ]
  },
  {
   "cell_type": "markdown",
   "id": "87134db2",
   "metadata": {},
   "source": [
    "### $\\alpha^{(ij)}\\beta^{(i+1,j+1)}$"
   ]
  },
  {
   "cell_type": "code",
   "execution_count": null,
   "id": "04229154",
   "metadata": {},
   "outputs": [],
   "source": [
    "sympy.integrate(sympy.diff(phi_0, t) * sympy.diff(phi_1.subs(t, t-1), t), (t, -1, 1)) * \\\n",
    "sympy.integrate(sympy.diff(phi_0, t) * sympy.diff(phi_0.subs(t, t-1), t), (t, -1, 1))"
   ]
  },
  {
   "cell_type": "markdown",
   "id": "c3367373",
   "metadata": {},
   "source": [
    "## $u_{yy}$"
   ]
  },
  {
   "cell_type": "markdown",
   "id": "981e73f2",
   "metadata": {},
   "source": [
    "### $\\alpha^{(ij)}\\beta^{(i-1,j-1)}$"
   ]
  },
  {
   "cell_type": "code",
   "execution_count": null,
   "id": "aa510104",
   "metadata": {},
   "outputs": [],
   "source": [
    "sympy.integrate(phi_0 * phi_1.subs(t, t+1), (t, -1, 1)) * \\\n",
    "sympy.integrate(sympy.diff(phi_0, t, t) * sympy.diff(phi_0.subs(t, t+1), t, t), (t, -1, 1))"
   ]
  },
  {
   "cell_type": "markdown",
   "id": "31a067f2",
   "metadata": {},
   "source": [
    "### $\\alpha^{(ij)}\\beta^{(i,j-1)}$"
   ]
  },
  {
   "cell_type": "code",
   "execution_count": null,
   "id": "bf067e26",
   "metadata": {},
   "outputs": [],
   "source": [
    "sympy.integrate(phi_0 * phi_1.subs(t, t), (t, -1, 1)) * \\\n",
    "sympy.integrate(sympy.diff(phi_0, t, t) * sympy.diff(phi_0.subs(t, t+1), t, t), (t, -1, 1))"
   ]
  },
  {
   "cell_type": "markdown",
   "id": "82c15545",
   "metadata": {},
   "source": [
    "### $\\alpha^{(ij)}\\beta^{(i+1,j-1)}$"
   ]
  },
  {
   "cell_type": "code",
   "execution_count": null,
   "id": "ea75fe5c",
   "metadata": {},
   "outputs": [],
   "source": [
    "sympy.integrate(phi_0 * phi_1.subs(t, t-1), (t, -1, 1)) * \\\n",
    "sympy.integrate(sympy.diff(phi_0, t, t) * sympy.diff(phi_0.subs(t, t+1), t, t), (t, -1, 1))"
   ]
  },
  {
   "cell_type": "markdown",
   "id": "957bf12d",
   "metadata": {},
   "source": [
    "### $\\alpha^{(ij)}\\beta^{(i-1,j)}$"
   ]
  },
  {
   "cell_type": "code",
   "execution_count": null,
   "id": "b4e106ac",
   "metadata": {},
   "outputs": [],
   "source": [
    "sympy.integrate(phi_0 * phi_1.subs(t, t+1), (t, -1, 1)) * \\\n",
    "sympy.integrate(sympy.diff(phi_0, t, t) * sympy.diff(phi_0.subs(t, t), t, t), (t, -1, 1))"
   ]
  },
  {
   "cell_type": "markdown",
   "id": "0e4facef",
   "metadata": {},
   "source": [
    "### $\\alpha^{(ij)}\\beta^{(i,j)}$"
   ]
  },
  {
   "cell_type": "code",
   "execution_count": null,
   "id": "cfe2617c",
   "metadata": {},
   "outputs": [],
   "source": [
    "sympy.integrate(phi_0 * phi_1.subs(t, t), (t, -1, 1)) * \\\n",
    "sympy.integrate(sympy.diff(phi_0, t, t) * sympy.diff(phi_0.subs(t, t), t, t), (t, -1, 1))"
   ]
  },
  {
   "cell_type": "markdown",
   "id": "bb36159b",
   "metadata": {},
   "source": [
    "### $\\alpha^{(ij)}\\beta^{(i+1,j)}$"
   ]
  },
  {
   "cell_type": "code",
   "execution_count": null,
   "id": "d58b6c71",
   "metadata": {},
   "outputs": [],
   "source": [
    "sympy.integrate(phi_0 * phi_1.subs(t, t-1), (t, -1, 1)) * \\\n",
    "sympy.integrate(sympy.diff(phi_0, t, t) * sympy.diff(phi_0.subs(t, t), t, t), (t, -1, 1))"
   ]
  },
  {
   "cell_type": "markdown",
   "id": "63cbaeef",
   "metadata": {},
   "source": [
    "### $\\alpha^{(ij)}\\beta^{(i-1,j+1)}$"
   ]
  },
  {
   "cell_type": "code",
   "execution_count": null,
   "id": "4ab9f848",
   "metadata": {},
   "outputs": [],
   "source": [
    "sympy.integrate(phi_0 * phi_1.subs(t, t+1), (t, -1, 1)) * \\\n",
    "sympy.integrate(sympy.diff(phi_0, t, t) * sympy.diff(phi_0.subs(t, t-1), t, t), (t, -1, 1))"
   ]
  },
  {
   "cell_type": "markdown",
   "id": "7473d1d5",
   "metadata": {},
   "source": [
    "### $\\alpha^{(ij)}\\beta^{(i,j+1)}$"
   ]
  },
  {
   "cell_type": "code",
   "execution_count": null,
   "id": "c4313eeb",
   "metadata": {},
   "outputs": [],
   "source": [
    "sympy.integrate(phi_0 * phi_1.subs(t, t), (t, -1, 1)) * \\\n",
    "sympy.integrate(sympy.diff(phi_0, t, t) * sympy.diff(phi_0.subs(t, t-1), t, t), (t, -1, 1))"
   ]
  },
  {
   "cell_type": "markdown",
   "id": "7ebde4f5",
   "metadata": {},
   "source": [
    "### $\\alpha^{(ij)}\\beta^{(i+1,j+1)}$"
   ]
  },
  {
   "cell_type": "code",
   "execution_count": null,
   "id": "356b3250",
   "metadata": {},
   "outputs": [],
   "source": [
    "sympy.integrate(phi_0 * phi_1.subs(t, t-1), (t, -1, 1)) * \\\n",
    "sympy.integrate(sympy.diff(phi_0, t, t) * sympy.diff(phi_0.subs(t, t-1), t, t), (t, -1, 1))"
   ]
  },
  {
   "cell_type": "markdown",
   "id": "7d0f9847",
   "metadata": {},
   "source": [
    "## Done"
   ]
  },
  {
   "cell_type": "markdown",
   "id": "e2806708",
   "metadata": {},
   "source": [
    "# $\\alpha^{(ij)}\\gamma^{(i-1, j-1)}$"
   ]
  },
  {
   "cell_type": "code",
   "execution_count": null,
   "id": "1c665603",
   "metadata": {},
   "outputs": [],
   "source": [
    "sympy.integrate(sympy.diff(phi_0, t, t)*sympy.diff(phi_0.subs(t, t+1), t, t), (t, -1, 1)) * \\\n",
    "sympy.integrate(phi_0*phi_1.subs(t, t+1), (t, -1, 1))"
   ]
  },
  {
   "cell_type": "markdown",
   "id": "22217c5a",
   "metadata": {},
   "source": [
    "# $\\alpha^{(ij)}\\gamma^{(i, j-1)}$"
   ]
  },
  {
   "cell_type": "code",
   "execution_count": null,
   "id": "d4461763",
   "metadata": {},
   "outputs": [],
   "source": [
    "sympy.integrate(sympy.diff(phi_0, t, t)*sympy.diff(phi_0.subs(t, t), t, t), (t, -1, 1)) * \\\n",
    "sympy.integrate(phi_0*phi_1.subs(t, t+1), (t, -1, 1))"
   ]
  },
  {
   "cell_type": "markdown",
   "id": "db85d63d",
   "metadata": {},
   "source": [
    "# $\\alpha^{(ij)}\\gamma^{(i+1, j-1)}$"
   ]
  },
  {
   "cell_type": "code",
   "execution_count": null,
   "id": "b36275ef",
   "metadata": {},
   "outputs": [],
   "source": [
    "sympy.integrate(sympy.diff(phi_0, t, t)*sympy.diff(phi_0.subs(t, t-1), t, t), (t, -1, 1)) * \\\n",
    "sympy.integrate(phi_0*phi_1.subs(t, t+1), (t, -1, 1))"
   ]
  },
  {
   "cell_type": "markdown",
   "id": "2fdf66ce",
   "metadata": {},
   "source": [
    "# $\\alpha^{(ij)}\\gamma^{(i-1, j)}$"
   ]
  },
  {
   "cell_type": "code",
   "execution_count": null,
   "id": "4d2f3929",
   "metadata": {},
   "outputs": [],
   "source": [
    "sympy.integrate(sympy.diff(phi_0, t, t)*sympy.diff(phi_0.subs(t, t+1), t, t), (t, -1, 1)) * \\\n",
    "sympy.integrate(phi_0*phi_1.subs(t, t), (t, -1, 1))"
   ]
  },
  {
   "cell_type": "markdown",
   "id": "6092098e",
   "metadata": {},
   "source": [
    "# $\\alpha^{(ij)}\\gamma^{(i, j)}$"
   ]
  },
  {
   "cell_type": "code",
   "execution_count": null,
   "id": "9d256227",
   "metadata": {},
   "outputs": [],
   "source": [
    "sympy.integrate(sympy.diff(phi_0, t, t)*sympy.diff(phi_0.subs(t, t), t, t), (t, -1, 1)) * \\\n",
    "sympy.integrate(phi_0*phi_1.subs(t, t), (t, -1, 1))"
   ]
  },
  {
   "cell_type": "markdown",
   "id": "6459aaca",
   "metadata": {},
   "source": [
    "# $\\alpha^{(ij)}\\gamma^{(i+1, j)}$"
   ]
  },
  {
   "cell_type": "code",
   "execution_count": null,
   "id": "b5e860e4",
   "metadata": {},
   "outputs": [],
   "source": [
    "sympy.integrate(sympy.diff(phi_0, t, t)*sympy.diff(phi_0.subs(t, t-1), t, t), (t, -1, 1)) * \\\n",
    "sympy.integrate(phi_0*phi_1.subs(t, t), (t, -1, 1))"
   ]
  },
  {
   "cell_type": "markdown",
   "id": "4d05d805",
   "metadata": {},
   "source": [
    "# $\\alpha^{(ij)}\\gamma^{(i-1, j+1)}$"
   ]
  },
  {
   "cell_type": "code",
   "execution_count": null,
   "id": "65afe3d4",
   "metadata": {},
   "outputs": [],
   "source": [
    "sympy.integrate(sympy.diff(phi_0, t, t)*sympy.diff(phi_0.subs(t, t+1), t, t), (t, -1, 1)) * \\\n",
    "sympy.integrate(phi_0*phi_1.subs(t, t-1), (t, -1, 1))"
   ]
  },
  {
   "cell_type": "markdown",
   "id": "641e67f7",
   "metadata": {},
   "source": [
    "# $\\alpha^{(ij)}\\gamma^{(i, j+1)}$"
   ]
  },
  {
   "cell_type": "code",
   "execution_count": null,
   "id": "19976b41",
   "metadata": {},
   "outputs": [],
   "source": [
    "sympy.integrate(sympy.diff(phi_0, t, t)*sympy.diff(phi_0.subs(t, t), t, t), (t, -1, 1)) * \\\n",
    "sympy.integrate(phi_0*phi_1.subs(t, t-1), (t, -1, 1))"
   ]
  },
  {
   "cell_type": "markdown",
   "id": "5048939b",
   "metadata": {},
   "source": [
    "# $\\alpha^{(ij)}\\gamma^{(i+1, j+1)}$"
   ]
  },
  {
   "cell_type": "code",
   "execution_count": null,
   "id": "444eefdd",
   "metadata": {},
   "outputs": [],
   "source": [
    "sympy.integrate(sympy.diff(phi_0, t, t)*sympy.diff(phi_0.subs(t, t-1), t, t), (t, -1, 1)) * \\\n",
    "sympy.integrate(phi_0*phi_1.subs(t, t-1), (t, -1, 1))"
   ]
  },
  {
   "cell_type": "code",
   "execution_count": null,
   "id": "19294b72",
   "metadata": {},
   "outputs": [],
   "source": []
  },
  {
   "cell_type": "code",
   "execution_count": null,
   "id": "b137496e",
   "metadata": {},
   "outputs": [],
   "source": []
  },
  {
   "cell_type": "markdown",
   "id": "ab75cf72",
   "metadata": {},
   "source": [
    "# $\\alpha^{(ij)}\\delta^{(i-1,j-1)}$"
   ]
  },
  {
   "cell_type": "code",
   "execution_count": null,
   "id": "3d3b9e42",
   "metadata": {},
   "outputs": [],
   "source": [
    "sympy.integrate(sympy.diff(phi_0, t, t)*sympy.diff(phi_1.subs(t, t+1), t, t), (t, -1, 1)) * \\\n",
    "sympy.integrate(phi_0*phi_1.subs(t, t+1), (t, -1, 1))"
   ]
  },
  {
   "cell_type": "markdown",
   "id": "873cc547",
   "metadata": {},
   "source": [
    "# $\\alpha^{(ij)}\\delta^{(i,j-1)}$"
   ]
  },
  {
   "cell_type": "code",
   "execution_count": null,
   "id": "5471c044",
   "metadata": {},
   "outputs": [],
   "source": [
    "sympy.integrate(sympy.diff(phi_0, t, t)*sympy.diff(phi_1.subs(t, t), t, t), (t, -1, 1)) * \\\n",
    "sympy.integrate(phi_0*phi_1.subs(t, t+1), (t, -1, 1))"
   ]
  },
  {
   "cell_type": "markdown",
   "id": "1a8203bd",
   "metadata": {},
   "source": [
    "# $\\alpha^{(ij)}\\delta^{(i+1,j-1)}$"
   ]
  },
  {
   "cell_type": "code",
   "execution_count": null,
   "id": "1e5c36f0",
   "metadata": {},
   "outputs": [],
   "source": [
    "sympy.integrate(sympy.diff(phi_0, t, t)*sympy.diff(phi_1.subs(t, t-1), t, t), (t, -1, 1)) * \\\n",
    "sympy.integrate(phi_0*phi_1.subs(t, t+1), (t, -1, 1))"
   ]
  },
  {
   "cell_type": "markdown",
   "id": "f3fbf857",
   "metadata": {},
   "source": [
    "# $\\alpha^{(ij)}\\delta^{(i-1,j)}$"
   ]
  },
  {
   "cell_type": "code",
   "execution_count": null,
   "id": "e6fb4b17",
   "metadata": {},
   "outputs": [],
   "source": [
    "sympy.integrate(sympy.diff(phi_0, t, t)*sympy.diff(phi_1.subs(t, t+1), t, t), (t, -1, 1)) * \\\n",
    "sympy.integrate(phi_0*phi_1.subs(t, t), (t, -1, 1))"
   ]
  },
  {
   "cell_type": "markdown",
   "id": "1efe7962",
   "metadata": {},
   "source": [
    "# $\\alpha^{(ij)}\\delta^{(i,j)}$"
   ]
  },
  {
   "cell_type": "code",
   "execution_count": null,
   "id": "5c2261f3",
   "metadata": {},
   "outputs": [],
   "source": [
    "sympy.integrate(sympy.diff(phi_0, t, t)*sympy.diff(phi_1.subs(t, t), t, t), (t, -1, 1)) * \\\n",
    "sympy.integrate(phi_0*phi_1.subs(t, t), (t, -1, 1))"
   ]
  },
  {
   "cell_type": "markdown",
   "id": "f3aa439e",
   "metadata": {},
   "source": [
    "# $\\alpha^{(ij)}\\delta^{(i+1,j)}$"
   ]
  },
  {
   "cell_type": "code",
   "execution_count": null,
   "id": "83bc3e42",
   "metadata": {},
   "outputs": [],
   "source": [
    "sympy.integrate(sympy.diff(phi_0, t, t)*sympy.diff(phi_1.subs(t, t-1), t, t), (t, -1, 1)) * \\\n",
    "sympy.integrate(phi_0*phi_1.subs(t, t), (t, -1, 1))"
   ]
  },
  {
   "cell_type": "markdown",
   "id": "4b222c59",
   "metadata": {},
   "source": [
    "# $\\alpha^{(ij)}\\delta^{(i-1,j+1)}$"
   ]
  },
  {
   "cell_type": "code",
   "execution_count": null,
   "id": "886e69fa",
   "metadata": {},
   "outputs": [],
   "source": [
    "sympy.integrate(sympy.diff(phi_0, t, t)*sympy.diff(phi_1.subs(t, t+1), t, t), (t, -1, 1)) * \\\n",
    "sympy.integrate(phi_0*phi_1.subs(t, t-1), (t, -1, 1))"
   ]
  },
  {
   "cell_type": "markdown",
   "id": "09aac4be",
   "metadata": {},
   "source": [
    "# $\\alpha^{(ij)}\\delta^{(i,j+1)}$"
   ]
  },
  {
   "cell_type": "code",
   "execution_count": null,
   "id": "d67d6542",
   "metadata": {},
   "outputs": [],
   "source": [
    "sympy.integrate(sympy.diff(phi_0, t, t)*sympy.diff(phi_1.subs(t, t), t, t), (t, -1, 1)) * \\\n",
    "sympy.integrate(phi_0*phi_1.subs(t, t-1), (t, -1, 1))"
   ]
  },
  {
   "cell_type": "markdown",
   "id": "e5000125",
   "metadata": {},
   "source": [
    "# $\\alpha^{(ij)}\\delta^{(i+1,j+1)}$"
   ]
  },
  {
   "cell_type": "code",
   "execution_count": null,
   "id": "e38c0768",
   "metadata": {},
   "outputs": [],
   "source": [
    "sympy.integrate(sympy.diff(phi_0, t, t)*sympy.diff(phi_1.subs(t, t-1), t, t), (t, -1, 1)) * \\\n",
    "sympy.integrate(phi_0*phi_1.subs(t, t-1), (t, -1, 1))"
   ]
  },
  {
   "cell_type": "code",
   "execution_count": null,
   "id": "ad7d1191",
   "metadata": {},
   "outputs": [],
   "source": []
  },
  {
   "cell_type": "markdown",
   "id": "b6f46a52",
   "metadata": {},
   "source": [
    "# For $\\beta^{(ij)}$"
   ]
  },
  {
   "cell_type": "markdown",
   "id": "bce8ec4a",
   "metadata": {},
   "source": [
    "# $\\beta^{(ij)}\\alpha^{(i-1,j-1)}$"
   ]
  },
  {
   "cell_type": "code",
   "execution_count": null,
   "id": "c6fcc689",
   "metadata": {},
   "outputs": [],
   "source": [
    "sympy.integrate(sympy.diff(phi_1, t, t)*sympy.diff(phi_0.subs(t, t+1), t, t), (t, -1, 1)) * \\\n",
    "sympy.integrate(phi_0*phi_0.subs(t, t+1), (t, -1, 1))"
   ]
  },
  {
   "cell_type": "markdown",
   "id": "89883a28",
   "metadata": {},
   "source": [
    "# $\\beta^{(ij)}\\alpha^{(i,j-1)}$"
   ]
  },
  {
   "cell_type": "code",
   "execution_count": null,
   "id": "1cbbb572",
   "metadata": {},
   "outputs": [],
   "source": [
    "sympy.integrate(sympy.diff(phi_1, t, t)*sympy.diff(phi_0.subs(t, t), t, t), (t, -1, 1)) * \\\n",
    "sympy.integrate(phi_0*phi_0.subs(t, t+1), (t, -1, 1))"
   ]
  },
  {
   "cell_type": "markdown",
   "id": "da9e5cf7",
   "metadata": {},
   "source": [
    "# $\\beta^{(ij)}\\alpha^{(i+1,j-1)}$"
   ]
  },
  {
   "cell_type": "code",
   "execution_count": null,
   "id": "985bd719",
   "metadata": {},
   "outputs": [],
   "source": [
    "sympy.integrate(sympy.diff(phi_1, t, t)*sympy.diff(phi_0.subs(t, t-1), t, t), (t, -1, 1)) * \\\n",
    "sympy.integrate(phi_0*phi_0.subs(t, t+1), (t, -1, 1))"
   ]
  },
  {
   "cell_type": "markdown",
   "id": "2076c673",
   "metadata": {},
   "source": [
    "# $\\beta^{(ij)}\\alpha^{(i-1,j)}$"
   ]
  },
  {
   "cell_type": "code",
   "execution_count": null,
   "id": "16fd2895",
   "metadata": {},
   "outputs": [],
   "source": [
    "sympy.integrate(sympy.diff(phi_1, t, t)*sympy.diff(phi_0.subs(t, t+1), t, t), (t, -1, 1)) * \\\n",
    "sympy.integrate(phi_0*phi_0.subs(t, t), (t, -1, 1))"
   ]
  },
  {
   "cell_type": "markdown",
   "id": "4f533511",
   "metadata": {},
   "source": [
    "# $\\beta^{(ij)}\\alpha^{(i,j)}$"
   ]
  },
  {
   "cell_type": "code",
   "execution_count": null,
   "id": "c4989e88",
   "metadata": {},
   "outputs": [],
   "source": [
    "sympy.integrate(sympy.diff(phi_1, t, t)*sympy.diff(phi_0.subs(t, t), t, t), (t, -1, 1)) * \\\n",
    "sympy.integrate(phi_0*phi_0.subs(t, t), (t, -1, 1))"
   ]
  },
  {
   "cell_type": "markdown",
   "id": "48a15e99",
   "metadata": {},
   "source": [
    "# $\\beta^{(ij)}\\alpha^{(i+1,j)}$"
   ]
  },
  {
   "cell_type": "code",
   "execution_count": null,
   "id": "557e2734",
   "metadata": {},
   "outputs": [],
   "source": [
    "sympy.integrate(sympy.diff(phi_1, t, t)*sympy.diff(phi_0.subs(t, t-1), t, t), (t, -1, 1)) * \\\n",
    "sympy.integrate(phi_0*phi_0.subs(t, t), (t, -1, 1))"
   ]
  },
  {
   "cell_type": "markdown",
   "id": "8daaa804",
   "metadata": {},
   "source": [
    "# $\\beta^{(ij)}\\alpha^{(i-1,j+1)}$"
   ]
  },
  {
   "cell_type": "code",
   "execution_count": null,
   "id": "b974bcdc",
   "metadata": {},
   "outputs": [],
   "source": [
    "sympy.integrate(sympy.diff(phi_1, t, t)*sympy.diff(phi_0.subs(t, t+1), t, t), (t, -1, 1)) * \\\n",
    "sympy.integrate(phi_0*phi_0.subs(t, t-1), (t, -1, 1))"
   ]
  },
  {
   "cell_type": "markdown",
   "id": "b422ebdf",
   "metadata": {},
   "source": [
    "# $\\beta^{(ij)}\\alpha^{(i,j+1)}$"
   ]
  },
  {
   "cell_type": "code",
   "execution_count": null,
   "id": "fae621e8",
   "metadata": {},
   "outputs": [],
   "source": [
    "sympy.integrate(sympy.diff(phi_1, t, t)*sympy.diff(phi_0.subs(t, t), t, t), (t, -1, 1)) * \\\n",
    "sympy.integrate(phi_0*phi_0.subs(t, t-1), (t, -1, 1))"
   ]
  },
  {
   "cell_type": "markdown",
   "id": "672998d2",
   "metadata": {},
   "source": [
    "# $\\beta^{(ij)}\\alpha^{(i+1,j+1)}$"
   ]
  },
  {
   "cell_type": "code",
   "execution_count": null,
   "id": "9f88a731",
   "metadata": {},
   "outputs": [],
   "source": [
    "sympy.integrate(sympy.diff(phi_1, t, t)*sympy.diff(phi_0.subs(t, t-1), t, t), (t, -1, 1)) * \\\n",
    "sympy.integrate(phi_0*phi_0.subs(t, t-1), (t, -1, 1))"
   ]
  },
  {
   "cell_type": "markdown",
   "id": "85e09a0f",
   "metadata": {},
   "source": [
    "# $\\beta^{(ij)}\\beta^{(i-1,j-1)}$"
   ]
  },
  {
   "cell_type": "code",
   "execution_count": null,
   "id": "463cb482",
   "metadata": {},
   "outputs": [],
   "source": [
    "sympy.integrate(sympy.diff(phi_1, t, t) * sympy.diff(phi_1.subs(t, t+1), t, t), (t, -1, 1)) * \\\n",
    "sympy.integrate(phi_0*phi_0.subs(t, t+1), (t, -1, 1))"
   ]
  },
  {
   "cell_type": "markdown",
   "id": "262455a5",
   "metadata": {},
   "source": [
    "# $\\beta^{(ij)}\\beta^{(i,j-1)}$"
   ]
  },
  {
   "cell_type": "code",
   "execution_count": null,
   "id": "e63cd2e6",
   "metadata": {},
   "outputs": [],
   "source": [
    "sympy.integrate(sympy.diff(phi_1, t, t) * sympy.diff(phi_1.subs(t, t), t, t), (t, -1, 1)) * \\\n",
    "sympy.integrate(phi_0*phi_0.subs(t, t+1), (t, -1, 1))"
   ]
  },
  {
   "cell_type": "markdown",
   "id": "12d1b423",
   "metadata": {},
   "source": [
    "# $\\beta^{(ij)}\\beta^{(i+1,j-1)}$"
   ]
  },
  {
   "cell_type": "code",
   "execution_count": null,
   "id": "43bc9f37",
   "metadata": {},
   "outputs": [],
   "source": [
    "sympy.integrate(sympy.diff(phi_1, t, t) * sympy.diff(phi_1.subs(t, t-1), t, t), (t, -1, 1)) * \\\n",
    "sympy.integrate(phi_0*phi_0.subs(t, t+1), (t, -1, 1))"
   ]
  },
  {
   "cell_type": "markdown",
   "id": "e02ec78c",
   "metadata": {},
   "source": [
    "# $\\beta^{(ij)}\\beta^{(i-1,j)}$"
   ]
  },
  {
   "cell_type": "code",
   "execution_count": null,
   "id": "9291afdb",
   "metadata": {},
   "outputs": [],
   "source": [
    "sympy.integrate(sympy.diff(phi_1, t, t) * sympy.diff(phi_1.subs(t, t+1), t, t), (t, -1, 1)) * \\\n",
    "sympy.integrate(phi_0*phi_0.subs(t, t), (t, -1, 1))"
   ]
  },
  {
   "cell_type": "markdown",
   "id": "c946d198",
   "metadata": {},
   "source": [
    "# $\\beta^{(ij)}\\beta^{(i,j)}$"
   ]
  },
  {
   "cell_type": "code",
   "execution_count": null,
   "id": "e596710c",
   "metadata": {},
   "outputs": [],
   "source": [
    "sympy.integrate(sympy.diff(phi_1, t, t) * sympy.diff(phi_1.subs(t, t), t, t), (t, -1, 1)) * \\\n",
    "sympy.integrate(phi_0*phi_0.subs(t, t), (t, -1, 1))"
   ]
  },
  {
   "cell_type": "markdown",
   "id": "a5aa21b1",
   "metadata": {},
   "source": [
    "# $\\beta^{(ij)}\\beta^{(i+1,j)}$"
   ]
  },
  {
   "cell_type": "code",
   "execution_count": null,
   "id": "f53e74db",
   "metadata": {},
   "outputs": [],
   "source": [
    "sympy.integrate(sympy.diff(phi_1, t, t) * sympy.diff(phi_1.subs(t, t-1), t, t), (t, -1, 1)) * \\\n",
    "sympy.integrate(phi_0*phi_0.subs(t, t), (t, -1, 1))"
   ]
  },
  {
   "cell_type": "markdown",
   "id": "292ebeff",
   "metadata": {},
   "source": [
    "# $\\beta^{(ij)}\\beta^{(i-1,j+1)}$"
   ]
  },
  {
   "cell_type": "code",
   "execution_count": null,
   "id": "299567aa",
   "metadata": {},
   "outputs": [],
   "source": [
    "sympy.integrate(sympy.diff(phi_1, t, t) * sympy.diff(phi_1.subs(t, t+1), t, t), (t, -1, 1)) * \\\n",
    "sympy.integrate(phi_0*phi_0.subs(t, t-1), (t, -1, 1))"
   ]
  },
  {
   "cell_type": "markdown",
   "id": "35924618",
   "metadata": {},
   "source": [
    "# $\\beta^{(ij)}\\beta^{(i,j+1)}$"
   ]
  },
  {
   "cell_type": "code",
   "execution_count": null,
   "id": "5f741659",
   "metadata": {},
   "outputs": [],
   "source": [
    "sympy.integrate(sympy.diff(phi_1, t, t) * sympy.diff(phi_1.subs(t, t), t, t), (t, -1, 1)) * \\\n",
    "sympy.integrate(phi_0*phi_0.subs(t, t-1), (t, -1, 1))"
   ]
  },
  {
   "cell_type": "markdown",
   "id": "dc821103",
   "metadata": {},
   "source": [
    "# $\\beta^{(ij)}\\beta^{(i+1,j+1)}$"
   ]
  },
  {
   "cell_type": "code",
   "execution_count": null,
   "id": "3cead249",
   "metadata": {},
   "outputs": [],
   "source": [
    "sympy.integrate(sympy.diff(phi_1, t, t) * sympy.diff(phi_1.subs(t, t-1), t, t), (t, -1, 1)) * \\\n",
    "sympy.integrate(phi_0*phi_0.subs(t, t-1), (t, -1, 1))"
   ]
  },
  {
   "cell_type": "markdown",
   "id": "6584e36b",
   "metadata": {},
   "source": [
    "# $\\beta^{(ij)}\\gamma^{(i-1,j-1)}$"
   ]
  },
  {
   "cell_type": "code",
   "execution_count": null,
   "id": "c86de3c5",
   "metadata": {},
   "outputs": [],
   "source": [
    "sympy.integrate(sympy.diff(phi_1, t, t) * sympy.diff(phi_0.subs(t, t+1), t, t), (t, -1, 1)) * \\\n",
    "sympy.integrate(phi_0 * phi_1.subs(t, t+1), (t, -1, 1))"
   ]
  },
  {
   "cell_type": "markdown",
   "id": "4c32258c",
   "metadata": {},
   "source": [
    "# $\\beta^{(ij)}\\gamma^{(i,j-1)}$"
   ]
  },
  {
   "cell_type": "code",
   "execution_count": null,
   "id": "26964bf1",
   "metadata": {},
   "outputs": [],
   "source": [
    "sympy.integrate(sympy.diff(phi_1, t, t) * sympy.diff(phi_0.subs(t, t), t, t), (t, -1, 1)) * \\\n",
    "sympy.integrate(phi_0 * phi_1.subs(t, t+1), (t, -1, 1))"
   ]
  },
  {
   "cell_type": "markdown",
   "id": "6e300e88",
   "metadata": {},
   "source": [
    "# $\\beta^{(ij)}\\gamma^{(i+1,j-1)}$"
   ]
  },
  {
   "cell_type": "code",
   "execution_count": null,
   "id": "ceeb6de8",
   "metadata": {},
   "outputs": [],
   "source": [
    "sympy.integrate(sympy.diff(phi_1, t, t) * sympy.diff(phi_0.subs(t, t-1), t, t), (t, -1, 1)) * \\\n",
    "sympy.integrate(phi_0 * phi_1.subs(t, t+1), (t, -1, 1))"
   ]
  },
  {
   "cell_type": "markdown",
   "id": "1ac45cee",
   "metadata": {},
   "source": [
    "# $\\beta^{(ij)}\\gamma^{(i-1,j)}$"
   ]
  },
  {
   "cell_type": "code",
   "execution_count": null,
   "id": "79b64a88",
   "metadata": {},
   "outputs": [],
   "source": [
    "sympy.integrate(sympy.diff(phi_1, t, t) * sympy.diff(phi_0.subs(t, t+1), t, t), (t, -1, 1)) * \\\n",
    "sympy.integrate(phi_0 * phi_1.subs(t, t), (t, -1, 1))"
   ]
  },
  {
   "cell_type": "markdown",
   "id": "6f8e708c",
   "metadata": {},
   "source": [
    "# $\\beta^{(ij)}\\gamma^{(i,j)}$"
   ]
  },
  {
   "cell_type": "code",
   "execution_count": null,
   "id": "299e1367",
   "metadata": {},
   "outputs": [],
   "source": [
    "sympy.integrate(sympy.diff(phi_1, t, t) * sympy.diff(phi_0.subs(t, t), t, t), (t, -1, 1)) * \\\n",
    "sympy.integrate(phi_0 * phi_1.subs(t, t), (t, -1, 1))"
   ]
  },
  {
   "cell_type": "markdown",
   "id": "c2a2e7e5",
   "metadata": {},
   "source": [
    "# $\\beta^{(ij)}\\gamma^{(i+1,j)}$"
   ]
  },
  {
   "cell_type": "code",
   "execution_count": null,
   "id": "35eabd5a",
   "metadata": {},
   "outputs": [],
   "source": [
    "sympy.integrate(sympy.diff(phi_1, t, t) * sympy.diff(phi_0.subs(t, t-1), t, t), (t, -1, 1)) * \\\n",
    "sympy.integrate(phi_0 * phi_1.subs(t, t), (t, -1, 1))"
   ]
  },
  {
   "cell_type": "markdown",
   "id": "559eb8f2",
   "metadata": {},
   "source": [
    "# $\\beta^{(ij)}\\gamma^{(i-1,j+1)}$"
   ]
  },
  {
   "cell_type": "code",
   "execution_count": null,
   "id": "269b91fc",
   "metadata": {},
   "outputs": [],
   "source": [
    "sympy.integrate(sympy.diff(phi_1, t, t) * sympy.diff(phi_0.subs(t, t+1), t, t), (t, -1, 1)) * \\\n",
    "sympy.integrate(phi_0 * phi_1.subs(t, t-1), (t, -1, 1))"
   ]
  },
  {
   "cell_type": "markdown",
   "id": "7d0db0f0",
   "metadata": {},
   "source": [
    "# $\\beta^{(ij)}\\gamma^{(i,j+1)}$"
   ]
  },
  {
   "cell_type": "code",
   "execution_count": null,
   "id": "545468e5",
   "metadata": {},
   "outputs": [],
   "source": [
    "sympy.integrate(sympy.diff(phi_1, t, t) * sympy.diff(phi_0.subs(t, t), t, t), (t, -1, 1)) * \\\n",
    "sympy.integrate(phi_0 * phi_1.subs(t, t-1), (t, -1, 1))"
   ]
  },
  {
   "cell_type": "markdown",
   "id": "c6e989a1",
   "metadata": {},
   "source": [
    "# $\\beta^{(ij)}\\gamma^{(i+1,j+1)}$"
   ]
  },
  {
   "cell_type": "code",
   "execution_count": null,
   "id": "b4bce455",
   "metadata": {},
   "outputs": [],
   "source": [
    "sympy.integrate(sympy.diff(phi_1, t, t) * sympy.diff(phi_0.subs(t, t-1), t, t), (t, -1, 1)) * \\\n",
    "sympy.integrate(phi_0 * phi_1.subs(t, t-1), (t, -1, 1))"
   ]
  },
  {
   "cell_type": "markdown",
   "id": "6c246ca4",
   "metadata": {},
   "source": [
    "# $\\beta^{(ij)}\\delta^{(i-1,j-1)}$"
   ]
  },
  {
   "cell_type": "code",
   "execution_count": null,
   "id": "5e5ce73d",
   "metadata": {},
   "outputs": [],
   "source": [
    "sympy.integrate(sympy.diff(phi_1, t, t) * sympy.diff(phi_1.subs(t, t+1), t, t), (t, -1, 1)) * \\\n",
    "sympy.integrate(phi_0 * phi_1.subs(t, t+1), (t, -1, 1))"
   ]
  },
  {
   "cell_type": "markdown",
   "id": "5ea592c2",
   "metadata": {},
   "source": [
    "# $\\beta^{(ij)}\\delta^{(i,j-1)}$"
   ]
  },
  {
   "cell_type": "code",
   "execution_count": null,
   "id": "bc61de86",
   "metadata": {},
   "outputs": [],
   "source": [
    "sympy.integrate(sympy.diff(phi_1, t, t) * sympy.diff(phi_1.subs(t, t), t, t), (t, -1, 1)) * \\\n",
    "sympy.integrate(phi_0 * phi_1.subs(t, t+1), (t, -1, 1))"
   ]
  },
  {
   "cell_type": "markdown",
   "id": "b2a1a3f5",
   "metadata": {},
   "source": [
    "# $\\beta^{(ij)}\\delta^{(i+1,j-1)}$"
   ]
  },
  {
   "cell_type": "code",
   "execution_count": null,
   "id": "dde03ae9",
   "metadata": {},
   "outputs": [],
   "source": [
    "sympy.integrate(sympy.diff(phi_1, t, t) * sympy.diff(phi_1.subs(t, t-1), t, t), (t, -1, 1)) * \\\n",
    "sympy.integrate(phi_0 * phi_1.subs(t, t+1), (t, -1, 1))"
   ]
  },
  {
   "cell_type": "markdown",
   "id": "2856d6d8",
   "metadata": {},
   "source": [
    "# $\\beta^{(ij)}\\delta^{(i-1,j)}$"
   ]
  },
  {
   "cell_type": "code",
   "execution_count": null,
   "id": "f04d252b",
   "metadata": {},
   "outputs": [],
   "source": [
    "sympy.integrate(sympy.diff(phi_1, t, t) * sympy.diff(phi_1.subs(t, t+1), t, t), (t, -1, 1)) * \\\n",
    "sympy.integrate(phi_0 * phi_1.subs(t, t), (t, -1, 1))"
   ]
  },
  {
   "cell_type": "markdown",
   "id": "39604401",
   "metadata": {},
   "source": [
    "# $\\beta^{(ij)}\\delta^{(i,j)}$"
   ]
  },
  {
   "cell_type": "code",
   "execution_count": null,
   "id": "f2df0b70",
   "metadata": {},
   "outputs": [],
   "source": [
    "sympy.integrate(sympy.diff(phi_1, t, t) * sympy.diff(phi_1.subs(t, t), t, t), (t, -1, 1)) * \\\n",
    "sympy.integrate(phi_0 * phi_1.subs(t, t), (t, -1, 1))"
   ]
  },
  {
   "cell_type": "markdown",
   "id": "508e8adc",
   "metadata": {},
   "source": [
    "# $\\beta^{(ij)}\\delta^{(i+1,j)}$"
   ]
  },
  {
   "cell_type": "code",
   "execution_count": null,
   "id": "687f329a",
   "metadata": {},
   "outputs": [],
   "source": [
    "sympy.integrate(sympy.diff(phi_1, t, t) * sympy.diff(phi_1.subs(t, t-1), t, t), (t, -1, 1)) * \\\n",
    "sympy.integrate(phi_0 * phi_1.subs(t, t), (t, -1, 1))"
   ]
  },
  {
   "cell_type": "markdown",
   "id": "c2a7787d",
   "metadata": {},
   "source": [
    "# $\\beta^{(ij)}\\delta^{(i-1,j+1)}$"
   ]
  },
  {
   "cell_type": "code",
   "execution_count": null,
   "id": "afd8897d",
   "metadata": {},
   "outputs": [],
   "source": [
    "sympy.integrate(sympy.diff(phi_1, t, t) * sympy.diff(phi_1.subs(t, t+1), t, t), (t, -1, 1)) * \\\n",
    "sympy.integrate(phi_0 * phi_1.subs(t, t-1), (t, -1, 1))"
   ]
  },
  {
   "cell_type": "markdown",
   "id": "43e2c797",
   "metadata": {},
   "source": [
    "# $\\beta^{(ij)}\\delta^{(i,j+1)}$"
   ]
  },
  {
   "cell_type": "code",
   "execution_count": null,
   "id": "f539fd7b",
   "metadata": {},
   "outputs": [],
   "source": [
    "sympy.integrate(sympy.diff(phi_1, t, t) * sympy.diff(phi_1.subs(t, t), t, t), (t, -1, 1)) * \\\n",
    "sympy.integrate(phi_0 * phi_1.subs(t, t-1), (t, -1, 1))"
   ]
  },
  {
   "cell_type": "markdown",
   "id": "14e6eb1e",
   "metadata": {},
   "source": [
    "# $\\beta^{(ij)}\\delta^{(i+1,j+1)}$"
   ]
  },
  {
   "cell_type": "code",
   "execution_count": null,
   "id": "972bb6a8",
   "metadata": {},
   "outputs": [],
   "source": [
    "sympy.integrate(sympy.diff(phi_1, t, t) * sympy.diff(phi_1.subs(t, t-1), t, t), (t, -1, 1)) * \\\n",
    "sympy.integrate(phi_0 * phi_1.subs(t, t-1), (t, -1, 1))"
   ]
  },
  {
   "cell_type": "code",
   "execution_count": null,
   "id": "e4cd3023",
   "metadata": {},
   "outputs": [],
   "source": []
  },
  {
   "cell_type": "markdown",
   "id": "4be47ae0",
   "metadata": {},
   "source": [
    "# For $\\gamma^{(ij)}$"
   ]
  },
  {
   "cell_type": "markdown",
   "id": "b94481eb",
   "metadata": {},
   "source": [
    "# $\\gamma^{(ij)}\\alpha^{(i-1,j-1)}$"
   ]
  },
  {
   "cell_type": "code",
   "execution_count": null,
   "id": "acc89969",
   "metadata": {},
   "outputs": [],
   "source": [
    "sympy.integrate(sympy.diff(phi_0, t, t) * sympy.diff(phi_0.subs(t, t+1), t, t), (t, -1, 1)) * \\\n",
    "sympy.integrate(phi_1 * phi_0.subs(t, t+1), (t, -1, 1))"
   ]
  },
  {
   "cell_type": "markdown",
   "id": "d2e84fb1",
   "metadata": {},
   "source": [
    "# $\\gamma^{(ij)}\\alpha^{(i,j-1)}$"
   ]
  },
  {
   "cell_type": "code",
   "execution_count": null,
   "id": "b2107ec5",
   "metadata": {},
   "outputs": [],
   "source": [
    "sympy.integrate(sympy.diff(phi_0, t, t) * sympy.diff(phi_0.subs(t, t), t, t), (t, -1, 1)) * \\\n",
    "sympy.integrate(phi_1 * phi_0.subs(t, t+1), (t, -1, 1))"
   ]
  },
  {
   "cell_type": "markdown",
   "id": "34310cab",
   "metadata": {},
   "source": [
    "# $\\gamma^{(ij)}\\alpha^{(i+1,j-1)}$"
   ]
  },
  {
   "cell_type": "code",
   "execution_count": null,
   "id": "a4d512be",
   "metadata": {},
   "outputs": [],
   "source": [
    "sympy.integrate(sympy.diff(phi_0, t, t) * sympy.diff(phi_0.subs(t, t-1), t, t), (t, -1, 1)) * \\\n",
    "sympy.integrate(phi_1 * phi_0.subs(t, t+1), (t, -1, 1))"
   ]
  },
  {
   "cell_type": "markdown",
   "id": "847657cc",
   "metadata": {},
   "source": [
    "# $\\gamma^{(ij)}\\alpha^{(i-1,j)}$"
   ]
  },
  {
   "cell_type": "code",
   "execution_count": null,
   "id": "7571234e",
   "metadata": {},
   "outputs": [],
   "source": [
    "sympy.integrate(sympy.diff(phi_0, t, t) * sympy.diff(phi_0.subs(t, t+1), t, t), (t, -1, 1)) * \\\n",
    "sympy.integrate(phi_1 * phi_0.subs(t, t), (t, -1, 1))"
   ]
  },
  {
   "cell_type": "markdown",
   "id": "7d0b2574",
   "metadata": {},
   "source": [
    "# $\\gamma^{(ij)}\\alpha^{(i,j)}$"
   ]
  },
  {
   "cell_type": "code",
   "execution_count": null,
   "id": "74cd5452",
   "metadata": {},
   "outputs": [],
   "source": [
    "sympy.integrate(sympy.diff(phi_0, t, t) * sympy.diff(phi_0.subs(t, t), t, t), (t, -1, 1)) * \\\n",
    "sympy.integrate(phi_1 * phi_0.subs(t, t), (t, -1, 1))"
   ]
  },
  {
   "cell_type": "markdown",
   "id": "d3d79e14",
   "metadata": {},
   "source": [
    "# $\\gamma^{(ij)}\\alpha^{(i+1,j)}$"
   ]
  },
  {
   "cell_type": "code",
   "execution_count": null,
   "id": "e5483344",
   "metadata": {},
   "outputs": [],
   "source": [
    "sympy.integrate(sympy.diff(phi_0, t, t) * sympy.diff(phi_0.subs(t, t-1), t, t), (t, -1, 1)) * \\\n",
    "sympy.integrate(phi_1 * phi_0.subs(t, t), (t, -1, 1))"
   ]
  },
  {
   "cell_type": "markdown",
   "id": "52096b4b",
   "metadata": {},
   "source": [
    "# $\\gamma^{(ij)}\\alpha^{(i-1,j+1)}$"
   ]
  },
  {
   "cell_type": "code",
   "execution_count": null,
   "id": "e9258847",
   "metadata": {},
   "outputs": [],
   "source": [
    "sympy.integrate(sympy.diff(phi_0, t, t) * sympy.diff(phi_0.subs(t, t+1), t, t), (t, -1, 1)) * \\\n",
    "sympy.integrate(phi_1 * phi_0.subs(t, t-1), (t, -1, 1))"
   ]
  },
  {
   "cell_type": "markdown",
   "id": "154887b7",
   "metadata": {},
   "source": [
    "# $\\gamma^{(ij)}\\alpha^{(i,j+1)}$"
   ]
  },
  {
   "cell_type": "code",
   "execution_count": null,
   "id": "2e6704a4",
   "metadata": {},
   "outputs": [],
   "source": [
    "sympy.integrate(sympy.diff(phi_0, t, t) * sympy.diff(phi_0.subs(t, t), t, t), (t, -1, 1)) * \\\n",
    "sympy.integrate(phi_1 * phi_0.subs(t, t-1), (t, -1, 1))"
   ]
  },
  {
   "cell_type": "markdown",
   "id": "ff3dad8b",
   "metadata": {},
   "source": [
    "# $\\gamma^{(ij)}\\alpha^{(i+1,j+1)}$"
   ]
  },
  {
   "cell_type": "code",
   "execution_count": null,
   "id": "f2202146",
   "metadata": {},
   "outputs": [],
   "source": [
    "sympy.integrate(sympy.diff(phi_0, t, t) * sympy.diff(phi_0.subs(t, t-1), t, t), (t, -1, 1)) * \\\n",
    "sympy.integrate(phi_1 * phi_0.subs(t, t-1), (t, -1, 1))"
   ]
  },
  {
   "cell_type": "markdown",
   "id": "8b7ee411",
   "metadata": {},
   "source": [
    "# $\\gamma^{(ij)}\\beta^{(i-1,j-1)}$"
   ]
  },
  {
   "cell_type": "code",
   "execution_count": null,
   "id": "6332d738",
   "metadata": {},
   "outputs": [],
   "source": [
    "sympy.integrate(sympy.diff(phi_0, t, t) * sympy.diff(phi_1.subs(t, t+1), t, t), (t, -1, 1)) * \\\n",
    "sympy.integrate(phi_1 * phi_0.subs(t, t+1), (t, -1, 1))"
   ]
  },
  {
   "cell_type": "markdown",
   "id": "f6b2d2a2",
   "metadata": {},
   "source": [
    "# $\\gamma^{(ij)}\\beta^{(i,j-1)}$"
   ]
  },
  {
   "cell_type": "code",
   "execution_count": null,
   "id": "6823b6d3",
   "metadata": {},
   "outputs": [],
   "source": [
    "sympy.integrate(sympy.diff(phi_0, t, t) * sympy.diff(phi_0.subs(t, t), t, t), (t, -1, 1)) * \\\n",
    "sympy.integrate(phi_1 * phi_0.subs(t, t+1), (t, -1, 1))"
   ]
  },
  {
   "cell_type": "markdown",
   "id": "bd6bd152",
   "metadata": {},
   "source": [
    "# $\\gamma^{(ij)}\\beta^{(i+1,j-1)}$"
   ]
  },
  {
   "cell_type": "code",
   "execution_count": null,
   "id": "92732310",
   "metadata": {},
   "outputs": [],
   "source": [
    "sympy.integrate(sympy.diff(phi_0, t, t) * sympy.diff(phi_0.subs(t, t-1), t, t), (t, -1, 1)) * \\\n",
    "sympy.integrate(phi_1 * phi_0.subs(t, t+1), (t, -1, 1))"
   ]
  },
  {
   "cell_type": "markdown",
   "id": "f5e4c66e",
   "metadata": {},
   "source": [
    "# $\\gamma^{(ij)}\\beta^{(i-1,j)}$"
   ]
  },
  {
   "cell_type": "code",
   "execution_count": null,
   "id": "0dbe12df",
   "metadata": {},
   "outputs": [],
   "source": [
    "sympy.integrate(sympy.diff(phi_0, t, t) * sympy.diff(phi_1.subs(t, t+1), t, t), (t, -1, 1)) * \\\n",
    "sympy.integrate(phi_1 * phi_0.subs(t, t), (t, -1, 1))"
   ]
  },
  {
   "cell_type": "markdown",
   "id": "eb3e394d",
   "metadata": {},
   "source": [
    "# $\\gamma^{(ij)}\\beta^{(i,j)}$"
   ]
  },
  {
   "cell_type": "code",
   "execution_count": null,
   "id": "16b7e9b5",
   "metadata": {},
   "outputs": [],
   "source": [
    "sympy.integrate(sympy.diff(phi_0, t, t) * sympy.diff(phi_1.subs(t, t), t, t), (t, -1, 1)) * \\\n",
    "sympy.integrate(phi_1 * phi_0.subs(t, t), (t, -1, 1))"
   ]
  },
  {
   "cell_type": "markdown",
   "id": "e8cecd87",
   "metadata": {},
   "source": [
    "# $\\gamma^{(ij)}\\beta^{(i+1,j)}$"
   ]
  },
  {
   "cell_type": "code",
   "execution_count": null,
   "id": "e864c275",
   "metadata": {},
   "outputs": [],
   "source": [
    "sympy.integrate(sympy.diff(phi_0, t, t) * sympy.diff(phi_1.subs(t, t-1), t, t), (t, -1, 1)) * \\\n",
    "sympy.integrate(phi_1 * phi_0.subs(t, t), (t, -1, 1))"
   ]
  },
  {
   "cell_type": "markdown",
   "id": "8548d8d7",
   "metadata": {},
   "source": [
    "# $\\gamma^{(ij)}\\beta^{(i-1,j+1)}$"
   ]
  },
  {
   "cell_type": "code",
   "execution_count": null,
   "id": "f21a8562",
   "metadata": {},
   "outputs": [],
   "source": [
    "sympy.integrate(sympy.diff(phi_0, t, t) * sympy.diff(phi_1.subs(t, t+1), t, t), (t, -1, 1)) * \\\n",
    "sympy.integrate(phi_1 * phi_0.subs(t, t-1), (t, -1, 1))"
   ]
  },
  {
   "cell_type": "markdown",
   "id": "a922003c",
   "metadata": {},
   "source": [
    "# $\\gamma^{(ij)}\\beta^{(i,j+1)}$"
   ]
  },
  {
   "cell_type": "code",
   "execution_count": null,
   "id": "55740a68",
   "metadata": {},
   "outputs": [],
   "source": [
    "sympy.integrate(sympy.diff(phi_0, t, t) * sympy.diff(phi_1.subs(t, t), t, t), (t, -1, 1)) * \\\n",
    "sympy.integrate(phi_1 * phi_0.subs(t, t-1), (t, -1, 1))"
   ]
  },
  {
   "cell_type": "markdown",
   "id": "bba8ae47",
   "metadata": {},
   "source": [
    "# $\\gamma^{(ij)}\\beta^{(i+1,j+1)}$"
   ]
  },
  {
   "cell_type": "code",
   "execution_count": null,
   "id": "c726fb13",
   "metadata": {},
   "outputs": [],
   "source": [
    "sympy.integrate(sympy.diff(phi_0, t, t) * sympy.diff(phi_1.subs(t, t-1), t, t), (t, -1, 1)) * \\\n",
    "sympy.integrate(phi_1 * phi_0.subs(t, t-1), (t, -1, 1))"
   ]
  },
  {
   "cell_type": "markdown",
   "id": "fba90f83",
   "metadata": {},
   "source": [
    "# $\\gamma^{(ij)}\\gamma^{(i-1,j-1)}$"
   ]
  },
  {
   "cell_type": "code",
   "execution_count": null,
   "id": "b1d72631",
   "metadata": {},
   "outputs": [],
   "source": [
    "sympy.integrate(sympy.diff(phi_0, t, t) * sympy.diff(phi_0.subs(t, t+1), t, t), (t, -1, 1)) * \\\n",
    "sympy.integrate(phi_1 * phi_1.subs(t, t+1), (t, -1, 1))"
   ]
  },
  {
   "cell_type": "markdown",
   "id": "a63edf1f",
   "metadata": {},
   "source": [
    "# $\\gamma^{(ij)}\\gamma^{(i,j-1)}$"
   ]
  },
  {
   "cell_type": "code",
   "execution_count": null,
   "id": "a9dfe515",
   "metadata": {},
   "outputs": [],
   "source": [
    "sympy.integrate(sympy.diff(phi_0, t, t) * sympy.diff(phi_0.subs(t, t), t, t), (t, -1, 1)) * \\\n",
    "sympy.integrate(phi_1 * phi_1.subs(t, t+1), (t, -1, 1))"
   ]
  },
  {
   "cell_type": "markdown",
   "id": "e57b811c",
   "metadata": {},
   "source": [
    "# $\\gamma^{(ij)}\\gamma^{(i+1,j-1)}$"
   ]
  },
  {
   "cell_type": "code",
   "execution_count": null,
   "id": "ebb3cbb6",
   "metadata": {},
   "outputs": [],
   "source": [
    "sympy.integrate(sympy.diff(phi_0, t, t) * sympy.diff(phi_0.subs(t, t-1), t, t), (t, -1, 1)) * \\\n",
    "sympy.integrate(phi_1 * phi_1.subs(t, t+1), (t, -1, 1))"
   ]
  },
  {
   "cell_type": "markdown",
   "id": "b63a59d2",
   "metadata": {},
   "source": [
    "# $\\gamma^{(ij)}\\gamma^{(i-1,j)}$"
   ]
  },
  {
   "cell_type": "code",
   "execution_count": null,
   "id": "8057e21d",
   "metadata": {},
   "outputs": [],
   "source": [
    "sympy.integrate(sympy.diff(phi_0, t, t) * sympy.diff(phi_0.subs(t, t+1), t, t), (t, -1, 1)) * \\\n",
    "sympy.integrate(phi_1 * phi_1.subs(t, t), (t, -1, 1))"
   ]
  },
  {
   "cell_type": "markdown",
   "id": "9be5f57d",
   "metadata": {},
   "source": [
    "# $\\gamma^{(ij)}\\gamma^{(i,j)}$"
   ]
  },
  {
   "cell_type": "code",
   "execution_count": null,
   "id": "c61dae29",
   "metadata": {},
   "outputs": [],
   "source": [
    "sympy.integrate(sympy.diff(phi_0, t, t) * sympy.diff(phi_0.subs(t, t), t, t), (t, -1, 1)) * \\\n",
    "sympy.integrate(phi_1 * phi_1.subs(t, t), (t, -1, 1))"
   ]
  },
  {
   "cell_type": "markdown",
   "id": "5aebe810",
   "metadata": {},
   "source": [
    "# $\\gamma^{(ij)}\\gamma^{(i+1,j)}$"
   ]
  },
  {
   "cell_type": "code",
   "execution_count": null,
   "id": "5a4fcea4",
   "metadata": {},
   "outputs": [],
   "source": [
    "sympy.integrate(sympy.diff(phi_0, t, t) * sympy.diff(phi_0.subs(t, t-1), t, t), (t, -1, 1)) * \\\n",
    "sympy.integrate(phi_1 * phi_1.subs(t, t), (t, -1, 1))"
   ]
  },
  {
   "cell_type": "markdown",
   "id": "7b26c1b2",
   "metadata": {},
   "source": [
    "# $\\gamma^{(ij)}\\gamma^{(i-1,j+1)}$"
   ]
  },
  {
   "cell_type": "code",
   "execution_count": null,
   "id": "96911c46",
   "metadata": {},
   "outputs": [],
   "source": [
    "sympy.integrate(sympy.diff(phi_0, t, t) * sympy.diff(phi_0.subs(t, t+1), t, t), (t, -1, 1)) * \\\n",
    "sympy.integrate(phi_1 * phi_1.subs(t, t-1), (t, -1, 1))"
   ]
  },
  {
   "cell_type": "markdown",
   "id": "0ef47887",
   "metadata": {},
   "source": [
    "# $\\gamma^{(ij)}\\gamma^{(i,j+1)}$"
   ]
  },
  {
   "cell_type": "code",
   "execution_count": null,
   "id": "f431ce5e",
   "metadata": {},
   "outputs": [],
   "source": [
    "sympy.integrate(sympy.diff(phi_0, t, t) * sympy.diff(phi_0.subs(t, t), t, t), (t, -1, 1)) * \\\n",
    "sympy.integrate(phi_1 * phi_1.subs(t, t-1), (t, -1, 1))"
   ]
  },
  {
   "cell_type": "markdown",
   "id": "f2a179cc",
   "metadata": {},
   "source": [
    "# $\\gamma^{(ij)}\\gamma^{(i+1,j+1)}$"
   ]
  },
  {
   "cell_type": "code",
   "execution_count": null,
   "id": "2c47d585",
   "metadata": {},
   "outputs": [],
   "source": [
    "sympy.integrate(sympy.diff(phi_0, t, t) * sympy.diff(phi_0.subs(t, t-1), t, t), (t, -1, 1)) * \\\n",
    "sympy.integrate(phi_1 * phi_1.subs(t, t-1), (t, -1, 1))"
   ]
  },
  {
   "cell_type": "markdown",
   "id": "3c5037c2",
   "metadata": {},
   "source": [
    "# $\\gamma^{(ij)}\\delta^{(i-1,j-1)}$"
   ]
  },
  {
   "cell_type": "code",
   "execution_count": null,
   "id": "7ebe16ce",
   "metadata": {},
   "outputs": [],
   "source": [
    "sympy.integrate(sympy.diff(phi_0, t, t) * sympy.diff(phi_1.subs(t, t+1), t, t), (t, -1, 1)) * \\\n",
    "sympy.integrate(phi_1 * phi_1.subs(t, t+1), (t, -1, 1))"
   ]
  },
  {
   "cell_type": "markdown",
   "id": "210eae5e",
   "metadata": {},
   "source": [
    "# $\\gamma^{(ij)}\\delta^{(i,j-1)}$"
   ]
  },
  {
   "cell_type": "code",
   "execution_count": null,
   "id": "9781ca66",
   "metadata": {},
   "outputs": [],
   "source": [
    "sympy.integrate(sympy.diff(phi_0, t, t) * sympy.diff(phi_1.subs(t, t), t, t), (t, -1, 1)) * \\\n",
    "sympy.integrate(phi_1 * phi_1.subs(t, t+1), (t, -1, 1))"
   ]
  },
  {
   "cell_type": "markdown",
   "id": "3b7b315b",
   "metadata": {},
   "source": [
    "# $\\gamma^{(ij)}\\delta^{(i+1,j-1)}$"
   ]
  },
  {
   "cell_type": "code",
   "execution_count": null,
   "id": "b8297732",
   "metadata": {},
   "outputs": [],
   "source": [
    "sympy.integrate(sympy.diff(phi_0, t, t) * sympy.diff(phi_1.subs(t, t-1), t, t), (t, -1, 1)) * \\\n",
    "sympy.integrate(phi_1 * phi_1.subs(t, t+1), (t, -1, 1))"
   ]
  },
  {
   "cell_type": "markdown",
   "id": "1831d1e9",
   "metadata": {},
   "source": [
    "# $\\gamma^{(ij)}\\delta^{(i-1,j)}$"
   ]
  },
  {
   "cell_type": "code",
   "execution_count": null,
   "id": "bd7e492e",
   "metadata": {},
   "outputs": [],
   "source": [
    "sympy.integrate(sympy.diff(phi_0, t, t) * sympy.diff(phi_1.subs(t, t+1), t, t), (t, -1, 1)) * \\\n",
    "sympy.integrate(phi_1 * phi_1.subs(t, t), (t, -1, 1))"
   ]
  },
  {
   "cell_type": "markdown",
   "id": "f48b6403",
   "metadata": {},
   "source": [
    "# $\\gamma^{(ij)}\\delta^{(i,j)}$"
   ]
  },
  {
   "cell_type": "code",
   "execution_count": null,
   "id": "db1af47d",
   "metadata": {},
   "outputs": [],
   "source": [
    "sympy.integrate(sympy.diff(phi_0, t, t) * sympy.diff(phi_1.subs(t, t), t, t), (t, -1, 1)) * \\\n",
    "sympy.integrate(phi_1 * phi_1.subs(t, t), (t, -1, 1))"
   ]
  },
  {
   "cell_type": "markdown",
   "id": "892c79b1",
   "metadata": {},
   "source": [
    "# $\\gamma^{(ij)}\\delta^{(i+1,j)}$"
   ]
  },
  {
   "cell_type": "code",
   "execution_count": null,
   "id": "3fa5bbe6",
   "metadata": {},
   "outputs": [],
   "source": [
    "sympy.integrate(sympy.diff(phi_0, t, t) * sympy.diff(phi_1.subs(t, t-1), t, t), (t, -1, 1)) * \\\n",
    "sympy.integrate(phi_1 * phi_1.subs(t, t), (t, -1, 1))"
   ]
  },
  {
   "cell_type": "markdown",
   "id": "f986cb24",
   "metadata": {},
   "source": [
    "# $\\gamma^{(ij)}\\delta^{(i-1,j+1)}$"
   ]
  },
  {
   "cell_type": "code",
   "execution_count": null,
   "id": "2cebe4b4",
   "metadata": {},
   "outputs": [],
   "source": [
    "sympy.integrate(sympy.diff(phi_0, t, t) * sympy.diff(phi_1.subs(t, t+1), t, t), (t, -1, 1)) * \\\n",
    "sympy.integrate(phi_1 * phi_1.subs(t, t-1), (t, -1, 1))"
   ]
  },
  {
   "cell_type": "markdown",
   "id": "e113e166",
   "metadata": {},
   "source": [
    "# $\\gamma^{(ij)}\\delta^{(i,j+1)}$"
   ]
  },
  {
   "cell_type": "code",
   "execution_count": null,
   "id": "6049ba8a",
   "metadata": {},
   "outputs": [],
   "source": [
    "sympy.integrate(sympy.diff(phi_0, t, t) * sympy.diff(phi_1.subs(t, t), t, t), (t, -1, 1)) * \\\n",
    "sympy.integrate(phi_1 * phi_1.subs(t, t-1), (t, -1, 1))"
   ]
  },
  {
   "cell_type": "markdown",
   "id": "cb2407db",
   "metadata": {},
   "source": [
    "# $\\gamma^{(ij)}\\delta^{(i+1,j+1)}$"
   ]
  },
  {
   "cell_type": "code",
   "execution_count": null,
   "id": "6b76912d",
   "metadata": {},
   "outputs": [],
   "source": [
    "sympy.integrate(sympy.diff(phi_0, t, t) * sympy.diff(phi_1.subs(t, t-1), t, t), (t, -1, 1)) * \\\n",
    "sympy.integrate(phi_1 * phi_1.subs(t, t-1), (t, -1, 1))"
   ]
  },
  {
   "cell_type": "code",
   "execution_count": null,
   "id": "cf88ae65",
   "metadata": {},
   "outputs": [],
   "source": []
  },
  {
   "cell_type": "code",
   "execution_count": null,
   "id": "7f674066",
   "metadata": {},
   "outputs": [],
   "source": [
    "4 * 9 * 4 * 3"
   ]
  },
  {
   "cell_type": "code",
   "execution_count": null,
   "id": "1c97f7d0",
   "metadata": {},
   "outputs": [],
   "source": []
  }
 ],
 "metadata": {
  "kernelspec": {
   "display_name": "Python 3 (ipykernel)",
   "language": "python",
   "name": "python3"
  },
  "language_info": {
   "codemirror_mode": {
    "name": "ipython",
    "version": 3
   },
   "file_extension": ".py",
   "mimetype": "text/x-python",
   "name": "python",
   "nbconvert_exporter": "python",
   "pygments_lexer": "ipython3",
   "version": "3.9.12"
  }
 },
 "nbformat": 4,
 "nbformat_minor": 5
}
