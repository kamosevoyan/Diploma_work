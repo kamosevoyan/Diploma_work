{
 "cells": [
  {
   "cell_type": "code",
   "execution_count": null,
   "id": "d9aa3251",
   "metadata": {},
   "outputs": [],
   "source": [
    "import numpy as np\n",
    "from tqdm import tqdm\n",
    "import matplotlib.pyplot as plt\n",
    "from scipy.spatial import Delaunay\n",
    "from triangle import triangulate, plot as tplot, convex_hull, show_data, get_data"
   ]
  },
  {
   "cell_type": "code",
   "execution_count": null,
   "id": "b1a74ff4",
   "metadata": {},
   "outputs": [],
   "source": [
    "t = np.linspace(0, 2*np.pi, 100, endpoint=False)\n",
    "points = np.stack((np.cos(t), np.sin(t))).T"
   ]
  },
  {
   "cell_type": "code",
   "execution_count": null,
   "id": "c062ab15",
   "metadata": {},
   "outputs": [],
   "source": [
    "seg = np.array([[j, j+1] for j in range(points.shape[0]-1)] + [[points.shape[0] - 1, 0]])"
   ]
  },
  {
   "cell_type": "markdown",
   "id": "a326bcd6",
   "metadata": {},
   "source": [
    "# Mesh "
   ]
  },
  {
   "cell_type": "code",
   "execution_count": null,
   "id": "31b552e5",
   "metadata": {},
   "outputs": [],
   "source": [
    "cndt = triangulate({'vertices':points, 'segments':seg}, opts='Rpq1a0.01ne')"
   ]
  },
  {
   "cell_type": "code",
   "execution_count": null,
   "id": "0dec65b5",
   "metadata": {},
   "outputs": [],
   "source": [
    "%matplotlib inline\n",
    "fig, ax = plt.subplots(figsize=(10, 10))\n",
    "ax = plt.subplot(111, aspect='equal')\n",
    "tplot(ax, **cndt)\n",
    "plt.show()"
   ]
  },
  {
   "cell_type": "code",
   "execution_count": null,
   "id": "4b527fd5",
   "metadata": {},
   "outputs": [],
   "source": [
    "points = cndt['vertices']\n",
    "triangles = cndt['triangles']\n",
    "neighbours = cndt['neighbors']\n",
    "triangles_s = points[triangles]\n",
    "triangles_c = triangles_s.reshape(-1, 2)\n",
    "vertice_maker_is_boundary = cndt[\"vertex_markers\"]"
   ]
  },
  {
   "cell_type": "code",
   "execution_count": null,
   "id": "e6f864fd",
   "metadata": {},
   "outputs": [],
   "source": [
    "matrix = np.zeros((points.shape[0], points.shape[0]), dtype=np.float64)\n",
    "b = np.zeros(points.shape[0])\n",
    "f = np.ones(points.shape[0]) * 2\n",
    "# f = c\n",
    "\n",
    "for idx, element in enumerate(triangles):\n",
    "    \n",
    "    x1, x2, x3 = points[element[0], 0], points[element[1], 0], points[element[2], 0]\n",
    "    y1, y2, y3 = points[element[0], 1], points[element[1], 1], points[element[2], 1]\n",
    "    \n",
    "    delta = (x1*y2 - x1*y3 - x2*y1 + x2*y3 + x3*y1 - x3*y2)\n",
    "\n",
    "    if vertice_maker_is_boundary[element[0]] == True:\n",
    "        matrix[element[0], element[0]] = 1\n",
    "        b[element[0]] = 0\n",
    "    else:\n",
    "\n",
    "        matrix[element[0], element[0]] += 2 * (points[element[1], 1] - points[element[2], 1])*(points[element[1], 1] - points[element[2], 1]) / delta\n",
    "        matrix[element[0], element[1]] += 2 * (points[element[1], 1] - points[element[2], 1])*(points[element[2], 1] - points[element[0], 1]) / delta\n",
    "        matrix[element[0], element[2]] += 2 * (points[element[1], 1] - points[element[2], 1])*(points[element[0], 1] - points[element[1], 1]) / delta\n",
    "\n",
    "        matrix[element[0], element[0]] += 2 * (points[element[1], 0] - points[element[2], 0])*(points[element[1], 0] - points[element[2], 0]) / delta\n",
    "        matrix[element[0], element[1]] += 2 * (points[element[1], 0] - points[element[2], 0])*(points[element[2], 0] - points[element[0], 0]) / delta\n",
    "        matrix[element[0], element[2]] += 2 * (points[element[1], 0] - points[element[2], 0])*(points[element[0], 0] - points[element[1], 0]) / delta\n",
    "\n",
    "        b[element[0]] -= 2 * delta / 3 * f[element[0]]\n",
    "\n",
    "    if vertice_maker_is_boundary[element[1]] == True:\n",
    "        matrix[element[1], element[1]] = 1\n",
    "        b[element[1]] *= 0\n",
    "    else:\n",
    "\n",
    "        matrix[element[1], element[0]] += 2 * (points[element[2], 1] - points[element[0], 1])*(points[element[1], 1] - points[element[2], 1]) / delta\n",
    "        matrix[element[1], element[1]] += 2 * (points[element[2], 1] - points[element[0], 1])*(points[element[2], 1] - points[element[0], 1]) / delta\n",
    "        matrix[element[1], element[2]] += 2 * (points[element[2], 1] - points[element[0], 1])*(points[element[0], 1] - points[element[1], 1]) / delta\n",
    "\n",
    "        matrix[element[1], element[0]] += 2 * (points[element[2], 0] - points[element[0], 0])*(points[element[1], 0] - points[element[2], 0]) / delta\n",
    "        matrix[element[1], element[1]] += 2 * (points[element[2], 0] - points[element[0], 0])*(points[element[2], 0] - points[element[0], 0]) / delta\n",
    "        matrix[element[1], element[2]] += 2 * (points[element[2], 0] - points[element[0], 0])*(points[element[0], 0] - points[element[1], 0]) / delta\n",
    "\n",
    "        b[element[1]] -= 2 * delta / 3 * f[element[0]]\n",
    "\n",
    "    if vertice_maker_is_boundary[element[2]] == True:\n",
    "        matrix[element[2], element[2]] = 1\n",
    "        b[element[2]] *= 0\n",
    "    else:\n",
    "        \n",
    "        matrix[element[2], element[0]] += 2 * (points[element[0], 1] - points[element[1], 1])*(points[element[1], 1] - points[element[2], 1]) / delta\n",
    "        matrix[element[2], element[1]] += 2 * (points[element[0], 1] - points[element[1], 1])*(points[element[2], 1] - points[element[0], 1]) / delta\n",
    "        matrix[element[2], element[2]] += 2 * (points[element[0], 1] - points[element[1], 1])*(points[element[0], 1] - points[element[1], 1]) / delta\n",
    "\n",
    "        matrix[element[2], element[0]] += 2 * (points[element[0], 0] - points[element[1], 0])*(points[element[1], 0] - points[element[2], 0]) / delta\n",
    "        matrix[element[2], element[1]] += 2 * (points[element[0], 0] - points[element[1], 0])*(points[element[2], 0] - points[element[0], 0]) / delta\n",
    "        matrix[element[2], element[2]] += 2 * (points[element[0], 0] - points[element[1], 0])*(points[element[0], 0] - points[element[1], 0]) / delta\n",
    "    \n",
    "        b[element[2]] -= 2 * delta / 3 * f[element[0]]"
   ]
  },
  {
   "cell_type": "code",
   "execution_count": null,
   "id": "f9c6b95f",
   "metadata": {},
   "outputs": [],
   "source": [
    "c = np.linalg.solve(matrix, b)"
   ]
  },
  {
   "cell_type": "code",
   "execution_count": null,
   "id": "f80c5c4e-cd01-4169-af53-dc2f378bfa89",
   "metadata": {},
   "outputs": [],
   "source": [
    "orig = -(1-points[:,0]**2-points[:,1]**2)/4"
   ]
  },
  {
   "cell_type": "code",
   "execution_count": null,
   "id": "bad9fb75",
   "metadata": {},
   "outputs": [],
   "source": [
    "%matplotlib widget\n",
    "fig = plt.figure(figsize=(10, 10))\n",
    "ax = plt.axes(projection='3d')\n",
    "ax.xaxis.set_tick_params(labelsize=20)\n",
    "ax.yaxis.set_tick_params(labelsize=20)\n",
    "ax.zaxis.set_tick_params(labelsize=20)\n",
    "ax.plot_trisurf(points[:, 0], points[:, 1], c, cmap=\"magma\")\n",
    "fig.tight_layout()\n",
    "plt.show()"
   ]
  },
  {
   "cell_type": "markdown",
   "id": "eef4cb8d-8541-486d-ad60-f5665c76a686",
   "metadata": {},
   "source": [
    "### Stiffness matrix"
   ]
  },
  {
   "cell_type": "code",
   "execution_count": null,
   "id": "8d5686a8",
   "metadata": {},
   "outputs": [],
   "source": [
    "%matplotlib inline\n",
    "fig, ax = plt.subplots(figsize=(7, 7))\n",
    "ax.imshow(matrix != 0)\n",
    "plt.show()"
   ]
  }
 ],
 "metadata": {
  "kernelspec": {
   "display_name": "Python 3 (ipykernel)",
   "language": "python",
   "name": "python3"
  },
  "language_info": {
   "codemirror_mode": {
    "name": "ipython",
    "version": 3
   },
   "file_extension": ".py",
   "mimetype": "text/x-python",
   "name": "python",
   "nbconvert_exporter": "python",
   "pygments_lexer": "ipython3",
   "version": "3.9.12"
  }
 },
 "nbformat": 4,
 "nbformat_minor": 5
}
