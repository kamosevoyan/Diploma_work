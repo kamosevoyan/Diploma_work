{
 "cells": [
  {
   "cell_type": "code",
   "execution_count": null,
   "id": "d77dd589",
   "metadata": {},
   "outputs": [],
   "source": [
    "import sympy\n",
    "import numpy as np\n",
    "import matplotlib.pyplot as plt\n",
    "import matplotlib.colors as mcolors\n",
    "import dill\n",
    "dill.settings['recurse'] = True\n",
    "from tqdm import tqdm\n",
    "from triangle import triangulate, plot\n",
    "from random import sample\n",
    "from utils import get_global_normals_and_tangentials, get_local_normals_and_tangentials, get_middle_indices, get_delta_function"
   ]
  },
  {
   "cell_type": "markdown",
   "id": "bf7377a7-31a4-41f0-a34d-752afcf973f2",
   "metadata": {
    "tags": []
   },
   "source": [
    "### Get precomputed integrals"
   ]
  },
  {
   "cell_type": "code",
   "execution_count": null,
   "id": "41befacc",
   "metadata": {},
   "outputs": [],
   "source": [
    "biharmonic_functional = dill.load(open(\"../calculations/FUNC_B\", \"rb\"))\n",
    "basis_integral_values = dill.load(open(\"../calculations/FUNC_A\", \"rb\"))"
   ]
  },
  {
   "cell_type": "markdown",
   "id": "0b85ea3c-eb13-4f02-9b82-34e00b1072b4",
   "metadata": {},
   "source": [
    "### Initialize the domain"
   ]
  },
  {
   "cell_type": "code",
   "execution_count": null,
   "id": "4519e43b",
   "metadata": {},
   "outputs": [],
   "source": [
    "t = np.linspace(0, 2*np.pi, 100, endpoint=False)\n",
    "points = np.stack((np.cos(t), np.sin(t))).T\n",
    "seg = np.array([[j, j+1] for j in range(points.shape[0]-1)] + [[points.shape[0] - 1, 0]])"
   ]
  },
  {
   "cell_type": "markdown",
   "id": "fc7ec289-118b-44b8-8af1-d94868deadc4",
   "metadata": {},
   "source": [
    "### Run triangulation"
   ]
  },
  {
   "cell_type": "code",
   "execution_count": null,
   "id": "c5092c6f",
   "metadata": {},
   "outputs": [],
   "source": [
    "cndt = triangulate({\"vertices\":points, \"segments\":seg}, opts=\"q30a0.04pneo2\")\n",
    "points = cndt[\"vertices\"]\n",
    "triangles = cndt[\"triangles\"]\n",
    "neighbours = cndt[\"neighbors\"]\n",
    "triangles_s = points[triangles]\n",
    "vertex_maker_is_boundary = cndt[\"vertex_markers\"]\n",
    "print(f\"Total number of points {points.shape[0]}\")"
   ]
  },
  {
   "cell_type": "markdown",
   "id": "29ca0750-e6c2-4fe0-9ce5-7e51da3494ca",
   "metadata": {
    "tags": []
   },
   "source": [
    "### Local normal and tangential vectors"
   ]
  },
  {
   "cell_type": "code",
   "execution_count": null,
   "id": "7799d177-0618-40b8-b4d3-faf70d474567",
   "metadata": {},
   "outputs": [],
   "source": [
    "elem_normal, elem_tangential = get_local_normals_and_tangentials(points, triangles)"
   ]
  },
  {
   "cell_type": "markdown",
   "id": "8d50e80d",
   "metadata": {
    "tags": []
   },
   "source": [
    "### Global normal and tangential"
   ]
  },
  {
   "cell_type": "code",
   "execution_count": null,
   "id": "996fbc6a-afcd-4a49-ba2c-1afd66bfa075",
   "metadata": {},
   "outputs": [],
   "source": [
    "global_elem_normal, global_elem_tangential = get_global_normals_and_tangentials(points, triangles)"
   ]
  },
  {
   "cell_type": "markdown",
   "id": "e44dde11",
   "metadata": {},
   "source": [
    "### Separate middles"
   ]
  },
  {
   "cell_type": "code",
   "execution_count": null,
   "id": "b72df636",
   "metadata": {},
   "outputs": [],
   "source": [
    "is_middle = get_middle_indices(points.shape[0], triangles)"
   ]
  },
  {
   "cell_type": "markdown",
   "id": "1414f2ea-2215-47df-887e-110d49096527",
   "metadata": {},
   "source": [
    "### Visualize triangulation"
   ]
  },
  {
   "cell_type": "code",
   "execution_count": null,
   "id": "8dbd905e",
   "metadata": {},
   "outputs": [],
   "source": [
    "all_colors = 100*list(mcolors.CSS4_COLORS.keys()) + list(mcolors.XKCD_COLORS.keys()) + list(mcolors.BASE_COLORS.keys())\n",
    "colors = sample(all_colors, triangles_s.shape[0])\n",
    "\n",
    "%matplotlib inline\n",
    "fig, ax = plt.subplots(figsize=(7, 7))\n",
    "ax.axis(\"equal\")\n",
    "\n",
    "for index, triangle in enumerate(tqdm(triangles_s)):\n",
    "    t1 = plt.Polygon(triangle[:3], color=colors[index])\n",
    "    fig.gca().add_patch(t1)\n",
    "    \n",
    "if False:\n",
    "    for idx, point in enumerate(tqdm(points)):\n",
    "\n",
    "        if vertex_maker_is_boundary[idx] == 0:\n",
    "            color = \"red\"\n",
    "        else:\n",
    "            color = \"green\" \n",
    "        ax.scatter(point[0], point[1], color=color)\n",
    "    \n",
    "ax.set_xlim([points[:, 0].min()-0.5, points[:, 0].max()+0.5])\n",
    "ax.set_ylim([points[:, 1].min()-0.5, points[:, 1].max()+0.5])\n",
    "fig.tight_layout()\n",
    "plt.show()"
   ]
  },
  {
   "cell_type": "markdown",
   "id": "2557abc1-3bea-4686-ac69-a98028560a66",
   "metadata": {},
   "source": [
    "### Initialize variables"
   ]
  },
  {
   "cell_type": "code",
   "execution_count": null,
   "id": "181c06c6",
   "metadata": {},
   "outputs": [],
   "source": [
    "total_points = points.shape[0]\n",
    "num_midpoints = is_middle.sum()\n",
    "num_nodes = total_points - num_midpoints\n",
    "NUM = 6 * num_nodes + num_midpoints"
   ]
  },
  {
   "cell_type": "code",
   "execution_count": null,
   "id": "a37b1e23",
   "metadata": {},
   "outputs": [],
   "source": [
    "x, y = sympy.symbols(\"x y\")"
   ]
  },
  {
   "cell_type": "code",
   "execution_count": null,
   "id": "75c408b1",
   "metadata": {},
   "outputs": [],
   "source": [
    "right_part_values = np.zeros((total_points, 6))"
   ]
  },
  {
   "cell_type": "markdown",
   "id": "37da1738-ae8f-4d98-9e1f-2a991760bf06",
   "metadata": {},
   "source": [
    "### Define the right part of the equation"
   ]
  },
  {
   "cell_type": "code",
   "execution_count": null,
   "id": "0efdbd90",
   "metadata": {},
   "outputs": [],
   "source": [
    "F = 1*sympy.Float(1)\n",
    "F_x = F.diff(x)\n",
    "F_y = F.diff(y)\n",
    "F_xx = F_x.diff(x)\n",
    "F_xy = F_x.diff(y)\n",
    "F_yy = F_y.diff(y)"
   ]
  },
  {
   "cell_type": "code",
   "execution_count": null,
   "id": "f150685e",
   "metadata": {},
   "outputs": [],
   "source": [
    "right_part_values[:, 0] = sympy.lambdify((x, y), F)(*points.T)\n",
    "right_part_values[:, 1] = sympy.lambdify((x, y), F_x)(*points.T)\n",
    "right_part_values[:, 2] = sympy.lambdify((x, y), F_y)(*points.T)\n",
    "right_part_values[:, 3] = sympy.lambdify((x, y), F_xx)(*points.T)\n",
    "right_part_values[:, 4] = sympy.lambdify((x, y), F_xy)(*points.T)\n",
    "right_part_values[:, 5] = sympy.lambdify((x, y), F_yy)(*points.T)"
   ]
  },
  {
   "cell_type": "markdown",
   "id": "a0c31f43",
   "metadata": {
    "tags": []
   },
   "source": [
    "### This is for Green's function"
   ]
  },
  {
   "cell_type": "code",
   "execution_count": null,
   "id": "cb6fcf65-d092-4a73-bb8e-eec9b30fffd1",
   "metadata": {},
   "outputs": [],
   "source": [
    "# right_part_values = get_delta_function(np.array([0, 0]), points, triangles, elem_normal, elem_tangential, global_elem_normal, global_elem_tangential, num_nodes, basis_integral_values)"
   ]
  },
  {
   "cell_type": "markdown",
   "id": "06600d1d",
   "metadata": {},
   "source": [
    "### Stiffnes matrix assembling"
   ]
  },
  {
   "cell_type": "code",
   "execution_count": null,
   "id": "23b72a49",
   "metadata": {
    "scrolled": true
   },
   "outputs": [],
   "source": [
    "matrix = np.zeros((NUM, NUM), dtype=np.float64)\n",
    "b = np.zeros((NUM),  dtype=np.float64)\n",
    "\n",
    "for idx, element in enumerate(tqdm(triangles)):\n",
    "#----------------P's----------------------------------------------------------------\n",
    "    x1, x2, x3 = points[element[0], 0], points[element[1], 0], points[element[2], 0]\n",
    "    y1, y2, y3 = points[element[0], 1], points[element[1], 1], points[element[2], 1]\n",
    "    \n",
    "    delta = x1*y2 - x1*y3 - x2*y1 + x2*y3 + x3*y1 - x3*y2\n",
    "    \n",
    "    P_1_x = (-y1 + y3) / delta\n",
    "    P_1_y = (+x1 - x3) / delta\n",
    "    \n",
    "    P_2_x = (+y1 - y2) / delta\n",
    "    P_2_y = (-x1 + x2) / delta\n",
    "#------------------------------------------------------------------------------------\n",
    "#----------------------Lengths-------------------------------------------------------\n",
    "    l1 = ((x2 - x3)**2 + (y2 - y3)**2)**0.5\n",
    "    l2 = ((x1 - x3)**2 + (y1 - y3)**2)**0.5\n",
    "    l3 = ((x1 - x2)**2 + (y1 - y2)**2)**0.5\n",
    "#------------------------------------------------------------------------------------\n",
    "#----------------------Jacobian------------------------------------------------------\n",
    "    J = np.array([\n",
    "                [P_1_x, P_1_y], \n",
    "                [P_2_x, P_2_y]\n",
    "                ])\n",
    "\n",
    "    J_inv_T = np.linalg.inv(J.T)\n",
    "#-----------------------------------------------------------------------------------\n",
    "#-----------------------nomal-and-tangential-vectors--------------------------------\n",
    "    n1 = elem_normal[idx, 3]\n",
    "    t1 = elem_tangential[idx, 3]\n",
    "    n2 = elem_normal[idx, 4]\n",
    "    t2 = elem_tangential[idx, 4]\n",
    "    n3 = elem_normal[idx, 5]\n",
    "    t3 = elem_tangential[idx, 5]\n",
    "    \n",
    "    DN_n1 = global_elem_normal[triangles[idx]][3]\n",
    "    DN_t1 = global_elem_tangential[triangles[idx]][3]\n",
    "    DN_n2 = global_elem_normal[triangles[idx]][4]\n",
    "    DN_t2 = global_elem_tangential[triangles[idx]][4]\n",
    "    DN_n3 = global_elem_normal[triangles[idx]][5]\n",
    "    DN_t3 = global_elem_tangential[triangles[idx]][5]\n",
    "#------------------------------------------------------------------------------------\n",
    "#------------------------G's---------------------------------------------------------\n",
    "    G1 = np.array([\n",
    "        [*n1],\n",
    "        [*t1]\n",
    "    ])\n",
    "    G2 = np.array([\n",
    "        [*n2],\n",
    "        [*t2]\n",
    "    ])\n",
    "    G3 = np.array([\n",
    "        [*n3],\n",
    "        [*t3]\n",
    "    ])\n",
    "    G1_hat = np.array([\n",
    "        [+np.sqrt(1/2), +np.sqrt(1/2)],\n",
    "        [-np.sqrt(1/2), +np.sqrt(1/2)],\n",
    "    ])\n",
    "    G2_hat = np.array([\n",
    "        [-1, +0],\n",
    "        [+0, -1],\n",
    "    ])\n",
    "    G3_hat = np.array([\n",
    "        [+0, -1],\n",
    "        [+1, +0]\n",
    "    ])\n",
    "    B1 = G1_hat @ J_inv_T @ G1.T\n",
    "    B2 = G2_hat @ J_inv_T @ G2.T\n",
    "    B3 = G3_hat @ J_inv_T @ G3.T                                                        \n",
    "    DN_G1 = np.array([\n",
    "        [*DN_n1],\n",
    "        [*DN_t1]\n",
    "    ])    \n",
    "    DN_G2 = np.array([\n",
    "        [*DN_n2],\n",
    "        [*DN_t2]\n",
    "    ])    \n",
    "    DN_G3 = np.array([\n",
    "        [*DN_n3],\n",
    "        [*DN_t3]\n",
    "    ])\n",
    "    DN_B1 = G1_hat @ J_inv_T @ DN_G1.T\n",
    "    DN_B2 = G2_hat @ J_inv_T @ DN_G2.T\n",
    "    DN_B3 = G3_hat @ J_inv_T @ DN_G3.T                                                            \n",
    "#------------------------------------------------------------------------------------\n",
    "#----------------------Theta---------------------------------------------------------\n",
    "    THETA = np.array([\n",
    "        [P_1_x**2, 2*P_1_x*P_2_x, P_2_x**2],\n",
    "        [P_1_y*P_1_x, P_1_y*P_2_x + P_1_x*P_2_y, P_2_x*P_2_y],\n",
    "        [P_1_y**2, 2*P_1_y*P_2_y, P_2_y**2],\n",
    "    ])\n",
    "#------------------------------------------------------------------------------------\n",
    "#-------------------------right-part-interp------------------------------------------\n",
    "    right_part_interp = [\n",
    "                        *right_part_values[element[0]],\n",
    "                        *right_part_values[element[1]],\n",
    "                        *right_part_values[element[2]],\n",
    "                        DN_n1@right_part_values[element[3]][1:3],\n",
    "                        DN_n2@right_part_values[element[4]][1:3],\n",
    "                        DN_n3@right_part_values[element[5]][1:3]\n",
    "                        ]\n",
    "#------------------------------------------------------------------------------------\n",
    "#--------------------args------------------------------------------------------------\n",
    "    args = [\n",
    "        *n1, *n2, *n3, \n",
    "        *t1, *t2, *t3,\n",
    "        l1, l2, l3,\n",
    "        *J.flatten(),\n",
    "        *THETA.flatten(),\n",
    "        *B1.flatten(),\n",
    "        *B2.flatten(),\n",
    "        *B3.flatten(),\n",
    "        *DN_B1.flatten(),\n",
    "        *DN_B2.flatten(),\n",
    "        *DN_B3.flatten(),\n",
    "        *right_part_interp\n",
    "       ]\n",
    "    vals = biharmonic_functional(*args)\n",
    "    vals_A = basis_integral_values(*args)\n",
    "#------------------------------------------------------------------------------------\n",
    "#---------------------------------------p1-------------------------------------------------------------------------------------------------\n",
    "    if vertex_maker_is_boundary[element[0]] == True:        \n",
    "        matrix[6 * element[0], 6 * element[0]] = 1        \n",
    "        for i in range(1, 6):\n",
    "            for j in range(3):\n",
    "                for k in range(6):\n",
    "                    matrix[6*element[0]+i, 6*element[j]+k] += 2 * vals[i, 6*j + k]                    \n",
    "                for k in range(3,6):\n",
    "                    matrix[6*element[0]+i, 6*num_nodes+(element[k]-num_nodes)] += 2 * vals[i, 18+(k-3)]         \n",
    "        b[6 * element[0]+0] = 0\n",
    "        b[6 * element[0]+1] += 2 * vals_A[1]\n",
    "        b[6 * element[0]+2] += 2 * vals_A[2]\n",
    "        b[6 * element[0]+3] += 2 * vals_A[3]\n",
    "        b[6 * element[0]+4] += 2 * vals_A[4]\n",
    "        b[6 * element[0]+5] += 2 * vals_A[5]    \n",
    "    else:        \n",
    "        for i in range(6):\n",
    "            for j in range(3):\n",
    "                for k in range(6):\n",
    "                    matrix[6*element[0]+i, 6*element[j]+k] += 2 * vals[i, 6*j + k]                     \n",
    "                for k in range(3,6):\n",
    "                    matrix[6*element[0]+i, 6*num_nodes+(element[k]-num_nodes)] += 2 * vals[i, 18 + (k-3)] \n",
    "        b[6 * element[0]+0] += 2 * vals_A[0]\n",
    "        b[6 * element[0]+1] += 2 * vals_A[1]\n",
    "        b[6 * element[0]+2] += 2 * vals_A[2]\n",
    "        b[6 * element[0]+3] += 2 * vals_A[3]\n",
    "        b[6 * element[0]+4] += 2 * vals_A[4]\n",
    "        b[6 * element[0]+5] += 2 * vals_A[5]\n",
    "#------------------------------------------------------------------------------------------------------------------------------------------     \n",
    "#---------------------------------------p2-------------------------------------------------------------------------------------------------\n",
    "    if vertex_maker_is_boundary[element[1]] == True:\n",
    "        matrix[6 * element[1], 6 * element[1]] = 1\n",
    "        for i in range(1, 6):\n",
    "            for j in range(3):\n",
    "                for k in range(6):\n",
    "                    matrix[6*element[1]+i, 6*element[j]+k] += 2 * vals[6 + i, 6*j + k] \n",
    "                for k in range(3,6):\n",
    "                    matrix[6*element[1]+i, 6*num_nodes+(element[k]-num_nodes)] += 2 * vals[6 + i, 18 + (k-3)]             \n",
    "        b[6 * element[1]+0] = 0\n",
    "        b[6 * element[1]+1] += 2 * vals_A[7 ]\n",
    "        b[6 * element[1]+2] += 2 * vals_A[8 ]\n",
    "        b[6 * element[1]+3] += 2 * vals_A[9 ]\n",
    "        b[6 * element[1]+4] += 2 * vals_A[10]\n",
    "        b[6 * element[1]+5] += 2 * vals_A[11]\n",
    "    else:\n",
    "        for i in range(6):\n",
    "            for j in range(3):\n",
    "                for k in range(6):\n",
    "                    matrix[6*element[1]+i, 6*element[j]+k] += 2 * vals[6 + i, 6*j + k]                     \n",
    "                for k in range(3,6):\n",
    "                    matrix[6*element[1]+i, 6*num_nodes+(element[k]-num_nodes)] += 2 * vals[6 + i, 18 + (k-3)]            \n",
    "        b[6 * element[1]+0] += 2 * vals_A[6 ]\n",
    "        b[6 * element[1]+1] += 2 * vals_A[7 ]\n",
    "        b[6 * element[1]+2] += 2 * vals_A[8 ]\n",
    "        b[6 * element[1]+3] += 2 * vals_A[9 ]\n",
    "        b[6 * element[1]+4] += 2 * vals_A[10]\n",
    "        b[6 * element[1]+5] += 2 * vals_A[11]\n",
    "#------------------------------------------------------------------------------------------------------------------------------------------\n",
    "#---------------------------------------p3-------------------------------------------------------------------------------------------------\n",
    "    if vertex_maker_is_boundary[element[2]] == True:        \n",
    "        matrix[6 * element[2], 6 * element[2]] = 1    \n",
    "        for i in range(1, 6):\n",
    "            for j in range(3):\n",
    "                for k in range(6):\n",
    "                    matrix[6*element[2]+i, 6*element[j]+k] += 2 * vals[12 + i, 6*j + k]                     \n",
    "                for k in range(3,6):\n",
    "                    matrix[6*element[2]+i, 6*num_nodes+(element[k]-num_nodes)] += 2 * vals[12 + i, 18 + (k-3)]\n",
    "        b[6 * element[2]+0] = 0\n",
    "        b[6 * element[2]+1] += 2 * vals_A[13]\n",
    "        b[6 * element[2]+2] += 2 * vals_A[14]\n",
    "        b[6 * element[2]+3] += 2 * vals_A[15]\n",
    "        b[6 * element[2]+4] += 2 * vals_A[16]\n",
    "        b[6 * element[2]+5] += 2 * vals_A[17]    \n",
    "    else:        \n",
    "        for i in range(6):\n",
    "            for j in range(3):\n",
    "                for k in range(6):\n",
    "                    matrix[6*element[2]+i, 6*element[j]+k] += 2 * vals[12 + i, 6*j + k] \n",
    "                for k in range(3,6):\n",
    "                    matrix[6*element[2]+i, 6*num_nodes+(element[k]-num_nodes)] += 2 * vals[12 + i, 18 + (k-3)]\n",
    "        b[6 * element[2]+0] += 2 * vals_A[12]\n",
    "        b[6 * element[2]+1] += 2 * vals_A[13]\n",
    "        b[6 * element[2]+2] += 2 * vals_A[14]\n",
    "        b[6 * element[2]+3] += 2 * vals_A[15]\n",
    "        b[6 * element[2]+4] += 2 * vals_A[16]\n",
    "        b[6 * element[2]+5] += 2 * vals_A[17]\n",
    "#------------------------------------------------------------------------------------------------------------------------------------------\n",
    "#--------------------------------------------m1--------------------------------------------------------------------------------------------\n",
    "    if vertex_maker_is_boundary[element[3]] == True:\n",
    "        matrix[6*num_nodes+(element[3]-num_nodes), 6*num_nodes+(element[3]-num_nodes)] = 1\n",
    "        b[6*num_nodes+(element[3]-num_nodes)] = 0\n",
    "    else:\n",
    "        for j in range(3):\n",
    "            for k in range(6):\n",
    "                matrix[6*num_nodes+(element[3]-num_nodes), 6*element[j]+k] += 2 * vals[18, 6*j + k] \n",
    "            for k in range(3,6):\n",
    "                matrix[6*num_nodes+(element[3]-num_nodes), 6*num_nodes+(element[k]-num_nodes)] += 2 * vals[18, 18 + (k-3)]\n",
    "        b[6*num_nodes+(element[3]-num_nodes)] += 2 * vals_A[18]\n",
    "#------------------------------------------------------------------------------------------------------------------------------------------\n",
    "#--------------------------------------------m2--------------------------------------------------------------------------------------------\n",
    "    if vertex_maker_is_boundary[element[4]] == True:\n",
    "        matrix[6*num_nodes+(element[4]-num_nodes), 6*num_nodes+(element[4]-num_nodes)] = 1\n",
    "        b[6*num_nodes+(element[4]-num_nodes)] = 0\n",
    "    else:\n",
    "        for j in range(3):\n",
    "            for k in range(6):\n",
    "                matrix[6*num_nodes+(element[4]-num_nodes), 6*element[j]+k] += 2 * vals[19, 6*j + k] \n",
    "            for k in range(3,6):\n",
    "                matrix[6*num_nodes+(element[4]-num_nodes), 6*num_nodes+(element[k]-num_nodes)] += 2 * vals[19, 18 + (k-3)]\n",
    "        b[6*num_nodes+(element[4]-num_nodes)] += 2 * vals_A[19] \n",
    "#------------------------------------------------------------------------------------------------------------------------------------------\n",
    "#--------------------------------------------m2--------------------------------------------------------------------------------------------\n",
    "    if vertex_maker_is_boundary[element[5]] == True:\n",
    "        matrix[6*num_nodes+(element[5]-num_nodes), 6*num_nodes+(element[5]-num_nodes)] = 1\n",
    "        b[6*num_nodes+(element[5]-num_nodes)] = 0\n",
    "    else:\n",
    "        for j in range(3):\n",
    "            for k in range(6):\n",
    "                matrix[6*num_nodes+(element[5]-num_nodes), 6*element[j]+k] += 2 * vals[20, 6*j + k] \n",
    "            for k in range(3,6):\n",
    "                matrix[6*num_nodes+(element[5]-num_nodes), 6*num_nodes+(element[k]-num_nodes)] += 2 * vals[20, 18 + (k-3)]\n",
    "        b[6*num_nodes+(element[5]-num_nodes)] += 2 * vals_A[20] \n",
    "#------------------------------------------------------------------------------------------------------------------------------------------"
   ]
  },
  {
   "cell_type": "markdown",
   "id": "eb763228-e506-4685-a023-1d1353c3d5b2",
   "metadata": {},
   "source": [
    "### Visualize stiffness matrix"
   ]
  },
  {
   "cell_type": "code",
   "execution_count": null,
   "id": "cb7aa1be",
   "metadata": {},
   "outputs": [],
   "source": [
    "# fig, ax = plt.subplots()\n",
    "# ax.imshow(matrix != 0)\n",
    "# plt.show()"
   ]
  },
  {
   "cell_type": "markdown",
   "id": "f94799da-8cc9-4c6a-b6d9-c346b0b095fd",
   "metadata": {},
   "source": [
    "### Solve the system"
   ]
  },
  {
   "cell_type": "code",
   "execution_count": null,
   "id": "523fcc1a",
   "metadata": {},
   "outputs": [],
   "source": [
    "c = np.linalg.solve(matrix, b)"
   ]
  },
  {
   "cell_type": "code",
   "execution_count": null,
   "id": "de944f66",
   "metadata": {},
   "outputs": [],
   "source": [
    "%matplotlib widget\n",
    "\n",
    "fig = plt.figure(figsize=(15, 15))\n",
    "ax = plt.axes(projection='3d')\n",
    "ax.set_xlabel('$X$', fontsize=20, rotation=150)\n",
    "ax.set_ylabel('$Y$', fontsize=20, rotation=0)\n",
    "ax.set_zlabel('$Z$', fontsize=30, rotation=0)\n",
    "\n",
    "_x_ = points[:num_nodes, 0]\n",
    "_y_ = points[:num_nodes, 1]\n",
    "\n",
    "F   = c[0:6*num_nodes:6]\n",
    "Fx  = c[1:6*num_nodes:6]\n",
    "Fy  = c[2:6*num_nodes:6]\n",
    "Fxx = c[3:6*num_nodes:6]\n",
    "Fxy = c[4:6*num_nodes:6]\n",
    "Fyy = c[5:6*num_nodes:6]\n",
    "Fn  = c[6*num_nodes:]\n",
    "\n",
    "org = (1-_x_**2-_y_**2)**2/64\n",
    "\n",
    "ax.plot_trisurf(_x_, _y_, F , \n",
    "                triangles=triangles[:, :3], \n",
    "                cmap=\"magma\",\n",
    "                )\n",
    "# ax.set_box_aspect((np.ptp(points[:, 0]), np.ptp(points[:, 1]), 200*np.ptp(F)))\n",
    "plt.show()"
   ]
  }
 ],
 "metadata": {
  "kernelspec": {
   "display_name": "Python 3 (ipykernel)",
   "language": "python",
   "name": "python3"
  },
  "language_info": {
   "codemirror_mode": {
    "name": "ipython",
    "version": 3
   },
   "file_extension": ".py",
   "mimetype": "text/x-python",
   "name": "python",
   "nbconvert_exporter": "python",
   "pygments_lexer": "ipython3",
   "version": "3.9.12"
  },
  "vscode": {
   "interpreter": {
    "hash": "6947a4b5a0ae6e24fd3646cdd9aef182ef077bcd4bc00eed2962db1fa1d6b308"
   }
  }
 },
 "nbformat": 4,
 "nbformat_minor": 5
}
