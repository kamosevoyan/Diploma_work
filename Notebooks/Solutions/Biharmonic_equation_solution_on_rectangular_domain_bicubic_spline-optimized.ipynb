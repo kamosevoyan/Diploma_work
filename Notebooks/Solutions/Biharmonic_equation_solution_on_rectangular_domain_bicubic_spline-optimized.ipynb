{
 "cells": [
  {
   "cell_type": "code",
   "execution_count": null,
   "id": "d9d085d9",
   "metadata": {},
   "outputs": [],
   "source": [
    "import matplotlib.pyplot as plt\n",
    "import numpy as np\n",
    "from tqdm import tqdm"
   ]
  },
  {
   "cell_type": "code",
   "execution_count": null,
   "id": "e0b973ad",
   "metadata": {},
   "outputs": [],
   "source": [
    "def pos(x):\n",
    "    y = x.copy()\n",
    "    y[x > 0] = x[x > 0]\n",
    "    y[x <= 0] = 0\n",
    "    return y"
   ]
  },
  {
   "cell_type": "code",
   "execution_count": null,
   "id": "e0635bd9",
   "metadata": {},
   "outputs": [],
   "source": [
    "def final_basis_normal(i, x, h, x_0):\n",
    "    a = pos((x - x_0) / h - (i - 2)) ** 3\n",
    "    b = 4 * pos((x - x_0) / h - (i - 1)) ** 3\n",
    "    c = 6 * pos((x - x_0) / h - (i - 0)) ** 3\n",
    "    d = 4 * pos((x - x_0) / h - (i + 1)) ** 3\n",
    "    e = pos((x - x_0) / h - (i + 2)) ** 3\n",
    "\n",
    "    f = 0.25 * (a - b + c - d + e)\n",
    "\n",
    "    return f"
   ]
  },
  {
   "cell_type": "markdown",
   "id": "cde43267",
   "metadata": {},
   "source": [
    "# Biharmonic equation solution"
   ]
  },
  {
   "cell_type": "code",
   "execution_count": null,
   "id": "4f281363",
   "metadata": {},
   "outputs": [],
   "source": [
    "x0 = 0\n",
    "xN = 1\n",
    "\n",
    "y0 = 0\n",
    "yN = 1\n",
    "\n",
    "Nx = 11\n",
    "Ny = 11\n",
    "\n",
    "X, h_1 = np.linspace(x0, xN, Nx, retstep=True)\n",
    "Y, h_2 = np.linspace(y0, yN, Ny, retstep=True)"
   ]
  },
  {
   "cell_type": "code",
   "execution_count": null,
   "id": "58d0ed60",
   "metadata": {},
   "outputs": [],
   "source": [
    "x = np.linspace(x0 - 2 * h_1, xN + 2 * h_1, 1000)\n",
    "y = np.linspace(y0 - 2 * h_2, yN + 2 * h_2, 1000)\n",
    "IX, IY = np.meshgrid(X, Y, indexing=\"xy\")\n",
    "\n",
    "n_points_x = X.shape[0]\n",
    "n_points_y = Y.shape[0]"
   ]
  },
  {
   "cell_type": "markdown",
   "id": "ec6d82fe",
   "metadata": {},
   "source": [
    "# Computed integrals"
   ]
  },
  {
   "cell_type": "code",
   "execution_count": null,
   "id": "00f90960",
   "metadata": {},
   "outputs": [],
   "source": [
    "x_axis_xx = np.array(\n",
    "    [\n",
    "        3 / 8 / h_1**4,\n",
    "        0,\n",
    "        -27 / 8 / h_1**4,\n",
    "        6 / h_1**4,\n",
    "        -27 / 8 / h_1**4,\n",
    "        0,\n",
    "        3 / 8 / h_1**4,\n",
    "    ]\n",
    ")\n",
    "y_axis_xx = np.array(\n",
    "    [1 / 2240, 3 / 56, 1991 / 2240, 151 / 140, 1991 / 2240, 3 / 56, 1 / 2240]\n",
    ")"
   ]
  },
  {
   "cell_type": "code",
   "execution_count": null,
   "id": "beb8a417",
   "metadata": {},
   "outputs": [],
   "source": [
    "x_axis_yy = np.array(\n",
    "    [1 / 2240, 3 / 56, 1991 / 2240, 151 / 140, 1991 / 2240, 3 / 56, 1 / 2240]\n",
    ")\n",
    "y_axis_yy = np.array(\n",
    "    [\n",
    "        3 / 8 / h_2**4,\n",
    "        0,\n",
    "        -27 / 8 / h_2**4,\n",
    "        6 / h_2**4,\n",
    "        -27 / 8 / h_2**4,\n",
    "        0,\n",
    "        3 / 8 / h_2**4,\n",
    "    ]\n",
    ")"
   ]
  },
  {
   "cell_type": "code",
   "execution_count": null,
   "id": "aed00a7c",
   "metadata": {},
   "outputs": [],
   "source": [
    "x_axis_xy = np.array(\n",
    "    [\n",
    "        -3 / 160 / h_1**2,\n",
    "        -9 / 20 / h_1**2,\n",
    "        -9 / 32 / h_1**2,\n",
    "        3 / 2 / h_1**2,\n",
    "        -9 / 32 / h_1**2,\n",
    "        -9 / 20 / h_1**2,\n",
    "        -3 / 160 / h_1**2,\n",
    "    ]\n",
    ")\n",
    "y_axis_xy = np.array(\n",
    "    [\n",
    "        -3 / 160 / h_2**2,\n",
    "        -9 / 20 / h_2**2,\n",
    "        -9 / 32 / h_2**2,\n",
    "        3 / 2 / h_2**2,\n",
    "        -9 / 32 / h_2**2,\n",
    "        -9 / 20 / h_2**2,\n",
    "        -3 / 160 / h_2**2,\n",
    "    ]\n",
    ")"
   ]
  },
  {
   "cell_type": "code",
   "execution_count": null,
   "id": "091f4fb8",
   "metadata": {},
   "outputs": [],
   "source": [
    "xx = np.outer(x_axis_xx, y_axis_xx)\n",
    "xy = np.outer(x_axis_xy, y_axis_xy)\n",
    "yy = np.outer(x_axis_yy, y_axis_yy)\n",
    "right = xx + 2 * xy + yy"
   ]
  },
  {
   "cell_type": "code",
   "execution_count": null,
   "id": "f8ee857d",
   "metadata": {
    "scrolled": false
   },
   "outputs": [],
   "source": [
    "matrix = np.zeros((n_points_y * n_points_x, n_points_y * n_points_x))\n",
    "b = np.zeros(n_points_y * n_points_x)\n",
    "\n",
    "f = np.ones_like(IX)\n",
    "\n",
    "for i in range(n_points_y * n_points_x):\n",
    "    idx = np.unravel_index(i, (n_points_y, n_points_x))\n",
    "    tmp = np.zeros((n_points_y, n_points_x))\n",
    "\n",
    "    i_sl_b, i_sl_e = max(0, idx[0] - 3), min(idx[0] + 4, n_points_y)\n",
    "    j_sl_b, j_sl_e = max(0, idx[1] - 3), min(idx[1] + 4, n_points_x)\n",
    "\n",
    "    if (idx[0] >= 3) and (idx[0] <= n_points_y - 4):\n",
    "        ri_sl_b = 0\n",
    "    elif idx[0] < 3:\n",
    "        ri_sl_b = 3 - idx[0]\n",
    "    else:\n",
    "        ri_sl_b = 0\n",
    "\n",
    "    if (idx[0] >= 3) and (idx[0] <= n_points_y - 4):\n",
    "        ri_sl_e = 7\n",
    "    elif idx[0] < 3:\n",
    "        ri_sl_e = 7\n",
    "    else:\n",
    "        ri_sl_e = n_points_y - idx[0] + 3\n",
    "\n",
    "    if (idx[1] >= 3) and (idx[1] <= n_points_x - 4):\n",
    "        rj_sl_b = 0\n",
    "    elif idx[1] < 3:\n",
    "        rj_sl_b = 3 - idx[1]\n",
    "    else:\n",
    "        rj_sl_b = 0\n",
    "\n",
    "    if (idx[1] >= 3) and (idx[1] <= n_points_x - 4):\n",
    "        rj_sl_e = 7\n",
    "    elif idx[1] < 3:\n",
    "        rj_sl_e = 7\n",
    "    else:\n",
    "        rj_sl_e = n_points_x - idx[1] + 3\n",
    "\n",
    "    tmp[i_sl_b:i_sl_e, j_sl_b:j_sl_e] = (\n",
    "        2 * right[ri_sl_b:ri_sl_e, rj_sl_b:rj_sl_e] * h_1 * h_2\n",
    "    )\n",
    "\n",
    "    matrix[i] = tmp.flatten()\n",
    "\n",
    "    b[i] = 2 * 3 / 2 * h_1 * 3 / 2 * h_2 * f[idx]"
   ]
  },
  {
   "cell_type": "code",
   "execution_count": null,
   "id": "49fa02ef",
   "metadata": {},
   "outputs": [],
   "source": [
    "C = np.linalg.solve(matrix, b).reshape(n_points_y, n_points_x)"
   ]
  },
  {
   "cell_type": "code",
   "execution_count": null,
   "id": "03b9a10c",
   "metadata": {},
   "outputs": [],
   "source": [
    "xx, yy = np.meshgrid(x, y, indexing=\"ij\")\n",
    "zz = np.zeros_like(xx)"
   ]
  },
  {
   "cell_type": "code",
   "execution_count": null,
   "id": "80c43385",
   "metadata": {},
   "outputs": [],
   "source": [
    "for i in tqdm(range(IY.shape[0])):\n",
    "    for j in range(IX.shape[1]):\n",
    "        y_part = final_basis_normal(i, y, h_2, y0)\n",
    "        x_part = final_basis_normal(j, x, h_1, x0)\n",
    "        zz = zz + C[i, j] * np.outer(x_part, y_part)"
   ]
  },
  {
   "cell_type": "code",
   "execution_count": null,
   "id": "94894c26",
   "metadata": {},
   "outputs": [],
   "source": [
    "%matplotlib widget\n",
    "fig, ax = plt.subplots(figsize=(6, 6))\n",
    "ax = plt.axes(projection=\"3d\")\n",
    "ax.plot_surface(xx, yy, zz, cmap=\"magma\")\n",
    "ax.tick_params(axis=\"both\", which=\"major\", labelsize=7)\n",
    "ax.set_title(f\"$h_{1}=h_{2}={h_1}$\")\n",
    "fig.tight_layout()\n",
    "plt.show()"
   ]
  }
 ],
 "metadata": {
  "kernelspec": {
   "display_name": "Python 3 (ipykernel)",
   "language": "python",
   "name": "python3"
  },
  "language_info": {
   "codemirror_mode": {
    "name": "ipython",
    "version": 3
   },
   "file_extension": ".py",
   "mimetype": "text/x-python",
   "name": "python",
   "nbconvert_exporter": "python",
   "pygments_lexer": "ipython3",
   "version": "3.9.12"
  }
 },
 "nbformat": 4,
 "nbformat_minor": 5
}
