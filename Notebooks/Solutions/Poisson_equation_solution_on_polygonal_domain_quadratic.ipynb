{
 "cells": [
  {
   "cell_type": "code",
   "execution_count": null,
   "id": "d77dd589",
   "metadata": {},
   "outputs": [],
   "source": [
    "import numpy as np\n",
    "import matplotlib.pyplot as plt\n",
    "import matplotlib.colors as mcolors\n",
    "import dill\n",
    "\n",
    "from tqdm import tqdm\n",
    "from triangle import triangulate\n",
    "from random import choice, sample"
   ]
  },
  {
   "cell_type": "markdown",
   "id": "69ae7294",
   "metadata": {},
   "source": [
    "### Load precomputed integrals"
   ]
  },
  {
   "cell_type": "code",
   "execution_count": null,
   "id": "e0ed5cdf",
   "metadata": {},
   "outputs": [],
   "source": [
    "F = dill.load(open(\"../calculations/poisson_quad\", \"rb\"))"
   ]
  },
  {
   "cell_type": "markdown",
   "id": "6688870c",
   "metadata": {},
   "source": [
    "### Initialize the domain"
   ]
  },
  {
   "cell_type": "code",
   "execution_count": null,
   "id": "f91988b0",
   "metadata": {},
   "outputs": [],
   "source": [
    "t = np.linspace(0, 2 * np.pi, 1000, endpoint=False)\n",
    "points = np.stack((np.cos(t), np.sin(t))).T\n",
    "seg = np.array(\n",
    "    [[j, j + 1] for j in range(points.shape[0] - 1)] + [[points.shape[0] - 1, 0]]\n",
    ")"
   ]
  },
  {
   "cell_type": "markdown",
   "id": "929f3e2a",
   "metadata": {},
   "source": [
    "### Run triangulation"
   ]
  },
  {
   "cell_type": "code",
   "execution_count": null,
   "id": "c5092c6f",
   "metadata": {},
   "outputs": [],
   "source": [
    "cndt = triangulate({\"vertices\": points, \"segments\": seg}, opts=\"Rpq30a0.1neo2\")\n",
    "points = cndt[\"vertices\"]\n",
    "triangles = cndt[\"triangles\"]\n",
    "neighbours = cndt[\"neighbors\"]\n",
    "vertice_maker_is_boundary = cndt[\"vertex_markers\"]\n",
    "print(f\"Total number of points {points.shape[0]}\")"
   ]
  },
  {
   "cell_type": "markdown",
   "id": "100947d6",
   "metadata": {},
   "source": [
    "### Visualize the triangulation"
   ]
  },
  {
   "cell_type": "code",
   "execution_count": null,
   "id": "f565dd32",
   "metadata": {},
   "outputs": [],
   "source": [
    "all_colors = (\n",
    "    list(mcolors.CSS4_COLORS.keys())\n",
    "    + list(mcolors.XKCD_COLORS.keys())\n",
    "    + list(mcolors.BASE_COLORS.keys())\n",
    ")\n",
    "colors = sample(all_colors, triangles.shape[0])\n",
    "\n",
    "%matplotlib inline\n",
    "fig, ax = plt.subplots(figsize=(5, 5))\n",
    "ax.axis(\"equal\")\n",
    "\n",
    "for index, triangle in enumerate(tqdm(points[triangles])):\n",
    "    t1 = plt.Polygon(triangle[:3], color=colors[index])\n",
    "    fig.gca().add_patch(t1)\n",
    "\n",
    "    x, y = triangle.mean(axis=0)\n",
    "\n",
    "\n",
    "ax.set_xlim([points[:, 0].min(), points[:, 0].max()])\n",
    "ax.set_ylim([points[:, 1].min(), points[:, 1].max()])\n",
    "\n",
    "fig.tight_layout()\n",
    "plt.show()"
   ]
  },
  {
   "cell_type": "code",
   "execution_count": null,
   "id": "021712b5",
   "metadata": {},
   "outputs": [],
   "source": [
    "matrix = np.zeros((points.shape[0], points.shape[0]))\n",
    "b = np.zeros(points.shape[0])\n",
    "\n",
    "for idx, element in enumerate(tqdm(triangles)):\n",
    "    x1, x2, x3 = points[element[0], 0], points[element[1], 0], points[element[2], 0]\n",
    "    y1, y2, y3 = points[element[0], 1], points[element[1], 1], points[element[2], 1]\n",
    "\n",
    "    delta = x1 * y2 - x1 * y3 - x2 * y1 + x2 * y3 + x3 * y1 - x3 * y2\n",
    "\n",
    "    P_1_x = (-y1 + y3) / delta\n",
    "    P_1_y = (+x1 - x3) / delta\n",
    "\n",
    "    P_2_x = (+y1 - y2) / delta\n",
    "    P_2_y = (-x1 + x2) / delta\n",
    "\n",
    "    arg = [P_1_x, P_2_x, P_1_y, P_2_y]\n",
    "\n",
    "    for local_point in range(6):\n",
    "        if vertice_maker_is_boundary[element[local_point]] == True:\n",
    "            matrix[element[local_point], element[local_point]] = 1\n",
    "            b[element[local_point]] *= 0\n",
    "        else:\n",
    "            for i in range(6):\n",
    "                matrix[element[local_point], element[i]] += 2 * F[f\"{local_point}_{i}\"](\n",
    "                    *arg\n",
    "                )\n",
    "            b[element[local_point]] -= 2 * F[f\"{local_point}\"](*arg)"
   ]
  },
  {
   "cell_type": "code",
   "execution_count": null,
   "id": "5b443da5",
   "metadata": {},
   "outputs": [],
   "source": [
    "c = np.linalg.solve(matrix, b)"
   ]
  },
  {
   "cell_type": "code",
   "execution_count": null,
   "id": "de944f66",
   "metadata": {
    "scrolled": true,
    "tags": []
   },
   "outputs": [],
   "source": [
    "%matplotlib widget\n",
    "fig = plt.figure(figsize=(6, 6))\n",
    "ax = plt.axes(projection=\"3d\")\n",
    "orig = (points[:, 0] ** 2 + points[:, 1] ** 2 - 1) / 4\n",
    "ax.plot_trisurf(points[:, 0], points[:, 1], c, cmap=\"magma\")\n",
    "plt.show()"
   ]
  }
 ],
 "metadata": {
  "kernelspec": {
   "display_name": "Python 3 (ipykernel)",
   "language": "python",
   "name": "python3"
  },
  "language_info": {
   "codemirror_mode": {
    "name": "ipython",
    "version": 3
   },
   "file_extension": ".py",
   "mimetype": "text/x-python",
   "name": "python",
   "nbconvert_exporter": "python",
   "pygments_lexer": "ipython3",
   "version": "3.9.12"
  }
 },
 "nbformat": 4,
 "nbformat_minor": 5
}
