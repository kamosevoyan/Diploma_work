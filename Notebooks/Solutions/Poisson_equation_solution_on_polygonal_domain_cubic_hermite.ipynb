{
 "cells": [
  {
   "cell_type": "code",
   "execution_count": null,
   "id": "d77dd589",
   "metadata": {},
   "outputs": [],
   "source": [
    "import numpy as np\n",
    "import matplotlib.pyplot as plt\n",
    "import matplotlib.colors as mcolors\n",
    "import dill\n",
    "from tqdm import tqdm\n",
    "from triangle import triangulate\n",
    "from random import choice, sample\n",
    "import sympy"
   ]
  },
  {
   "cell_type": "markdown",
   "id": "b8d7e9db",
   "metadata": {},
   "source": [
    "### Load precomputed integrals"
   ]
  },
  {
   "cell_type": "code",
   "execution_count": null,
   "id": "e0ed5cdf",
   "metadata": {},
   "outputs": [],
   "source": [
    "poisson_finctional = dill.load(open('../calculations/hermite_cubic_matrix', 'rb'))\n",
    "integral_values = dill.load(open('../calculations/hermite_cubic_right', 'rb'))"
   ]
  },
  {
   "cell_type": "markdown",
   "id": "9a38ee07",
   "metadata": {},
   "source": [
    "### Initialize the domain"
   ]
  },
  {
   "cell_type": "code",
   "execution_count": null,
   "id": "f91988b0",
   "metadata": {},
   "outputs": [],
   "source": [
    "t = np.linspace(0, 2*np.pi, 50, endpoint=False)\n",
    "points = np.stack((np.cos(t), np.sin(t))).T\n",
    "points = np.array([\n",
    "[0, 0],\n",
    "[3, 0],\n",
    "[3, 3],\n",
    "[2, 3],\n",
    "[2, 1],\n",
    "[1, 1],\n",
    "[1, 3],\n",
    "[0, 3]\n",
    "])\n",
    "seg = np.array([[j, j+1] for j in range(points.shape[0]-1)] + [[points.shape[0] - 1, 0]])"
   ]
  },
  {
   "cell_type": "markdown",
   "id": "fbdb3f64",
   "metadata": {},
   "source": [
    "### Run triangulation"
   ]
  },
  {
   "cell_type": "code",
   "execution_count": null,
   "id": "c5092c6f",
   "metadata": {},
   "outputs": [],
   "source": [
    "cndt = triangulate({'vertices':points, 'segments':seg}, opts='Rpq30a0.001neo1')\n",
    "points = cndt['vertices']\n",
    "triangles = cndt['triangles']\n",
    "neighbours = cndt['neighbors']\n",
    "vertice_maker_is_boundary = cndt[\"vertex_markers\"]\n",
    "print(f\"Total number of points {points.shape[0]}\")"
   ]
  },
  {
   "cell_type": "markdown",
   "id": "6cbada12",
   "metadata": {},
   "source": [
    "### Visualize the triangulation"
   ]
  },
  {
   "cell_type": "code",
   "execution_count": null,
   "id": "f565dd32",
   "metadata": {},
   "outputs": [],
   "source": [
    "all_colors = 100*list(mcolors.CSS4_COLORS.keys()) + list(mcolors.XKCD_COLORS.keys()) + list(mcolors.BASE_COLORS.keys())\n",
    "colors = sample(all_colors, triangles.shape[0])\n",
    "\n",
    "%matplotlib inline\n",
    "fig, ax = plt.subplots(figsize=(5, 5))\n",
    "ax.axis('equal')\n",
    "\n",
    "for index, triangle in enumerate(tqdm(points[triangles])):\n",
    "    t1 = plt.Polygon(triangle[:3], color=colors[index])\n",
    "    fig.gca().add_patch(t1)\n",
    "    x, y = triangle.mean(axis=0)\n",
    "    \n",
    "ax.set_xlim([points[:, 0].min(), points[:, 0].max()])\n",
    "ax.set_ylim([points[:, 1].min(), points[:, 1].max()])\n",
    "\n",
    "fig.tight_layout()\n",
    "plt.show()"
   ]
  },
  {
   "cell_type": "code",
   "execution_count": null,
   "id": "dd34b6c4",
   "metadata": {},
   "outputs": [],
   "source": [
    "x, y = sympy.symbols(\"x y\")"
   ]
  },
  {
   "cell_type": "code",
   "execution_count": null,
   "id": "b2730bcc",
   "metadata": {},
   "outputs": [],
   "source": [
    "right_part_values = np.zeros((points.shape[0], 3))"
   ]
  },
  {
   "cell_type": "code",
   "execution_count": null,
   "id": "8533b028",
   "metadata": {},
   "outputs": [],
   "source": [
    "F = 1*sympy.Float(1)\n",
    "F_x = F.diff(x)\n",
    "F_y = F.diff(y)"
   ]
  },
  {
   "cell_type": "code",
   "execution_count": null,
   "id": "ea23db17",
   "metadata": {},
   "outputs": [],
   "source": [
    "right_part_values[:, 0] = sympy.lambdify((x, y), F)(*points.T)\n",
    "right_part_values[:, 1] = sympy.lambdify((x, y), F_x)(*points.T)\n",
    "right_part_values[:, 2] = sympy.lambdify((x, y), F_y)(*points.T)"
   ]
  },
  {
   "cell_type": "code",
   "execution_count": null,
   "id": "021712b5",
   "metadata": {},
   "outputs": [],
   "source": [
    "matrix = np.zeros((3*points.shape[0], 3*points.shape[0]))\n",
    "b = np.zeros(3*points.shape[0])\n",
    "\n",
    "for idx, element in enumerate(tqdm(triangles)):\n",
    "        \n",
    "    x1, x2, x3 = points[element[0], 0], points[element[1], 0], points[element[2], 0]\n",
    "    y1, y2, y3 = points[element[0], 1], points[element[1], 1], points[element[2], 1]\n",
    "    \n",
    "    delta = x1*y2 - x1*y3 - x2*y1 + x2*y3 + x3*y1 - x3*y2\n",
    "    \n",
    "    P_1_x = (+y2 - y3) / delta\n",
    "    P_1_y = (-x2 + x3) / delta\n",
    "    \n",
    "    P_2_x = (+y3 - y1) / delta\n",
    "    P_2_y = (-x3 + x1) / delta\n",
    "    \n",
    "    arg = [P_1_x, P_1_y, P_2_x, P_2_y]\n",
    "    right = right_part_values[element].flatten()\n",
    "    \n",
    "    FF = poisson_finctional(*arg, *right)\n",
    "    ff = integral_values(*arg, *right)\n",
    "    \n",
    "    \n",
    "    for local_point in range(3):\n",
    "\n",
    "        if vertice_maker_is_boundary[element[local_point]] == True:\n",
    "            \n",
    "            matrix[3*element[local_point]+0, 3*element[local_point]+0] = 1\n",
    "            \n",
    "            for degree in range(1, 3):\n",
    "                for other_point in range(3):\n",
    "                    for other_degree in range(3):\n",
    "                        matrix[3*element[local_point]+degree, 3*element[other_point]+other_degree] += \\\n",
    "                        2 * FF[3*local_point + degree, 3*other_point + other_degree]\n",
    "            \n",
    "            b[3*element[local_point]+0] = 0 \n",
    "            b[3*element[local_point]+1] -= 2 * ff[3*local_point+1]\n",
    "            b[3*element[local_point]+2] -= 2 * ff[3*local_point+2]\n",
    "            \n",
    "        else:\n",
    "            for degree in range(3):\n",
    "                for other_point in range(3):\n",
    "                    for other_degree in range(3):\n",
    "                        matrix[3*element[local_point]+degree, 3*element[other_point]+other_degree] += \\\n",
    "                        2 * FF[3*local_point + degree, 3*other_point + other_degree]\n",
    "            \n",
    "            b[3*element[local_point]+0] -= 2 * ff[3*local_point+0]\n",
    "            b[3*element[local_point]+1] -= 2 * ff[3*local_point+1]\n",
    "            b[3*element[local_point]+2] -= 2 * ff[3*local_point+2]"
   ]
  },
  {
   "cell_type": "code",
   "execution_count": null,
   "id": "5b443da5",
   "metadata": {},
   "outputs": [],
   "source": [
    "c = np.linalg.solve(matrix, b)"
   ]
  },
  {
   "cell_type": "code",
   "execution_count": null,
   "id": "de944f66",
   "metadata": {
    "scrolled": false,
    "tags": []
   },
   "outputs": [],
   "source": [
    "%matplotlib widget\n",
    "fig = plt.figure(figsize=(9, 9))\n",
    "ax = plt.axes(projection='3d')\n",
    "orig = (points[:, 0]**2+points[:, 1]**2-1)/4\n",
    "\n",
    "F_approx = c[0::3]\n",
    "F_x_approx = c[1::3]\n",
    "F_y_approx = c[2::3]\n",
    "\n",
    "\n",
    "ax.plot_trisurf(points[:, 0], points[:, 1], F_approx,\n",
    "                cmap='magma',\n",
    "                triangles=triangles[:, :3], \n",
    ")\n",
    "plt.show()"
   ]
  }
 ],
 "metadata": {
  "kernelspec": {
   "display_name": "Python 3 (ipykernel)",
   "language": "python",
   "name": "python3"
  },
  "language_info": {
   "codemirror_mode": {
    "name": "ipython",
    "version": 3
   },
   "file_extension": ".py",
   "mimetype": "text/x-python",
   "name": "python",
   "nbconvert_exporter": "python",
   "pygments_lexer": "ipython3",
   "version": "3.9.12"
  }
 },
 "nbformat": 4,
 "nbformat_minor": 5
}
