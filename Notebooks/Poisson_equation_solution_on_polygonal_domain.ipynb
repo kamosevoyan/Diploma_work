{
    "cells": [
        {
            "cell_type": "code",
            "execution_count": null,
            "id": "d9aa3251",
            "metadata": {},
            "outputs": [],
            "source": [
                "import numpy as np\n",
                "from tqdm import tqdm\n",
                "import matplotlib.pyplot as plt\n",
                "from scipy.spatial import Delaunay\n",
                "from triangle import triangulate, plot as tplot, convex_hull, show_data, get_data"
            ]
        },
        {
            "cell_type": "code",
            "execution_count": null,
            "id": "b1a74ff4",
            "metadata": {},
            "outputs": [],
            "source": [
                "t = np.linspace(0, 2*np.pi, 40, endpoint=False)\n",
                "points = np.stack((np.cos(t), np.sin(t))).T"
            ]
        },
        {
            "cell_type": "code",
            "execution_count": null,
            "id": "c062ab15",
            "metadata": {},
            "outputs": [],
            "source": [
                "seg = np.array([[j, j+1] for j in range(points.shape[0]-1)] + [[points.shape[0] - 1, 0]])"
            ]
        },
        {
            "cell_type": "markdown",
            "id": "a326bcd6",
            "metadata": {},
            "source": ["# Mesh "]
        },
        {
            "cell_type": "code",
            "execution_count": null,
            "id": "31b552e5",
            "metadata": {},
            "outputs": [],
            "source": [
                "cndt = triangulate({'vertices':points, 'segments':seg}, opts='Rpq30a0.01ne')"
            ]
        },
        {
            "cell_type": "code",
            "execution_count": null,
            "id": "0dec65b5",
            "metadata": {},
            "outputs": [],
            "source": [
                "%matplotlib inline\n",
                "fig, ax = plt.subplots(figsize=(14, 14))\n",
                "ax = plt.subplot(111, aspect='equal')\n",
                "tplot(ax, **cndt)\n",
                "# fig.savefig('../images/circle_mesh')\n",
                "plt.show()"
            ]
        },
        {
            "cell_type": "code",
            "execution_count": null,
            "id": "4b527fd5",
            "metadata": {},
            "outputs": [],
            "source": [
                "points = cndt['vertices]\n",
                "triangles = cndt['triangles]\n",
                "neighbours = cndt['neighbors]\n",
                "triangles_s = points[triangles]\n",
                "triangles_c = triangles_s.reshape(-1, 2)"
            ]
        },
        {
            "cell_type": "code",
            "execution_count": null,
            "id": "da8da4f2",
            "metadata": {},
            "outputs": [],
            "source": [
                "tx = np.linspace(-1, 1, 200)\n",
                "ty = np.linspace(-1, 1, 200)\n",
                "xx, yy = np.meshgrid(tx, ty, indexing='xy')\n",
                "points_ = np.stack((xx, yy)).transpose(1, 2, 0)\n",
                "\n",
                "a = triangles_s[:, 0] - triangles_s[:, 1] \n",
                "b = triangles_s[:, 0] - triangles_s[:, 2] \n",
                "areas = np.abs(a[:, 0]*b[:, 1] - a[:, 1]*b[:, 0])"
            ]
        },
        {
            "cell_type": "code",
            "execution_count": null,
            "id": "88ea9c74",
            "metadata": {},
            "outputs": [],
            "source": [
                "a = (points_[...,] - triangles_s[:, 0, None, None])\n",
                "b = (points_[...,] - triangles_s[:, 1, None, None])\n",
                "c = (points_[...,] - triangles_s[:, 2, None, None])\n",
                "\n",
                "area1 = np.abs(a[..., 0] * b[..., 1] - a[..., 1] * b[..., 0])\n",
                "area2 = np.abs(a[..., 0] * c[..., 1] - a[..., 1] * c[..., 0])\n",
                "area3 = np.abs(b[..., 0] * c[..., 1] - b[..., 1] * c[..., 0])\n",
                "\n",
                "indices = np.where(np.isclose((area1+area2+area3).transpose(1, 2, 0), areas[None, None, ...]))"
            ]
        },
        {
            "cell_type": "markdown",
            "id": "1c458468",
            "metadata": {},
            "source": ["## Get boundary points"]
        },
        {
            "cell_type": "code",
            "execution_count": null,
            "id": "2bc1636a",
            "metadata": {},
            "outputs": [],
            "source": ["is_boundary_point = np.zeros(points.shape[0], dtype=bool)"]
        },
        {
            "cell_type": "code",
            "execution_count": null,
            "id": "82da4205",
            "metadata": {},
            "outputs": [],
            "source": [
                "for index, element in enumerate(triangles):\n",
                "    \n",
                "    if (neighbours[index] == -1).sum() == 2:\n",
                "        indices_ = np.where(neighbours[index] != -1)[0]\n",
                "        is_boundary_point[element] = True\n",
                "    elif (neighbours[index] == -1).sum() == 1:\n",
                "        indices_ = np.where(neighbours[index] != -1)[0]\n",
                "        is_boundary_point[element[indices_]] = True"
            ]
        },
        {
            "cell_type": "code",
            "execution_count": null,
            "id": "60ef5eb5",
            "metadata": {"scrolled": false},
            "outputs": [],
            "source": [
                "colors = ['red', 'blue', 'green', 'yellow', 'cyan', 'brown', 'orange', 'olive', 'gold', 'indigo', 'peru', 'maroon']\n",
                "l = len(colors)\n",
                "\n",
                "%matplotlib inline\n",
                "fig, ax = plt.subplots(figsize=(10, 10))\n",
                "ax.axis('equal')\n",
                "\n",
                "\n",
                "for index, triangle in enumerate(triangles_s):\n",
                "    t1 = plt.Polygon(triangle, color=colors[index%l])\n",
                "    fig.gca().add_patch(t1)\n",
                "    \n",
                "    x, y = triangle.mean(axis=0)\n",
                "    ax.text(x, y, s=f'{index}', fontsize=10)\n",
                "\n",
                "for idx, point in enumerate(points):\n",
                "    ax.text(x=point[0]+0.005, y=point[1]+0.05, s=f'{idx}', fontsize=5)\n",
                "    \n",
                "for idx, point in enumerate(points):\n",
                "    if is_boundary_point[idx]:\n",
                "        ax.scatter(point[0], point[1], color='black', lw=10, s=2)\n",
                "    else:\n",
                "        ax.scatter(point[0], point[1], color='black')\n",
                "        \n",
                "fig.tight_layout()\n",
                "plt.show()"
            ]
        },
        {
            "cell_type": "code",
            "execution_count": null,
            "id": "e6f864fd",
            "metadata": {},
            "outputs": [],
            "source": [
                "matrix = np.zeros((points.shape[0], points.shape[0]), dtype=np.float64)\n",
                "b = np.zeros(points.shape[0])\n",
                "f = np.ones(points.shape[0]) * 2\n",
                "# f = c\n",
                "\n",
                "for idx, element in enumerate(triangles):\n",
                "        \n",
                "    if is_boundary_point[element[0]] == True:\n",
                "        matrix[element[0], element[0]] = 1\n",
                "        b[element[0]] = 0\n",
                "    else:\n",
                "\n",
                "        matrix[element[0], element[0]] += 2 * (points[element[1], 1] - points[element[2], 1])*(points[element[1], 1] - points[element[2], 1]) / areas[idx]\n",
                "        matrix[element[0], element[1]] += 2 * (points[element[1], 1] - points[element[2], 1])*(points[element[2], 1] - points[element[0], 1]) / areas[idx]\n",
                "        matrix[element[0], element[2]] += 2 * (points[element[1], 1] - points[element[2], 1])*(points[element[0], 1] - points[element[1], 1]) / areas[idx]\n",
                "\n",
                "        matrix[element[0], element[0]] += 2 * (points[element[1], 0] - points[element[2], 0])*(points[element[1], 0] - points[element[2], 0]) / areas[idx]\n",
                "        matrix[element[0], element[1]] += 2 * (points[element[1], 0] - points[element[2], 0])*(points[element[2], 0] - points[element[0], 0]) / areas[idx]\n",
                "        matrix[element[0], element[2]] += 2 * (points[element[1], 0] - points[element[2], 0])*(points[element[0], 0] - points[element[1], 0]) / areas[idx]\n",
                "\n",
                "        b[element[0]] -= 2 * areas[idx] / 3 * f[element[0]]\n",
                "\n",
                "    if is_boundary_point[element[1]] == True:\n",
                "        matrix[element[1], element[1]] = 1\n",
                "        b[element[1]] *= 0\n",
                "    else:\n",
                "\n",
                "        matrix[element[1], element[0]] += 2 * (points[element[2], 1] - points[element[0], 1])*(points[element[1], 1] - points[element[2], 1]) / areas[idx]\n",
                "        matrix[element[1], element[1]] += 2 * (points[element[2], 1] - points[element[0], 1])*(points[element[2], 1] - points[element[0], 1]) / areas[idx]\n",
                "        matrix[element[1], element[2]] += 2 * (points[element[2], 1] - points[element[0], 1])*(points[element[0], 1] - points[element[1], 1]) / areas[idx]\n",
                "\n",
                "        matrix[element[1], element[0]] += 2 * (points[element[2], 0] - points[element[0], 0])*(points[element[1], 0] - points[element[2], 0]) / areas[idx]\n",
                "        matrix[element[1], element[1]] += 2 * (points[element[2], 0] - points[element[0], 0])*(points[element[2], 0] - points[element[0], 0]) / areas[idx]\n",
                "        matrix[element[1], element[2]] += 2 * (points[element[2], 0] - points[element[0], 0])*(points[element[0], 0] - points[element[1], 0]) / areas[idx]\n",
                "\n",
                "        b[element[1]] -= 2 * areas[idx] / 3 * f[element[0]]\n",
                "\n",
                "    if is_boundary_point[element[2]] == True:\n",
                "        matrix[element[2], element[2]] = 1\n",
                "        b[element[2]] *= 0\n",
                "    else:\n",
                "        \n",
                "        matrix[element[2], element[0]] += 2 * (points[element[0], 1] - points[element[1], 1])*(points[element[1], 1] - points[element[2], 1]) / areas[idx]\n",
                "        matrix[element[2], element[1]] += 2 * (points[element[0], 1] - points[element[1], 1])*(points[element[2], 1] - points[element[0], 1]) / areas[idx]\n",
                "        matrix[element[2], element[2]] += 2 * (points[element[0], 1] - points[element[1], 1])*(points[element[0], 1] - points[element[1], 1]) / areas[idx]\n",
                "\n",
                "        matrix[element[2], element[0]] += 2 * (points[element[0], 0] - points[element[1], 0])*(points[element[1], 0] - points[element[2], 0]) / areas[idx]\n",
                "        matrix[element[2], element[1]] += 2 * (points[element[0], 0] - points[element[1], 0])*(points[element[2], 0] - points[element[0], 0]) / areas[idx]\n",
                "        matrix[element[2], element[2]] += 2 * (points[element[0], 0] - points[element[1], 0])*(points[element[0], 0] - points[element[1], 0]) / areas[idx]\n",
                "    \n",
                "        b[element[2]] -= 2 * areas[idx] / 3 * f[element[0]]"
            ]
        },
        {
            "cell_type": "code",
            "execution_count": null,
            "id": "f9c6b95f",
            "metadata": {},
            "outputs": [],
            "source": ["c = np.linalg.solve(matrix, b)"]
        },
        {
            "cell_type": "code",
            "execution_count": null,
            "id": "69fd8dd6",
            "metadata": {},
            "outputs": [],
            "source": [
                "S = np.zeros(xx.shape)\n",
                "for j in range(3):\n",
                "    nom = np.abs(np.linalg.det(np.concatenate((np.ones((indices[0].shape[0], 3, 1)), np.concatenate((triangles_s[indices[-1]][:, np.arange(3)!=j, :], points_[indices[:-1]][:, None]), axis=1)), axis=-1)))\n",
                "    S[indices[:-1]] += c[triangles][indices[-1]][:,j] * nom / areas[indices[-1]]"
            ]
        },
        {
            "cell_type": "code",
            "execution_count": null,
            "id": "bad9fb75",
            "metadata": {"scrolled": false},
            "outputs": [],
            "source": [
                "%matplotlib widget\n",
                "fig = plt.figure(figsize=(10, 10))\n",
                "ax = plt.axes(projection='3d')\n",
                "ax.xaxis.set_tick_params(labelsize=30)\n",
                "ax.yaxis.set_tick_params(labelsize=30)\n",
                "ax.zaxis.set_tick_params(labelsize=30)\n",
                "\n",
                "ax.plot_wireframe(xx, yy, S, color='black')\n",
                "ax.set_box_aspect((np.ptp(xx), np.ptp(yy), 2 * np.ptp(c)))\n",
                "\n",
                "fig.tight_layout()\n",
                "# fig.savefig('../images/poisson_equation_on_unit_circle_solution')\n",
                "plt.show()"
            ]
        },
        {
            "cell_type": "code",
            "execution_count": null,
            "id": "bd7ff26e",
            "metadata": {},
            "outputs": [],
            "source": [
                "%matplotlib inline\n",
                "fig, ax = plt.subplots(figsize=(10, 10))\n",
                "ax.imshow(S)\n",
                "plt.show()"
            ]
        },
        {
            "cell_type": "code",
            "execution_count": null,
            "id": "8d5686a8",
            "metadata": {"scrolled": false},
            "outputs": [],
            "source": [
                "%matplotlib inline\n",
                "fig, ax = plt.subplots(figsize=(10, 10))\n",
                "ax.imshow(matrix != 0)\n",
                "plt.show()"
            ]
        }
    ],
    "metadata": {
        "kernelspec": {
            "display_name": "Python 3 (ipykernel)",
            "language": "python",
            "name": "python3"
        },
        "language_info": {
            "codemirror_mode": {"name": "ipython", "version": 3},
            "file_extension": ".py",
            "mimetype": "text/x-python",
            "name": "python",
            "nbconvert_exporter": "python",
            "pygments_lexer": "ipython3",
            "version": "3.9.12"
        }
    },
    "nbformat": 4,
    "nbformat_minor": 5
}
