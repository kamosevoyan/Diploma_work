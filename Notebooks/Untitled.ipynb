{
 "cells": [
  {
   "cell_type": "code",
   "execution_count": 1,
   "id": "f08b13c7",
   "metadata": {},
   "outputs": [],
   "source": [
    "import sympy"
   ]
  },
  {
   "cell_type": "code",
   "execution_count": 2,
   "id": "12b69267",
   "metadata": {},
   "outputs": [],
   "source": [
    "x, y, x_1, y_1, x_2, y_2, x_3, y_3 = sympy.symbols(\"x y x_1 y_1 x_2 y_2 x_3 y_3\")"
   ]
  },
  {
   "cell_type": "code",
   "execution_count": 3,
   "id": "bc9fbec8",
   "metadata": {},
   "outputs": [],
   "source": [
    "S2 = (x_2-x_1)*(y_3-y_1)-(y_2-y_1)*(x_3-x_1)"
   ]
  },
  {
   "cell_type": "code",
   "execution_count": 4,
   "id": "365ec5ee",
   "metadata": {},
   "outputs": [],
   "source": [
    "p_1 = (x_2*y_3 - y_2*x_3 + x*(y_2-y_3)-y*(x_2-x_3))/S2"
   ]
  },
  {
   "cell_type": "code",
   "execution_count": 5,
   "id": "dfa93ad4",
   "metadata": {},
   "outputs": [],
   "source": [
    "p_2 = (x_3*y_1 - y_3*x_1 + x*(y_3-y_1)-y*(x_3-x_1))/S2"
   ]
  },
  {
   "cell_type": "code",
   "execution_count": 6,
   "id": "62909b2c",
   "metadata": {},
   "outputs": [],
   "source": [
    "p_3 = (x_1*y_2 - y_1*x_2 + x*(y_1-y_2)-y*(x_1-x_2))/S2"
   ]
  },
  {
   "cell_type": "code",
   "execution_count": 7,
   "id": "3d715329",
   "metadata": {},
   "outputs": [],
   "source": [
    "phi_1_0_0 = p_1**2*(10*p_1 - 15*p_1**2+6*p_1**2+15*p_2*p_3)\n",
    "phi_2_0_0 = p_2**2*(10*p_2 - 15*p_2**2+6*p_2**2+15*p_1*p_3)\n",
    "phi_3_0_0 = p_3**2*(10*p_3 - 15*p_3**2+6*p_3**2+30*p_1*p_2*(p_1 + p_2))"
   ]
  },
  {
   "cell_type": "code",
   "execution_count": null,
   "id": "dacae03c",
   "metadata": {},
   "outputs": [],
   "source": [
    "phi_1_1_0 = p_1*(-4*p_1 + 7*p_1**2 - 3*p_1**3 - 15/2*p_2**2*p_3)\n",
    "phi_2_1_0 = p_1*p_2**2*(3 - 2*p_2 + 3/2*p_1 - 3/2*p_1**2 + 3/2*p_1*p_2)\n",
    "phi_3_1_0 = p_1*p_3**2*(3-2*p_3-3*p_1**2+6*p_1*p_2)"
   ]
  },
  {
   "cell_type": "code",
   "execution_count": null,
   "id": "2247b888",
   "metadata": {},
   "outputs": [],
   "source": [
    "(sympy.diff(phi_1_0_0, x, x)**2).simplify()"
   ]
  },
  {
   "cell_type": "code",
   "execution_count": null,
   "id": "aac35eb6",
   "metadata": {},
   "outputs": [],
   "source": []
  },
  {
   "cell_type": "code",
   "execution_count": null,
   "id": "6a268170",
   "metadata": {},
   "outputs": [],
   "source": []
  },
  {
   "cell_type": "code",
   "execution_count": null,
   "id": "6b4cad48",
   "metadata": {},
   "outputs": [],
   "source": []
  },
  {
   "cell_type": "code",
   "execution_count": null,
   "id": "cfa44b9e",
   "metadata": {},
   "outputs": [],
   "source": []
  },
  {
   "cell_type": "code",
   "execution_count": null,
   "id": "6580de02",
   "metadata": {},
   "outputs": [],
   "source": []
  },
  {
   "cell_type": "code",
   "execution_count": null,
   "id": "a108c4fa",
   "metadata": {},
   "outputs": [],
   "source": [
    "P_1 = p_1*(2*p_1 - 1)"
   ]
  },
  {
   "cell_type": "code",
   "execution_count": null,
   "id": "3fb0792e",
   "metadata": {},
   "outputs": [],
   "source": [
    "P_2 = p_2*(2*p_2 - 1)"
   ]
  },
  {
   "cell_type": "code",
   "execution_count": null,
   "id": "fa64f0b7",
   "metadata": {},
   "outputs": [],
   "source": [
    "P_3 = p_3*(2*p_3 - 1)"
   ]
  },
  {
   "cell_type": "code",
   "execution_count": null,
   "id": "e2ef84fa",
   "metadata": {},
   "outputs": [],
   "source": [
    "P_4 = 4*p_1*p_2"
   ]
  },
  {
   "cell_type": "code",
   "execution_count": null,
   "id": "b1dff77e",
   "metadata": {},
   "outputs": [],
   "source": [
    "P_5 = 4*p_2*p_3"
   ]
  },
  {
   "cell_type": "code",
   "execution_count": null,
   "id": "ac3df07d",
   "metadata": {},
   "outputs": [],
   "source": [
    "P_6 = 4*p_3*p_1"
   ]
  },
  {
   "cell_type": "code",
   "execution_count": null,
   "id": "8eb6f78a",
   "metadata": {},
   "outputs": [],
   "source": []
  },
  {
   "cell_type": "code",
   "execution_count": null,
   "id": "d72da6c2",
   "metadata": {},
   "outputs": [],
   "source": []
  },
  {
   "cell_type": "code",
   "execution_count": null,
   "id": "74b1d186",
   "metadata": {},
   "outputs": [],
   "source": []
  },
  {
   "cell_type": "code",
   "execution_count": null,
   "id": "b5f1401e",
   "metadata": {},
   "outputs": [],
   "source": []
  },
  {
   "cell_type": "code",
   "execution_count": null,
   "id": "2ce8d2d8",
   "metadata": {},
   "outputs": [],
   "source": []
  },
  {
   "cell_type": "code",
   "execution_count": null,
   "id": "be4bbcfa",
   "metadata": {},
   "outputs": [],
   "source": [
    "sympy.diff(P_1, x, x)*sympy.diff(P_1, x, x)"
   ]
  },
  {
   "cell_type": "code",
   "execution_count": null,
   "id": "e61f2a65",
   "metadata": {},
   "outputs": [],
   "source": [
    "2 * sympy.diff(P_1, x, y)*sympy.diff(P_1, x, y)"
   ]
  },
  {
   "cell_type": "code",
   "execution_count": null,
   "id": "6c902113",
   "metadata": {},
   "outputs": [],
   "source": [
    "sympy.diff(P_1, y, y)*sympy.diff(P_1, y, y)"
   ]
  },
  {
   "cell_type": "code",
   "execution_count": null,
   "id": "a136aa7a",
   "metadata": {},
   "outputs": [],
   "source": []
  },
  {
   "cell_type": "code",
   "execution_count": null,
   "id": "86092678",
   "metadata": {},
   "outputs": [],
   "source": [
    "sympy.diff(P_1, x, x) * sympy.diff(P_2, x, x)"
   ]
  },
  {
   "cell_type": "code",
   "execution_count": null,
   "id": "aa564657",
   "metadata": {},
   "outputs": [],
   "source": [
    "2 * sympy.diff(P_1, x, y) * sympy.diff(P_2, x, y)"
   ]
  },
  {
   "cell_type": "code",
   "execution_count": null,
   "id": "06f9bec8",
   "metadata": {},
   "outputs": [],
   "source": [
    "sympy.diff(P_1, y, y) * sympy.diff(P_2, y, y)"
   ]
  },
  {
   "cell_type": "code",
   "execution_count": null,
   "id": "4ba62ba7",
   "metadata": {},
   "outputs": [],
   "source": []
  },
  {
   "cell_type": "code",
   "execution_count": null,
   "id": "09f5857e",
   "metadata": {},
   "outputs": [],
   "source": [
    "sympy.diff(P_1, x, x) * sympy.diff(P_3, x, x)"
   ]
  },
  {
   "cell_type": "code",
   "execution_count": null,
   "id": "913c1273",
   "metadata": {},
   "outputs": [],
   "source": [
    "2 * sympy.diff(P_1, x, y) * sympy.diff(P_3, x, y)"
   ]
  },
  {
   "cell_type": "code",
   "execution_count": null,
   "id": "5379494f",
   "metadata": {},
   "outputs": [],
   "source": [
    "sympy.diff(P_1, y, y) * sympy.diff(P_3, y, y)"
   ]
  },
  {
   "cell_type": "code",
   "execution_count": null,
   "id": "a8ca46ee",
   "metadata": {},
   "outputs": [],
   "source": []
  },
  {
   "cell_type": "code",
   "execution_count": null,
   "id": "3c7515ab",
   "metadata": {},
   "outputs": [],
   "source": [
    "sympy.diff(P_1, x, x) * sympy.diff(P_4, x, x)"
   ]
  },
  {
   "cell_type": "code",
   "execution_count": null,
   "id": "e3c457fd",
   "metadata": {},
   "outputs": [],
   "source": [
    "2 * sympy.diff(P_1, x, y) * sympy.diff(P_4, x, y)"
   ]
  },
  {
   "cell_type": "code",
   "execution_count": null,
   "id": "4bb4f378",
   "metadata": {},
   "outputs": [],
   "source": [
    "sympy.diff(P_1, y, y) * sympy.diff(P_4, y, y)"
   ]
  },
  {
   "cell_type": "code",
   "execution_count": null,
   "id": "53f09468",
   "metadata": {},
   "outputs": [],
   "source": []
  },
  {
   "cell_type": "code",
   "execution_count": null,
   "id": "f5bcb45a",
   "metadata": {},
   "outputs": [],
   "source": [
    "sympy.diff(P_1, x, x) * sympy.diff(P_5, x, x)"
   ]
  },
  {
   "cell_type": "code",
   "execution_count": null,
   "id": "2044fa60",
   "metadata": {},
   "outputs": [],
   "source": [
    "2 * sympy.diff(P_1, x, y) * sympy.diff(P_5, x, y)"
   ]
  },
  {
   "cell_type": "code",
   "execution_count": null,
   "id": "005187ee",
   "metadata": {},
   "outputs": [],
   "source": [
    "sympy.diff(P_1, y, y) * sympy.diff(P_5, y, y)"
   ]
  },
  {
   "cell_type": "code",
   "execution_count": null,
   "id": "03227315",
   "metadata": {},
   "outputs": [],
   "source": []
  },
  {
   "cell_type": "code",
   "execution_count": null,
   "id": "95e798ca",
   "metadata": {},
   "outputs": [],
   "source": [
    "sympy.diff(P_1, x, x) * sympy.diff(P_6, x, x)"
   ]
  },
  {
   "cell_type": "code",
   "execution_count": null,
   "id": "210fed6b",
   "metadata": {},
   "outputs": [],
   "source": [
    "2 * sympy.diff(P_1, x, y) * sympy.diff(P_6, x, y)"
   ]
  },
  {
   "cell_type": "code",
   "execution_count": null,
   "id": "e6affd28",
   "metadata": {},
   "outputs": [],
   "source": [
    "sympy.diff(P_1, y, y) * sympy.diff(P_6, y, y)"
   ]
  },
  {
   "cell_type": "code",
   "execution_count": null,
   "id": "bacb5c24",
   "metadata": {},
   "outputs": [],
   "source": []
  },
  {
   "cell_type": "code",
   "execution_count": null,
   "id": "65155440",
   "metadata": {},
   "outputs": [],
   "source": []
  },
  {
   "cell_type": "code",
   "execution_count": null,
   "id": "94d24625",
   "metadata": {},
   "outputs": [],
   "source": []
  },
  {
   "cell_type": "code",
   "execution_count": null,
   "id": "0f7cd1ef",
   "metadata": {},
   "outputs": [],
   "source": []
  },
  {
   "cell_type": "code",
   "execution_count": null,
   "id": "67da7184",
   "metadata": {},
   "outputs": [],
   "source": []
  },
  {
   "cell_type": "code",
   "execution_count": null,
   "id": "5a43a78c",
   "metadata": {},
   "outputs": [],
   "source": []
  },
  {
   "cell_type": "code",
   "execution_count": null,
   "id": "54225037",
   "metadata": {},
   "outputs": [],
   "source": []
  },
  {
   "cell_type": "code",
   "execution_count": null,
   "id": "659a4dd4",
   "metadata": {},
   "outputs": [],
   "source": []
  },
  {
   "cell_type": "code",
   "execution_count": null,
   "id": "9d3cc7e5",
   "metadata": {},
   "outputs": [],
   "source": []
  },
  {
   "cell_type": "code",
   "execution_count": null,
   "id": "6c391d4c",
   "metadata": {},
   "outputs": [],
   "source": []
  },
  {
   "cell_type": "code",
   "execution_count": null,
   "id": "dd1de06f",
   "metadata": {},
   "outputs": [],
   "source": []
  },
  {
   "cell_type": "code",
   "execution_count": null,
   "id": "68e48e34",
   "metadata": {},
   "outputs": [],
   "source": []
  },
  {
   "cell_type": "code",
   "execution_count": null,
   "id": "fabf8046",
   "metadata": {},
   "outputs": [],
   "source": [
    "sympy.diff(P_2, x, x) * sympy.diff(P_1, x, x)"
   ]
  },
  {
   "cell_type": "code",
   "execution_count": null,
   "id": "cfabf93d",
   "metadata": {},
   "outputs": [],
   "source": [
    "2 * sympy.diff(P_1, x, y) * sympy.diff(P_2, x, y)"
   ]
  },
  {
   "cell_type": "code",
   "execution_count": null,
   "id": "e0412d5b",
   "metadata": {},
   "outputs": [],
   "source": [
    "sympy.diff(P_1, y, y) * sympy.diff(P_2, y, y)"
   ]
  },
  {
   "cell_type": "code",
   "execution_count": null,
   "id": "12628a8c",
   "metadata": {},
   "outputs": [],
   "source": []
  },
  {
   "cell_type": "code",
   "execution_count": null,
   "id": "be1d4fc3",
   "metadata": {},
   "outputs": [],
   "source": [
    "sympy.diff(P_2, x, x) * sympy.diff(P_2, x, x)"
   ]
  },
  {
   "cell_type": "code",
   "execution_count": null,
   "id": "864123f2",
   "metadata": {},
   "outputs": [],
   "source": [
    "2 * sympy.diff(P_2, x, y) * sympy.diff(P_2, x, y)"
   ]
  },
  {
   "cell_type": "code",
   "execution_count": null,
   "id": "54ef6076",
   "metadata": {},
   "outputs": [],
   "source": [
    "sympy.diff(P_2, y, y) * sympy.diff(P_2, y, y)"
   ]
  },
  {
   "cell_type": "code",
   "execution_count": null,
   "id": "47a4fce4",
   "metadata": {},
   "outputs": [],
   "source": []
  },
  {
   "cell_type": "code",
   "execution_count": null,
   "id": "be92b512",
   "metadata": {},
   "outputs": [],
   "source": [
    "sympy.diff(P_2, x, x) * sympy.diff(P_3, x, x)"
   ]
  },
  {
   "cell_type": "code",
   "execution_count": null,
   "id": "e301e1c7",
   "metadata": {},
   "outputs": [],
   "source": [
    "2 * sympy.diff(P_2, x, y) * sympy.diff(P_3, x, y)"
   ]
  },
  {
   "cell_type": "code",
   "execution_count": null,
   "id": "2ba0bc5c",
   "metadata": {},
   "outputs": [],
   "source": [
    "sympy.diff(P_2, y, y) * sympy.diff(P_3, y, y)"
   ]
  },
  {
   "cell_type": "code",
   "execution_count": null,
   "id": "1eba5405",
   "metadata": {},
   "outputs": [],
   "source": []
  },
  {
   "cell_type": "code",
   "execution_count": null,
   "id": "58bde259",
   "metadata": {},
   "outputs": [],
   "source": [
    "sympy.diff(P_2, x, x) * sympy.diff(P_4, x, x)"
   ]
  },
  {
   "cell_type": "code",
   "execution_count": null,
   "id": "7ac5ee12",
   "metadata": {},
   "outputs": [],
   "source": [
    "2 * sympy.diff(P_2, x, y) * sympy.diff(P_4, x, y)"
   ]
  },
  {
   "cell_type": "code",
   "execution_count": null,
   "id": "4d8d9a3d",
   "metadata": {},
   "outputs": [],
   "source": [
    "sympy.diff(P_2, y, y) * sympy.diff(P_4, y, y)"
   ]
  },
  {
   "cell_type": "code",
   "execution_count": null,
   "id": "c9ec4ca1",
   "metadata": {},
   "outputs": [],
   "source": []
  },
  {
   "cell_type": "code",
   "execution_count": null,
   "id": "6e1faf34",
   "metadata": {},
   "outputs": [],
   "source": [
    "sympy.diff(P_2, x, x) * sympy.diff(P_5, x, x)"
   ]
  },
  {
   "cell_type": "code",
   "execution_count": null,
   "id": "94e2f9f1",
   "metadata": {},
   "outputs": [],
   "source": [
    "2 * sympy.diff(P_2, x, y) * sympy.diff(P_5, x, y)"
   ]
  },
  {
   "cell_type": "code",
   "execution_count": null,
   "id": "37c05681",
   "metadata": {},
   "outputs": [],
   "source": [
    "sympy.diff(P_2, y, y) * sympy.diff(P_5, y, y)"
   ]
  },
  {
   "cell_type": "code",
   "execution_count": null,
   "id": "891d5387",
   "metadata": {},
   "outputs": [],
   "source": []
  },
  {
   "cell_type": "code",
   "execution_count": null,
   "id": "ac06c618",
   "metadata": {},
   "outputs": [],
   "source": [
    "sympy.diff(P_2, x, x) * sympy.diff(P_6, x, x)"
   ]
  },
  {
   "cell_type": "code",
   "execution_count": null,
   "id": "ce10e63d",
   "metadata": {},
   "outputs": [],
   "source": [
    "2 * sympy.diff(P_2, x, y) * sympy.diff(P_6, x, y)"
   ]
  },
  {
   "cell_type": "code",
   "execution_count": null,
   "id": "75abb54c",
   "metadata": {},
   "outputs": [],
   "source": [
    "sympy.diff(P_2, y, y) * sympy.diff(P_6, y, y)"
   ]
  },
  {
   "cell_type": "code",
   "execution_count": null,
   "id": "b78dafeb",
   "metadata": {},
   "outputs": [],
   "source": []
  },
  {
   "cell_type": "code",
   "execution_count": null,
   "id": "d42d8422",
   "metadata": {},
   "outputs": [],
   "source": []
  },
  {
   "cell_type": "code",
   "execution_count": null,
   "id": "e5e28e92",
   "metadata": {},
   "outputs": [],
   "source": []
  },
  {
   "cell_type": "code",
   "execution_count": null,
   "id": "f9387262",
   "metadata": {},
   "outputs": [],
   "source": []
  },
  {
   "cell_type": "code",
   "execution_count": null,
   "id": "ad660283",
   "metadata": {},
   "outputs": [],
   "source": []
  },
  {
   "cell_type": "code",
   "execution_count": null,
   "id": "dc591352",
   "metadata": {},
   "outputs": [],
   "source": []
  },
  {
   "cell_type": "code",
   "execution_count": null,
   "id": "d93d7994",
   "metadata": {},
   "outputs": [],
   "source": []
  },
  {
   "cell_type": "code",
   "execution_count": null,
   "id": "1391792e",
   "metadata": {},
   "outputs": [],
   "source": []
  },
  {
   "cell_type": "code",
   "execution_count": null,
   "id": "d700d83d",
   "metadata": {},
   "outputs": [],
   "source": []
  },
  {
   "cell_type": "code",
   "execution_count": null,
   "id": "1de58c8a",
   "metadata": {},
   "outputs": [],
   "source": [
    "sympy.diff(P_3, x, x) * sympy.diff(P_1, x, x)"
   ]
  },
  {
   "cell_type": "code",
   "execution_count": null,
   "id": "ba5d2a92",
   "metadata": {},
   "outputs": [],
   "source": [
    "2 * sympy.diff(P_3, x, y) * sympy.diff(P_1, x, y)"
   ]
  },
  {
   "cell_type": "code",
   "execution_count": null,
   "id": "ab89d7ce",
   "metadata": {},
   "outputs": [],
   "source": [
    "sympy.diff(P_3, y, y) * sympy.diff(P_1, y, y)"
   ]
  },
  {
   "cell_type": "code",
   "execution_count": null,
   "id": "6860b794",
   "metadata": {},
   "outputs": [],
   "source": []
  },
  {
   "cell_type": "code",
   "execution_count": null,
   "id": "2c19a2f7",
   "metadata": {},
   "outputs": [],
   "source": [
    "sympy.diff(P_3, x, x) * sympy.diff(P_2, x, x)"
   ]
  },
  {
   "cell_type": "code",
   "execution_count": null,
   "id": "01aea744",
   "metadata": {},
   "outputs": [],
   "source": [
    "2 * sympy.diff(P_3, x, y) * sympy.diff(P_2, x, y)"
   ]
  },
  {
   "cell_type": "code",
   "execution_count": null,
   "id": "89a09405",
   "metadata": {},
   "outputs": [],
   "source": [
    "sympy.diff(P_3, y, y) * sympy.diff(P_2, y, y)"
   ]
  },
  {
   "cell_type": "code",
   "execution_count": null,
   "id": "11c1311a",
   "metadata": {},
   "outputs": [],
   "source": []
  },
  {
   "cell_type": "code",
   "execution_count": null,
   "id": "199b0527",
   "metadata": {},
   "outputs": [],
   "source": [
    "sympy.diff(P_3, x, x) * sympy.diff(P_3, x, x)"
   ]
  },
  {
   "cell_type": "code",
   "execution_count": null,
   "id": "8fe469b4",
   "metadata": {},
   "outputs": [],
   "source": [
    "2 * sympy.diff(P_3, x, y) * sympy.diff(P_3, x, y)"
   ]
  },
  {
   "cell_type": "code",
   "execution_count": null,
   "id": "84077288",
   "metadata": {},
   "outputs": [],
   "source": [
    "sympy.diff(P_3, y, y) * sympy.diff(P_3, y, y)"
   ]
  },
  {
   "cell_type": "code",
   "execution_count": null,
   "id": "ad328cb2",
   "metadata": {},
   "outputs": [],
   "source": []
  },
  {
   "cell_type": "code",
   "execution_count": null,
   "id": "ab2a06d3",
   "metadata": {},
   "outputs": [],
   "source": [
    "sympy.diff(P_3, x, x) * sympy.diff(P_4, x, x)"
   ]
  },
  {
   "cell_type": "code",
   "execution_count": null,
   "id": "daae4970",
   "metadata": {},
   "outputs": [],
   "source": [
    "2 * sympy.diff(P_3, x, y) * sympy.diff(P_4, x, y)"
   ]
  },
  {
   "cell_type": "code",
   "execution_count": null,
   "id": "becd9717",
   "metadata": {},
   "outputs": [],
   "source": [
    "sympy.diff(P_3, y, y) * sympy.diff(P_4, y, y)"
   ]
  },
  {
   "cell_type": "code",
   "execution_count": null,
   "id": "4634f78e",
   "metadata": {},
   "outputs": [],
   "source": []
  },
  {
   "cell_type": "code",
   "execution_count": null,
   "id": "151e6802",
   "metadata": {},
   "outputs": [],
   "source": [
    "sympy.diff(P_3, x, x) * sympy.diff(P_5, x, x)"
   ]
  },
  {
   "cell_type": "code",
   "execution_count": null,
   "id": "9b3912b3",
   "metadata": {},
   "outputs": [],
   "source": [
    "2 * sympy.diff(P_3, x, y) * sympy.diff(P_5, x, y)"
   ]
  },
  {
   "cell_type": "code",
   "execution_count": null,
   "id": "72e49d98",
   "metadata": {},
   "outputs": [],
   "source": [
    "sympy.diff(P_3, y, y) * sympy.diff(P_5, y, y)"
   ]
  },
  {
   "cell_type": "code",
   "execution_count": null,
   "id": "07ba7b25",
   "metadata": {},
   "outputs": [],
   "source": []
  },
  {
   "cell_type": "code",
   "execution_count": null,
   "id": "1c0c7744",
   "metadata": {},
   "outputs": [],
   "source": [
    "sympy.diff(P_3, x, x) * sympy.diff(P_6, x, x)"
   ]
  },
  {
   "cell_type": "code",
   "execution_count": null,
   "id": "7a5e62c2",
   "metadata": {},
   "outputs": [],
   "source": [
    "2 * sympy.diff(P_3, x, y) * sympy.diff(P_6, x, y)"
   ]
  },
  {
   "cell_type": "code",
   "execution_count": null,
   "id": "96954d5c",
   "metadata": {},
   "outputs": [],
   "source": [
    "sympy.diff(P_3, y, y) * sympy.diff(P_6, y, y)"
   ]
  },
  {
   "cell_type": "code",
   "execution_count": null,
   "id": "01201f74",
   "metadata": {},
   "outputs": [],
   "source": []
  },
  {
   "cell_type": "code",
   "execution_count": null,
   "id": "0d2aac7e",
   "metadata": {},
   "outputs": [],
   "source": []
  },
  {
   "cell_type": "code",
   "execution_count": null,
   "id": "8dedc5b4",
   "metadata": {},
   "outputs": [],
   "source": []
  },
  {
   "cell_type": "code",
   "execution_count": null,
   "id": "28bf9cea",
   "metadata": {},
   "outputs": [],
   "source": []
  },
  {
   "cell_type": "code",
   "execution_count": null,
   "id": "a06a3734",
   "metadata": {},
   "outputs": [],
   "source": []
  },
  {
   "cell_type": "code",
   "execution_count": null,
   "id": "4400375c",
   "metadata": {},
   "outputs": [],
   "source": []
  },
  {
   "cell_type": "code",
   "execution_count": null,
   "id": "61a24c31",
   "metadata": {},
   "outputs": [],
   "source": []
  },
  {
   "cell_type": "code",
   "execution_count": null,
   "id": "7874f011",
   "metadata": {},
   "outputs": [],
   "source": []
  },
  {
   "cell_type": "code",
   "execution_count": null,
   "id": "4f5ccc2b",
   "metadata": {},
   "outputs": [],
   "source": []
  },
  {
   "cell_type": "code",
   "execution_count": null,
   "id": "70864805",
   "metadata": {},
   "outputs": [],
   "source": []
  },
  {
   "cell_type": "code",
   "execution_count": null,
   "id": "1bdf3781",
   "metadata": {},
   "outputs": [],
   "source": [
    "sympy.diff(P_4, x, x) * sympy.diff(P_1, x, x)"
   ]
  },
  {
   "cell_type": "code",
   "execution_count": null,
   "id": "ebe8510e",
   "metadata": {},
   "outputs": [],
   "source": [
    "2 * sympy.diff(P_4, x, y) * sympy.diff(P_1, x, y)"
   ]
  },
  {
   "cell_type": "code",
   "execution_count": null,
   "id": "37f88dba",
   "metadata": {},
   "outputs": [],
   "source": [
    "sympy.diff(P_4, y, y) * sympy.diff(P_1, y, y)"
   ]
  },
  {
   "cell_type": "code",
   "execution_count": null,
   "id": "a308990f",
   "metadata": {},
   "outputs": [],
   "source": []
  },
  {
   "cell_type": "code",
   "execution_count": null,
   "id": "fdde2682",
   "metadata": {},
   "outputs": [],
   "source": [
    "sympy.diff(P_4, x, x) * sympy.diff(P_2, x, x)"
   ]
  },
  {
   "cell_type": "code",
   "execution_count": null,
   "id": "a6dc8614",
   "metadata": {},
   "outputs": [],
   "source": [
    "2 * sympy.diff(P_4, x, y) * sympy.diff(P_2, x, y)"
   ]
  },
  {
   "cell_type": "code",
   "execution_count": null,
   "id": "323521f9",
   "metadata": {},
   "outputs": [],
   "source": [
    "sympy.diff(P_4, y, y) * sympy.diff(P_2, y, y)"
   ]
  },
  {
   "cell_type": "code",
   "execution_count": null,
   "id": "f3e7cbde",
   "metadata": {},
   "outputs": [],
   "source": []
  },
  {
   "cell_type": "code",
   "execution_count": null,
   "id": "f4a1500f",
   "metadata": {},
   "outputs": [],
   "source": [
    "sympy.diff(P_4, x, x) * sympy.diff(P_3, x, x)"
   ]
  },
  {
   "cell_type": "code",
   "execution_count": null,
   "id": "0b026540",
   "metadata": {},
   "outputs": [],
   "source": [
    "2 * sympy.diff(P_4, x, y) * sympy.diff(P_3, x, y)"
   ]
  },
  {
   "cell_type": "code",
   "execution_count": null,
   "id": "1f8b6ada",
   "metadata": {},
   "outputs": [],
   "source": [
    "sympy.diff(P_4, y, y) * sympy.diff(P_3, y, y)"
   ]
  },
  {
   "cell_type": "code",
   "execution_count": null,
   "id": "8801edbf",
   "metadata": {},
   "outputs": [],
   "source": []
  },
  {
   "cell_type": "code",
   "execution_count": null,
   "id": "67369a26",
   "metadata": {},
   "outputs": [],
   "source": [
    "sympy.diff(P_4, x, x) * sympy.diff(P_4, x, x)"
   ]
  },
  {
   "cell_type": "code",
   "execution_count": null,
   "id": "ccb156ea",
   "metadata": {},
   "outputs": [],
   "source": [
    "2 * sympy.diff(P_4, x, y) * sympy.diff(P_4, x, y)"
   ]
  },
  {
   "cell_type": "code",
   "execution_count": null,
   "id": "88c94a39",
   "metadata": {},
   "outputs": [],
   "source": [
    "sympy.diff(P_4, y, y) * sympy.diff(P_4, y, y)"
   ]
  },
  {
   "cell_type": "code",
   "execution_count": null,
   "id": "09e9ed94",
   "metadata": {},
   "outputs": [],
   "source": []
  },
  {
   "cell_type": "code",
   "execution_count": null,
   "id": "93032ccf",
   "metadata": {},
   "outputs": [],
   "source": [
    "sympy.diff(P_4, x, x) * sympy.diff(P_5, x, x)"
   ]
  },
  {
   "cell_type": "code",
   "execution_count": null,
   "id": "0299d3ef",
   "metadata": {},
   "outputs": [],
   "source": [
    "2 * sympy.diff(P_4, x, y) * sympy.diff(P_5, x, y)"
   ]
  },
  {
   "cell_type": "code",
   "execution_count": null,
   "id": "36c765ff",
   "metadata": {},
   "outputs": [],
   "source": [
    "sympy.diff(P_4, y, y) * sympy.diff(P_5, y, y)"
   ]
  },
  {
   "cell_type": "code",
   "execution_count": null,
   "id": "a9e49664",
   "metadata": {},
   "outputs": [],
   "source": []
  },
  {
   "cell_type": "code",
   "execution_count": null,
   "id": "1758648d",
   "metadata": {},
   "outputs": [],
   "source": [
    "sympy.diff(P_4, x, x) * sympy.diff(P_6, x, x)"
   ]
  },
  {
   "cell_type": "code",
   "execution_count": null,
   "id": "b4d4a205",
   "metadata": {},
   "outputs": [],
   "source": [
    "2 * sympy.diff(P_4, x, y) * sympy.diff(P_6, x, y)"
   ]
  },
  {
   "cell_type": "code",
   "execution_count": null,
   "id": "f2199296",
   "metadata": {},
   "outputs": [],
   "source": [
    "sympy.diff(P_4, y, y) * sympy.diff(P_6, y, y)"
   ]
  },
  {
   "cell_type": "code",
   "execution_count": null,
   "id": "57828780",
   "metadata": {},
   "outputs": [],
   "source": []
  },
  {
   "cell_type": "code",
   "execution_count": null,
   "id": "ed6b6b9b",
   "metadata": {},
   "outputs": [],
   "source": []
  },
  {
   "cell_type": "code",
   "execution_count": null,
   "id": "781d8157",
   "metadata": {},
   "outputs": [],
   "source": []
  },
  {
   "cell_type": "code",
   "execution_count": null,
   "id": "84864743",
   "metadata": {},
   "outputs": [],
   "source": []
  },
  {
   "cell_type": "code",
   "execution_count": null,
   "id": "6cfe838d",
   "metadata": {},
   "outputs": [],
   "source": []
  },
  {
   "cell_type": "code",
   "execution_count": null,
   "id": "c22a440e",
   "metadata": {},
   "outputs": [],
   "source": []
  },
  {
   "cell_type": "code",
   "execution_count": null,
   "id": "6f9bd37e",
   "metadata": {},
   "outputs": [],
   "source": []
  },
  {
   "cell_type": "code",
   "execution_count": null,
   "id": "3a1492c5",
   "metadata": {},
   "outputs": [],
   "source": []
  },
  {
   "cell_type": "code",
   "execution_count": null,
   "id": "27a03a56",
   "metadata": {},
   "outputs": [],
   "source": []
  },
  {
   "cell_type": "code",
   "execution_count": null,
   "id": "9bee4a23",
   "metadata": {},
   "outputs": [],
   "source": []
  },
  {
   "cell_type": "code",
   "execution_count": null,
   "id": "21808251",
   "metadata": {},
   "outputs": [],
   "source": [
    "sympy.diff(P_5, x, x) * sympy.diff(P_1, x, x)"
   ]
  },
  {
   "cell_type": "code",
   "execution_count": null,
   "id": "122e4361",
   "metadata": {},
   "outputs": [],
   "source": [
    "2 * sympy.diff(P_5, x, y) * sympy.diff(P_1, x, y)"
   ]
  },
  {
   "cell_type": "code",
   "execution_count": null,
   "id": "6c19fc5c",
   "metadata": {},
   "outputs": [],
   "source": [
    "sympy.diff(P_5, y, y) * sympy.diff(P_1, y, y)"
   ]
  },
  {
   "cell_type": "code",
   "execution_count": null,
   "id": "3158d86f",
   "metadata": {},
   "outputs": [],
   "source": []
  },
  {
   "cell_type": "code",
   "execution_count": null,
   "id": "95099962",
   "metadata": {},
   "outputs": [],
   "source": [
    "sympy.diff(P_5, x, x) * sympy.diff(P_2, x, x)"
   ]
  },
  {
   "cell_type": "code",
   "execution_count": null,
   "id": "883f065d",
   "metadata": {},
   "outputs": [],
   "source": [
    "2 * sympy.diff(P_5, x, y) * sympy.diff(P_2, x, y)"
   ]
  },
  {
   "cell_type": "code",
   "execution_count": null,
   "id": "c4faf45b",
   "metadata": {},
   "outputs": [],
   "source": [
    "sympy.diff(P_5, y, y) * sympy.diff(P_2, y, y)"
   ]
  },
  {
   "cell_type": "code",
   "execution_count": null,
   "id": "4a5d3a28",
   "metadata": {},
   "outputs": [],
   "source": []
  },
  {
   "cell_type": "code",
   "execution_count": null,
   "id": "0ecf79c5",
   "metadata": {},
   "outputs": [],
   "source": [
    "sympy.diff(P_5, x, x) * sympy.diff(P_3, x, x)"
   ]
  },
  {
   "cell_type": "code",
   "execution_count": null,
   "id": "164bd533",
   "metadata": {},
   "outputs": [],
   "source": [
    "2 * sympy.diff(P_5, x, y) * sympy.diff(P_3, x, y)"
   ]
  },
  {
   "cell_type": "code",
   "execution_count": null,
   "id": "39ee1cc7",
   "metadata": {},
   "outputs": [],
   "source": [
    "sympy.diff(P_5, y, y) * sympy.diff(P_3, y, y)"
   ]
  },
  {
   "cell_type": "code",
   "execution_count": null,
   "id": "85ad8f48",
   "metadata": {},
   "outputs": [],
   "source": []
  },
  {
   "cell_type": "code",
   "execution_count": null,
   "id": "06849055",
   "metadata": {},
   "outputs": [],
   "source": [
    "sympy.diff(P_5, x, x) * sympy.diff(P_4, x, x)"
   ]
  },
  {
   "cell_type": "code",
   "execution_count": null,
   "id": "ce7365b4",
   "metadata": {},
   "outputs": [],
   "source": [
    "2 * sympy.diff(P_5, x, y) * sympy.diff(P_4, x, y)"
   ]
  },
  {
   "cell_type": "code",
   "execution_count": null,
   "id": "9fd84b9f",
   "metadata": {},
   "outputs": [],
   "source": [
    "sympy.diff(P_5, y, y) * sympy.diff(P_4, y, y)"
   ]
  },
  {
   "cell_type": "code",
   "execution_count": null,
   "id": "4b1ce523",
   "metadata": {},
   "outputs": [],
   "source": []
  },
  {
   "cell_type": "code",
   "execution_count": null,
   "id": "f206e2f3",
   "metadata": {},
   "outputs": [],
   "source": [
    "sympy.diff(P_5, x, x) * sympy.diff(P_5, x, x)"
   ]
  },
  {
   "cell_type": "code",
   "execution_count": null,
   "id": "7b86b463",
   "metadata": {},
   "outputs": [],
   "source": [
    "2 * sympy.diff(P_5, x, y) * sympy.diff(P_5, x, y)"
   ]
  },
  {
   "cell_type": "code",
   "execution_count": null,
   "id": "bb00aa10",
   "metadata": {},
   "outputs": [],
   "source": [
    "sympy.diff(P_5, y, y) * sympy.diff(P_5, y, y)"
   ]
  },
  {
   "cell_type": "code",
   "execution_count": null,
   "id": "9dd82d72",
   "metadata": {},
   "outputs": [],
   "source": []
  },
  {
   "cell_type": "code",
   "execution_count": null,
   "id": "bf3edae3",
   "metadata": {},
   "outputs": [],
   "source": [
    "sympy.diff(P_5, x, x) * sympy.diff(P_6, x, x)"
   ]
  },
  {
   "cell_type": "code",
   "execution_count": null,
   "id": "46ec28ab",
   "metadata": {},
   "outputs": [],
   "source": [
    "2 * sympy.diff(P_5, x, y) * sympy.diff(P_6, x, y)"
   ]
  },
  {
   "cell_type": "code",
   "execution_count": null,
   "id": "44eddd4b",
   "metadata": {},
   "outputs": [],
   "source": [
    "sympy.diff(P_5, y, y) * sympy.diff(P_6, y, y)"
   ]
  },
  {
   "cell_type": "code",
   "execution_count": null,
   "id": "9543b740",
   "metadata": {},
   "outputs": [],
   "source": []
  },
  {
   "cell_type": "code",
   "execution_count": null,
   "id": "09bb93d4",
   "metadata": {},
   "outputs": [],
   "source": []
  },
  {
   "cell_type": "code",
   "execution_count": null,
   "id": "b07cd271",
   "metadata": {},
   "outputs": [],
   "source": []
  },
  {
   "cell_type": "code",
   "execution_count": null,
   "id": "c8acf3c2",
   "metadata": {},
   "outputs": [],
   "source": []
  },
  {
   "cell_type": "code",
   "execution_count": null,
   "id": "1e1a7390",
   "metadata": {},
   "outputs": [],
   "source": []
  },
  {
   "cell_type": "code",
   "execution_count": null,
   "id": "2feaf905",
   "metadata": {},
   "outputs": [],
   "source": []
  },
  {
   "cell_type": "code",
   "execution_count": null,
   "id": "b5782ac0",
   "metadata": {},
   "outputs": [],
   "source": []
  },
  {
   "cell_type": "code",
   "execution_count": null,
   "id": "32cbb3bb",
   "metadata": {},
   "outputs": [],
   "source": []
  },
  {
   "cell_type": "code",
   "execution_count": null,
   "id": "8d02d141",
   "metadata": {},
   "outputs": [],
   "source": []
  },
  {
   "cell_type": "code",
   "execution_count": null,
   "id": "a060b8d5",
   "metadata": {},
   "outputs": [],
   "source": []
  },
  {
   "cell_type": "code",
   "execution_count": null,
   "id": "aa58c703",
   "metadata": {},
   "outputs": [],
   "source": [
    "sympy.diff(P_6, x, x) * sympy.diff(P_1, x, x)"
   ]
  },
  {
   "cell_type": "code",
   "execution_count": null,
   "id": "215a5099",
   "metadata": {},
   "outputs": [],
   "source": [
    "2 * sympy.diff(P_6, x, y) * sympy.diff(P_1, x, y)"
   ]
  },
  {
   "cell_type": "code",
   "execution_count": null,
   "id": "e7efdf86",
   "metadata": {},
   "outputs": [],
   "source": [
    "sympy.diff(P_6, y, y) * sympy.diff(P_1, y, y)"
   ]
  },
  {
   "cell_type": "code",
   "execution_count": null,
   "id": "13745247",
   "metadata": {},
   "outputs": [],
   "source": []
  },
  {
   "cell_type": "code",
   "execution_count": null,
   "id": "ebaa8867",
   "metadata": {},
   "outputs": [],
   "source": [
    "sympy.diff(P_6, x, x) * sympy.diff(P_2, x, x)"
   ]
  },
  {
   "cell_type": "code",
   "execution_count": null,
   "id": "d43b1619",
   "metadata": {},
   "outputs": [],
   "source": [
    "2 * sympy.diff(P_6, x, y) * sympy.diff(P_2, x, y)"
   ]
  },
  {
   "cell_type": "code",
   "execution_count": null,
   "id": "14c44c3f",
   "metadata": {},
   "outputs": [],
   "source": [
    "sympy.diff(P_6, y, y) * sympy.diff(P_2, y, y)"
   ]
  },
  {
   "cell_type": "code",
   "execution_count": null,
   "id": "99d21164",
   "metadata": {},
   "outputs": [],
   "source": []
  },
  {
   "cell_type": "code",
   "execution_count": null,
   "id": "e07fb226",
   "metadata": {},
   "outputs": [],
   "source": [
    "sympy.diff(P_6, x, x) * sympy.diff(P_3, x, x)"
   ]
  },
  {
   "cell_type": "code",
   "execution_count": null,
   "id": "b53bd161",
   "metadata": {},
   "outputs": [],
   "source": [
    "2 * sympy.diff(P_6, x, y) * sympy.diff(P_3, x, y)"
   ]
  },
  {
   "cell_type": "code",
   "execution_count": null,
   "id": "0127fc19",
   "metadata": {},
   "outputs": [],
   "source": [
    "sympy.diff(P_6, y, y) * sympy.diff(P_3, y, y)"
   ]
  },
  {
   "cell_type": "code",
   "execution_count": null,
   "id": "9b9002cc",
   "metadata": {},
   "outputs": [],
   "source": []
  },
  {
   "cell_type": "code",
   "execution_count": null,
   "id": "6502bd12",
   "metadata": {},
   "outputs": [],
   "source": [
    "sympy.diff(P_6, x, x) * sympy.diff(P_4, x, x)"
   ]
  },
  {
   "cell_type": "code",
   "execution_count": null,
   "id": "e08ba5de",
   "metadata": {},
   "outputs": [],
   "source": [
    "2 * sympy.diff(P_6, x, y) * sympy.diff(P_4, x, y)"
   ]
  },
  {
   "cell_type": "code",
   "execution_count": null,
   "id": "a0cdbb57",
   "metadata": {},
   "outputs": [],
   "source": [
    "sympy.diff(P_6, y, y) * sympy.diff(P_4, y, y)"
   ]
  },
  {
   "cell_type": "code",
   "execution_count": null,
   "id": "1db94ea8",
   "metadata": {},
   "outputs": [],
   "source": []
  },
  {
   "cell_type": "code",
   "execution_count": null,
   "id": "6c93c357",
   "metadata": {},
   "outputs": [],
   "source": [
    "sympy.diff(P_6, x, x) * sympy.diff(P_5, x, x)"
   ]
  },
  {
   "cell_type": "code",
   "execution_count": null,
   "id": "c0474064",
   "metadata": {},
   "outputs": [],
   "source": [
    "2 * sympy.diff(P_6, x, y) * sympy.diff(P_5, x, y)"
   ]
  },
  {
   "cell_type": "code",
   "execution_count": null,
   "id": "d7fe789a",
   "metadata": {},
   "outputs": [],
   "source": [
    "sympy.diff(P_6, y, y) * sympy.diff(P_5, y, y)"
   ]
  },
  {
   "cell_type": "code",
   "execution_count": null,
   "id": "c6f1b385",
   "metadata": {},
   "outputs": [],
   "source": []
  },
  {
   "cell_type": "code",
   "execution_count": null,
   "id": "eaa7d674",
   "metadata": {},
   "outputs": [],
   "source": [
    "sympy.diff(P_6, x, x) * sympy.diff(P_6, x, x)"
   ]
  },
  {
   "cell_type": "code",
   "execution_count": null,
   "id": "3af9ff37",
   "metadata": {},
   "outputs": [],
   "source": [
    "2 * sympy.diff(P_6, x, y) * sympy.diff(P_6, x, y)"
   ]
  },
  {
   "cell_type": "code",
   "execution_count": null,
   "id": "07f1b699",
   "metadata": {},
   "outputs": [],
   "source": [
    "sympy.diff(P_6, y, y) * sympy.diff(P_6, y, y)"
   ]
  },
  {
   "cell_type": "code",
   "execution_count": null,
   "id": "e88588f4",
   "metadata": {},
   "outputs": [],
   "source": []
  }
 ],
 "metadata": {
  "kernelspec": {
   "display_name": "Python 3 (ipykernel)",
   "language": "python",
   "name": "python3"
  },
  "language_info": {
   "codemirror_mode": {
    "name": "ipython",
    "version": 3
   },
   "file_extension": ".py",
   "mimetype": "text/x-python",
   "name": "python",
   "nbconvert_exporter": "python",
   "pygments_lexer": "ipython3",
   "version": "3.9.12"
  }
 },
 "nbformat": 4,
 "nbformat_minor": 5
}
