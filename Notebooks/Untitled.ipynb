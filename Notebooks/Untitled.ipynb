{
 "cells": [
  {
   "cell_type": "code",
   "execution_count": 4,
   "id": "29a9ec5c-3a39-4fe4-b25b-c4a0af788e91",
   "metadata": {},
   "outputs": [],
   "source": [
    "import numpy as np\n",
    "import matplotlib.pyplot as plt\n",
    "\n",
    "# Define grid size and spacing\n",
    "nx = 10  # number of points in the x direction\n",
    "ny = 10  # number of points in the y direction\n",
    "dx = 1.0  # spacing in the x direction\n",
    "dy = 1.0  # spacing in the y direction\n",
    "\n",
    "# Create coordinate arrays\n",
    "x = np.arange(nx) * dx\n",
    "y = np.arange(ny) * dy\n",
    "\n",
    "# Create a meshgrid of coordinates\n",
    "X, Y = np.meshgrid(x, y)\n",
    "\n",
    "# Create an array of indices for the triangles\n",
    "triangles = np.zeros((2*(nx-1)*(ny-1), 3), dtype=np.int32)\n",
    "k = 0\n",
    "for i in range(nx-1):\n",
    "    for j in range(ny-1):\n",
    "        n = i*ny + j\n",
    "        triangles[k] = [n, n+1, n+ny]\n",
    "        triangles[k+1] = [n+1, n+ny+1, n+ny]\n",
    "        k += 2\n"
   ]
  },
  {
   "cell_type": "code",
   "execution_count": 5,
   "id": "2b89a823-7fcd-41b9-9022-a8cbea140df8",
   "metadata": {},
   "outputs": [
    {
     "ename": "ValueError",
     "evalue": "not enough values to unpack (expected 2, got 1)",
     "output_type": "error",
     "traceback": [
      "\u001b[0;31m---------------------------------------------------------------------------\u001b[0m",
      "\u001b[0;31mValueError\u001b[0m                                Traceback (most recent call last)",
      "Input \u001b[0;32mIn [5]\u001b[0m, in \u001b[0;36m<cell line: 5>\u001b[0;34m()\u001b[0m\n\u001b[1;32m      4\u001b[0m ax\u001b[38;5;241m.\u001b[39maxis(\u001b[38;5;124m'\u001b[39m\u001b[38;5;124mequal\u001b[39m\u001b[38;5;124m'\u001b[39m)\n\u001b[1;32m      5\u001b[0m \u001b[38;5;28;01mfor\u001b[39;00m index, triangle \u001b[38;5;129;01min\u001b[39;00m \u001b[38;5;28menumerate\u001b[39m(triangles, \u001b[38;5;241m1\u001b[39m):\n\u001b[0;32m----> 6\u001b[0m     t1 \u001b[38;5;241m=\u001b[39m \u001b[43mplt\u001b[49m\u001b[38;5;241;43m.\u001b[39;49m\u001b[43mPolygon\u001b[49m\u001b[43m(\u001b[49m\u001b[43mtriangle\u001b[49m\u001b[43m,\u001b[49m\u001b[43m \u001b[49m\u001b[43mcolor\u001b[49m\u001b[38;5;241;43m=\u001b[39;49m\u001b[43mcolors\u001b[49m\u001b[43m[\u001b[49m\u001b[43mindex\u001b[49m\u001b[38;5;241;43m%\u001b[39;49m\u001b[43ml\u001b[49m\u001b[43m]\u001b[49m\u001b[43m)\u001b[49m\n\u001b[1;32m      7\u001b[0m     plt\u001b[38;5;241m.\u001b[39mgca()\u001b[38;5;241m.\u001b[39madd_patch(t1)\n\u001b[1;32m      8\u001b[0m ax\u001b[38;5;241m.\u001b[39mscatter(triangles_c[:, \u001b[38;5;241m0\u001b[39m], triangles_c[:, \u001b[38;5;241m1\u001b[39m], color\u001b[38;5;241m=\u001b[39m\u001b[38;5;124m'\u001b[39m\u001b[38;5;124mblack\u001b[39m\u001b[38;5;124m'\u001b[39m)\n",
      "File \u001b[0;32m~/anaconda3/lib/python3.9/site-packages/matplotlib/patches.py:1059\u001b[0m, in \u001b[0;36mPolygon.__init__\u001b[0;34m(self, xy, closed, **kwargs)\u001b[0m\n\u001b[1;32m   1057\u001b[0m \u001b[38;5;28msuper\u001b[39m()\u001b[38;5;241m.\u001b[39m\u001b[38;5;21m__init__\u001b[39m(\u001b[38;5;241m*\u001b[39m\u001b[38;5;241m*\u001b[39mkwargs)\n\u001b[1;32m   1058\u001b[0m \u001b[38;5;28mself\u001b[39m\u001b[38;5;241m.\u001b[39m_closed \u001b[38;5;241m=\u001b[39m closed\n\u001b[0;32m-> 1059\u001b[0m \u001b[38;5;28;43mself\u001b[39;49m\u001b[38;5;241;43m.\u001b[39;49m\u001b[43mset_xy\u001b[49m\u001b[43m(\u001b[49m\u001b[43mxy\u001b[49m\u001b[43m)\u001b[49m\n",
      "File \u001b[0;32m~/anaconda3/lib/python3.9/site-packages/matplotlib/patches.py:1112\u001b[0m, in \u001b[0;36mPolygon.set_xy\u001b[0;34m(self, xy)\u001b[0m\n\u001b[1;32m   1096\u001b[0m \u001b[38;5;250m\u001b[39m\u001b[38;5;124;03m\"\"\"\u001b[39;00m\n\u001b[1;32m   1097\u001b[0m \u001b[38;5;124;03mSet the vertices of the polygon.\u001b[39;00m\n\u001b[1;32m   1098\u001b[0m \n\u001b[0;32m   (...)\u001b[0m\n\u001b[1;32m   1109\u001b[0m \u001b[38;5;124;03m``CLOSEPOLY`` vertex, and add it ourselves.\u001b[39;00m\n\u001b[1;32m   1110\u001b[0m \u001b[38;5;124;03m\"\"\"\u001b[39;00m\n\u001b[1;32m   1111\u001b[0m xy \u001b[38;5;241m=\u001b[39m np\u001b[38;5;241m.\u001b[39masarray(xy)\n\u001b[0;32m-> 1112\u001b[0m nverts, _ \u001b[38;5;241m=\u001b[39m xy\u001b[38;5;241m.\u001b[39mshape\n\u001b[1;32m   1113\u001b[0m \u001b[38;5;28;01mif\u001b[39;00m \u001b[38;5;28mself\u001b[39m\u001b[38;5;241m.\u001b[39m_closed:\n\u001b[1;32m   1114\u001b[0m     \u001b[38;5;66;03m# if the first and last vertex are the \"same\", then we assume that\u001b[39;00m\n\u001b[1;32m   1115\u001b[0m     \u001b[38;5;66;03m# the user explicitly passed the CLOSEPOLY vertex. Otherwise, we\u001b[39;00m\n\u001b[1;32m   1116\u001b[0m     \u001b[38;5;66;03m# have to append one since the last vertex will be \"ignored\" by\u001b[39;00m\n\u001b[1;32m   1117\u001b[0m     \u001b[38;5;66;03m# Path\u001b[39;00m\n\u001b[1;32m   1118\u001b[0m     \u001b[38;5;28;01mif\u001b[39;00m nverts \u001b[38;5;241m==\u001b[39m \u001b[38;5;241m1\u001b[39m \u001b[38;5;129;01mor\u001b[39;00m nverts \u001b[38;5;241m>\u001b[39m \u001b[38;5;241m1\u001b[39m \u001b[38;5;129;01mand\u001b[39;00m (xy[\u001b[38;5;241m0\u001b[39m] \u001b[38;5;241m!=\u001b[39m xy[\u001b[38;5;241m-\u001b[39m\u001b[38;5;241m1\u001b[39m])\u001b[38;5;241m.\u001b[39many():\n",
      "\u001b[0;31mValueError\u001b[0m: not enough values to unpack (expected 2, got 1)"
     ]
    },
    {
     "data": {
      "image/png": "[encoded data removed]",
      "text/plain": [
       "<Figure size 432x432 with 1 Axes>"
      ]
     },
     "metadata": {
      "needs_background": "light"
     },
     "output_type": "display_data"
    }
   ],
   "source": [
    "colors = ['red', 'blue', 'green', 'yellow']\n",
    "l = len(colors)\n",
    "fig, ax = plt.subplots(figsize=(6, 6))\n",
    "ax.axis('equal')\n",
    "for index, triangle in enumerate(triangles, 1):\n",
    "    t1 = plt.Polygon(triangle, color=colors[index%l])\n",
    "    plt.gca().add_patch(t1)\n",
    "ax.scatter(triangles_c[:, 0], triangles_c[:, 1], color='black')\n",
    "plt.show()"
   ]
  },
  {
   "cell_type": "code",
   "execution_count": null,
   "id": "2f7b880d-6383-4c3c-8f52-7ac25318807e",
   "metadata": {},
   "outputs": [],
   "source": []
  },
  {
   "cell_type": "code",
   "execution_count": 9,
   "id": "1898a907-c29d-43e7-8ff2-2b0b1d249462",
   "metadata": {},
   "outputs": [
    {
     "data": {
      "text/plain": [
       "array([ 0,  1, 10], dtype=int32)"
      ]
     },
     "execution_count": 9,
     "metadata": {},
     "output_type": "execute_result"
    }
   ],
   "source": [
    "triangle"
   ]
  },
  {
   "cell_type": "code",
   "execution_count": null,
   "id": "25bfeba3-e7a2-476c-9448-12f472c00ba9",
   "metadata": {},
   "outputs": [],
   "source": []
  }
 ],
 "metadata": {
  "kernelspec": {
   "display_name": "Python 3 (ipykernel)",
   "language": "python",
   "name": "python3"
  },
  "language_info": {
   "codemirror_mode": {
    "name": "ipython",
    "version": 3
   },
   "file_extension": ".py",
   "mimetype": "text/x-python",
   "name": "python",
   "nbconvert_exporter": "python",
   "pygments_lexer": "ipython3",
   "version": "3.9.12"
  }
 },
 "nbformat": 4,
 "nbformat_minor": 5
}
