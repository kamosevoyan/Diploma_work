{
 "cells": [
  {
   "cell_type": "code",
   "execution_count": 16,
   "id": "1aebea62",
   "metadata": {},
   "outputs": [],
   "source": [
    "import sympy"
   ]
  },
  {
   "cell_type": "code",
   "execution_count": 17,
   "id": "977fc088",
   "metadata": {},
   "outputs": [],
   "source": [
    "x, y, x_1, y_1, x_2, y_2, x_3, y_3, p_1, p_2, p_3 = sympy.symbols(\"x y x_1 y_1 x_2 y_2 x_3 y_3 p_1 p_2 p_3\")"
   ]
  },
  {
   "cell_type": "code",
   "execution_count": 18,
   "id": "f4b79409",
   "metadata": {},
   "outputs": [],
   "source": [
    "S2 = (x_2-x_1)*(y_3-y_1)-(y_2-y_1)*(x_3-x_1)"
   ]
  },
  {
   "cell_type": "code",
   "execution_count": 19,
   "id": "78892906",
   "metadata": {},
   "outputs": [],
   "source": [
    "P_1 = (x_2*y_3 - y_2*x_3 + x*(y_2-y_3)-y*(x_2-x_3)) / S2"
   ]
  },
  {
   "cell_type": "code",
   "execution_count": 20,
   "id": "c9de8235",
   "metadata": {},
   "outputs": [],
   "source": [
    "P_2 = (x_3*y_1 - y_3*x_1 + x*(y_3-y_1)-y*(x_3-x_1)) / S2"
   ]
  },
  {
   "cell_type": "code",
   "execution_count": 21,
   "id": "7c42b84d",
   "metadata": {},
   "outputs": [],
   "source": [
    "P_3 = (x_1*y_2 - y_1*x_2 + x*(y_1-y_2)-y*(x_1-x_2)) / S2"
   ]
  },
  {
   "cell_type": "code",
   "execution_count": 22,
   "id": "28669b08",
   "metadata": {},
   "outputs": [
    {
     "data": {
      "text/latex": [
       "$\\displaystyle \\frac{y_{2} - y_{3}}{\\left(- x_{1} + x_{2}\\right) \\left(- y_{1} + y_{3}\\right) - \\left(- x_{1} + x_{3}\\right) \\left(- y_{1} + y_{2}\\right)}$"
      ],
      "text/plain": [
       "(y_2 - y_3)/((-x_1 + x_2)*(-y_1 + y_3) - (-x_1 + x_3)*(-y_1 + y_2))"
      ]
     },
     "execution_count": 22,
     "metadata": {},
     "output_type": "execute_result"
    }
   ],
   "source": [
    "sympy.diff(P_1, x)"
   ]
  },
  {
   "cell_type": "code",
   "execution_count": 10,
   "id": "84cc7e1e",
   "metadata": {},
   "outputs": [
    {
     "data": {
      "text/latex": [
       "$\\displaystyle \\frac{- y_{1} + y_{3}}{\\left(- x_{1} + x_{2}\\right) \\left(- y_{1} + y_{3}\\right) - \\left(- x_{1} + x_{3}\\right) \\left(- y_{1} + y_{2}\\right)}$"
      ],
      "text/plain": [
       "(-y_1 + y_3)/((-x_1 + x_2)*(-y_1 + y_3) - (-x_1 + x_3)*(-y_1 + y_2))"
      ]
     },
     "execution_count": 10,
     "metadata": {},
     "output_type": "execute_result"
    }
   ],
   "source": [
    "sympy.diff(P_2, x)"
   ]
  },
  {
   "cell_type": "code",
   "execution_count": 11,
   "id": "cfb0f14d",
   "metadata": {},
   "outputs": [
    {
     "data": {
      "text/latex": [
       "$\\displaystyle \\frac{y_{1} - y_{2}}{\\left(- x_{1} + x_{2}\\right) \\left(- y_{1} + y_{3}\\right) - \\left(- x_{1} + x_{3}\\right) \\left(- y_{1} + y_{2}\\right)}$"
      ],
      "text/plain": [
       "(y_1 - y_2)/((-x_1 + x_2)*(-y_1 + y_3) - (-x_1 + x_3)*(-y_1 + y_2))"
      ]
     },
     "execution_count": 11,
     "metadata": {},
     "output_type": "execute_result"
    }
   ],
   "source": [
    "sympy.diff(P_3, x)"
   ]
  },
  {
   "cell_type": "code",
   "execution_count": 12,
   "id": "7e72ea29",
   "metadata": {},
   "outputs": [
    {
     "data": {
      "text/latex": [
       "$\\displaystyle \\frac{- x_{2} + x_{3}}{\\left(- x_{1} + x_{2}\\right) \\left(- y_{1} + y_{3}\\right) - \\left(- x_{1} + x_{3}\\right) \\left(- y_{1} + y_{2}\\right)}$"
      ],
      "text/plain": [
       "(-x_2 + x_3)/((-x_1 + x_2)*(-y_1 + y_3) - (-x_1 + x_3)*(-y_1 + y_2))"
      ]
     },
     "execution_count": 12,
     "metadata": {},
     "output_type": "execute_result"
    }
   ],
   "source": [
    "sympy.diff(P_1, y)"
   ]
  },
  {
   "cell_type": "code",
   "execution_count": 13,
   "id": "bf60dd68",
   "metadata": {},
   "outputs": [
    {
     "data": {
      "text/latex": [
       "$\\displaystyle \\frac{x_{1} - x_{3}}{\\left(- x_{1} + x_{2}\\right) \\left(- y_{1} + y_{3}\\right) - \\left(- x_{1} + x_{3}\\right) \\left(- y_{1} + y_{2}\\right)}$"
      ],
      "text/plain": [
       "(x_1 - x_3)/((-x_1 + x_2)*(-y_1 + y_3) - (-x_1 + x_3)*(-y_1 + y_2))"
      ]
     },
     "execution_count": 13,
     "metadata": {},
     "output_type": "execute_result"
    }
   ],
   "source": [
    "sympy.diff(P_2, y)"
   ]
  },
  {
   "cell_type": "code",
   "execution_count": 14,
   "id": "c304930b",
   "metadata": {},
   "outputs": [
    {
     "data": {
      "text/latex": [
       "$\\displaystyle \\frac{- x_{1} + x_{2}}{\\left(- x_{1} + x_{2}\\right) \\left(- y_{1} + y_{3}\\right) - \\left(- x_{1} + x_{3}\\right) \\left(- y_{1} + y_{2}\\right)}$"
      ],
      "text/plain": [
       "(-x_1 + x_2)/((-x_1 + x_2)*(-y_1 + y_3) - (-x_1 + x_3)*(-y_1 + y_2))"
      ]
     },
     "execution_count": 14,
     "metadata": {},
     "output_type": "execute_result"
    }
   ],
   "source": [
    "sympy.diff(P_3, y)"
   ]
  },
  {
   "cell_type": "code",
   "execution_count": 24,
   "id": "ba6e58e6",
   "metadata": {},
   "outputs": [
    {
     "data": {
      "text/latex": [
       "$\\displaystyle \\frac{1}{\\left(- x_{1} + x_{2}\\right) \\left(- y_{1} + y_{3}\\right) - \\left(- x_{1} + x_{3}\\right) \\left(- y_{1} + y_{2}\\right)}$"
      ],
      "text/plain": [
       "1/((-x_1 + x_2)*(-y_1 + y_3) - (-x_1 + x_3)*(-y_1 + y_2))"
      ]
     },
     "execution_count": 24,
     "metadata": {},
     "output_type": "execute_result"
    }
   ],
   "source": [
    "1/S2"
   ]
  },
  {
   "cell_type": "code",
   "execution_count": null,
   "id": "0a189b7a",
   "metadata": {},
   "outputs": [],
   "source": []
  }
 ],
 "metadata": {
  "kernelspec": {
   "display_name": "Python 3 (ipykernel)",
   "language": "python",
   "name": "python3"
  },
  "language_info": {
   "codemirror_mode": {
    "name": "ipython",
    "version": 3
   },
   "file_extension": ".py",
   "mimetype": "text/x-python",
   "name": "python",
   "nbconvert_exporter": "python",
   "pygments_lexer": "ipython3",
   "version": "3.9.12"
  }
 },
 "nbformat": 4,
 "nbformat_minor": 5
}
