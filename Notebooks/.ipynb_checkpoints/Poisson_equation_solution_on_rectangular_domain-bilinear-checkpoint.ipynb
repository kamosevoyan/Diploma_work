{
 "cells": [
  {
   "cell_type": "code",
   "execution_count": null,
   "id": "6d8feb48",
   "metadata": {},
   "outputs": [],
   "source": [
    "import numpy as np\n",
    "from tqdm import tqdm\n",
    "import matplotlib.pyplot as plt"
   ]
  },
  {
   "cell_type": "code",
   "execution_count": null,
   "id": "d6ff5106",
   "metadata": {},
   "outputs": [],
   "source": [
    "def f(x, y):\n",
    "    return 2 * np.ones_like(x)"
   ]
  },
  {
   "cell_type": "markdown",
   "id": "ab29507f",
   "metadata": {},
   "source": [
    "# Number of points per coordinate"
   ]
  },
  {
   "cell_type": "code",
   "execution_count": null,
   "id": "659b8f68",
   "metadata": {},
   "outputs": [],
   "source": [
    "n_points = 20"
   ]
  },
  {
   "cell_type": "markdown",
   "id": "11a0bb56",
   "metadata": {},
   "source": [
    "# Construct the necessary matrices"
   ]
  },
  {
   "cell_type": "code",
   "execution_count": null,
   "id": "e2687be3",
   "metadata": {},
   "outputs": [],
   "source": [
    "grid = np.linspace(-np.pi/2, np.pi/2, n_points)\n",
    "grid_x, grid_y = np.meshgrid(grid, grid, indexing=\"ij\")"
   ]
  },
  {
   "cell_type": "code",
   "execution_count": null,
   "id": "b055d063",
   "metadata": {},
   "outputs": [],
   "source": [
    "grid_z = f(grid_x, grid_y)\n",
    "h_1 = h_2 = grid[1] - grid[0]"
   ]
  },
  {
   "cell_type": "code",
   "execution_count": null,
   "id": "959caddd",
   "metadata": {},
   "outputs": [],
   "source": [
    "h1, h2 = h_1, h_2"
   ]
  },
  {
   "cell_type": "code",
   "execution_count": null,
   "id": "c1348b2f",
   "metadata": {},
   "outputs": [],
   "source": [
    "b = np.zeros(n_points**2)\n",
    "matrix = np.zeros((n_points**2, n_points**2), dtype=np.float32)\n",
    "\n",
    "for i in range(n_points**2):\n",
    "    idx = np.unravel_index(i, (n_points, n_points))\n",
    "    \n",
    "    #Dirichlet boundary conditions \n",
    "    if True:\n",
    "        if idx[0] == 0:\n",
    "            matrix[i] *= 0\n",
    "            matrix[i, i] = 1\n",
    "            b[i] = 0\n",
    "            continue\n",
    "        if idx[0] == n_points - 1:\n",
    "            matrix[i] *= 0\n",
    "            matrix[i, i] = 1\n",
    "            b[i] = 0\n",
    "            continue\n",
    "        if idx[1] == 0:\n",
    "            matrix[i] *= 0\n",
    "            matrix[i, i] = 1\n",
    "            b[i] = 0\n",
    "            continue       \n",
    "        if idx[1] == n_points - 1:\n",
    "            matrix[i] *= 0\n",
    "            matrix[i, i] = 1\n",
    "            b[i] = 0\n",
    "            continue\n",
    "    \n",
    "\n",
    "    matrix[i, i-n_points-1] = -h1/(6*h2) - h2/(6*h1)\n",
    "    matrix[i, i-n_points] = -2*h1/(3*h2) + h2/(3*h1)\n",
    "    matrix[i, i-n_points+1] = -h1/(6*h2) - h2/(6*h1)\n",
    "    \n",
    "    matrix[i, i-1] = h1/(3*h2) - 2*h2/(3*h1)\n",
    "    matrix[i, i-0] = 4*h1/(3*h2) + 4*h2/(3*h1)\n",
    "    matrix[i, i+1] = h1/(3*h2) - 2*h2/(3*h1)\n",
    "    \n",
    "    matrix[i, i+n_points-1] = -h1/(6*h2) - h2/(6*h1)\n",
    "    matrix[i, i+n_points] = -2*h1/(3*h2) + h2/(3*h1)\n",
    "    matrix[i, i+n_points+1] = -h1/(6*h2) - h2/(6*h1)\n",
    "\n",
    "    \n",
    "    b[i] = -1 * f(1, 1) * h_1*h_2"
   ]
  },
  {
   "cell_type": "markdown",
   "id": "b09b79f7",
   "metadata": {},
   "source": [
    "# Solve the system of linear equations"
   ]
  },
  {
   "cell_type": "code",
   "execution_count": null,
   "id": "2e9380d0",
   "metadata": {},
   "outputs": [],
   "source": [
    "u = np.linalg.solve(matrix, b)\n",
    "u = u.reshape(n_points, n_points)"
   ]
  },
  {
   "cell_type": "code",
   "execution_count": null,
   "id": "7cd0e93b",
   "metadata": {},
   "outputs": [],
   "source": [
    "t = np.linspace(grid[0], grid[-1], 200)\n",
    "xx, yy, = np.meshgrid(t, t, indexing=\"ij\")"
   ]
  },
  {
   "cell_type": "markdown",
   "id": "8b35b129",
   "metadata": {},
   "source": [
    "# Visualisation"
   ]
  },
  {
   "cell_type": "code",
   "execution_count": null,
   "id": "203cdb5f",
   "metadata": {},
   "outputs": [],
   "source": [
    "%matplotlib widget\n",
    "fig = plt.figure(figsize=(5, 5))\n",
    "ax = plt.axes(projection='3d')\n",
    "ax.scatter(grid_x, grid_y, u)\n",
    "plt.show()"
   ]
  },
  {
   "cell_type": "code",
   "execution_count": null,
   "id": "762d1124",
   "metadata": {},
   "outputs": [],
   "source": [
    "fig, ax = plt.subplots(figsize=(6, 6))\n",
    "ax.imshow(matrix != 0)\n",
    "plt.show()"
   ]
  }
 ],
 "metadata": {
  "kernelspec": {
   "display_name": "Python 3 (ipykernel)",
   "language": "python",
   "name": "python3"
  },
  "language_info": {
   "codemirror_mode": {
    "name": "ipython",
    "version": 3
   },
   "file_extension": ".py",
   "mimetype": "text/x-python",
   "name": "python",
   "nbconvert_exporter": "python",
   "pygments_lexer": "ipython3",
   "version": "3.9.12"
  }
 },
 "nbformat": 4,
 "nbformat_minor": 5
}
