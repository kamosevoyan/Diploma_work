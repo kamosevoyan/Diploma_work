{
 "cells": [
  {
   "cell_type": "code",
   "execution_count": null,
   "id": "f08b13c7",
   "metadata": {},
   "outputs": [],
   "source": [
    "import sympy\n",
    "import matplotlib.pyplot as plt\n",
    "import numpy as np\n",
    "from tqdm import tqdm\n",
    "import symfem"
   ]
  },
  {
   "cell_type": "code",
   "execution_count": null,
   "id": "12b69267",
   "metadata": {},
   "outputs": [],
   "source": [
    "p_1, p_2, p_3 = sympy.symbols('p_1 p_2 p_3')\n",
    "p_1_x, p_2_x, p_1_y, p_2_y = sympy.symbols('p_1_x p_2_x p_1_y p_2_y')\n",
    "x, y = sympy.symbols(\"x, y\")"
   ]
  },
  {
   "cell_type": "code",
   "execution_count": null,
   "id": "8f5424ef-f45c-4f03-8e35-bbee98d3dd49",
   "metadata": {},
   "outputs": [],
   "source": [
    "all_basis = symfem.create_element(\"triangle\", \"Lagrange\", 2).get_basis_functions()\n",
    "all_basis = [itm.subs(x, p_1).subs(y, p_2) for itm in all_basis]"
   ]
  },
  {
   "cell_type": "code",
   "execution_count": null,
   "id": "51abb938",
   "metadata": {},
   "outputs": [],
   "source": [
    "result = {}\n",
    "args = [p_1_x, p_2_x, p_1_y, p_2_y]\n",
    "\n",
    "J_inv_det = sympy.Matrix(args).reshape(2, 2).inv().det()\n",
    "\n",
    "for i in tqdm(range(6)):\n",
    "    for j in range(6):\n",
    "        \n",
    "        first = all_basis[i].subs(p_3, 1-p_1-p_2)\n",
    "        second = all_basis[j].subs(p_3, 1-p_1-p_2)\n",
    "        \n",
    "        u_x = first.diff(p_1)*p_1_x + first.diff(p_2)*p_2_x\n",
    "        u_y = first.diff(p_1)*p_1_y + first.diff(p_2)*p_2_y\n",
    "\n",
    "        v_x = second.diff(p_1)*p_1_x + second.diff(p_2)*p_2_x\n",
    "        v_y = second.diff(p_1)*p_1_y + second.diff(p_2)*p_2_y\n",
    "\n",
    "        integral = sympy.integrate(u_x*v_x + u_y*v_y, (p_2, 0, 1-p_1), (p_1, 0, 1)) * J_inv_det\n",
    "        \n",
    "        func = sympy.lambdify(args, integral)\n",
    "        result[f'{i}_{j}'] = func"
   ]
  },
  {
   "cell_type": "code",
   "execution_count": null,
   "id": "6c846096",
   "metadata": {},
   "outputs": [],
   "source": [
    "for idx, basis in enumerate(all_basis):\n",
    "    basis_norm = basis.subs(p_3, 1-p_1-p_2)\n",
    "    sym_int = sympy.integrate(basis_norm * J_inv_det, (p_2, 0, 1-p_1), (p_1, 0, 1))    \n",
    "    result[f'{idx}'] = sympy.lambdify(args, sym_int)"
   ]
  },
  {
   "cell_type": "code",
   "execution_count": null,
   "id": "b6e4716c",
   "metadata": {},
   "outputs": [],
   "source": [
    "import dill\n",
    "dill.settings['recurse'] = True\n",
    "dill.dump(result, open('../calculations/poisson_quad', 'wb'))"
   ]
  }
 ],
 "metadata": {
  "kernelspec": {
   "display_name": "Python 3 (ipykernel)",
   "language": "python",
   "name": "python3"
  },
  "language_info": {
   "codemirror_mode": {
    "name": "ipython",
    "version": 3
   },
   "file_extension": ".py",
   "mimetype": "text/x-python",
   "name": "python",
   "nbconvert_exporter": "python",
   "pygments_lexer": "ipython3",
   "version": "3.9.12"
  }
 },
 "nbformat": 4,
 "nbformat_minor": 5
}
