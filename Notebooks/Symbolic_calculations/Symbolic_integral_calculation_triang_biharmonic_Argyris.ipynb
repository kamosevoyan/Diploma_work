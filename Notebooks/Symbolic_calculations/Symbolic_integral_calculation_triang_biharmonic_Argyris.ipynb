{
 "cells": [
  {
   "cell_type": "code",
   "execution_count": null,
   "id": "f08b13c7",
   "metadata": {},
   "outputs": [],
   "source": [
    "import sympy\n",
    "import matplotlib.pyplot as plt\n",
    "import numpy as np\n",
    "from tqdm import tqdm\n",
    "import symfem\n",
    "from sympy import Rational\n",
    "import dill\n",
    "dill.settings[\"recurse\"] = True\n",
    "from sympy import Rational as R\n",
    "from IPython.display import display"
   ]
  },
  {
   "cell_type": "code",
   "execution_count": null,
   "id": "8c5ae4a2",
   "metadata": {},
   "outputs": [],
   "source": [
    "argyris_basis = symfem.create_element(\"triangle\", \"Argyris\", 5)\n",
    "argyris_basis.get_basis_functions()[18] *= -1\n",
    "argyris_basis.get_basis_functions()[20] *= -1\n",
    "argyris_basis = argyris_basis.get_basis_functions()"
   ]
  },
  {
   "cell_type": "markdown",
   "id": "8cac3db9",
   "metadata": {},
   "source": [
    "# Necessary symbols"
   ]
  },
  {
   "cell_type": "code",
   "execution_count": null,
   "id": "ec0f31c1",
   "metadata": {},
   "outputs": [],
   "source": [
    "x, y, x_1, y_1, x_2, y_2, x_3, y_3 = sympy.symbols(\"x y x_1 y_1 x_2 y_2 x_3 y_3\")\n",
    "\n",
    "l1, l2, l3 = sympy.symbols(\"l1:4\")\n",
    "\n",
    "n1, n2, n3 = np.array(sympy.symbols(\"nx_1:4 ny_1:4\")).reshape(2, 3).T\n",
    "t1, t2, t3 = np.array(sympy.symbols(\"tx_1:4 ty_1:4\")).reshape(2, 3).T\n",
    "\n",
    "tau_1 = sympy.Matrix([t1[0] ** 2, 2 * t1[0] * t1[1], t1[1] ** 2])\n",
    "tau_2 = sympy.Matrix([t2[0] ** 2, 2 * t2[0] * t2[1], t2[1] ** 2])\n",
    "tau_3 = sympy.Matrix([t3[0] ** 2, 2 * t3[0] * t3[1], t3[1] ** 2])\n",
    "\n",
    "right_vals = sympy.symbols(\"\\phi_1:22\")\n",
    "\n",
    "J = sympy.Matrix(np.array(sympy.symbols(\"J(1:3)1:3\")).reshape(2, 2).tolist())\n",
    "THETA = sympy.Matrix(np.array(sympy.symbols(\"H(1:4)1:4\")).reshape(3, 3).tolist())\n",
    "\n",
    "B1 = sympy.Matrix(np.array(sympy.symbols(\"BI_(1:3)1:3\")).reshape(2, 2).tolist())\n",
    "B2 = sympy.Matrix(np.array(sympy.symbols(\"BII_(1:3)1:3\")).reshape(2, 2).tolist())\n",
    "B3 = sympy.Matrix(np.array(sympy.symbols(\"BIII_(1:3)1:3\")).reshape(2, 2).tolist())\n",
    "\n",
    "DN_B1 = sympy.Matrix(np.array(sympy.symbols(\"DNBI_(1:3)1:3\")).reshape(2, 2).tolist())\n",
    "DN_B2 = sympy.Matrix(np.array(sympy.symbols(\"DNBII_(1:3)1:3\")).reshape(2, 2).tolist())\n",
    "DN_B3 = sympy.Matrix(np.array(sympy.symbols(\"DNBIII_(1:3)1:3\")).reshape(2, 2).tolist())"
   ]
  },
  {
   "cell_type": "code",
   "execution_count": null,
   "id": "1a7d2f3d",
   "metadata": {},
   "outputs": [],
   "source": [
    "syms = [\n",
    "    *n1,\n",
    "    *n2,\n",
    "    *n3,\n",
    "    *t1,\n",
    "    *t2,\n",
    "    *t3,\n",
    "    l1,\n",
    "    l2,\n",
    "    l3,\n",
    "    *np.array(J.tolist()).flatten(),\n",
    "    *np.array(THETA.tolist()).flatten(),\n",
    "    *np.array(B1.tolist()).flatten(),\n",
    "    *np.array(B2.tolist()).flatten(),\n",
    "    *np.array(B3.tolist()).flatten(),\n",
    "    *np.array(DN_B1.tolist()).flatten(),\n",
    "    *np.array(DN_B2.tolist()).flatten(),\n",
    "    *np.array(DN_B3.tolist()).flatten(),\n",
    "    *right_vals,\n",
    "]"
   ]
  },
  {
   "cell_type": "code",
   "execution_count": null,
   "id": "a8695abb",
   "metadata": {},
   "outputs": [],
   "source": [
    "N = len(argyris_basis)"
   ]
  },
  {
   "cell_type": "code",
   "execution_count": null,
   "id": "5662e8fe",
   "metadata": {},
   "outputs": [],
   "source": [
    "result_b = [[0 for i in range(N)] for j in range(N)]\n",
    "result_B = [[0 for i in range(N)] for j in range(N)]\n",
    "result_A = [[0 for i in range(N)] for j in range(N)]\n",
    "\n",
    "for idx, jdx in tqdm([(idx, jdx) for idx in range(N) for jdx in range(N)]):\n",
    "    first = argyris_basis[idx]\n",
    "    second = argyris_basis[jdx]\n",
    "\n",
    "    # -----------------------U------------------------------------------------------------------------------\n",
    "    u_x = first.diff(x) * J.row(0)[0] + first.diff(y) * J.row(1)[0]\n",
    "    u_y = first.diff(x) * J.row(0)[1] + first.diff(y) * J.row(1)[1]\n",
    "\n",
    "    u_xx = u_x.diff(x) * J.row(0)[0] + u_x.diff(y) * J.row(1)[0]\n",
    "    u_xy = u_x.diff(x) * J.row(0)[1] + u_x.diff(y) * J.row(1)[1]\n",
    "\n",
    "    u_yy = u_y.diff(x) * J.row(0)[1] + u_y.diff(y) * J.row(1)[1]\n",
    "    # ------------------------------------------------------------------------------------------------------\n",
    "\n",
    "    # -----------------------V------------------------------------------------------------------------------\n",
    "    v_x = second.diff(x) * J.row(0)[0] + second.diff(y) * J.row(1)[0]\n",
    "    v_y = second.diff(x) * J.row(0)[1] + second.diff(y) * J.row(1)[1]\n",
    "\n",
    "    v_xx = v_x.diff(x) * J.row(0)[0] + v_x.diff(y) * J.row(1)[0]\n",
    "    v_xy = v_x.diff(x) * J.row(0)[1] + v_x.diff(y) * J.row(1)[1]\n",
    "\n",
    "    v_yy = v_y.diff(x) * J.row(0)[1] + v_y.diff(y) * J.row(1)[1]\n",
    "    # ------------------------------------------------------------------------------------------------------\n",
    "\n",
    "    A = u_xx * v_xx\n",
    "    B = u_xy * v_xy\n",
    "    b = u_xx * v_yy\n",
    "    C = u_yy * v_yy\n",
    "\n",
    "    sym_int_B = sympy.integrate(A + 2 * B + C, (y, 0, 1 - x), (x, 0, 1))\n",
    "    sym_int_b = sympy.integrate(A + 2 * b + C, (y, 0, 1 - x), (x, 0, 1))\n",
    "    sym_int_A = sympy.integrate(first * second, (y, 0, 1 - x), (x, 0, 1))\n",
    "\n",
    "    result_B[idx][jdx] = sym_int_B * J.inv().det()\n",
    "    result_b[idx][jdx] = sym_int_b * J.inv().det()\n",
    "    result_A[idx][jdx] = sym_int_A * J.inv().det()"
   ]
  },
  {
   "cell_type": "markdown",
   "id": "a8c92cab",
   "metadata": {},
   "source": [
    "# Define transformation matrices"
   ]
  },
  {
   "cell_type": "markdown",
   "id": "7266a9e6",
   "metadata": {},
   "source": [
    "### $V^{c}$"
   ]
  },
  {
   "cell_type": "code",
   "execution_count": null,
   "id": "d049ac56",
   "metadata": {},
   "outputs": [],
   "source": [
    "V_c = sympy.diag(\n",
    "    1,\n",
    "    J.inv().T,\n",
    "    THETA.inv(),\n",
    "    1,\n",
    "    J.inv().T,\n",
    "    THETA.inv(),\n",
    "    1,\n",
    "    J.inv().T,\n",
    "    THETA.inv(),\n",
    "    B1,\n",
    "    B2,\n",
    "    B3,\n",
    ")"
   ]
  },
  {
   "cell_type": "markdown",
   "id": "1aa1c18f",
   "metadata": {},
   "source": [
    "### $E$"
   ]
  },
  {
   "cell_type": "code",
   "execution_count": null,
   "id": "c99d6b34",
   "metadata": {},
   "outputs": [],
   "source": [
    "E = np.zeros((21, 24), dtype=int)\n",
    "for i in range(21):\n",
    "    for j in range(24):\n",
    "        if (i <= 18) and (j <= 18) and (i == j):\n",
    "            E[i][j] = 1\n",
    "        elif (i == 19) and (j == 20):\n",
    "            E[i][j] = 1\n",
    "        elif (i == 20) and (j == 22):\n",
    "            E[i][j] = 1\n",
    "E = sympy.Matrix(E)"
   ]
  },
  {
   "cell_type": "markdown",
   "id": "9c50044a",
   "metadata": {},
   "source": [
    "### $D$"
   ]
  },
  {
   "cell_type": "code",
   "execution_count": null,
   "id": "81d94b78",
   "metadata": {},
   "outputs": [],
   "source": [
    "D = sympy.Matrix(\n",
    "    [\n",
    "        [1, 0, 0, 0, 0, 0, 0, 0, 0, 0, 0, 0, 0, 0, 0, 0, 0, 0, 0, 0, 0],\n",
    "        [0, 1, 0, 0, 0, 0, 0, 0, 0, 0, 0, 0, 0, 0, 0, 0, 0, 0, 0, 0, 0],\n",
    "        [0, 0, 1, 0, 0, 0, 0, 0, 0, 0, 0, 0, 0, 0, 0, 0, 0, 0, 0, 0, 0],\n",
    "        [0, 0, 0, 1, 0, 0, 0, 0, 0, 0, 0, 0, 0, 0, 0, 0, 0, 0, 0, 0, 0],\n",
    "        [0, 0, 0, 0, 1, 0, 0, 0, 0, 0, 0, 0, 0, 0, 0, 0, 0, 0, 0, 0, 0],\n",
    "        [0, 0, 0, 0, 0, 1, 0, 0, 0, 0, 0, 0, 0, 0, 0, 0, 0, 0, 0, 0, 0],\n",
    "        [0, 0, 0, 0, 0, 0, 1, 0, 0, 0, 0, 0, 0, 0, 0, 0, 0, 0, 0, 0, 0],\n",
    "        [0, 0, 0, 0, 0, 0, 0, 1, 0, 0, 0, 0, 0, 0, 0, 0, 0, 0, 0, 0, 0],\n",
    "        [0, 0, 0, 0, 0, 0, 0, 0, 1, 0, 0, 0, 0, 0, 0, 0, 0, 0, 0, 0, 0],\n",
    "        [0, 0, 0, 0, 0, 0, 0, 0, 0, 1, 0, 0, 0, 0, 0, 0, 0, 0, 0, 0, 0],\n",
    "        [0, 0, 0, 0, 0, 0, 0, 0, 0, 0, 1, 0, 0, 0, 0, 0, 0, 0, 0, 0, 0],\n",
    "        [0, 0, 0, 0, 0, 0, 0, 0, 0, 0, 0, 1, 0, 0, 0, 0, 0, 0, 0, 0, 0],\n",
    "        [0, 0, 0, 0, 0, 0, 0, 0, 0, 0, 0, 0, 1, 0, 0, 0, 0, 0, 0, 0, 0],\n",
    "        [0, 0, 0, 0, 0, 0, 0, 0, 0, 0, 0, 0, 0, 1, 0, 0, 0, 0, 0, 0, 0],\n",
    "        [0, 0, 0, 0, 0, 0, 0, 0, 0, 0, 0, 0, 0, 0, 1, 0, 0, 0, 0, 0, 0],\n",
    "        [0, 0, 0, 0, 0, 0, 0, 0, 0, 0, 0, 0, 0, 0, 0, 1, 0, 0, 0, 0, 0],\n",
    "        [0, 0, 0, 0, 0, 0, 0, 0, 0, 0, 0, 0, 0, 0, 0, 0, 1, 0, 0, 0, 0],\n",
    "        [0, 0, 0, 0, 0, 0, 0, 0, 0, 0, 0, 0, 0, 0, 0, 0, 0, 1, 0, 0, 0],\n",
    "        [0, 0, 0, 0, 0, 0, 0, 0, 0, 0, 0, 0, 0, 0, 0, 0, 0, 0, 1, 0, 0],\n",
    "        [\n",
    "            0,\n",
    "            0,\n",
    "            0,\n",
    "            0,\n",
    "            0,\n",
    "            0,\n",
    "            -15 / (8 * l1),\n",
    "            -R(7, 16) * t1[0],\n",
    "            -R(7, 16) * t1[1],\n",
    "            -l1 / 32 * tau_1[0],\n",
    "            -l1 / 32 * tau_1[1],\n",
    "            -l1 / 32 * tau_1[2],\n",
    "            +15 / (8 * l1),\n",
    "            -R(7, 16) * t1[0],\n",
    "            -R(7, 16) * t1[1],\n",
    "            +l1 / 32 * tau_1[0],\n",
    "            +l1 / 32 * tau_1[1],\n",
    "            +l1 / 32 * tau_1[2],\n",
    "            0,\n",
    "            0,\n",
    "            0,\n",
    "        ],\n",
    "        [0, 0, 0, 0, 0, 0, 0, 0, 0, 0, 0, 0, 0, 0, 0, 0, 0, 0, 0, 1, 0],\n",
    "        [\n",
    "            +15 / (8 * l2),\n",
    "            -R(7, 16) * t2[0],\n",
    "            -R(7, 16) * t2[1],\n",
    "            +l2 / 32 * tau_2[0],\n",
    "            +l2 / 32 * tau_2[1],\n",
    "            +l2 / 32 * tau_2[2],\n",
    "            0,\n",
    "            0,\n",
    "            0,\n",
    "            0,\n",
    "            0,\n",
    "            0,\n",
    "            -15 / (8 * l2),\n",
    "            -R(7, 16) * t2[0],\n",
    "            -R(7, 16) * t2[1],\n",
    "            -l2 / 32 * tau_2[0],\n",
    "            -l2 / 32 * tau_2[1],\n",
    "            -l2 / 32 * tau_2[2],\n",
    "            0,\n",
    "            0,\n",
    "            0,\n",
    "        ],\n",
    "        [0, 0, 0, 0, 0, 0, 0, 0, 0, 0, 0, 0, 0, 0, 0, 0, 0, 0, 0, 0, 1],\n",
    "        [\n",
    "            -15 / (8 * l3),\n",
    "            -R(7, 16) * t3[0],\n",
    "            -R(7, 16) * t3[1],\n",
    "            -l3 / 32 * tau_3[0],\n",
    "            -l3 / 32 * tau_3[1],\n",
    "            -l3 / 32 * tau_3[2],\n",
    "            +15 / (8 * l3),\n",
    "            -R(7, 16) * t3[0],\n",
    "            -R(7, 16) * t3[1],\n",
    "            +l3 / 32 * tau_3[0],\n",
    "            +l3 / 32 * tau_3[1],\n",
    "            +l3 / 32 * tau_3[2],\n",
    "            0,\n",
    "            0,\n",
    "            0,\n",
    "            0,\n",
    "            0,\n",
    "            0,\n",
    "            0,\n",
    "            0,\n",
    "            0,\n",
    "        ],\n",
    "    ]\n",
    ")"
   ]
  },
  {
   "cell_type": "markdown",
   "id": "91406bd6",
   "metadata": {},
   "source": [
    "### $M$"
   ]
  },
  {
   "cell_type": "code",
   "execution_count": null,
   "id": "44fbc566",
   "metadata": {},
   "outputs": [],
   "source": [
    "M = (E @ V_c @ D).T\n",
    "M[18 * 21 + 18] = DN_B1[0]\n",
    "M[19 * 21 + 19] = DN_B2[0]\n",
    "M[20 * 21 + 20] = DN_B3[0]"
   ]
  },
  {
   "cell_type": "code",
   "execution_count": null,
   "id": "116880c0",
   "metadata": {},
   "outputs": [],
   "source": [
    "result_b = sympy.Matrix(result_b)\n",
    "result_B = sympy.Matrix(result_B)\n",
    "result_A = sympy.Matrix(result_A)\n",
    "right_vals = sympy.Matrix(right_vals)"
   ]
  },
  {
   "cell_type": "code",
   "execution_count": null,
   "id": "87910873",
   "metadata": {},
   "outputs": [],
   "source": [
    "FUNC_b = sympy.lambdify(syms, M @ result_b @ M.T)"
   ]
  },
  {
   "cell_type": "code",
   "execution_count": null,
   "id": "c37e389c",
   "metadata": {},
   "outputs": [],
   "source": [
    "FUNC_B = sympy.lambdify(syms, M @ result_B @ M.T)"
   ]
  },
  {
   "cell_type": "code",
   "execution_count": null,
   "id": "ffcdf220-3909-4d93-9f02-f450b22c3468",
   "metadata": {},
   "outputs": [],
   "source": [
    "FUNC_A = sympy.lambdify(syms, M @ result_A @ M.T @ right_vals)"
   ]
  },
  {
   "cell_type": "code",
   "execution_count": null,
   "id": "c59c521b",
   "metadata": {},
   "outputs": [],
   "source": [
    "dill.dump(FUNC_b, open(\"../calculations/arg_bas_m_alter\", \"wb\"))\n",
    "dill.dump(FUNC_B, open(\"../calculations/arg_bas_m\", \"wb\"))\n",
    "dill.dump(FUNC_A, open(\"../calculations/arg_bas_r_vals\", \"wb\"))"
   ]
  }
 ],
 "metadata": {
  "kernelspec": {
   "display_name": "Python 3 (ipykernel)",
   "language": "python",
   "name": "python3"
  },
  "language_info": {
   "codemirror_mode": {
    "name": "ipython",
    "version": 3
   },
   "file_extension": ".py",
   "mimetype": "text/x-python",
   "name": "python",
   "nbconvert_exporter": "python",
   "pygments_lexer": "ipython3",
   "version": "3.9.12"
  }
 },
 "nbformat": 4,
 "nbformat_minor": 5
}
