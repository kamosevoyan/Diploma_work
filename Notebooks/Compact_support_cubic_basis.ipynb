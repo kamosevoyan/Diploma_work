{
    "cells": [
        {
            "cell_type": "code",
            "execution_count": null,
            "id": "59ca4e11",
            "metadata": {},
            "outputs": [],
            "source": ["import matplotlib.pyplot as plt\n", "import numpy as np"]
        },
        {
            "cell_type": "code",
            "execution_count": null,
            "id": "0d147f3b",
            "metadata": {},
            "outputs": [],
            "source": [
                "def pos(x):\n",
                "    \n",
                "    y = x.copy()\n",
                "    y[x > 0] = x[x > 0]\n",
                "    y[x <=0] = 0\n",
                "    \n",
                "    return y"
            ]
        },
        {
            "cell_type": "code",
            "execution_count": null,
            "id": "e371e870",
            "metadata": {},
            "outputs": [],
            "source": [
                "def gamma(x):\n",
                "    a =   pos(x + 2)**3\n",
                "    b = 4*pos(x + 1)**3\n",
                "    c = 6*pos(x)**3\n",
                "    d = 4*pos(x - 1)**3\n",
                "    e =   pos(x - 2)**3\n",
                "\n",
                "    f = 0.25 * (a - b + c - d + e)\n",
                "\n",
                "    return f"
            ]
        },
        {
            "cell_type": "code",
            "execution_count": null,
            "id": "c9dc8488",
            "metadata": {},
            "outputs": [],
            "source": [
                "def final_basis_normal(i, x, h, N, x_0):\n",
                "    \n",
                "    if (0 <= i <= N-1):\n",
                "        a =   pos((x-x_0)/h - (i - 2))**3\n",
                "        b = 4*pos((x-x_0)/h - (i - 1))**3\n",
                "        c = 6*pos((x-x_0)/h - (i - 0))**3\n",
                "        d = 4*pos((x-x_0)/h - (i + 1))**3\n",
                "        e =   pos((x-x_0)/h - (i + 2))**3\n",
                "\n",
                "        f = 0.25 * (a - b + c - d + e)\n",
                "\n",
                "        if i == 0:\n",
                "            f += pos(1 - (x - x_0)/h)**3/4\n",
                "        \n",
                "        if i == (N - 1):\n",
                "            f += pos((x - x_0)/h - (N-2))**3/4\n",
                "        \n",
                "        f[x < x_0] = 0\n",
                "        \n",
                "    return f"
            ]
        },
        {
            "cell_type": "code",
            "execution_count": null,
            "id": "6648c9bd",
            "metadata": {},
            "outputs": [],
            "source": [
                "x, dx = np.linspace(-6, 6, 10_000, retstep=True)\n",
                "y = gamma(x)"
            ]
        },
        {
            "cell_type": "code",
            "execution_count": null,
            "id": "7b1cf994",
            "metadata": {},
            "outputs": [],
            "source": [
                "fig, ax = plt.subplots(figsize=(10, 5))\n",
                "\n",
                "ax.plot(x, y, lw=3)\n",
                "ax.plot(x[1:], np.diff(y, n=1)/dx, ls='-.', lw=2)\n",
                "ax.plot(x[2:], np.diff(y, n=2)/dx**2, ls='--', lw=1)\n",
                "ax.plot(x[3:], np.diff(y, n=3)/dx**3, ls=':')\n",
                "\n",
                "ax.legend([r'$\\gamma(x)$', \n",
                "           r'$ \\dfrac{d}{dx} \\gamma(x)$',\n",
                "          r'$ \\dfrac{d^2}{dx^2} \\gamma(x)$',\n",
                "          r'$ \\dfrac{d^3}{dx^3} \\gamma(x)$'], loc='upper left', fontsize=10)\n",
                "\n",
                "ax.grid()\n",
                "ax.set_xlim([-4, 4])\n",
                "fig.tight_layout()\n",
                "plt.show()"
            ]
        },
        {
            "cell_type": "code",
            "execution_count": null,
            "id": "bf8858ea",
            "metadata": {},
            "outputs": [],
            "source": ["#fig.savefig('../images/cubic_compact_support_basis')"]
        },
        {
            "cell_type": "markdown",
            "id": "f14cfa6a",
            "metadata": {},
            "source": ["# All basis"]
        },
        {
            "cell_type": "code",
            "execution_count": null,
            "id": "1dc9e981",
            "metadata": {},
            "outputs": [],
            "source": [
                "x0 = -3\n",
                "xN = 5\n",
                "N = 11\n",
                "\n",
                "X, h = np.linspace(x0, xN, N, retstep=True)\n",
                "x = np.linspace(x0, xN, 1_000)"
            ]
        },
        {
            "cell_type": "code",
            "execution_count": null,
            "id": "86b35377",
            "metadata": {},
            "outputs": [],
            "source": [
                "fig, ax = plt.subplots(figsize=(10, 5))\n",
                "\n",
                "b0 = final_basis_normal(0, x, h, N, x0)\n",
                "b1 = final_basis_normal(1, x, h, N, x0)\n",
                "\n",
                "bj = final_basis_normal(5, x, h, N, x0)\n",
                "\n",
                "bN_1 = final_basis_normal(N-2, x, h, N, x0)\n",
                "bN = final_basis_normal(N-1, x, h, N, x0)\n",
                "\n",
                "ax.plot(x, b0, ls='-.')\n",
                "ax.plot(x, b1, ls='--')\n",
                "ax.plot(x, bj, lw=3)\n",
                "ax.plot(x, bN_1, ls='--')\n",
                "ax.plot(x, bN, ls='-.'')\n",
                "\n",
                "\n",
                "ax.legend(['$B_{0}$', '$B_{1}$', '$B_{j}$', '$B_{N-1}$', '$B_{N}$'], loc='lower left')\n",
                "ax.axes.xaxis.set_visible(False)\n",
                "ax.axes.yaxis.set_visible(False)\n",
                "fig.tight_layout()\n",
                "plt.show()"
            ]
        },
        {
            "cell_type": "code",
            "execution_count": null,
            "id": "876c9336",
            "metadata": {},
            "outputs": [],
            "source": ["#fig.savefig('../images/all_cubic_compact_support_basis')"]
        },
        {
            "cell_type": "markdown",
            "id": "5682cd0a",
            "metadata": {},
            "source": ["# 2D basis"]
        },
        {
            "cell_type": "code",
            "execution_count": null,
            "id": "3d677e5f",
            "metadata": {},
            "outputs": [],
            "source": [
                "x0 = -3\n",
                "xN = 3\n",
                "N = 8\n",
                "\n",
                "X, h = np.linspace(x0, xN, N, retstep=True)\n",
                "x = np.linspace(x0, xN, 1_000)"
            ]
        },
        {
            "cell_type": "code",
            "execution_count": null,
            "id": "8882a45a",
            "metadata": {},
            "outputs": [],
            "source": ["IX, IY = np.meshgrid(X, X, indexing='ij')"]
        },
        {
            "cell_type": "code",
            "execution_count": null,
            "id": "8f5f0fcf",
            "metadata": {},
            "outputs": [],
            "source": [
                "xx, yy = np.meshgrid(x, x, indexing='ij')\n",
                "zz = np.zeros_like(xx)"
            ]
        },
        {
            "cell_type": "code",
            "execution_count": null,
            "id": "0f3419d4",
            "metadata": {},
            "outputs": [],
            "source": [
                "%matplotlib widget\n",
                "fig = plt.figure(figsize=(10, 10))\n",
                "ax = plt.axes(projection='3d')\n",
                "\n",
                "b43 = np.outer(final_basis_normal(4, x, h, N, x0),\n",
                "              final_basis_normal(3, x, h, N, x0))\n",
                "\n",
                "b00 = np.outer(final_basis_normal(0, x, h, N, x0),\n",
                "              final_basis_normal(0, x, h, N, x0))\n",
                "\n",
                "b00 = np.outer(final_basis_normal(0, x, h, N, x0),\n",
                "              final_basis_normal(0, x, h, N, x0))\n",
                "\n",
                "b04 = np.outer(final_basis_normal(0, x, h, N, x0),\n",
                "              final_basis_normal(4, x, h, N, x0))\n",
                "\n",
                "b46 = np.outer(final_basis_normal(4, x, h, N, x0),\n",
                "              final_basis_normal(6, x, h, N, x0))\n",
                "\n",
                "\n",
                "ax.plot_surface(xx, yy, b46, cmap='magma')\n",
                "ax.set_xlim([-3, 3])\n",
                "ax.set_ylim([-3, 3])\n",
                "ax.set_zlim([0, 3])\n",
                "\n",
                "ax.grid(False)\n",
                "\n",
                "# Hide axes ticks\n",
                "ax.set_xticks([])\n",
                "ax.set_yticks([])\n",
                "ax.set_zticks([])\n",
                "plt.axis('off')\n",
                "\n",
                "plt.show()"
            ]
        },
        {
            "cell_type": "code",
            "execution_count": null,
            "id": "41255544",
            "metadata": {},
            "outputs": [],
            "source": [
                "#fig.savefig('../images/two_dimensional_basis_1', dpi=200, transparent=True)"
            ]
        },
        {
            "cell_type": "code",
            "execution_count": null,
            "id": "7c1026c8",
            "metadata": {},
            "outputs": [],
            "source": [
                "x0 = -3\n",
                "N = 10\n",
                "X, h = np.linspace(x0, 3, N, retstep=True)\n",
                "x = np.linspace(x0, 3, 1000)"
            ]
        },
        {
            "cell_type": "code",
            "execution_count": null,
            "id": "49dcc55f",
            "metadata": {},
            "outputs": [],
            "source": [
                "%matplotlib inline\n",
                "fig, ax = plt.subplots(figsize=(20, 4))\n",
                "f = np.zeros_like(x)\n",
                "\n",
                "for j in range(0, N):\n",
                "    ax.plot(x, final_basis_normal(j, x, h, N, x0))\n",
                "    f += final_basis_normal(j, x, h, N, x0)\n",
                "\n",
                "for xx in X:\n",
                "    ax.axvline(x=xx, color='black')\n",
                "\n",
                "ax.plot(x, f)\n",
                "ax.legend([f'{j}' for j in range(N)])\n",
                "plt.show()"
            ]
        },
        {
            "cell_type": "markdown",
            "id": "6078df64",
            "metadata": {},
            "source": ["# 1D Interpolation Example"]
        },
        {
            "cell_type": "code",
            "execution_count": null,
            "id": "3ec8f08c",
            "metadata": {},
            "outputs": [],
            "source": ["Y = np.sin(X)"]
        },
        {
            "cell_type": "code",
            "execution_count": null,
            "id": "687bb710",
            "metadata": {},
            "outputs": [],
            "source": [
                "n_points = X.shape[0]\n",
                "matrix = np.zeros((n_points, n_points))\n",
                "matrix += np.eye(n_points) + 0.25 * np.eye(n_points, k=1) + 0.25 *np.eye(n_points, k=-1)"
            ]
        },
        {
            "cell_type": "code",
            "execution_count": null,
            "id": "a9cca6f5",
            "metadata": {},
            "outputs": [],
            "source": ["matrix[+0, +0] = 1.25\n", "matrix[-1, -1] = 1.25"]
        },
        {
            "cell_type": "code",
            "execution_count": null,
            "id": "e443808d",
            "metadata": {},
            "outputs": [],
            "source": ["c = np.linalg.solve(matrix, Y)"]
        },
        {
            "cell_type": "code",
            "execution_count": null,
            "id": "bf8ade36",
            "metadata": {},
            "outputs": [],
            "source": [
                "f_bar = np.zeros_like(x)\n",
                "\n",
                "for j in range(n_points):\n",
                "    f_bar += c[j] * final_basis_normal(j, x, h, N, x0)"
            ]
        },
        {
            "cell_type": "code",
            "execution_count": null,
            "id": "58049386",
            "metadata": {},
            "outputs": [],
            "source": [
                "fig, ax = plt.subplots()\n",
                "ax.plot(x, f_bar-np.sin(x))\n",
                "plt.show()"
            ]
        },
        {
            "cell_type": "markdown",
            "id": "3467b457",
            "metadata": {},
            "source": ["# Single basis"]
        },
        {
            "cell_type": "code",
            "execution_count": null,
            "id": "be315dd9",
            "metadata": {},
            "outputs": [],
            "source": ["IX, IY = np.meshgrid(X, X, indexing='ij')"]
        },
        {
            "cell_type": "code",
            "execution_count": null,
            "id": "8308f79a",
            "metadata": {},
            "outputs": [],
            "source": ["IZ = np.sin(IX)*np.cos(IY)"]
        },
        {
            "cell_type": "code",
            "execution_count": null,
            "id": "197f2d75",
            "metadata": {},
            "outputs": [],
            "source": [
                "xx, yy = np.meshgrid(x, x, indexing='ij')\n",
                "zz = np.zeros_like(xx)"
            ]
        },
        {
            "cell_type": "code",
            "execution_count": null,
            "id": "e4773b3e",
            "metadata": {},
            "outputs": [],
            "source": [
                "%matplotlib widget\n",
                "fig = plt.figure(figsize=(8, 8))\n",
                "ax = plt.axes(projection='3d')\n",
                "zz = np.outer(final_basis_normal(3, x, h, N, x0),\n",
                "              final_basis_normal(3, x, h, N, x0))\n",
                "ax.plot_surface(xx, yy, zz, cmap='magma')\n",
                "ax.scatter(IX, IY, IZ*0, color='red')\n",
                "plt.show()"
            ]
        },
        {
            "cell_type": "markdown",
            "id": "6a0b5c5f",
            "metadata": {},
            "source": ["# 2D interpolation example"]
        },
        {
            "cell_type": "code",
            "execution_count": null,
            "id": "38399f90",
            "metadata": {},
            "outputs": [],
            "source": [
                "x0 = 0\n",
                "N = 10\n",
                "X, h = np.linspace(x0, 3, N, retstep=True)\n",
                "x = np.linspace(x0, 3, 100)"
            ]
        },
        {
            "cell_type": "code",
            "execution_count": null,
            "id": "47bec46e",
            "metadata": {},
            "outputs": [],
            "source": [
                "IX, IY = np.meshgrid(X, X, indexing='ij')\n",
                "IZ = np.sin(IX)*np.cos(IY)"
            ]
        },
        {
            "cell_type": "code",
            "execution_count": null,
            "id": "5d05c705",
            "metadata": {},
            "outputs": [],
            "source": [
                "n_points = X.shape[0]\n",
                "b = IZ.flatten()\n",
                "matrix = np.zeros((n_points**2, n_points**2), dtype=np.float32)"
            ]
        },
        {
            "cell_type": "code",
            "execution_count": null,
            "id": "464230b2",
            "metadata": {},
            "outputs": [],
            "source": [
                "for i in range(n_points**2):\n",
                "    idx = np.unravel_index(i, (n_points, n_points))\n",
                "    tmp = np.zeros((n_points, n_points))\n",
                "    \n",
                "    tmp[idx] = 1\n",
                "    \n",
                "    #Multiply edges by 1.25\n",
                "    if (idx[0] == 0): \n",
                "        tmp[idx] *= 1.25\n",
                "    if (idx[1] == 0):\n",
                "        tmp[idx] *= 1.25\n",
                "    if (idx[0] == n_points-1):\n",
                "        tmp[idx] *= 1.25\n",
                "    if (idx[1] == n_points-1):\n",
                "        tmp[idx] *= 1.25\n",
                "    \n",
                "    if idx[0]+1 <= n_points-1:\n",
                "        tmp[idx[0]+1, idx[1]] = 1/4\n",
                "    \n",
                "    if idx[1]+1 <= n_points-1:\n",
                "        tmp[idx[0], idx[1]+1] = 1/4\n",
                "    \n",
                "    if idx[0]-1 >= 0:\n",
                "        tmp[idx[0]-1, idx[1]] = 1/4\n",
                "        \n",
                "    if idx[1]-1 >= 0:\n",
                "        tmp[idx[0], idx[1]-1] = 1/4\n",
                "    \n",
                "    if (idx[0]+1 <= n_points-1) and (idx[1]+1 <= n_points-1):\n",
                "        tmp[idx[0]+1, idx[1]+1] = 1/16\n",
                "    \n",
                "    if (idx[0]+1 <= n_points-1) and (idx[1]-1 >= 0):\n",
                "        tmp[idx[0]+1, idx[1]-1] = 1/16\n",
                "    \n",
                "    if (idx[0]-1 >= 0) and (idx[1]-1 >= 0):\n",
                "        tmp[idx[0]-1, idx[1]-1] = 1/16\n",
                "        \n",
                "    if (idx[0]-1 >= 0) and (idx[1]+1 <= n_points-1):\n",
                "        tmp[idx[0]-1, idx[1]+1] = 1/16\n",
                "        \n",
                "    #Multiply edge line's by 1.25\n",
                "    if (idx[0] == 0) or (idx[0] == n_points - 1):\n",
                "        if idx[1] + 1 <= n_points - 1:\n",
                "            tmp[idx[0], idx[1] + 1] *= 1.25\n",
                "        if idx[1] - 1 >= 0:\n",
                "            tmp[idx[0], idx[1] - 1] *= 1.25\n",
                "\n",
                "    if (idx[1] == 0) or (idx[1] == n_points - 1):\n",
                "        if idx[0] + 1 <= n_points - 1:\n",
                "            tmp[idx[0] + 1, idx[1]] *= 1.25\n",
                "        if idx[0] - 1 >= 0:\n",
                "            tmp[idx[0] - 1, idx[1]] *= 1.25\n",
                "            \n",
                "    matrix[i] = tmp.flatten()"
            ]
        },
        {
            "cell_type": "code",
            "execution_count": null,
            "id": "de2fc5d5",
            "metadata": {},
            "outputs": [],
            "source": ["c = np.linalg.solve(matrix, b)"]
        },
        {
            "cell_type": "code",
            "execution_count": null,
            "id": "12ffe219",
            "metadata": {},
            "outputs": [],
            "source": [
                "xx, yy = np.meshgrid(x, x, indexing='ij')\n",
                "zz = np.zeros_like(xx)"
            ]
        },
        {
            "cell_type": "code",
            "execution_count": null,
            "id": "48625bd4",
            "metadata": {},
            "outputs": [],
            "source": [
                "for i in range(0, IX.shape[0]):\n",
                "    for j in range(0, IY.shape[0]):\n",
                "        \n",
                "        x_part = final_basis_normal(i, x, h, N, x0)\n",
                "        y_part = final_basis_normal(j, x, h, N, x0)\n",
                "        \n",
                "        zz = zz + c[i*(n_points)+j] * np.outer(x_part, y_part)"
            ]
        },
        {
            "cell_type": "code",
            "execution_count": null,
            "id": "c7931113",
            "metadata": {},
            "outputs": [],
            "source": [
                "%matplotlib widget\n",
                "fig = plt.figure(figsize=(8, 8))\n",
                "ax = plt.axes(projection='3d')\n",
                "\n",
                "ax.plot_surface(xx, yy, zz, cmap='magma')\n",
                "# ax.set_zlim(0, 3)\n",
                "\n",
                "ax.scatter(IX, IY, IZ, color='green')\n",
                "plt.show()"
            ]
        }
    ],
    "metadata": {
        "kernelspec": {
            "display_name": "Python 3 (ipykernel)",
            "language": "python",
            "name": "python3"
        },
        "language_info": {
            "codemirror_mode": {"name": "ipython", "version": 3},
            "file_extension": ".py",
            "mimetype": "text/x-python",
            "name": "python",
            "nbconvert_exporter": "python",
            "pygments_lexer": "ipython3",
            "version": "3.9.12"
        }
    },
    "nbformat": 4,
    "nbformat_minor": 5
}
