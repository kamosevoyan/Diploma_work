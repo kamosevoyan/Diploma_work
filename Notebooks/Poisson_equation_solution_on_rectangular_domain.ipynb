{
 "cells": [
  {
   "cell_type": "markdown",
   "id": "1306cf6e",
   "metadata": {},
   "source": [
    "# $$\n",
    "\\begin{cases}\n",
    "\\Delta u =f \\\\\n",
    "u \\Big |_{\\Gamma} = 0\n",
    "\\end{cases}\n",
    " \\implies I(u) = \\frac{1}{2}\\iint_D\\left[u_x^2 + u_y^2 \\right]dxdy + \\iint_Dfudxdy \\rightarrow min$$"
   ]
  },
  {
   "cell_type": "code",
   "execution_count": null,
   "id": "6d8feb48",
   "metadata": {},
   "outputs": [],
   "source": [
    "import numpy as np\n",
    "from tqdm import tqdm\n",
    "import matplotlib.pyplot as plt"
   ]
  },
  {
   "cell_type": "markdown",
   "id": "b8242cbb",
   "metadata": {},
   "source": [
    "# Example\n",
    "# $$ D = \\left[-\\frac{\\pi}{2},+\\frac{\\pi}{2}\\right]\\times\\left[-\\frac{\\pi}{2},+\\frac{\\pi}{2}\\right] $$\n",
    "# $$\n",
    "\\begin{cases}\n",
    "\\Delta u = 2 \\\\\n",
    "u \\Big |_{\\partial D} = 0\n",
    "\\end{cases}\n",
    "$$"
   ]
  },
  {
   "cell_type": "code",
   "execution_count": null,
   "id": "d6ff5106",
   "metadata": {},
   "outputs": [],
   "source": [
    "def f(x, y):\n",
    "    return 2 * np.ones_like(x)\n",
    "\n",
    "def g(x, y):\n",
    "    return   np.zeros_like(x)"
   ]
  },
  {
   "cell_type": "markdown",
   "id": "ab29507f",
   "metadata": {},
   "source": [
    "# Number of points per coordinate"
   ]
  },
  {
   "cell_type": "code",
   "execution_count": null,
   "id": "659b8f68",
   "metadata": {},
   "outputs": [],
   "source": [
    "n_points = 20"
   ]
  },
  {
   "cell_type": "markdown",
   "id": "11a0bb56",
   "metadata": {},
   "source": [
    "# Construct the necessary matrices"
   ]
  },
  {
   "cell_type": "code",
   "execution_count": null,
   "id": "e2687be3",
   "metadata": {},
   "outputs": [],
   "source": [
    "grid = np.linspace(-np.pi/2, np.pi/2, n_points)\n",
    "grid_x, grid_y = np.meshgrid(grid, grid, indexing=\"ij\")"
   ]
  },
  {
   "cell_type": "code",
   "execution_count": null,
   "id": "b055d063",
   "metadata": {},
   "outputs": [],
   "source": [
    "grid_z = f(grid_x, grid_y)\n",
    "h_1 = h_2 = grid[1] - grid[0]"
   ]
  },
  {
   "cell_type": "code",
   "execution_count": null,
   "id": "9256f593",
   "metadata": {},
   "outputs": [],
   "source": [
    "b = -2 * grid_z.reshape(-1)\n",
    "matrix = np.zeros((n_points**2, n_points**2), dtype=np.float32)\n",
    "\n",
    "for i in range(n_points**2):\n",
    "    idx = np.unravel_index(i, (n_points, n_points))\n",
    "    \n",
    "    #Dirichlet boundary conditions \n",
    "    if True:\n",
    "        if idx[0] == 0:\n",
    "            matrix[i] *= 0\n",
    "            matrix[i, i] = 1\n",
    "            b[i] = 0\n",
    "            continue\n",
    "        if idx[0] == n_points - 1:\n",
    "            matrix[i] *= 0\n",
    "            matrix[i, i] = 1\n",
    "            b[i] = 0\n",
    "            continue\n",
    "        if idx[1] == 0:\n",
    "            matrix[i] *= 0\n",
    "            matrix[i, i] = 1\n",
    "            b[i] = 0\n",
    "            continue       \n",
    "        if idx[1] == n_points - 1:\n",
    "            matrix[i] *= 0\n",
    "            matrix[i, i] = 1\n",
    "            b[i] = 0\n",
    "            continue\n",
    "\n",
    "    matrix[i, i] = 4 * (1/h_1**2 + 1/h_2**2)\n",
    "    \n",
    "    if i + 1 < n_points**2:\n",
    "        matrix[i, i+1] = -2/h_1**2\n",
    "            \n",
    "    if i - 1 > 0:\n",
    "        matrix[i, i-1] = -2/h_1**2\n",
    "            \n",
    "    if i + n_points + 1 < n_points**2:\n",
    "        matrix[i, i+n_points] = -2/h_2**2\n",
    "            \n",
    "    if i - n_points > 0:\n",
    "        matrix[i, i-n_points] = -2/h_2**2"
   ]
  },
  {
   "cell_type": "code",
   "execution_count": null,
   "id": "6f700570",
   "metadata": {},
   "outputs": [],
   "source": [
    "u_simple = np.linalg.solve(matrix, b)\n",
    "u_simple = u_simple.reshape(n_points, n_points)\n",
    "u_simple += g(grid_x, grid_y)"
   ]
  },
  {
   "cell_type": "code",
   "execution_count": null,
   "id": "c1348b2f",
   "metadata": {},
   "outputs": [],
   "source": [
    "b = np.zeros(n_points**2)\n",
    "matrix = np.zeros((n_points**2, n_points**2), dtype=np.float32)\n",
    "\n",
    "for i in range(n_points**2):\n",
    "    idx = np.unravel_index(i, (n_points, n_points))\n",
    "    \n",
    "    #Dirichlet boundary conditions \n",
    "    if True:\n",
    "        if idx[0] == 0:\n",
    "            matrix[i] *= 0\n",
    "            matrix[i, i] = 1\n",
    "            b[i] = 0\n",
    "            continue\n",
    "        if idx[0] == n_points - 1:\n",
    "            matrix[i] *= 0\n",
    "            matrix[i, i] = 1\n",
    "            b[i] = 0\n",
    "            continue\n",
    "        if idx[1] == 0:\n",
    "            matrix[i] *= 0\n",
    "            matrix[i, i] = 1\n",
    "            b[i] = 0\n",
    "            continue       \n",
    "        if idx[1] == n_points - 1:\n",
    "            matrix[i] *= 0\n",
    "            matrix[i, i] = 1\n",
    "            b[i] = 0\n",
    "            continue\n",
    "\n",
    "    matrix[i, i] = 4 * (h_2/h_1 + h_1/h_2)\n",
    "    \n",
    "    if i + 1 < n_points**2:\n",
    "        matrix[i, i+1] = -2*h_2/h_1\n",
    "            \n",
    "    if i - 1 > 0:\n",
    "        matrix[i, i-1] = -2*h_2/h_1\n",
    "            \n",
    "    if i + n_points + 1 < n_points**2:\n",
    "        matrix[i, i+n_points] = -2*h_1/h_2\n",
    "            \n",
    "    if i - n_points > 0:\n",
    "        matrix[i, i-n_points] = -2*h_1/h_2\n",
    "    \n",
    "    \n",
    "    edges = grid_z[idx[0]-1, idx[1]-1] + grid_z[idx[0]+1, idx[1]+1] +\\\n",
    "            grid_z[idx[0]-1, idx[1]+1] + grid_z[idx[0]+1, idx[1]-1]\n",
    "    \n",
    "    neigh = grid_z[idx[0]-1, idx[1]] + grid_z[idx[0]+1, idx[1]]+\\\n",
    "            grid_z[idx[0], idx[1]-1] + grid_z[idx[0], idx[1]+1]\n",
    "    \n",
    "    b[i] = -2 *(h_1*h_2)/36 * (edges + 4 * neigh + 16 * grid_z[idx])"
   ]
  },
  {
   "cell_type": "markdown",
   "id": "b09b79f7",
   "metadata": {},
   "source": [
    "# Solve the system of linear equations"
   ]
  },
  {
   "cell_type": "code",
   "execution_count": null,
   "id": "2e9380d0",
   "metadata": {},
   "outputs": [],
   "source": [
    "u_simpson = np.linalg.solve(matrix, b)\n",
    "u_simpson = u_simpson.reshape(n_points, n_points)"
   ]
  },
  {
   "cell_type": "code",
   "execution_count": null,
   "id": "1d32ce62",
   "metadata": {},
   "outputs": [],
   "source": [
    "u_simpson += g(grid_x, grid_y)"
   ]
  },
  {
   "cell_type": "markdown",
   "id": "81603ae2",
   "metadata": {},
   "source": [
    "# Basis function (pyramidal function)"
   ]
  },
  {
   "cell_type": "code",
   "execution_count": null,
   "id": "6908267a",
   "metadata": {},
   "outputs": [],
   "source": [
    "def basis(X, Y, h1, h2, i, j, n_x, n_y):\n",
    "    tx = np.linspace(X.min(), X.max(), n_x)\n",
    "    ty = np.linspace(Y.min(), Y.max(), n_y)\n",
    "    xx, yy = np.meshgrid(tx, ty, indexing=\"ij\")\n",
    "    xm = xx.min()\n",
    "    ym = yy.min()\n",
    "    xx = xx - ym\n",
    "    yy = yy - ym\n",
    "    tmp = np.zeros(xx.shape)\n",
    "    S1 = (i <= xx/h1) & (xx/h1 <= i + 1) & (j <= yy/h2) & (yy/h2 <= j + 1) & (yy/h2 - j >= xx/h1 - i)\n",
    "    tmp[S1] = (j + 1 - yy/h2)[S1]\n",
    "    S2 = (i - 1 <= xx/h1) & (xx/h1 <= i) & (j <= yy/h2) & (yy/h2 <= j + 1) & (yy/h2 - j <= 1 + xx/h1 - i)\n",
    "    tmp[S2] = (1 + xx/h1 - yy/h2 - i + j)[S2]\n",
    "    S3 = (i - 1 <= xx/h1) & (xx/h1 <= i) & (j - 1 <= yy/h2) & (yy/h2 <= j) & (yy/h2 - j >= xx/h1 - i)\n",
    "    tmp[S3] = (1 + xx/h1 - i)[S3]\n",
    "    S4 = (i - 1 <= xx/h1) & (xx/h1 <= i) & (j - 1 <= yy/h2) & (yy/h2 <= j) & (yy/h2 - j <= xx/h1 - i)\n",
    "    tmp[S4] = (1 + yy/h2 - j)[S4]\n",
    "    S5 = (i <= xx/h1) & (xx/h1 <= i + 1) & (j - 1 <= yy/h2) & (yy/h2 <= j) & (yy/h2 - j >= xx/h1 - i - 1)\n",
    "    tmp[S5] = (1 - xx/h1 + yy/h2 + i - j)[S5]\n",
    "    S6 = (i <= xx/h1) & (xx/h1 <= i + 1) & (j <= yy/h2) & (yy/h2 <= j + 1) & (yy/h2 - j <= xx/h1 - i)\n",
    "    tmp[S6] = (1 - xx/h1 + i)[S6]\n",
    "    return tmp"
   ]
  },
  {
   "cell_type": "markdown",
   "id": "b7c2ee3a",
   "metadata": {},
   "source": [
    "# Sum up all the basis functions"
   ]
  },
  {
   "cell_type": "code",
   "execution_count": null,
   "id": "7cd0e93b",
   "metadata": {},
   "outputs": [],
   "source": [
    "t = np.linspace(grid[0], grid[-1], 200)\n",
    "xx, yy, = np.meshgrid(t, t, indexing=\"ij\")\n",
    "z_simple = np.zeros_like(xx)\n",
    "z_simpson = np.zeros_like(xx)\n",
    "\n",
    "for i in range(n_points):\n",
    "    for j in range(n_points):\n",
    "        z_simple += basis(t, t, h_1, h_2, i, j, 200, 200)*u_simple[i][j]\n",
    "        z_simpson += basis(t, t, h_1, h_2, i, j, 200, 200)*u_simpson[i][j]"
   ]
  },
  {
   "cell_type": "markdown",
   "id": "8b35b129",
   "metadata": {},
   "source": [
    "# Visualisation"
   ]
  },
  {
   "cell_type": "code",
   "execution_count": null,
   "id": "203cdb5f",
   "metadata": {},
   "outputs": [],
   "source": [
    "%matplotlib widget\n",
    "fig = plt.figure(figsize=(5, 5))\n",
    "ax = plt.axes(projection='3d')\n",
    "ax.plot_wireframe(xx, yy, z_simple, color=\"black\")\n",
    "# ax.plot_wireframe(xx, yy, z_simpson, color=\"red\")\n",
    "# ax.set_box_aspect((np.ptp(xx), np.ptp(yy), np.ptp(z_simpson)))\n",
    "plt.show()"
   ]
  },
  {
   "cell_type": "code",
   "execution_count": null,
   "id": "762d1124",
   "metadata": {},
   "outputs": [],
   "source": [
    "fig, ax = plt.subplots(figsize=(6, 6))\n",
    "plt.imshow(matrix != 0)"
   ]
  },
  {
   "cell_type": "markdown",
   "id": "52a23221",
   "metadata": {},
   "source": [
    "# Error estimation"
   ]
  },
  {
   "cell_type": "code",
   "execution_count": null,
   "id": "ea64a51a",
   "metadata": {},
   "outputs": [],
   "source": [
    "z_original = np.zeros_like(xx)"
   ]
  },
  {
   "cell_type": "code",
   "execution_count": null,
   "id": "2de15824",
   "metadata": {},
   "outputs": [],
   "source": [
    "for k in range(1, 30):\n",
    "    \n",
    "    coef2 = (-1)**(k+1)/(2*k-1)**3\n",
    "    ch1 = np.cosh((2*k-1)*yy)\n",
    "    ch2 = np.cosh((2*k-1)*np.array(np.pi/2))\n",
    "    cos = np.cos((2*k-1)*xx)\n",
    "    \n",
    "    z_original += (coef2*ch1/ch2*cos)"
   ]
  },
  {
   "cell_type": "code",
   "execution_count": null,
   "id": "e8dd8e52",
   "metadata": {},
   "outputs": [],
   "source": [
    "z_original *= (8/np.pi)"
   ]
  },
  {
   "cell_type": "code",
   "execution_count": null,
   "id": "ea9f9255",
   "metadata": {},
   "outputs": [],
   "source": [
    "z_original += xx**2 - (np.pi / 2)**2"
   ]
  },
  {
   "cell_type": "code",
   "execution_count": null,
   "id": "3bbe5ef0",
   "metadata": {},
   "outputs": [],
   "source": [
    "error = (z_original-z_simple)\n",
    "np.abs(error[~np.isnan(error)]).max().item()"
   ]
  },
  {
   "cell_type": "code",
   "execution_count": null,
   "id": "e38ce7d7",
   "metadata": {},
   "outputs": [],
   "source": [
    "error = (z_original-z_simpson)\n",
    "np.abs(error[~np.isnan(error)]).max().item()"
   ]
  }
 ],
 "metadata": {
  "kernelspec": {
   "display_name": "Python 3 (ipykernel)",
   "language": "python",
   "name": "python3"
  },
  "language_info": {
   "codemirror_mode": {
    "name": "ipython",
    "version": 3
   },
   "file_extension": ".py",
   "mimetype": "text/x-python",
   "name": "python",
   "nbconvert_exporter": "python",
   "pygments_lexer": "ipython3",
   "version": "3.9.12"
  }
 },
 "nbformat": 4,
 "nbformat_minor": 5
}
