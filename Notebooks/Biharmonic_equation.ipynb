{
 "cells": [
  {
   "cell_type": "code",
   "execution_count": null,
   "id": "d9d085d9",
   "metadata": {},
   "outputs": [],
   "source": [
    "import matplotlib.pyplot as plt\n",
    "import numpy as np"
   ]
  },
  {
   "cell_type": "code",
   "execution_count": null,
   "id": "e0b973ad",
   "metadata": {},
   "outputs": [],
   "source": [
    "def pos(x):\n",
    "    \n",
    "    y = x.copy()\n",
    "    y[x > 0] = x[x > 0]\n",
    "    y[x <=0] = 0\n",
    "    \n",
    "    return y"
   ]
  },
  {
   "cell_type": "code",
   "execution_count": null,
   "id": "c89694cc",
   "metadata": {},
   "outputs": [],
   "source": [
    "def final_basis_normal(i, x, h, N, x_0):\n",
    "    \n",
    "    if (0 <= i <= N-1):\n",
    "        a =   pos((x-x_0)/h - (i - 2))**3\n",
    "        b = 4*pos((x-x_0)/h - (i - 1))**3\n",
    "        c = 6*pos((x-x_0)/h - (i - 0))**3\n",
    "        d = 4*pos((x-x_0)/h - (i + 1))**3\n",
    "        e =   pos((x-x_0)/h - (i + 2))**3\n",
    "\n",
    "        f = 0.25 * (a - b + c - d + e)\n",
    "\n",
    "        if i == 0:\n",
    "            f += pos(1 - (x - x_0)/h)**3/4\n",
    "        \n",
    "        if i == (N - 1):\n",
    "            f += pos((x - x_0)/h - (N-2))**3/4\n",
    "        \n",
    "        f[x < x0] = 0\n",
    "        f[x > (x_0 + (N - 1)*h)] = 0\n",
    "        \n",
    "    else:\n",
    "        raise IndexError(f\"Invalid index {i}\")\n",
    "        \n",
    "    return f"
   ]
  },
  {
   "cell_type": "code",
   "execution_count": null,
   "id": "1ca91106",
   "metadata": {},
   "outputs": [],
   "source": [
    "x0 = 0\n",
    "N = 10\n",
    "X, h = np.linspace(x0, 3, N, retstep=True)\n",
    "x = np.linspace(x0, 3, 1000)"
   ]
  },
  {
   "cell_type": "code",
   "execution_count": null,
   "id": "620d886a",
   "metadata": {},
   "outputs": [],
   "source": [
    "fig, ax = plt.subplots(figsize=(20, 4))\n",
    "f = np.zeros_like(x)\n",
    "\n",
    "for j in range(0, N):\n",
    "    ax.plot(x, final_basis_normal(j, x, h, N, x0))\n",
    "    f += final_basis_normal(j, x, h, N, x0)\n",
    "\n",
    "for xx in X:\n",
    "    ax.axvline(x=xx, color=\"black\")\n",
    "\n",
    "ax.plot(x, f)\n",
    "ax.legend([f\"{j}\" for j in range(N)])\n",
    "plt.show()"
   ]
  },
  {
   "cell_type": "markdown",
   "id": "cce927d1",
   "metadata": {},
   "source": [
    "# New way"
   ]
  },
  {
   "cell_type": "code",
   "execution_count": null,
   "id": "1dc75130",
   "metadata": {},
   "outputs": [],
   "source": [
    "Y = np.sin(X)"
   ]
  },
  {
   "cell_type": "code",
   "execution_count": null,
   "id": "884afbe7",
   "metadata": {},
   "outputs": [],
   "source": [
    "n_points = X.shape[0]\n",
    "matrix = np.zeros((n_points, n_points))\n",
    "matrix += np.eye(n_points) + 0.25 * np.eye(n_points, k=1) + 0.25 *np.eye(n_points, k=-1)"
   ]
  },
  {
   "cell_type": "code",
   "execution_count": null,
   "id": "a00acdfd",
   "metadata": {},
   "outputs": [],
   "source": [
    "matrix[+0, +0] = 1.25\n",
    "matrix[-1, -1] = 1.25"
   ]
  },
  {
   "cell_type": "code",
   "execution_count": null,
   "id": "bba0da66",
   "metadata": {},
   "outputs": [],
   "source": [
    "matrix"
   ]
  },
  {
   "cell_type": "code",
   "execution_count": null,
   "id": "9af8116d",
   "metadata": {},
   "outputs": [],
   "source": [
    "c = np.linalg.solve(matrix, Y)"
   ]
  },
  {
   "cell_type": "code",
   "execution_count": null,
   "id": "be47162e",
   "metadata": {},
   "outputs": [],
   "source": [
    "f_bar = np.zeros_like(x)\n",
    "\n",
    "for j in range(n_points):\n",
    "    f_bar += c[j] * final_basis_normal(j, x, h, N, x0)"
   ]
  },
  {
   "cell_type": "code",
   "execution_count": null,
   "id": "b536550a",
   "metadata": {},
   "outputs": [],
   "source": [
    "fig, ax = plt.subplots()\n",
    "ax.plot(x, f_bar-np.sin(x))\n",
    "plt.show()"
   ]
  },
  {
   "cell_type": "markdown",
   "id": "5bcf9035",
   "metadata": {},
   "source": [
    "# Single basis"
   ]
  },
  {
   "cell_type": "code",
   "execution_count": null,
   "id": "757dac2f",
   "metadata": {},
   "outputs": [],
   "source": [
    "IX, IY = np.meshgrid(X, X, indexing=\"ij\")"
   ]
  },
  {
   "cell_type": "code",
   "execution_count": null,
   "id": "e7a6485e",
   "metadata": {},
   "outputs": [],
   "source": [
    "IZ = np.sin(IX)*np.cos(IY)"
   ]
  },
  {
   "cell_type": "code",
   "execution_count": null,
   "id": "81e1f87b",
   "metadata": {},
   "outputs": [],
   "source": [
    "xx, yy = np.meshgrid(x, x, indexing=\"ij\")\n",
    "zz = np.zeros_like(xx)"
   ]
  },
  {
   "cell_type": "code",
   "execution_count": null,
   "id": "1e6888a4",
   "metadata": {
    "scrolled": false
   },
   "outputs": [],
   "source": [
    "%matplotlib widget\n",
    "fig = plt.figure(figsize=(8, 8))\n",
    "ax = plt.axes(projection='3d')\n",
    "zz = np.outer(final_basis_normal(1, x, h, N, x0),\n",
    "              final_basis_normal(1, x, h, N, x0))\n",
    "ax.plot_surface(xx, yy, zz, cmap='magma')\n",
    "ax.scatter(IX, IY, IZ*0, color=\"red\")\n",
    "plt.show()"
   ]
  },
  {
   "cell_type": "code",
   "execution_count": null,
   "id": "06b07278",
   "metadata": {},
   "outputs": [],
   "source": [
    "x0 = 0\n",
    "N = 10\n",
    "X, h = np.linspace(x0, 3, N, retstep=True)\n",
    "x = np.linspace(x0, 3, 100)"
   ]
  },
  {
   "cell_type": "code",
   "execution_count": null,
   "id": "a0e39371",
   "metadata": {},
   "outputs": [],
   "source": [
    "IX, IY = np.meshgrid(X, X, indexing=\"ij\")\n",
    "IZ = np.sin(IX)*np.cos(IY)"
   ]
  },
  {
   "cell_type": "code",
   "execution_count": null,
   "id": "7953bee3",
   "metadata": {},
   "outputs": [],
   "source": [
    "n_points = X.shape[0]\n",
    "b = IZ.flatten()\n",
    "matrix = np.zeros((n_points**2, n_points**2), dtype=np.float32)"
   ]
  },
  {
   "cell_type": "code",
   "execution_count": null,
   "id": "d6480708",
   "metadata": {},
   "outputs": [],
   "source": [
    "for i in range(n_points**2):\n",
    "    idx = np.unravel_index(i, (n_points, n_points))\n",
    "    tmp = np.zeros((n_points, n_points))\n",
    "    \n",
    "    tmp[idx] = 1\n",
    "    \n",
    "    #Multiply edges by 1.25\n",
    "    if (idx[0] == 0): \n",
    "        tmp[idx] *= 1.25\n",
    "    if (idx[1] == 0):\n",
    "        tmp[idx] *= 1.25\n",
    "    if (idx[0] == n_points-1):\n",
    "        tmp[idx] *= 1.25\n",
    "    if (idx[1] == n_points-1):\n",
    "        tmp[idx] *= 1.25\n",
    "    \n",
    "    if idx[0]+1 <= n_points-1:\n",
    "        tmp[idx[0]+1, idx[1]] = 1/4\n",
    "    \n",
    "    if idx[1]+1 <= n_points-1:\n",
    "        tmp[idx[0], idx[1]+1] = 1/4\n",
    "    \n",
    "    if idx[0]-1 >= 0:\n",
    "        tmp[idx[0]-1, idx[1]] = 1/4\n",
    "        \n",
    "    if idx[1]-1 >= 0:\n",
    "        tmp[idx[0], idx[1]-1] = 1/4\n",
    "    \n",
    "    if (idx[0]+1 <= n_points-1) and (idx[1]+1 <= n_points-1):\n",
    "        tmp[idx[0]+1, idx[1]+1] = 1/16\n",
    "    \n",
    "    if (idx[0]+1 <= n_points-1) and (idx[1]-1 >= 0):\n",
    "        tmp[idx[0]+1, idx[1]-1] = 1/16\n",
    "    \n",
    "    if (idx[0]-1 >= 0) and (idx[1]-1 >= 0):\n",
    "        tmp[idx[0]-1, idx[1]-1] = 1/16\n",
    "        \n",
    "    if (idx[0]-1 >= 0) and (idx[1]+1 <= n_points-1):\n",
    "        tmp[idx[0]-1, idx[1]+1] = 1/16\n",
    "        \n",
    "    #Multiply edge line's by 1.25\n",
    "    if (idx[0] == 0) or (idx[0] == n_points - 1):\n",
    "        if idx[1] + 1 <= n_points - 1:\n",
    "            tmp[idx[0], idx[1] + 1] *= 1.25\n",
    "        if idx[1] - 1 >= 0:\n",
    "            tmp[idx[0], idx[1] - 1] *= 1.25\n",
    "\n",
    "    if (idx[1] == 0) or (idx[1] == n_points - 1):\n",
    "        if idx[0] + 1 <= n_points - 1:\n",
    "            tmp[idx[0] + 1, idx[1]] *= 1.25\n",
    "        if idx[0] - 1 >= 0:\n",
    "            tmp[idx[0] - 1, idx[1]] *= 1.25\n",
    "            \n",
    "    matrix[i] = tmp.flatten()"
   ]
  },
  {
   "cell_type": "code",
   "execution_count": null,
   "id": "286a0256",
   "metadata": {},
   "outputs": [],
   "source": [
    "matrix.shape"
   ]
  },
  {
   "cell_type": "code",
   "execution_count": null,
   "id": "e857cd6a",
   "metadata": {},
   "outputs": [],
   "source": [
    "c = np.linalg.solve(matrix, b)"
   ]
  },
  {
   "cell_type": "markdown",
   "id": "ee13c919",
   "metadata": {},
   "source": [
    "# Plot"
   ]
  },
  {
   "cell_type": "code",
   "execution_count": null,
   "id": "45cd0265",
   "metadata": {},
   "outputs": [],
   "source": [
    "xx, yy = np.meshgrid(x, x, indexing=\"ij\")\n",
    "zz = np.zeros_like(xx)"
   ]
  },
  {
   "cell_type": "code",
   "execution_count": null,
   "id": "e15cdbf4",
   "metadata": {},
   "outputs": [],
   "source": [
    "for i in range(0, IX.shape[0]):\n",
    "    for j in range(0, IY.shape[0]):\n",
    "        \n",
    "        x_part = final_basis_normal(i, x, h, N, x0)\n",
    "        y_part = final_basis_normal(j, x, h, N, x0)\n",
    "        \n",
    "        zz = zz + c[i*(n_points)+j] * np.outer(x_part, y_part)"
   ]
  },
  {
   "cell_type": "code",
   "execution_count": null,
   "id": "e719a352",
   "metadata": {
    "scrolled": false
   },
   "outputs": [],
   "source": [
    "%matplotlib widget\n",
    "fig = plt.figure(figsize=(8, 8))\n",
    "ax = plt.axes(projection='3d')\n",
    "\n",
    "ax.plot_surface(xx, yy, zz, cmap='magma')\n",
    "# ax.set_zlim(0, 3)\n",
    "\n",
    "ax.scatter(IX, IY, IZ, color=\"green\")\n",
    "plt.show()"
   ]
  },
  {
   "cell_type": "markdown",
   "id": "cde43267",
   "metadata": {},
   "source": [
    "# Main part of the solution"
   ]
  },
  {
   "cell_type": "code",
   "execution_count": null,
   "id": "58d0ed60",
   "metadata": {},
   "outputs": [],
   "source": [
    "x0 = 0\n",
    "xN = 2\n",
    "\n",
    "y0 = 0\n",
    "yN = 3\n",
    "\n",
    "Nx = 20\n",
    "Ny = 20\n",
    "\n",
    "X, h_1 = np.linspace(x0, xN, Nx, retstep=True)\n",
    "Y, h_2 = np.linspace(y0, yN, Ny, retstep=True)\n",
    "\n",
    "x =    np.linspace(x0, xN, 1000)\n",
    "y =    np.linspace(y0, yN, 1000)\n",
    "IX, IY = np.meshgrid(X, Y, indexing=\"xy\")\n",
    "\n",
    "n_points_x = X.shape[0]\n",
    "n_points_y = Y.shape[0]\n",
    "\n",
    "matrix = np.zeros((n_points_y * n_points_x, n_points_y * n_points_x))\n",
    "b = np.zeros(n_points_y * n_points_x)\n",
    "f = np.ones_like(IX)"
   ]
  },
  {
   "cell_type": "markdown",
   "id": "ec6d82fe",
   "metadata": {},
   "source": [
    "# Computed integrals"
   ]
  },
  {
   "cell_type": "code",
   "execution_count": null,
   "id": "00f90960",
   "metadata": {},
   "outputs": [],
   "source": [
    "x_axis_xx = np.array([3/8/h_1**3, 0, -27/8/h_1**3, 6/h_1**3, -27/8/h_1**3, 0, 3/8/h_1**3])\n",
    "y_axis_xx = np.array([h_2/2240, 3/56*h_2, 1991/2240*h_2, 151/140*h_2, 1991/2240*h_2, 3/56*h_2, h_2/2240])\n",
    "\n",
    "x_axis_xx_3 = np.array([3/8/h_1**3, 0, -27/8/h_1**3, 6/h_1**3, -27/8/h_1**3, 0, 3/8/h_1**3])\n",
    "y_axis_xx_3 = np.array([h_2/2240, 3/56*h_2, 1991/2240*h_2, 151/140*h_2, 1991/2240*h_2, 3/56*h_2, h_2/2240])\n",
    "\n",
    "x_axis_xx_2 = np.array([3/8/h_1**3, -27/8/h_1**3, 6/h_1**3, -27/8/h_1**3, 0, 3/8/h_1**3])\n",
    "y_axis_xx_2 = np.array([121/2240*h_2, 1991/2240*h_2, 151/140*h_2, 1991/2240*h_2, 3/56*h_2, h_2/2240])\n",
    "\n",
    "x_axis_xx_1 = np.array([-9/4/h_1**3, 21/4/h_1**3, -27/8/h_1**3, 0, 3/8/h_1**3])\n",
    "y_axis_xx_1 = np.array([561/1120*h_2, 599/560*h_2, 1991/2240*h_2, 3/56*h_2, h_2/2240])\n",
    "\n",
    "x_axis_xx_0 = np.array([3/2/h_1**3, -9/4/h_1**3, 3/8/h_1**3, 3/8/h_1**3])\n",
    "y_axis_xx_0 = np.array([743/1120*h_2, 561/1120*h_2, 121/2240*h_2, 1/2240*h_2])"
   ]
  },
  {
   "cell_type": "code",
   "execution_count": null,
   "id": "beb8a417",
   "metadata": {},
   "outputs": [],
   "source": [
    "y_axis_yy = np.array([3/8/h_1**3, 0, -27/8/h_1**3, 6/h_1**3, -27/8/h_1**3, 0, 3/8/h_1**3])\n",
    "x_axis_yy = np.array([h_2/2240, 3/56*h_2, 1991/2240*h_2, 151/140*h_2, 1991/2240*h_2, 3/56*h_2, h_2/2240])\n",
    "\n",
    "y_axis_yy_3 = np.array([3/8/h_1**3, 0, -27/8/h_1**3, 6/h_1**3, -27/8/h_1**3, 0, 3/8/h_1**3])\n",
    "x_axis_yy_3 = np.array([h_2/2240, 3/56*h_2, 1991/2240*h_2, 151/140*h_2, 1991/2240*h_2, 3/56*h_2, h_2/2240])\n",
    "\n",
    "y_axis_yy_2 = np.array([3/8/h_1**3, -27/8/h_1**3, 6/h_1**3, -27/8/h_1**3, 0, 3/8/h_1**3])\n",
    "x_axis_yy_2 = np.array([121/2240*h_2, 1991/2240*h_2, 151/140*h_2, 1991/2240*h_2, 3/56*h_2, h_2/2240])\n",
    "\n",
    "y_axis_yy_1 = np.array([-9/4/h_1**3, 21/4/h_1**3, -27/8/h_1**3, 0, 3/8/h_1**3])\n",
    "x_axis_yy_1 = np.array([561/1120*h_2, 599/560*h_2, 1991/2240*h_2, 3/56*h_2, h_2/2240])\n",
    "\n",
    "y_axis_yy_0 = np.array([3/2/h_1**3, -9/4/h_1**3, 3/8/h_1**3, 3/8/h_1**3])\n",
    "x_axis_yy_0 = np.array([743/1120*h_2, 561/1120*h_2, 121/2240*h_2, 1/2240*h_2])"
   ]
  },
  {
   "cell_type": "code",
   "execution_count": null,
   "id": "aed00a7c",
   "metadata": {},
   "outputs": [],
   "source": [
    "x_axis_xy = np.array([-3/160/h_1, -9/20/h_1, -9/32/h_1, 3/2/h_1, -9/32/h_1, -9/20/h_1, -3/160/h_1])\n",
    "y_axis_xy = np.array([-3/160/h_2, -9/20/h_2, -9/32/h_2, 3/2/h_2, -9/32/h_2, -9/20/h_2, -3/160/h_2])\n",
    "\n",
    "x_axis_xy_3 = np.array([-3/160/h_1, -9/20/h_1, -9/32/h_1, 3/2/h_1, -9/32/h_1, -9/20/h_1, -3/160/h_1])\n",
    "y_axis_xy_3 = np.array([-3/160/h_2, -9/20/h_2, -9/32/h_2, 3/2/h_2, -9/32/h_2, -9/20/h_2, -3/160/h_2])\n",
    "\n",
    "x_axis_xy_2 = np.array([-15/32/h_1, -9/32/h_1, 3/2/h_1, -9/32/h_1, -9/20/h_1, -3/160/h_1])\n",
    "y_axis_xy_2 = np.array([-15/20/h_2, -9/32/h_2, 3/2/h_2, -9/32/h_2, -9/20/h_2, -3/160/h_2])\n",
    "\n",
    "x_axis_xy_1= np.array([-51/80/h_1, 111/80/h_1, -9/32/h_1, -9/20/h_1, -3/160/h_1])\n",
    "y_axis_xy_1= np.array([-51/80/h_2, 111/80/h_2, -9/32/h_2, -9/20/h_2, -3/160/h_2])\n",
    "\n",
    "x_axis_xy_0 = np.array([9/8/h_1, -51/80/h_1, -15/32/h_1, -3/160/h_1])\n",
    "y_axis_xy_0 = np.array([9/8/h_2, -51/80/h_2, -15/32/h_2, -3/160/h_2])"
   ]
  },
  {
   "cell_type": "code",
   "execution_count": null,
   "id": "f8ee857d",
   "metadata": {
    "scrolled": false
   },
   "outputs": [],
   "source": [
    "for i in range(n_points_y * n_points_x):\n",
    "    idx = np.unravel_index(i, (n_points_y, n_points_x))\n",
    "    tmp = np.zeros((n_points_y, n_points_x))\n",
    "\n",
    "    #Dirichlet boundary conditions\n",
    "    if (idx[0] == 0) or (idx[1] == 0) or (idx[0] == n_points_y-1) or (idx[1] == n_points_x-1):\n",
    "        tmp[idx] = 1\n",
    "\n",
    "        if (idx[0] == 0): \n",
    "            tmp[idx] *= 1.25\n",
    "        if (idx[1] == 0):\n",
    "            tmp[idx] *= 1.25\n",
    "        if (idx[0] == n_points_y-1):\n",
    "            tmp[idx] *= 1.25\n",
    "        if (idx[1] == n_points_x-1):\n",
    "            tmp[idx] *= 1.25\n",
    "\n",
    "        if idx[0]+1 <= n_points_y-1:\n",
    "            tmp[idx[0]+1, idx[1]] = 1/4\n",
    "\n",
    "        if idx[1]+1 <= n_points_x-1:\n",
    "            tmp[idx[0], idx[1]+1] = 1/4\n",
    "\n",
    "        if idx[0]-1 >= 0:\n",
    "            tmp[idx[0]-1, idx[1]] = 1/4\n",
    "\n",
    "        if idx[1]-1 >= 0:\n",
    "            tmp[idx[0], idx[1]-1] = 1/4\n",
    "\n",
    "        if (idx[0]+1 <= n_points_y-1) and (idx[1]+1 <= n_points_x-1):\n",
    "            tmp[idx[0]+1, idx[1]+1] = 1/16\n",
    "\n",
    "        if (idx[0]+1 <= n_points_y-1) and (idx[1]-1 >= 0):\n",
    "            tmp[idx[0]+1, idx[1]-1] = 1/16\n",
    "\n",
    "        if (idx[0]-1 >= 0) and (idx[1]-1 >= 0):\n",
    "            tmp[idx[0]-1, idx[1]-1] = 1/16\n",
    "\n",
    "        if (idx[0]-1 >= 0) and (idx[1]+1 <= n_points_x-1):\n",
    "            tmp[idx[0]-1, idx[1]+1] = 1/16\n",
    "\n",
    "        #Multiply edge line's by 1.25\n",
    "        if (idx[0] == 0) or (idx[0] == n_points_y - 1):\n",
    "            if idx[1] + 1 <= n_points_x - 1:\n",
    "                tmp[idx[0], idx[1] + 1] *= 1.25\n",
    "            if idx[1] - 1 >= 0:\n",
    "                tmp[idx[0], idx[1] - 1] *= 1.25\n",
    "\n",
    "        if (idx[1] == 0) or (idx[1] == n_points_x - 1):\n",
    "            if idx[0] + 1 <= n_points_y - 1:\n",
    "                tmp[idx[0] + 1, idx[1]] *= 1.25\n",
    "            if idx[0] - 1 >= 0:\n",
    "                tmp[idx[0] - 1, idx[1]] *= 1.25\n",
    "\n",
    "        matrix[i] = tmp.flatten()\n",
    "        b[i] = 0\n",
    "        continue\n",
    "\n",
    "    #Neuman boundary conditions\n",
    "    if (idx[0] == 1) or (idx[1] == 1) or (idx[0] == n_points_y-2) or (idx[1] == n_points_x-2):\n",
    "        \n",
    "        if idx[0] == 1:\n",
    "            if 1 <= idx[1] <= n_points_x - 2:\n",
    "                tmp[0, idx[1]] = (-1) * (3/4/h_2)\n",
    "                tmp[1, idx[1]] = (+1) * (3/4/h_2)\n",
    "                \n",
    "                tmp[0, idx[1]-1] =  (1/4) * (3/4/h_2)\n",
    "                tmp[1, idx[1]-1] =  (1/4) * (3/4/h_2)\n",
    "                tmp[0, idx[1]+1] =  (1/4) * (3/4/h_2)\n",
    "                tmp[1, idx[1]+1] =  (1/4) * (3/4/h_2)\n",
    "            else:\n",
    "                tmp[0, idx[1]] = (-9/4) * (3/4/h_2)\n",
    "                tmp[1, idx[1]] = (+1/4) * (3/4/h_2)\n",
    "        \n",
    "        if idx[0] == n_points_y - 2:\n",
    "            if 1 <= idx[1] <= n_points_x - 2:\n",
    "                tmp[n_points_y-1, idx[1]] = (-1) * (3/4/h_2)\n",
    "                tmp[n_points_y-2, idx[1]] = (+1) * (3/4/h_2)\n",
    "                \n",
    "                tmp[n_points_y-1, idx[1]-1] =  (1/4) * (3/4/h_2)\n",
    "                tmp[n_points_y-2, idx[1]-1] =  (1/4) * (3/4/h_2)\n",
    "                tmp[n_points_y-1, idx[1]+1] =  (1/4) * (3/4/h_2)\n",
    "                tmp[n_points_y-2, idx[1]+1] =  (1/4) * (3/4/h_2)\n",
    "            else:\n",
    "                tmp[n_points_y-1, idx[1]] = (-9/4) * (3/4/h_2)\n",
    "                tmp[n_points_y-2, idx[1]] = (+1/4) * (3/4/h_2)\n",
    "        \n",
    "        if idx[1] == 1:\n",
    "            if 1 <= idx[0] <= n_points_x - 2:\n",
    "                tmp[idx[0], 0] = (-1) * (3/4/h_1)\n",
    "                tmp[idx[0], 1] = (+1) * (3/4/h_1)\n",
    "                \n",
    "                tmp[idx[0]-1, 0] =  (1/4) * (3/4/h_1)\n",
    "                tmp[idx[0]-1, 1] =  (1/4) * (3/4/h_1)\n",
    "                tmp[idx[0]+1, 0] =  (1/4) * (3/4/h_1)\n",
    "                tmp[idx[0]+1, 1] =  (1/4) * (3/4/h_1)\n",
    "            else:\n",
    "                tmp[idx[0], 0] = (-9/4) * (3/4/h_1)\n",
    "                tmp[idx[0], 1] = (+1/4) * (3/4/h_1)\n",
    "\n",
    "        if idx[1] == n_points_x - 2:\n",
    "            if 1 <= idx[0] <= n_points_y - 2:\n",
    "                tmp[idx[0], n_points_x-1] = (-1) * (3/4/h_1)\n",
    "                tmp[idx[0], n_points_x-2] = (+1) * (3/4/h_1)\n",
    "\n",
    "                tmp[idx[0]-1, n_points_x-1] =  (1/4) * (3/4/h_1)\n",
    "                tmp[idx[0]-1, n_points_x-2] =  (1/4) * (3/4/h_1)\n",
    "                tmp[idx[0]+1, n_points_x-1] =  (1/4) * (3/4/h_1)\n",
    "                tmp[idx[0]+1, n_points_x-2] =  (1/4) * (3/4/h_1)\n",
    "            else:\n",
    "                tmp[idx[0], n_points_x-1] = (-9/4) * (3/4/h_1)\n",
    "                tmp[idx[0], n_points_x-2] = (+1/4) * (3/4/h_1)\n",
    "\n",
    "        matrix[i] = tmp.flatten()\n",
    "        b[i] = 0\n",
    "        continue\n",
    "\n",
    "    #for x axis\n",
    "    if idx[1] == 0:\n",
    "        XX_x = x_axis_xx_0\n",
    "        YY_x = x_axis_yy_0\n",
    "        XY_x = x_axis_xy_0\n",
    "        offset_x = 0\n",
    "    elif idx[1] == 1:\n",
    "        XX_x = x_axis_xx_1\n",
    "        YY_x = x_axis_yy_1\n",
    "        XY_x = x_axis_xy_1\n",
    "        offset_x = 1\n",
    "    elif idx[1] == 2:\n",
    "        XX_x = x_axis_xx_2\n",
    "        YY_x = x_axis_yy_2\n",
    "        XY_x = x_axis_xy_2\n",
    "        offset_x = 2\n",
    "    elif idx[1] == 3:\n",
    "        XX_x = x_axis_xx_3\n",
    "        YY_x = x_axis_yy_3\n",
    "        XY_x = x_axis_xy_3\n",
    "        offset_x = 3\n",
    "    elif idx[1] == n_points_x - 4:\n",
    "        XX_x = x_axis_xx_3[::-1]\n",
    "        YY_x = x_axis_yy_3[::-1]\n",
    "        XY_x = x_axis_xy_3[::-1]\n",
    "        offset_x = -3 + XY_x.shape[0] - 1\n",
    "    elif idx[1] == n_points_x - 3:\n",
    "        XX_x = x_axis_xx_2[::-1]\n",
    "        YY_x = x_axis_yy_2[::-1]\n",
    "        XY_x = x_axis_xy_2[::-1]\n",
    "        offset_x = -2 + XY_x.shape[0] - 1\n",
    "    elif idx[1] == n_points_x - 2:\n",
    "        XX_x = x_axis_xx_1[::-1]\n",
    "        YY_x = x_axis_yy_1[::-1]\n",
    "        XY_x = x_axis_xy_1[::-1]\n",
    "        offset_x = -1 + XY_x.shape[0] - 1\n",
    "    elif idx[1] == n_points_x - 1:\n",
    "        XX_x = x_axis_xx_0[::-1]\n",
    "        YY_x = x_axis_yy_0[::-1]\n",
    "        XY_x = x_axis_xy_0[::-1]\n",
    "        offset_x = 0 + XY_x.shape[0] - 1\n",
    "    else:\n",
    "        XX_x = x_axis_xx\n",
    "        YY_x = x_axis_yy\n",
    "        XY_x = x_axis_xy\n",
    "        offset_x = 3\n",
    "\n",
    "    #for y axis\n",
    "    if idx[0] == 0:\n",
    "        XX_y = y_axis_xx_0\n",
    "        YY_y = y_axis_yy_0\n",
    "        XY_y = y_axis_xy_0\n",
    "        offset_y = 0\n",
    "    elif idx[0] == 1:\n",
    "        XX_y = y_axis_xx_1\n",
    "        YY_y = y_axis_yy_1\n",
    "        XY_y = y_axis_xy_1\n",
    "        offset_y = 1\n",
    "    elif idx[0] == 2:\n",
    "        XX_y = y_axis_xx_2\n",
    "        YY_y = y_axis_yy_2\n",
    "        XY_y = y_axis_xy_2\n",
    "        offset_y = 2\n",
    "    elif idx[0] == 3:\n",
    "        XX_y = y_axis_xx_3\n",
    "        YY_y = y_axis_yy_3\n",
    "        XY_y = y_axis_xy_3\n",
    "        offset_y = 3\n",
    "    elif idx[0] == n_points_y - 4:\n",
    "        XX_y = y_axis_xx_3[::-1]\n",
    "        YY_y = y_axis_yy_3[::-1]\n",
    "        XY_y = y_axis_xy_3[::-1]\n",
    "        offset_y = -3 + XY_y.shape[0] - 1\n",
    "    elif idx[0] == n_points_y - 3:\n",
    "        XX_y = y_axis_xx_2[::-1]\n",
    "        YY_y = y_axis_yy_2[::-1]\n",
    "        XY_y = y_axis_xy_2[::-1]\n",
    "        offset_y = -2 + XY_y.shape[0] - 1\n",
    "    elif idx[0] == n_points_y - 2:\n",
    "        XX_y = y_axis_xx_1[::-1]\n",
    "        YY_y = y_axis_yy_1[::-1]\n",
    "        XY_y = y_axis_xy_1[::-1]\n",
    "        offset_y = -1 + XY_y.shape[0] - 1\n",
    "    elif idx[0] == n_points_y - 1:\n",
    "        XX_y = y_axis_xx_0[::-1]\n",
    "        YY_y = y_axis_yy_0[::-1]\n",
    "        XY_y = y_axis_xy_0[::-1]\n",
    "        offset_y = 0 + XY_y.shape[0] - 1\n",
    "    else:\n",
    "        XX_y = y_axis_xx\n",
    "        YY_y = y_axis_yy\n",
    "        XY_y = y_axis_xy\n",
    "        offset_y = 3\n",
    "    \n",
    "    first = 2 *  np.outer(XX_y, XX_x)\n",
    "    second = 4 * np.outer(XY_y, XY_x)\n",
    "    third = 2 *  np.outer(YY_y, YY_x)\n",
    "    \n",
    "    val = first + second + third\n",
    "    tmp[idx[0] - offset_y: (idx[0] + first.shape[0] - offset_y), \n",
    "        idx[1] - offset_x: (idx[1] + first.shape[1] - offset_x)] = val\n",
    "    \n",
    "    matrix[i] = tmp.flatten()\n",
    "    b[i] = - 2 * 9/4 * h_1 * h_2\n",
    "    \n",
    "    edges = (f[idx[0]-1, idx[1]-1] + f[idx[0]+1, idx[1]+1] +\\\n",
    "            f[idx[0]-1, idx[1]+1] + f[idx[0]+1, idx[1]-1])/16\n",
    "    \n",
    "    neigh = (f[idx[0]-1, idx[1]] + f[idx[0]+1, idx[1]]+\\\n",
    "            f[idx[0], idx[1]-1] + f[idx[0], idx[1]+1])/4\n",
    "    \n",
    "    b[i] = - 2 * (edges + 4 * neigh + 16 * f[idx]) * (h_1 * h_2)/36"
   ]
  },
  {
   "cell_type": "code",
   "execution_count": null,
   "id": "49fa02ef",
   "metadata": {},
   "outputs": [],
   "source": [
    "C = np.linalg.solve(matrix, b).reshape(n_points_y, n_points_x)"
   ]
  },
  {
   "cell_type": "code",
   "execution_count": null,
   "id": "d52f725f",
   "metadata": {
    "scrolled": false
   },
   "outputs": [],
   "source": [
    "fig, ax = plt.subplots(figsize=(4, 4))\n",
    "ax.imshow((matrix != 0))\n",
    "plt.show()"
   ]
  },
  {
   "cell_type": "code",
   "execution_count": null,
   "id": "2d9806e1",
   "metadata": {},
   "outputs": [],
   "source": [
    "(matrix != 0).sum(axis=-1)"
   ]
  },
  {
   "cell_type": "code",
   "execution_count": null,
   "id": "21498b69",
   "metadata": {},
   "outputs": [],
   "source": [
    "fig, ax = plt.subplots(figsize=(4, 4))\n",
    "ax.imshow((matrix != 0)[210].reshape(n_points_y, n_points_x))\n",
    "plt.show()"
   ]
  },
  {
   "cell_type": "code",
   "execution_count": null,
   "id": "03b9a10c",
   "metadata": {},
   "outputs": [],
   "source": [
    "xx, yy = np.meshgrid(x, y, indexing=\"ij\")\n",
    "zz = np.zeros_like(xx)"
   ]
  },
  {
   "cell_type": "code",
   "execution_count": null,
   "id": "80c43385",
   "metadata": {},
   "outputs": [],
   "source": [
    "for i in range(IY.shape[0]):\n",
    "    for j in range(IX.shape[1]):\n",
    "        y_part = final_basis_normal(i, y, h_2, Ny, y0)\n",
    "        x_part = final_basis_normal(j, x, h_1, Nx, x0)\n",
    "        zz = zz + C[i, j] * np.outer(y_part, x_part)"
   ]
  },
  {
   "cell_type": "code",
   "execution_count": null,
   "id": "94894c26",
   "metadata": {
    "scrolled": false
   },
   "outputs": [],
   "source": [
    "%matplotlib widget\n",
    "fig, ax = plt.subplots(figsize=(7, 7))\n",
    "ax = plt.axes(projection='3d')\n",
    "ax.set_box_aspect((np.ptp(xx), np.ptp(yy), 100*np.ptp(zz)))\n",
    "ax.plot_wireframe(xx, yy, zz, alpha=0.8, color=\"black\")\n",
    "fig.tight_layout()\n",
    "plt.show()"
   ]
  },
  {
   "cell_type": "code",
   "execution_count": null,
   "id": "dd42ca43",
   "metadata": {},
   "outputs": [],
   "source": [
    "#fig.savefig(\"../images/biharmonic_equation_solution\", dpi=200, transparent=True)"
   ]
  }
 ],
 "metadata": {
  "kernelspec": {
   "display_name": "Python 3 (ipykernel)",
   "language": "python",
   "name": "python3"
  },
  "language_info": {
   "codemirror_mode": {
    "name": "ipython",
    "version": 3
   },
   "file_extension": ".py",
   "mimetype": "text/x-python",
   "name": "python",
   "nbconvert_exporter": "python",
   "pygments_lexer": "ipython3",
   "version": "3.9.12"
  }
 },
 "nbformat": 4,
 "nbformat_minor": 5
}
