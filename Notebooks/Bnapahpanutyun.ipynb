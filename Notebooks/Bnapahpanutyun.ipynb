{
 "cells": [
  {
   "cell_type": "code",
   "execution_count": null,
   "id": "8f0d8a5e",
   "metadata": {},
   "outputs": [],
   "source": [
    "import numpy as np\n",
    "import matplotlib.pyplot as plt\n",
    "import pandas as pd\n",
    "import warnings\n",
    "warnings.filterwarnings(\"ignore\")"
   ]
  },
  {
   "cell_type": "markdown",
   "id": "48288f50",
   "metadata": {},
   "source": [
    "# Get the data"
   ]
  },
  {
   "cell_type": "code",
   "execution_count": null,
   "id": "f70f870a",
   "metadata": {},
   "outputs": [],
   "source": [
    "data = np.array([\n",
    "                    1, 220, 240, 1, 7, 17.5, \n",
    "                    2, 220, 300, 1, 8, 20.5,\n",
    "                    3, 220, 330, 1, 9, 22.5,\n",
    "                    4, 220, 400, 1, 10, 17.5,\n",
    "                    5, 220, 500, 1, 11, 20.5,\n",
    "                    6, 220, 600, 1, 12, 22.5,\n",
    "                    7, 330, 240, 1, 9, 10.7,\n",
    "                    8, 330, 300, 1, 10, 17.5,\n",
    "                    9, 330, 330, 1, 11, 20.5,\n",
    "                    10, 330, 400, 2, 12, 22.5,\n",
    "                    11, 330, 500, 2, 13, 25.5,\n",
    "                    12, 330, 600, 2, 14, 22.5,\n",
    "                    13, 500, 300, 2, 12, 17, \n",
    "                    14, 500, 300, 2, 13, 22, \n",
    "                    15, 500, 330, 2, 14, 27,\n",
    "                    16, 500, 400, 3, 14, 17,\n",
    "                    17, 500, 500, 3, 15, 22,\n",
    "                    18, 500, 600, 3, 15, 27,\n",
    "                    19, 750, 240, 3, 17.5, 28,\n",
    "                    20, 750, 300, 3, 18, 30,\n",
    "                    21, 750, 400, 4, 18.5, 32,\n",
    "                    22, 750, 400, 4, 19, 35, \n",
    "                    23, 750, 500, 4, 19.5, 32,\n",
    "                    24, 750, 500, 4, 20, 35,\n",
    "                    25, 220, 240, 1, 9, 20.5,\n",
    "                    26, 330, 300, 1, 12, 22.5,\n",
    "                    27, 500, 400, 2, 15, 27,\n",
    "                    28, 750, 500, 3, 18, 30,\n",
    "                    29, 330, 500, 2, 13, 20.5,\n",
    "                    30, 500, 600, 2, 14, 22.5\n",
    "]).reshape(-1, 6)\n",
    "\n",
    "data = pd.DataFrame(data=data, columns=[\"Index\", \"U\", \"S\", \"n\", \"$D_0$\", \"H\"])\n",
    "data[\"Index\"] = data[\"Index\"].astype(int)\n",
    "data[\"n\"] = data[\"n\"].astype(int)\n",
    "\n",
    "data = data.set_index(\"Index\");\n",
    "data[\"spg\"] = np.zeros(30) + np.nan\n",
    "\n",
    "data[\"spg\"][data[\"U\"] == 330] = 20;\n",
    "data[\"spg\"][data[\"U\"] == 500] = 30;\n",
    "data[\"spg\"][data[\"U\"] == 750] = 40;"
   ]
  },
  {
   "cell_type": "code",
   "execution_count": null,
   "id": "65e30242",
   "metadata": {},
   "outputs": [],
   "source": [
    "def calculate_E(U, H, D_0, S, x):\n",
    "    \n",
    "    pi = np.pi\n",
    "    eps_0 = 8.85 * 1e-12\n",
    "\n",
    "    S = S * 1e-6    \n",
    "    d = np.sqrt(4 * S / pi)\n",
    "    c = 24e-12/(np.log(2*D_0/d)/np.log(10))\n",
    "        \n",
    "    E = (c * U / (2*np.sqrt(3)*pi*eps_0))*(2*H/((x-D_0)**2+H**2) - H/(x**2+H**2) - H/((x+D_0)**2 + H**2))\n",
    "    \n",
    "    return E"
   ]
  },
  {
   "cell_type": "code",
   "execution_count": null,
   "id": "3ad00b06",
   "metadata": {},
   "outputs": [],
   "source": [
    "result_E = np.zeros((30, 7))\n",
    "result_E_x_values = [[] for i in range(30)]\n",
    "\n",
    "for index, (U, S, n, D_0, H, spg) in enumerate(data.to_numpy()):\n",
    "    result_E[index, 0] = calculate_E(U, H, D_0, S, 0)\n",
    "    result_E[index, 1] = calculate_E(U, H, D_0, S, D_0)\n",
    "    result_E[index, 2] = calculate_E(U, H, D_0, S, 2*D_0)\n",
    "    result_E[index, 3] = calculate_E(U, H, D_0, S, 3*D_0)\n",
    "    result_E[index, 4] = calculate_E(U, H, D_0, S, 4*D_0)\n",
    "    result_E[index, 5] = calculate_E(U, H, D_0, S, 5*D_0)\n",
    "    \n",
    "    result_E_x_values[index] = [0, D_0, 2*D_0, 3*D_0, 4*D_0, 5*D_0]\n",
    "    \n",
    "    if not np.isnan(spg):\n",
    "        result_E[index, 6] = calculate_E(U, H, D_0, S, spg)\n",
    "        result_E_x_values[index].append(spg)\n",
    "    else:\n",
    "        result_E[index, 6] = np.nan\n",
    "        \n",
    "    result_E_x_values[index].sort()"
   ]
  },
  {
   "cell_type": "code",
   "execution_count": null,
   "id": "eafb1f1c",
   "metadata": {},
   "outputs": [],
   "source": [
    "df_E = pd.DataFrame(data=result_E, columns=[\"0\", \"D_0\", \"2D_0\", \"3D_0\", \"4D_0\", \"5D_0\", \"ՍՊԳ\"])\n",
    "df_E = df_E.set_index(np.arange(1, 31))"
   ]
  },
  {
   "cell_type": "markdown",
   "id": "cd9588cd",
   "metadata": {},
   "source": [
    "# PLot one example"
   ]
  },
  {
   "cell_type": "code",
   "execution_count": null,
   "id": "c5ffcaa6",
   "metadata": {},
   "outputs": [],
   "source": [
    "U, S, n, D_0, H, spg"
   ]
  },
  {
   "cell_type": "code",
   "execution_count": null,
   "id": "68a75307",
   "metadata": {},
   "outputs": [],
   "source": [
    "idx = 11\n",
    "row = data.to_numpy()[idx]\n",
    "U, S, n, D_0, H, spg = row\n",
    "\n",
    "one_result = np.zeros(7)\n",
    "x_values = np.array([0, D_0, 2*D_0, 3*D_0, 4*D_0, 5*D_0, spg])\n",
    "x_labels = np.array([\"0\", \"$D_0$\", \"$2D_0$\", \"$3D_0$\", \"$4D_0$\", \"$5D_0$\", \"ՍՊԳ\"])\n",
    "\n",
    "one_result[0] = calculate_E(U, H, D_0, S, 0)\n",
    "one_result[1] = calculate_E(U, H, D_0, S, D_0)\n",
    "one_result[2] = calculate_E(U, H, D_0, S, 2*D_0)\n",
    "one_result[3] = calculate_E(U, H, D_0, S, 3*D_0)\n",
    "one_result[4] = calculate_E(U, H, D_0, S, 4*D_0)\n",
    "one_result[5] = calculate_E(U, H, D_0, S, 5*D_0)\n",
    "one_result[6] = calculate_E(U, H, D_0, S, spg)\n",
    "\n",
    "indices = np.argsort(x_values)\n",
    "\n",
    "fig, ax = plt.subplots(figsize=(10, 5))\n",
    "ax.plot(x_values[indices], one_result[indices], ls=\"-.\")\n",
    "ax.scatter(x_values[indices], one_result[indices], color=\"black\")\n",
    "\n",
    "ax.set_xticks(x_values[indices])\n",
    "ax.set_xticklabels(x_labels[indices], rotation='horizontal', fontsize=12)\n",
    "\n",
    "ax.set_xlabel(\"d, մ\", rotation=0, fontsize=15)\n",
    "ax.set_ylabel(\"E, կՎ\", rotation=0, fontsize=15, labelpad=0, loc=\"top\")\n",
    "fig.tight_layout()\n",
    "plt.show()"
   ]
  },
  {
   "cell_type": "markdown",
   "id": "3470e035",
   "metadata": {},
   "source": [
    "# Problem N2"
   ]
  },
  {
   "cell_type": "code",
   "execution_count": null,
   "id": "12a6ebe6",
   "metadata": {},
   "outputs": [],
   "source": [
    "def calculate_L(U, H, D_0, S, n):\n",
    "    \n",
    "    eps_0 = 8.85e-12\n",
    "    pi = np.pi\n",
    "    \n",
    "    S = S * 10**-6\n",
    "    d = np.sqrt(4 * S / pi)\n",
    "    r = d / 2\n",
    "    c = 24e-12 / (np.log(2*D_0/d)/np.log(10))\n",
    "\n",
    "    B = 100\n",
    "    E_ar = c * U / (2*np.sqrt(3)*pi*eps_0*r)\n",
    "    L = 20 + 0.0111*E_ar + 900*r + 15*np.log(n) - 20*np.log(B)/np.log(10)\n",
    "    return L"
   ]
  },
  {
   "cell_type": "code",
   "execution_count": null,
   "id": "46a8aedd",
   "metadata": {},
   "outputs": [],
   "source": [
    "resutl_L = []\n",
    "for U, S, n, D_0, H, _ in data.to_numpy():\n",
    "    resutl_L.append(calculate_L(U, H, D_0, S, n))"
   ]
  },
  {
   "cell_type": "code",
   "execution_count": null,
   "id": "a2c6dd02",
   "metadata": {},
   "outputs": [],
   "source": [
    "fig, ax = plt.subplots(figsize=(15, 7))\n",
    "ax.plot(range(1, 31), resutl_L, ls=\"-.\")\n",
    "ax.set_xlabel(range(1, 31))\n",
    "ax.set_xticks(range(1, 31))\n",
    "ax.scatter(range(1, 31), resutl_L, color=\"black\")\n",
    "\n",
    "ax.axhline(y=45, ls=\"--\", color=\"red\")\n",
    "ax.set_xlabel(\"Տվյալ\", rotation=0, fontsize=20)\n",
    "ax.set_ylabel(\"Աղմուկ (դԲ)\", rotation=45, fontsize=10, labelpad=20)\n",
    "fig.tight_layout()\n",
    "plt.show()"
   ]
  },
  {
   "cell_type": "code",
   "execution_count": null,
   "id": "53ba00d3",
   "metadata": {},
   "outputs": [],
   "source": [
    "resutl_L[idx]"
   ]
  }
 ],
 "metadata": {
  "kernelspec": {
   "display_name": "Python 3 (ipykernel)",
   "language": "python",
   "name": "python3"
  },
  "language_info": {
   "codemirror_mode": {
    "name": "ipython",
    "version": 3
   },
   "file_extension": ".py",
   "mimetype": "text/x-python",
   "name": "python",
   "nbconvert_exporter": "python",
   "pygments_lexer": "ipython3",
   "version": "3.9.12"
  }
 },
 "nbformat": 4,
 "nbformat_minor": 5
}
