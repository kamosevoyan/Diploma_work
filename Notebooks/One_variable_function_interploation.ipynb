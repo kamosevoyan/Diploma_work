{
 "cells": [
  {
   "cell_type": "code",
   "execution_count": 207,
   "id": "27f6a2c5",
   "metadata": {},
   "outputs": [],
   "source": [
    "import numpy as np\n",
    "import matplotlib.pyplot as plt"
   ]
  },
  {
   "cell_type": "code",
   "execution_count": 241,
   "id": "37bca738",
   "metadata": {},
   "outputs": [],
   "source": [
    "X = np.arange(0, 4, 0.3)**3"
   ]
  },
  {
   "cell_type": "code",
   "execution_count": 259,
   "id": "5ae12035",
   "metadata": {},
   "outputs": [],
   "source": [
    "def alpha(i, X):\n",
    "    x = np.linspace(X.min(), X.max(), 1000)\n",
    "    \n",
    "    if i + 1 >= X.shape[0]:\n",
    "        return x*0\n",
    "    y = (X[i+1]-x)**2*((X[i+1]-X[i])+2*(x-X[i]))/(X[i+1]-X[i])**3\n",
    "    \n",
    "    y[(x > X[i+1]) | (x < X[i])] = 0\n",
    "    return y\n",
    "\n",
    "def beta(i, X):\n",
    "    x = np.linspace(X.min(), X.max(), 1000)\n",
    "    \n",
    "    if i >= X.shape[0]:\n",
    "        return x*0\n",
    "    \n",
    "    y = (x-X[i-1])**2*((X[i]-X[i-1])+2*(X[i]-x))/(X[i]-X[i-1])**3\n",
    "    \n",
    "    y[(x > X[i]) | (x < X[i-1])] = 0\n",
    "    return y\n",
    "\n",
    "def gamma(i, X):\n",
    "    x = np.linspace(X.min(), X.max(), 1000)\n",
    "    \n",
    "    if i + 1 >= X.shape[0]:\n",
    "        return x*0\n",
    "    \n",
    "    y = (x-X[i])*(X[i+1]-x)**2/(X[i+1]-X[i])**2\n",
    "    \n",
    "    y[(x > X[i+1]) | (x < X[i])] = 0\n",
    "    \n",
    "    return y\n",
    "\n",
    "def delta(i, X):\n",
    "    x = np.linspace(X.min(), X.max(), 1000)\n",
    "    y = (x-X[i-1])**2*(x-X[i])/(X[i]-X[i-1])**2\n",
    "    \n",
    "    y[(x > X[i]) | (x < X[i-1])] = 0\n",
    "    \n",
    "    return y"
   ]
  },
  {
   "cell_type": "code",
   "execution_count": 260,
   "id": "6b61a391",
   "metadata": {},
   "outputs": [],
   "source": [
    "f = lambda x: np.sin(x)\n",
    "dfdx = lambda x: np.cos(x)\n",
    "x = np.linspace(X.min(), X.max(), 1000)"
   ]
  },
  {
   "cell_type": "code",
   "execution_count": 264,
   "id": "60896f2f",
   "metadata": {},
   "outputs": [],
   "source": [
    "I = 8"
   ]
  },
  {
   "cell_type": "code",
   "execution_count": 265,
   "id": "e2203242",
   "metadata": {},
   "outputs": [],
   "source": [
    "approx = alpha(I, X)*f(X[I]) + beta(I+1, X)*f(X[I+1])+gamma(I, X)*dfdx(X[I])+delta(I+1, X)*dfdx(X[I+1])"
   ]
  },
  {
   "cell_type": "code",
   "execution_count": 266,
   "id": "f03e4d3a",
   "metadata": {},
   "outputs": [
    {
     "data": {
      "image/png": "[encoded data removed]",
      "text/plain": [
       "<Figure size 432x288 with 1 Axes>"
      ]
     },
     "metadata": {
      "needs_background": "light"
     },
     "output_type": "display_data"
    }
   ],
   "source": [
    "fig, ax = plt.subplots()\n",
    "ax.plot(x, alpha(I, X), color=\"blue\")\n",
    "ax.plot(x, beta(I, X), color=\"red\")\n",
    "ax.plot(x, gamma(I, X), color=\"blue\")\n",
    "ax.plot(x, delta(I, X), color=\"red\")\n",
    "ax.scatter(X[I], 0)\n",
    "plt.show()"
   ]
  },
  {
   "cell_type": "code",
   "execution_count": null,
   "id": "031935e3",
   "metadata": {},
   "outputs": [],
   "source": []
  }
 ],
 "metadata": {
  "kernelspec": {
   "display_name": "Python 3 (ipykernel)",
   "language": "python",
   "name": "python3"
  },
  "language_info": {
   "codemirror_mode": {
    "name": "ipython",
    "version": 3
   },
   "file_extension": ".py",
   "mimetype": "text/x-python",
   "name": "python",
   "nbconvert_exporter": "python",
   "pygments_lexer": "ipython3",
   "version": "3.9.12"
  }
 },
 "nbformat": 4,
 "nbformat_minor": 5
}
