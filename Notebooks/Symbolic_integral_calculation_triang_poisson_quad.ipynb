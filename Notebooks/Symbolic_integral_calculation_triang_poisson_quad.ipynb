{
 "cells": [
  {
   "cell_type": "code",
   "execution_count": 13,
   "id": "f08b13c7",
   "metadata": {},
   "outputs": [],
   "source": [
    "import sympy\n",
    "import matplotlib.pyplot as plt\n",
    "import numpy as np\n",
    "from tqdm import tqdm"
   ]
  },
  {
   "cell_type": "code",
   "execution_count": 14,
   "id": "12b69267",
   "metadata": {},
   "outputs": [],
   "source": [
    "x, y, x_1, y_1, x_2, y_2, x_3, y_3, p_1, p_2, p_3 = sympy.symbols(\"x y x_1 y_1 x_2 y_2 x_3 y_3 p_1 p_2 p_3\")\n",
    "p_1_x, p_2_x, p_1_y, p_2_y = sympy.symbols(\"p_1_x p_2_x p_1_y p_2_y\")"
   ]
  },
  {
   "cell_type": "code",
   "execution_count": 15,
   "id": "bc9fbec8",
   "metadata": {},
   "outputs": [],
   "source": [
    "S2 = (x_2-x_1)*(y_3-y_1)-(y_2-y_1)*(x_3-x_1)"
   ]
  },
  {
   "cell_type": "code",
   "execution_count": 16,
   "id": "365ec5ee",
   "metadata": {},
   "outputs": [],
   "source": [
    "p_1_global = (x_2*y_3 - y_2*x_3 + x*(y_2-y_3)-y*(x_2-x_3)) / S2"
   ]
  },
  {
   "cell_type": "code",
   "execution_count": 17,
   "id": "dfa93ad4",
   "metadata": {},
   "outputs": [],
   "source": [
    "p_2_global = (x_3*y_1 - y_3*x_1 + x*(y_3-y_1)-y*(x_3-x_1)) / S2"
   ]
  },
  {
   "cell_type": "code",
   "execution_count": 18,
   "id": "62909b2c",
   "metadata": {},
   "outputs": [],
   "source": [
    "p_3_global = (x_1*y_2 - y_1*x_2 + x*(y_1-y_2)-y*(x_1-x_2)) / S2"
   ]
  },
  {
   "cell_type": "code",
   "execution_count": 19,
   "id": "860377b7",
   "metadata": {},
   "outputs": [],
   "source": [
    "P_1 = p_1*(2*p_1-1)\n",
    "P_2 = p_2*(2*p_2-1)\n",
    "P_3 = p_3*(2*p_3-1)"
   ]
  },
  {
   "cell_type": "code",
   "execution_count": 20,
   "id": "037830ff",
   "metadata": {},
   "outputs": [],
   "source": [
    "P_4 = 4*p_1*p_2\n",
    "P_5 = 4*p_2*p_3\n",
    "P_6 = 4*p_3*p_1"
   ]
  },
  {
   "cell_type": "code",
   "execution_count": 21,
   "id": "b7b5292c",
   "metadata": {},
   "outputs": [],
   "source": [
    "all_basis = [P_1, P_2, P_3, P_4, P_5, P_6]"
   ]
  },
  {
   "cell_type": "code",
   "execution_count": 28,
   "id": "51abb938",
   "metadata": {},
   "outputs": [],
   "source": [
    "result = {}\n",
    "\n",
    "for i in range(6):\n",
    "    for j in range(6):\n",
    "        \n",
    "        b1 = all_basis[i].subs(p_3, 1-p_1-p_2)\n",
    "        b2 = all_basis[j].subs(p_3, 1-p_1-p_2)\n",
    "        \n",
    "        b1_x = sympy.diff(b1, p_1)*p_1_x + sympy.diff(b1, p_2)*p_2_x\n",
    "        b2_x = sympy.diff(b2, p_1)*p_1_x + sympy.diff(b2, p_2)*p_2_x\n",
    "        \n",
    "        b1_y = sympy.diff(b1, p_1)*p_1_y + sympy.diff(b1, p_2)*p_2_y\n",
    "        b2_y = sympy.diff(b2, p_1)*p_1_y + sympy.diff(b2, p_2)*p_2_y\n",
    "        \n",
    "        A = b1_x*b2_x\n",
    "        B = b1_y*b2_y\n",
    "        \n",
    "        A = sympy.integrate(A, (p_2, 0, 1-p_1), (p_1, 0, 1))\n",
    "        B = sympy.integrate(B, (p_2, 0, 1-p_1), (p_1, 0, 1))\n",
    "        \n",
    "        func = sympy.lambdify((p_1_x, p_2_x, p_1_y, p_2_y), A+B)\n",
    "        result[f\"{i}_{j}\"] = func"
   ]
  },
  {
   "cell_type": "code",
   "execution_count": 29,
   "id": "6c846096",
   "metadata": {},
   "outputs": [],
   "source": [
    "for idx, basis in enumerate(all_basis):\n",
    "    \n",
    "    basis_norm = basis.copy().subs(p_3, 1-p_1-p_2)\n",
    "    sym_int = sympy.integrate(basis_norm, (p_2, 0, 1-p_1), (p_1, 0, 1))    \n",
    "    result[f\"{idx}\"] = sym_int"
   ]
  },
  {
   "cell_type": "code",
   "execution_count": 30,
   "id": "b6e4716c",
   "metadata": {},
   "outputs": [],
   "source": [
    "import dill\n",
    "dill.settings['recurse'] = True\n",
    "dill.dump(result, open(\"poisson_quad\", \"wb\"))"
   ]
  }
 ],
 "metadata": {
  "kernelspec": {
   "display_name": "Python 3 (ipykernel)",
   "language": "python",
   "name": "python3"
  },
  "language_info": {
   "codemirror_mode": {
    "name": "ipython",
    "version": 3
   },
   "file_extension": ".py",
   "mimetype": "text/x-python",
   "name": "python",
   "nbconvert_exporter": "python",
   "pygments_lexer": "ipython3",
   "version": "3.9.12"
  }
 },
 "nbformat": 4,
 "nbformat_minor": 5
}
