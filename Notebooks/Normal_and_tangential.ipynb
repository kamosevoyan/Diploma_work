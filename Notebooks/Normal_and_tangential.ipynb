{
 "cells": [
  {
   "cell_type": "code",
   "execution_count": 111,
   "id": "d77dd589",
   "metadata": {},
   "outputs": [],
   "source": [
    "import numpy as np\n",
    "from tqdm import tqdm\n",
    "import matplotlib.pyplot as plt\n",
    "from scipy.spatial import Delaunay\n",
    "from triangle import triangulate, plot as tplot, convex_hull, show_data, get_data\n",
    "\n",
    "from random import choice, sample\n",
    "import matplotlib.colors as mcolors\n",
    "import dill"
   ]
  },
  {
   "cell_type": "code",
   "execution_count": 112,
   "id": "4f397b91",
   "metadata": {},
   "outputs": [],
   "source": [
    "t = np.linspace(0, 2*np.pi, 3, endpoint=False)\n",
    "points = np.stack((np.cos(t), np.sin(t))).T"
   ]
  },
  {
   "cell_type": "code",
   "execution_count": 113,
   "id": "f91988b0",
   "metadata": {},
   "outputs": [],
   "source": [
    "seg = np.array([[j, j+1] for j in range(points.shape[0]-1)] + [[points.shape[0] - 1, 0]])"
   ]
  },
  {
   "cell_type": "code",
   "execution_count": 114,
   "id": "c5092c6f",
   "metadata": {},
   "outputs": [],
   "source": [
    "cndt = triangulate({\"vertices\":points, \"segments\":seg}, opts=\"Rpq30a4.9neo2\")"
   ]
  },
  {
   "cell_type": "code",
   "execution_count": 115,
   "id": "70731bd6",
   "metadata": {},
   "outputs": [],
   "source": [
    "points = cndt[\"vertices\"]\n",
    "triangles = cndt[\"triangles\"]\n",
    "neighbours = cndt[\"neighbors\"]\n",
    "vertex_markers_is_boundary = cndt[\"vertex_markers\"]\n",
    "triangles_s = points[triangles]\n",
    "triangles_c = triangles_s.reshape(-1, 2)\n",
    "a = triangles_s[:, 0] - triangles_s[:, 1] \n",
    "b = triangles_s[:, 0] - triangles_s[:, 2] \n",
    "areas = np.abs(a[:, 0]*b[:, 1] - a[:, 1]*b[:, 0])"
   ]
  },
  {
   "cell_type": "code",
   "execution_count": 116,
   "id": "b366e3a2",
   "metadata": {},
   "outputs": [],
   "source": [
    "is_boundary_point = np.zeros(points.shape[0], dtype=bool)\n",
    "\n",
    "boundary_normal = np.zeros((points.shape[0], 2))\n",
    "boundary_tangential = np.zeros((points.shape[0], 2))\n",
    "\n",
    "is_set = np.zeros(points.shape[0], dtype=np.bool_)\n",
    "boundary_triangle = np.zeros_like(is_set, dtype=int)-1"
   ]
  },
  {
   "cell_type": "code",
   "execution_count": 117,
   "id": "4b1f9ab1",
   "metadata": {},
   "outputs": [],
   "source": [
    "def get_mid(a, b):\n",
    "    \n",
    "    if (a == 0) and (b == 1):\n",
    "        return 5\n",
    "    if (a == 1) and (b == 2):\n",
    "        return 3\n",
    "    if (a == 0) and (b == 2):\n",
    "        return 4\n",
    "    \n",
    "    print(f\"{a=}, {b=}\")"
   ]
  },
  {
   "cell_type": "code",
   "execution_count": 118,
   "id": "f45dd576",
   "metadata": {},
   "outputs": [],
   "source": [
    "for index, element in enumerate(triangles):\n",
    "    \n",
    "    if (neighbours[index] == -1).sum() == 2:\n",
    "        indices_ = np.where(neighbours[index] != -1)[0]\n",
    "        is_boundary_point[element] = True\n",
    "        is_boundary_point[element[indices_ + 3]]= False\n",
    "        \n",
    "    elif (neighbours[index] == -1).sum() == 1:\n",
    "        \n",
    "        indices_ = np.where(neighbours[index] != -1)[0]\n",
    "        is_boundary_point[element[indices_]] = True\n",
    "        \n",
    "        origin_point_idx = element[indices_[0]] if is_boundary_point[element[(indices_[0] + 1) % 3]] == True else element[indices_[1]]\n",
    "        end_point_idx = element[indices_[0]] if origin_point_idx == element[indices_[1]] else element[indices_[1]]\n",
    "        \n",
    "        fp = points[origin_point_idx]\n",
    "        sp = points[end_point_idx]\n",
    "            \n",
    "        boundary_normal[origin_point_idx][0] =  -(fp[1] - sp[1])\n",
    "        boundary_normal[origin_point_idx][1] =  (fp[0] - sp[0])\n",
    "        \n",
    "        boundary_tangential[origin_point_idx][0] = (-fp[0] + sp[0])\n",
    "        boundary_tangential[origin_point_idx][1] = (-fp[1] + sp[1])\n",
    "        \n",
    "    \n",
    "        \n",
    "        boundary_triangle[origin_point_idx] = index\n",
    "        \n",
    "        is_set[origin_point_idx] = True\n",
    "        \n",
    "        mid_idx = get_mid(indices_[0], indices_[1])\n",
    "        \n",
    "        is_boundary_point[element[mid_idx]] = True\n",
    "        boundary_normal[element[mid_idx]][0] =  -(fp[1] - sp[1])\n",
    "        boundary_normal[element[mid_idx]][1] =  +(fp[0] - sp[0])\n",
    "        \n",
    "        boundary_tangential[element[mid_idx]][0] = (-fp[0] + sp[0])\n",
    "        boundary_tangential[element[mid_idx]][1] = (-fp[1] + sp[1])\n",
    "        \n",
    "        \n",
    "\n",
    "for index, element in enumerate(triangles):\n",
    "    \n",
    "    if (neighbours[index] == -1).sum() == 2:\n",
    "        \n",
    "        set_ = np.where(is_set[element] == True)[0][0]\n",
    "        \n",
    "        start_1 = (set_ + 1) % 3\n",
    "        end_1 = (start_1 + 1) % 3\n",
    "        \n",
    "        start_2 = end_1\n",
    "        end_2 = set_\n",
    "        \n",
    "        boundary_normal[element[start_1]][0] =  (points[element[end_1]][1] - points[element[start_1]][1])\n",
    "        boundary_normal[element[start_1]][1] =  -(points[element[end_1]][0] - points[element[start_1]][0])     \n",
    "        \n",
    "        mid_idx = get_mid(end_1, start_1)\n",
    "        \n",
    "        boundary_normal[element[mid_idx]][0] =  (points[element[end_1]][1] - points[element[start_1]][1])\n",
    "        boundary_normal[element[mid_idx]][1] =  -(points[element[end_1]][0] - points[element[start_1]][0])             \n",
    "        \n",
    "                \n",
    "        boundary_normal[element[start_2]][0] =  (points[element[end_2]][1] - points[element[start_2]][1])        \n",
    "        boundary_normal[element[start_2]][1] =  -(points[element[end_2]][0] - points[element[start_2]][0])\n",
    "        \n",
    "        \n",
    "        mid_idx = get_mid(start_2, end_2)\n",
    "        \n",
    "        boundary_normal[element[mid_idx]][0] =  (points[element[end_2]][1] - points[element[start_2]][1])\n",
    "        boundary_normal[element[mid_idx]][1] =  -(points[element[end_2]][0] - points[element[start_2]][0])             \n",
    "                \n",
    "        \n",
    "        boundary_triangle[element[start_1]] = index\n",
    "        boundary_triangle[element[start_2]] = index        \n",
    "\n",
    "boundary_normal[is_boundary_point] = boundary_normal[is_boundary_point] / (boundary_normal[is_boundary_point]**2).sum(axis=-1, keepdims=True) ** 0.5\n",
    "boundary_tangential[is_boundary_point] = boundary_tangential[is_boundary_point] / (boundary_tangential[is_boundary_point]**2).sum(axis=-1, keepdims=True) ** 0.5"
   ]
  },
  {
   "cell_type": "code",
   "execution_count": 119,
   "id": "354a01cf",
   "metadata": {},
   "outputs": [],
   "source": [
    "elem_normal = np.zeros((*triangles.shape, 2))\n",
    "elem_tangential = np.zeros((*triangles.shape, 2))"
   ]
  },
  {
   "cell_type": "code",
   "execution_count": 120,
   "id": "7270791e",
   "metadata": {},
   "outputs": [],
   "source": [
    "for index, element in enumerate(triangles):\n",
    "    \n",
    "    elem_tangential[index, 0][0] = points[element[1]][0]-points[element[0]][0]\n",
    "    elem_tangential[index, 0][1] = points[element[1]][1]-points[element[0]][1]\n",
    "\n",
    "    elem_normal[index, 0][0] = points[element[1]][1]-points[element[0]][1]\n",
    "    elem_normal[index, 0][1] = -(points[element[1]][0]-points[element[0]][0])\n",
    "\n",
    "    \n",
    "    elem_tangential[index, 1][0] = points[element[2]][0]-points[element[1]][0]\n",
    "    elem_tangential[index, 1][1] = points[element[2]][1]-points[element[1]][1]\n",
    "    \n",
    "    elem_normal[index, 1][0] = points[element[2]][1]-points[element[1]][1]\n",
    "    elem_normal[index, 1][1] = -(points[element[2]][0]-points[element[1]][0])    \n",
    "    \n",
    "    elem_tangential[index, 2][0] = points[element[0]][0]-points[element[2]][0]\n",
    "    elem_tangential[index, 2][1] = points[element[0]][1]-points[element[2]][1]\n",
    "    \n",
    "    elem_normal[index, 2][0] = points[element[0]][1]-points[element[2]][1]\n",
    "    elem_normal[index, 2][1] = -(points[element[0]][0]-points[element[2]][0])\n",
    "\n",
    "    \n",
    "    mid1 = get_mid(0, 1)\n",
    "    mid2 = get_mid(1, 2)\n",
    "    mid3 = get_mid(0, 2)\n",
    "    \n",
    "    \n",
    "    elem_normal[index, mid1][0] = -points[element[0]][1]+points[element[1]][1]\n",
    "    elem_normal[index, mid1][1] = -(-points[element[0]][0]+points[element[1]][0])\n",
    "\n",
    "    elem_tangential[index, mid1][0] = (-points[element[0]][0]+points[element[1]][0])\n",
    "    elem_tangential[index, mid1][1] = -points[element[0]][1]+points[element[1]][1]\n",
    "\n",
    "    elem_normal[index, mid2][0] = -points[element[1]][1]+points[element[2]][1]\n",
    "    elem_normal[index, mid2][1] = -(-points[element[1]][0]+points[element[2]][0])\n",
    "\n",
    "    elem_tangential[index, mid2][0] = (-points[element[1]][0]+points[element[2]][0])\n",
    "    elem_tangential[index, mid2][1] = -points[element[1]][1]+points[element[2]][1]\n",
    "\n",
    "    elem_normal[index, mid3][0] = -points[element[2]][1]+points[element[0]][1]\n",
    "    elem_normal[index, mid3][1] = -(-points[element[2]][0]+points[element[0]][0])\n",
    "\n",
    "    elem_tangential[index, mid3][0] = (-points[element[2]][0]+points[element[0]][0])\n",
    "    elem_tangential[index, mid3][1] = -points[element[2]][1]+points[element[0]][1]"
   ]
  },
  {
   "cell_type": "code",
   "execution_count": 121,
   "id": "9ad79cd2",
   "metadata": {},
   "outputs": [],
   "source": [
    "elem_normal = elem_normal / (elem_normal**2).sum(axis=-1, keepdims=True) ** 0.5\n",
    "elem_tangential = elem_tangential / (elem_tangential**2).sum(axis=-1, keepdims=True) ** 0.5"
   ]
  },
  {
   "cell_type": "code",
   "execution_count": 122,
   "id": "f565dd32",
   "metadata": {},
   "outputs": [
    {
     "name": "stderr",
     "output_type": "stream",
     "text": [
      "100%|████████████████████████████████████████████| 1/1 [00:00<00:00, 914.99it/s]\n"
     ]
    },
    {
     "data": {
      "image/png": "[encoded data removed]",
      "text/plain": [
       "<Figure size 432x288 with 1 Axes>"
      ]
     },
     "metadata": {
      "needs_background": "light"
     },
     "output_type": "display_data"
    }
   ],
   "source": [
    "%matplotlib inline\n",
    "fig, ax = plt.subplots()\n",
    "ax.axis(\"equal\")\n",
    "\n",
    "for index, triangle in enumerate(tqdm(triangles_s[:])):\n",
    "    t1 = plt.Polygon(triangle[:3], color=\"brown\", alpha=0.5)\n",
    "    fig.gca().add_patch(t1)\n",
    "    x, y = triangle.mean(axis=0)\n",
    "ax.scatter(points[:, 0], points[:, 1])\n",
    "for idx, elem in enumerate(triangles):\n",
    "    for j in range(3, 6):\n",
    "        if vertex_markers_is_boundary[j] == 0:\n",
    "            continue\n",
    "        ax.quiver(points[elem[j]][0], points[elem[j]][1], elem_tangential[idx,j,0], elem_tangential[idx,j,1], color=\"green\", scale=10)\n",
    "        ax.quiver(points[elem[j]][0], points[elem[j]][1], elem_normal[idx,j,0], elem_normal[idx,j,1], color=\"red\", scale=10)\n",
    "ax.set_xlim([points[:, 0].min()-0.5, points[:, 0].max()+0.5])\n",
    "ax.set_ylim([points[:, 1].min()-0.5, points[:, 1].max()+0.5])\n",
    "fig.tight_layout()\n",
    "plt.tight_layout()\n",
    "plt.show()"
   ]
  },
  {
   "cell_type": "code",
   "execution_count": 123,
   "id": "c05b1f81",
   "metadata": {},
   "outputs": [],
   "source": [
    "fig.savefig(\"../../images/arb_triangle_vecs.png\")"
   ]
  },
  {
   "cell_type": "code",
   "execution_count": 124,
   "id": "143225d9",
   "metadata": {},
   "outputs": [
    {
     "data": {
      "text/plain": [
       "(-0.8, 1.8)"
      ]
     },
     "execution_count": 124,
     "metadata": {},
     "output_type": "execute_result"
    },
    {
     "data": {
      "image/png": "[encoded data removed]",
      "text/plain": [
       "<Figure size 432x288 with 1 Axes>"
      ]
     },
     "metadata": {
      "needs_background": "light"
     },
     "output_type": "display_data"
    }
   ],
   "source": [
    "standard_triangle = np.array([\n",
    "[0, 0],\n",
    "[1, 0],\n",
    "[0, 1]\n",
    "])\n",
    "\n",
    "mids = standard_triangle[np.array([[0, 1], [1, 2], [2, 0]])].mean(axis=-1)\n",
    "fig, ax = plt.subplots()\n",
    "\n",
    "\n",
    "t1 = plt.Polygon(standard_triangle, color=\"brown\", alpha=0.5)\n",
    "fig.gca().add_patch(t1)\n",
    "\n",
    "ax.scatter(standard_triangle[:, 0], standard_triangle[:, 1], color=\"black\")\n",
    "ax.scatter(mids[:, 0], mids[:, 1], color=\"red\")\n",
    "\n",
    "\n",
    "ax.quiver(mids[1][0], mids[1][1], np.sqrt(2)/2, np.sqrt(2)/2, color=\"red\", scale=10)\n",
    "ax.quiver(mids[0][0], mids[0][1], -1, 0, color=\"red\", scale=10)\n",
    "ax.quiver(mids[2][0], mids[2][1], 0, -1, color=\"red\", scale=10)\n",
    "\n",
    "ax.quiver(mids[1][0], mids[1][1], -np.sqrt(2)/2, np.sqrt(2)/2, color=\"blue\", scale=10)\n",
    "ax.quiver(mids[0][0], mids[0][1], 0, -1, color=\"blue\", scale=10)\n",
    "ax.quiver(mids[2][0], mids[2][1], 1, 0, color=\"blue\", scale=10)\n",
    "\n",
    "ax.axis(\"equal\")\n",
    "\n",
    "ax.set_xlim([-0.8, 1.8])\n",
    "ax.set_ylim([-0.8, 1.8])\n"
   ]
  },
  {
   "cell_type": "code",
   "execution_count": 125,
   "id": "794e617a",
   "metadata": {},
   "outputs": [],
   "source": [
    "fig.savefig(\"../../images/standard_triangle_vecs.png\")"
   ]
  }
 ],
 "metadata": {
  "kernelspec": {
   "display_name": "Python 3 (ipykernel)",
   "language": "python",
   "name": "python3"
  },
  "language_info": {
   "codemirror_mode": {
    "name": "ipython",
    "version": 3
   },
   "file_extension": ".py",
   "mimetype": "text/x-python",
   "name": "python",
   "nbconvert_exporter": "python",
   "pygments_lexer": "ipython3",
   "version": "3.9.12"
  }
 },
 "nbformat": 4,
 "nbformat_minor": 5
}
