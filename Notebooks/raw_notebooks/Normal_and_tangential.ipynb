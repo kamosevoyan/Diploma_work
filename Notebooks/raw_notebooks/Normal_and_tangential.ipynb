{
 "cells": [
  {
   "cell_type": "code",
   "execution_count": 1,
   "id": "d77dd589",
   "metadata": {},
   "outputs": [],
   "source": [
    "import numpy as np\n",
    "from tqdm import tqdm\n",
    "import matplotlib.pyplot as plt\n",
    "from scipy.spatial import Delaunay\n",
    "from triangle import triangulate, plot as tplot, convex_hull, show_data, get_data\n",
    "\n",
    "from random import choice, sample\n",
    "import matplotlib.colors as mcolors\n",
    "import dill"
   ]
  },
  {
   "cell_type": "code",
   "execution_count": 2,
   "id": "4f397b91",
   "metadata": {},
   "outputs": [],
   "source": [
    "t = np.linspace(0, 2*np.pi, 3, endpoint=False)\n",
    "points = np.stack((np.cos(t), np.sin(t))).T"
   ]
  },
  {
   "cell_type": "code",
   "execution_count": 3,
   "id": "f91988b0",
   "metadata": {},
   "outputs": [],
   "source": [
    "seg = np.array([[j, j+1] for j in range(points.shape[0]-1)] + [[points.shape[0] - 1, 0]])"
   ]
  },
  {
   "cell_type": "code",
   "execution_count": 4,
   "id": "c5092c6f",
   "metadata": {},
   "outputs": [],
   "source": [
    "cndt = triangulate({\"vertices\":points, \"segments\":seg}, opts=\"Rpq30a1.9neo2\")"
   ]
  },
  {
   "cell_type": "code",
   "execution_count": 15,
   "id": "70731bd6",
   "metadata": {},
   "outputs": [],
   "source": [
    "points = cndt[\"vertices\"]\n",
    "triangles = cndt[\"triangles\"]\n",
    "neighbours = cndt[\"neighbors\"]\n",
    "triangles_s = points[triangles]\n",
    "triangles_c = triangles_s.reshape(-1, 2)\n",
    "a = triangles_s[:, 0] - triangles_s[:, 1] \n",
    "b = triangles_s[:, 0] - triangles_s[:, 2] \n",
    "areas = np.abs(a[:, 0]*b[:, 1] - a[:, 1]*b[:, 0])"
   ]
  },
  {
   "cell_type": "code",
   "execution_count": 6,
   "id": "b366e3a2",
   "metadata": {},
   "outputs": [],
   "source": [
    "is_boundary_point = np.zeros(points.shape[0], dtype=bool)\n",
    "\n",
    "boundary_normal = np.zeros((points.shape[0], 2))\n",
    "boundary_tangential = np.zeros((points.shape[0], 2))\n",
    "\n",
    "is_set = np.zeros(points.shape[0], dtype=np.bool_)\n",
    "boundary_triangle = np.zeros_like(is_set, dtype=int)-1"
   ]
  },
  {
   "cell_type": "code",
   "execution_count": 7,
   "id": "4b1f9ab1",
   "metadata": {},
   "outputs": [],
   "source": [
    "def get_mid(a, b):\n",
    "    \n",
    "    if (a == 0) and (b == 1):\n",
    "        return 5\n",
    "    if (a == 1) and (b == 2):\n",
    "        return 3\n",
    "    if (a == 0) and (b == 2):\n",
    "        return 4\n",
    "    \n",
    "    print(f\"{a=}, {b=}\")"
   ]
  },
  {
   "cell_type": "code",
   "execution_count": 8,
   "id": "f45dd576",
   "metadata": {},
   "outputs": [],
   "source": [
    "for index, element in enumerate(triangles):\n",
    "    \n",
    "    if (neighbours[index] == -1).sum() == 2:\n",
    "        indices_ = np.where(neighbours[index] != -1)[0]\n",
    "        is_boundary_point[element] = True\n",
    "        is_boundary_point[element[indices_ + 3]]= False\n",
    "        \n",
    "    elif (neighbours[index] == -1).sum() == 1:\n",
    "        \n",
    "        indices_ = np.where(neighbours[index] != -1)[0]\n",
    "        is_boundary_point[element[indices_]] = True\n",
    "        \n",
    "        origin_point_idx = element[indices_[0]] if is_boundary_point[element[(indices_[0] + 1) % 3]] == True else element[indices_[1]]\n",
    "        end_point_idx = element[indices_[0]] if origin_point_idx == element[indices_[1]] else element[indices_[1]]\n",
    "        \n",
    "        fp = points[origin_point_idx]\n",
    "        sp = points[end_point_idx]\n",
    "            \n",
    "        boundary_normal[origin_point_idx][0] =  -(fp[1] - sp[1])\n",
    "        boundary_normal[origin_point_idx][1] =  (fp[0] - sp[0])\n",
    "        \n",
    "        boundary_tangential[origin_point_idx][0] = (-fp[0] + sp[0])\n",
    "        boundary_tangential[origin_point_idx][1] = (-fp[1] + sp[1])\n",
    "        \n",
    "    \n",
    "        \n",
    "        boundary_triangle[origin_point_idx] = index\n",
    "        \n",
    "        is_set[origin_point_idx] = True\n",
    "        \n",
    "        mid_idx = get_mid(indices_[0], indices_[1])\n",
    "        \n",
    "        is_boundary_point[element[mid_idx]] = True\n",
    "        boundary_normal[element[mid_idx]][0] =  -(fp[1] - sp[1])\n",
    "        boundary_normal[element[mid_idx]][1] =  +(fp[0] - sp[0])\n",
    "        \n",
    "        boundary_tangential[element[mid_idx]][0] = (-fp[0] + sp[0])\n",
    "        boundary_tangential[element[mid_idx]][1] = (-fp[1] + sp[1])\n",
    "        \n",
    "        \n",
    "\n",
    "for index, element in enumerate(triangles):\n",
    "    \n",
    "    if (neighbours[index] == -1).sum() == 2:\n",
    "        \n",
    "        set_ = np.where(is_set[element] == True)[0][0]\n",
    "        \n",
    "        start_1 = (set_ + 1) % 3\n",
    "        end_1 = (start_1 + 1) % 3\n",
    "        \n",
    "        start_2 = end_1\n",
    "        end_2 = set_\n",
    "        \n",
    "        boundary_normal[element[start_1]][0] =  (points[element[end_1]][1] - points[element[start_1]][1])\n",
    "        boundary_normal[element[start_1]][1] =  -(points[element[end_1]][0] - points[element[start_1]][0])     \n",
    "        \n",
    "        mid_idx = get_mid(end_1, start_1)\n",
    "        \n",
    "        boundary_normal[element[mid_idx]][0] =  (points[element[end_1]][1] - points[element[start_1]][1])\n",
    "        boundary_normal[element[mid_idx]][1] =  -(points[element[end_1]][0] - points[element[start_1]][0])             \n",
    "        \n",
    "                \n",
    "        boundary_normal[element[start_2]][0] =  (points[element[end_2]][1] - points[element[start_2]][1])        \n",
    "        boundary_normal[element[start_2]][1] =  -(points[element[end_2]][0] - points[element[start_2]][0])\n",
    "        \n",
    "        \n",
    "        mid_idx = get_mid(start_2, end_2)\n",
    "        \n",
    "        boundary_normal[element[mid_idx]][0] =  (points[element[end_2]][1] - points[element[start_2]][1])\n",
    "        boundary_normal[element[mid_idx]][1] =  -(points[element[end_2]][0] - points[element[start_2]][0])             \n",
    "                \n",
    "        \n",
    "        boundary_triangle[element[start_1]] = index\n",
    "        boundary_triangle[element[start_2]] = index        \n",
    "\n",
    "boundary_normal[is_boundary_point] = boundary_normal[is_boundary_point] / (boundary_normal[is_boundary_point]**2).sum(axis=-1, keepdims=True) ** 0.5\n",
    "boundary_tangential[is_boundary_point] = boundary_tangential[is_boundary_point] / (boundary_tangential[is_boundary_point]**2).sum(axis=-1, keepdims=True) ** 0.5"
   ]
  },
  {
   "cell_type": "code",
   "execution_count": 9,
   "id": "354a01cf",
   "metadata": {},
   "outputs": [],
   "source": [
    "elem_normal = np.zeros((*triangles.shape, 2))\n",
    "elem_tangential = np.zeros((*triangles.shape, 2))"
   ]
  },
  {
   "cell_type": "code",
   "execution_count": 14,
   "id": "c8e7246c",
   "metadata": {},
   "outputs": [
    {
     "data": {
      "text/plain": [
       "(1, 6)"
      ]
     },
     "execution_count": 14,
     "metadata": {},
     "output_type": "execute_result"
    }
   ],
   "source": [
    "triangles.shape"
   ]
  },
  {
   "cell_type": "code",
   "execution_count": 10,
   "id": "7270791e",
   "metadata": {},
   "outputs": [],
   "source": [
    "for index, element in enumerate(triangles):\n",
    "    \n",
    "    elem_tangential[index, 0][0] = points[element[1]][0]-points[element[0]][0]\n",
    "    elem_tangential[index, 0][1] = points[element[1]][1]-points[element[0]][1]\n",
    "\n",
    "    elem_normal[index, 0][0] = points[element[1]][1]-points[element[0]][1]\n",
    "    elem_normal[index, 0][1] = -(points[element[1]][0]-points[element[0]][0])\n",
    "\n",
    "    \n",
    "    elem_tangential[index, 1][0] = points[element[2]][0]-points[element[1]][0]\n",
    "    elem_tangential[index, 1][1] = points[element[2]][1]-points[element[1]][1]\n",
    "    \n",
    "    elem_normal[index, 1][0] = points[element[2]][1]-points[element[1]][1]\n",
    "    elem_normal[index, 1][1] = -(points[element[2]][0]-points[element[1]][0])    \n",
    "    \n",
    "    elem_tangential[index, 2][0] = points[element[0]][0]-points[element[2]][0]\n",
    "    elem_tangential[index, 2][1] = points[element[0]][1]-points[element[2]][1]\n",
    "    \n",
    "    elem_normal[index, 2][0] = points[element[0]][1]-points[element[2]][1]\n",
    "    elem_normal[index, 2][1] = -(points[element[0]][0]-points[element[2]][0])\n",
    "\n",
    "    \n",
    "    mid1 = get_mid(0, 1)\n",
    "    mid2 = get_mid(1, 2)\n",
    "    mid3 = get_mid(0, 2)\n",
    "    \n",
    "    \n",
    "    elem_normal[index, mid1][0] = -points[element[0]][1]+points[element[1]][1]\n",
    "    elem_normal[index, mid1][1] = -(-points[element[0]][0]+points[element[1]][0])\n",
    "\n",
    "    elem_tangential[index, mid1][0] = (-points[element[0]][0]+points[element[1]][0])\n",
    "    elem_tangential[index, mid1][1] = -points[element[0]][1]+points[element[1]][1]\n",
    "\n",
    "    elem_normal[index, mid2][0] = -points[element[1]][1]+points[element[2]][1]\n",
    "    elem_normal[index, mid2][1] = -(-points[element[1]][0]+points[element[2]][0])\n",
    "\n",
    "    elem_tangential[index, mid2][0] = (-points[element[1]][0]+points[element[2]][0])\n",
    "    elem_tangential[index, mid2][1] = -points[element[1]][1]+points[element[2]][1]\n",
    "\n",
    "    elem_normal[index, mid3][0] = -points[element[2]][1]+points[element[0]][1]\n",
    "    elem_normal[index, mid3][1] = -(-points[element[2]][0]+points[element[0]][0])\n",
    "\n",
    "    elem_tangential[index, mid3][0] = (-points[element[2]][0]+points[element[0]][0])\n",
    "    elem_tangential[index, mid3][1] = -points[element[2]][1]+points[element[0]][1]"
   ]
  },
  {
   "cell_type": "code",
   "execution_count": 11,
   "id": "9ad79cd2",
   "metadata": {},
   "outputs": [],
   "source": [
    "elem_normal = elem_normal / (elem_normal**2).sum(axis=-1, keepdims=True) ** 0.5\n",
    "elem_tangential = elem_tangential / (elem_tangential**2).sum(axis=-1, keepdims=True) ** 0.5"
   ]
  },
  {
   "cell_type": "code",
   "execution_count": 12,
   "id": "f565dd32",
   "metadata": {},
   "outputs": [
    {
     "name": "stderr",
     "output_type": "stream",
     "text": [
      "100%|███████████████████████████████████████████| 1/1 [00:00<00:00, 1034.10it/s]\n",
      "100%|██████████████████████████████████████████| 6/6 [00:00<00:00, 87685.80it/s]\n",
      "100%|████████████████████████████████████████████| 6/6 [00:00<00:00, 290.43it/s]\n"
     ]
    },
    {
     "data": {
      "image/png": "[encoded data removed]",
      "text/plain": [
       "<Figure size 720x720 with 1 Axes>"
      ]
     },
     "metadata": {
      "needs_background": "light"
     },
     "output_type": "display_data"
    }
   ],
   "source": [
    "all_colors = list(mcolors.CSS4_COLORS.keys()) + list(mcolors.XKCD_COLORS.keys()) + list(mcolors.BASE_COLORS.keys())\n",
    "colors = sample(all_colors, triangles_s.shape[0])\n",
    "(0)\n",
    "%matplotlib inline\n",
    "fig, ax = plt.subplots(figsize=(10, 10))\n",
    "ax.axis(\"equal\")\n",
    "\n",
    "for index, triangle in enumerate(tqdm(triangles_s[:])):\n",
    "    t1 = plt.Polygon(triangle[:3], color=colors[index])\n",
    "    fig.gca().add_patch(t1)\n",
    "    \n",
    "    x, y = triangle.mean(axis=0)\n",
    "#     ax.text(x, y, s=f\"{index}\", fontsize=20)\n",
    "\n",
    "\n",
    "for idx, point in enumerate(tqdm(points)):\n",
    "    pass\n",
    "#     ax.text(x=point[0]+0.005, y=point[1]+0.05, s=f\"{idx}\", fontsize=20)\n",
    "    \n",
    "for idx, point in enumerate(tqdm(points)):\n",
    "    if is_boundary_point[idx]:\n",
    "        ax.scatter(point[0], point[1], color=\"black\", lw=10, s=2)\n",
    "#         ax.quiver(point[0], point[1], boundary_normal[idx,0], boundary_normal[idx,1], color=\"red\", scale=21)\n",
    "#         ax.quiver(point[0], point[1], boundary_tangential[idx,0], boundary_tangential[idx,1], color=\"green\", scale=21)\n",
    "    else:\n",
    "        ax.scatter(point[0], point[1], color=\"black\")\n",
    "#         ax.quiver(point[0], point[1], elem_normal[idx,0], elem_normal[idx,1], color=\"black\", scale=21)\n",
    "#         ax.quiver(point[0], point[1], elem_tangential[idx,0], elem_tangential[idx,1], color=\"yellow\", scale=21)\n",
    "\n",
    "\n",
    "for idx, elem in enumerate(triangles):\n",
    "    \n",
    "    for j in range(6):\n",
    "        ax.quiver(points[elem[j]][0], points[elem[j]][1], elem_tangential[idx,j,0], elem_tangential[idx,j,1], color=\"green\", scale=21)\n",
    "        ax.quiver(points[elem[j]][0], points[elem[j]][1], elem_normal[idx,j,0], elem_normal[idx,j,1], color=\"red\", scale=21)\n",
    "    \n",
    "    \n",
    "\n",
    "ax.set_xlim([points[:, 0].min()-1, points[:, 0].max()+1])\n",
    "ax.set_ylim([points[:, 1].min()-1, points[:, 1].max()+1])\n",
    "\n",
    "fig.tight_layout()\n",
    "plt.tight_layout()\n",
    "\n",
    "plt.show()"
   ]
  },
  {
   "cell_type": "code",
   "execution_count": null,
   "id": "143225d9",
   "metadata": {},
   "outputs": [],
   "source": []
  },
  {
   "cell_type": "code",
   "execution_count": null,
   "id": "c360d80a",
   "metadata": {},
   "outputs": [],
   "source": []
  }
 ],
 "metadata": {
  "kernelspec": {
   "display_name": "Python 3 (ipykernel)",
   "language": "python",
   "name": "python3"
  },
  "language_info": {
   "codemirror_mode": {
    "name": "ipython",
    "version": 3
   },
   "file_extension": ".py",
   "mimetype": "text/x-python",
   "name": "python",
   "nbconvert_exporter": "python",
   "pygments_lexer": "ipython3",
   "version": "3.9.12"
  }
 },
 "nbformat": 4,
 "nbformat_minor": 5
}
