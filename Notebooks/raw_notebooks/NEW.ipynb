{
 "cells": [
  {
   "cell_type": "code",
   "execution_count": 2,
   "id": "f08b13c7",
   "metadata": {},
   "outputs": [],
   "source": [
    "import sympy\n",
    "import matplotlib.pyplot as plt\n",
    "import numpy as np\n",
    "from tqdm import tqdm\n",
    "import symfem\n",
    "from sympy import Rational\n",
    "import dill\n",
    "dill.settings['recurse'] = True\n",
    "from sympy import Rational as R"
   ]
  },
  {
   "cell_type": "code",
   "execution_count": 3,
   "id": "8c5ae4a2",
   "metadata": {},
   "outputs": [],
   "source": [
    "argyris_basis = symfem.create_element(\"triangle\", \"Argyris\", 5)\n",
    "argyris_basis.get_basis_functions()[18] *= -1\n",
    "argyris_basis.get_basis_functions()[20] *= -1\n",
    "argyris_basis = argyris_basis.get_basis_functions()"
   ]
  },
  {
   "cell_type": "markdown",
   "id": "8cac3db9",
   "metadata": {},
   "source": [
    "# Necessary symbols"
   ]
  },
  {
   "cell_type": "code",
   "execution_count": 4,
   "id": "ec0f31c1",
   "metadata": {},
   "outputs": [],
   "source": [
    "x, y, x_1, y_1, x_2, y_2, x_3, y_3 = sympy.symbols(\"x y x_1 y_1 x_2 y_2 x_3 y_3\")\n",
    "\n",
    "n1, n2, n3 = np.array(sympy.symbols(\"nx_1:4 ny_1:4\")).reshape(2, 3).T\n",
    "t1, t2, t3 = np.array(sympy.symbols(\"tx_1:4 ty_1:4\")).reshape(2, 3).T\n",
    "\n",
    "THETA = sympy.Matrix(np.array(sympy.symbols(\"H(1:4)1:4\")).reshape(3, 3).tolist())\n",
    "\n",
    "J = sympy.Matrix(np.array(sympy.symbols(\"J(1:3)1:3\")).reshape(2, 2).tolist())\n",
    "\n",
    "B1 = sympy.Matrix(np.array(sympy.symbols(\"BI_(1:3)1:3\")).reshape(2, 2).tolist())\n",
    "B2 = sympy.Matrix(np.array(sympy.symbols(\"BII_(1:3)1:3\")).reshape(2, 2).tolist())\n",
    "B3 = sympy.Matrix(np.array(sympy.symbols(\"BIII_(1:3)1:3\")).reshape(2, 2).tolist())\n",
    "\n",
    "DN_B1 = sympy.Matrix(np.array(sympy.symbols(\"DNBI_(1:3)1:3\")).reshape(2, 2).tolist())\n",
    "DN_B2 = sympy.Matrix(np.array(sympy.symbols(\"DNBII_(1:3)1:3\")).reshape(2, 2).tolist())\n",
    "DN_B3 = sympy.Matrix(np.array(sympy.symbols(\"DNBIII_(1:3)1:3\")).reshape(2, 2).tolist())\n",
    "\n",
    "tau_1 = sympy.Matrix([n1[0]**2, 2*n1[0]*n1[1], n1[1]**2])\n",
    "tau_2 = sympy.Matrix([n2[0]**2, 2*n2[0]*n2[1], n2[1]**2])\n",
    "tau_3 = sympy.Matrix([n3[0]**2, 2*n3[0]*n3[1], n3[1]**2])\n",
    "\n",
    "l1, l2, l3 = sympy.symbols(\"l1:4\")"
   ]
  },
  {
   "cell_type": "markdown",
   "id": "2d6e531b",
   "metadata": {},
   "source": [
    "# Functions"
   ]
  },
  {
   "cell_type": "code",
   "execution_count": 5,
   "id": "98b1496f",
   "metadata": {},
   "outputs": [],
   "source": [
    "## Function values at the nodes\n",
    "F_1 = argyris_basis[0] + 15/(8*l2)*B2.row(0)[1]*argyris_basis[19] + \\\n",
    "                              - 15/(8*l3)*B3.row(0)[1]*argyris_basis[20]\n",
    "\n",
    "F_2 = argyris_basis[6] - 15/(8*l1)*B1.row(0)[1]*argyris_basis[18] + \\\n",
    "                              + 15/(8*l3)*B3.row(0)[1]*argyris_basis[20]\n",
    "\n",
    "F_3 = argyris_basis[12] + 15/(8*l1)*B1.row(0)[1]*argyris_basis[18] + \\\n",
    "                               - 15/(8*l2)*B2.row(0)[1]*argyris_basis[19]"
   ]
  },
  {
   "cell_type": "code",
   "execution_count": 6,
   "id": "961bb379",
   "metadata": {},
   "outputs": [],
   "source": [
    "## Function derivative wit respect to x\n",
    "DX_1 = J.inv().T.row(0)[0]*argyris_basis[1] + \\\n",
    "       J.inv().T.row(1)[0]*argyris_basis[2] + \\\n",
    "       - Rational(7, 16)*t2[0]*B2.row(0)[1]*argyris_basis[19] + \\\n",
    "       - Rational(7, 16)*t3[0]*B3.row(0)[1]*argyris_basis[20]\n",
    "\n",
    "DX_2 = J.inv().T.row(0)[0]*argyris_basis[7] + \\\n",
    "       J.inv().T.row(1)[0]*argyris_basis[8] + \\\n",
    "       - Rational(7, 16)*t1[0]*B1.row(0)[1]*argyris_basis[18] + \\\n",
    "       - Rational(7, 16)*t3[0]*B3.row(0)[1]*argyris_basis[20]\n",
    "\n",
    "DX_3 = J.inv().T.row(0)[0]*argyris_basis[13] + \\\n",
    "       J.inv().T.row(1)[0]*argyris_basis[14] + \\\n",
    "       - Rational(7, 16)*t1[0]*B1.row(0)[1]*argyris_basis[18] + \\\n",
    "       - Rational(7, 16)*t2[0]*B2.row(0)[1]*argyris_basis[19]"
   ]
  },
  {
   "cell_type": "code",
   "execution_count": 7,
   "id": "fc40d4c5",
   "metadata": {},
   "outputs": [],
   "source": [
    "## Function derivative wit respect to y\n",
    "DY_1 = J.inv().T.row(0)[1]*argyris_basis[1] + \\\n",
    "       J.inv().T.row(1)[1]*argyris_basis[2] + \\\n",
    "       - Rational(7, 16)*t2[1]*B2.row(0)[1]*argyris_basis[19] + \\\n",
    "       - Rational(7, 16)*t3[1]*B3.row(0)[1]*argyris_basis[20]\n",
    "\n",
    "DY_2 = J.inv().T.row(0)[1]*argyris_basis[7] + \\\n",
    "       J.inv().T.row(1)[1]*argyris_basis[8] + \\\n",
    "       - Rational(7, 16)*t1[1]*B1.row(0)[1]*argyris_basis[18] + \\\n",
    "       - Rational(7, 16)*t3[1]*B3.row(0)[1]*argyris_basis[20]\n",
    "\n",
    "DY_3 = J.inv().T.row(0)[1]*argyris_basis[13] + \\\n",
    "       J.inv().T.row(1)[1]*argyris_basis[14] + \\\n",
    "       - Rational(7, 16)*t1[1]*B1.row(0)[1]*argyris_basis[18] + \\\n",
    "       - Rational(7, 16)*t2[1]*B2.row(0)[1]*argyris_basis[19]"
   ]
  },
  {
   "cell_type": "code",
   "execution_count": 8,
   "id": "e715770a",
   "metadata": {},
   "outputs": [],
   "source": [
    "## Function second derivative wit respect to x\n",
    "DXX_1 = THETA.inv().row(0)[0]*argyris_basis[3] + \\\n",
    "        THETA.inv().row(1)[0]*argyris_basis[4] + \\\n",
    "        THETA.inv().row(2)[0]*argyris_basis[5] + \\\n",
    "        + l2*Rational(1, 32)*tau_2[0]*B2.row(0)[1]*argyris_basis[19] + \\\n",
    "        - l3*Rational(1, 32)*tau_3[0]*B3.row(0)[1]*argyris_basis[20]\n",
    "\n",
    "DXX_2 = THETA.inv().row(0)[0]*argyris_basis[9] + \\\n",
    "        THETA.inv().row(1)[0]*argyris_basis[10] + \\\n",
    "        THETA.inv().row(2)[0]*argyris_basis[11] + \\\n",
    "        - l1*Rational(1, 32)*tau_1[0]*B1.row(0)[1]*argyris_basis[18] + \\\n",
    "        + l3*Rational(1, 32)*tau_3[0]*B3.row(0)[1]*argyris_basis[20]\n",
    "\n",
    "DXX_3 = THETA.inv().row(0)[0]*argyris_basis[15] + \\\n",
    "        THETA.inv().row(1)[0]*argyris_basis[16] + \\\n",
    "        THETA.inv().row(2)[0]*argyris_basis[17] + \\\n",
    "        + l1*Rational(1, 32)*tau_1[0]*B1.row(0)[1]*argyris_basis[18] + \\\n",
    "        - l2*Rational(1, 32)*tau_2[0]*B2.row(0)[1]*argyris_basis[19]"
   ]
  },
  {
   "cell_type": "code",
   "execution_count": 9,
   "id": "7f66d139",
   "metadata": {},
   "outputs": [],
   "source": [
    "## Function second derivative wit respect to xy\n",
    "DXY_1 = THETA.inv().row(0)[1]*argyris_basis[3] + \\\n",
    "        THETA.inv().row(1)[1]*argyris_basis[4] + \\\n",
    "        THETA.inv().row(2)[1]*argyris_basis[5] + \\\n",
    "        + l2*Rational(1, 32)*tau_2[1]*B2.row(0)[1]*argyris_basis[19] + \\\n",
    "        - l3*Rational(1, 32)*tau_3[1]*B3.row(0)[1]*argyris_basis[20]\n",
    "\n",
    "DXY_2 = THETA.inv().row(0)[1]*argyris_basis[9] + \\\n",
    "        THETA.inv().row(1)[1]*argyris_basis[10] + \\\n",
    "        THETA.inv().row(2)[1]*argyris_basis[11] + \\\n",
    "        - l1*Rational(1, 32)*tau_1[1]*B1.row(0)[1]*argyris_basis[18] + \\\n",
    "        + l3*Rational(1, 32)*tau_3[1]*B3.row(0)[1]*argyris_basis[20]\n",
    "\n",
    "DXY_3 = THETA.inv().row(0)[1]*argyris_basis[15] + \\\n",
    "        THETA.inv().row(1)[1]*argyris_basis[16] + \\\n",
    "        THETA.inv().row(2)[1]*argyris_basis[17] + \\\n",
    "        + l1*Rational(1, 32)*tau_1[1]*B1.row(0)[1]*argyris_basis[18] + \\\n",
    "        - l2*Rational(1, 32)*tau_2[1]*B2.row(0)[1]*argyris_basis[19]"
   ]
  },
  {
   "cell_type": "code",
   "execution_count": 10,
   "id": "d522dc3c",
   "metadata": {},
   "outputs": [],
   "source": [
    "## Function second derivative wit respect to y\n",
    "DYY_1 = THETA.inv().row(0)[2]*argyris_basis[3] + \\\n",
    "        THETA.inv().row(1)[2]*argyris_basis[4] + \\\n",
    "        THETA.inv().row(2)[2]*argyris_basis[5] + \\\n",
    "        + l2*Rational(1, 32)*tau_2[2]*B2.row(0)[1]*argyris_basis[19] + \\\n",
    "        - l3*Rational(1, 32)*tau_3[2]*B3.row(0)[1]*argyris_basis[20]\n",
    "\n",
    "DYY_2 = THETA.inv().row(0)[2]*argyris_basis[9] + \\\n",
    "        THETA.inv().row(1)[2]*argyris_basis[10] + \\\n",
    "        THETA.inv().row(2)[2]*argyris_basis[11] + \\\n",
    "        - l1*Rational(1, 32)*tau_1[2]*B1.row(0)[1]*argyris_basis[18] + \\\n",
    "        + l3*Rational(1, 32)*tau_3[2]*B3.row(0)[1]*argyris_basis[20]\n",
    "\n",
    "DYY_3 = THETA.inv().row(0)[2]*argyris_basis[15] + \\\n",
    "        THETA.inv().row(1)[2]*argyris_basis[16] + \\\n",
    "        THETA.inv().row(2)[2]*argyris_basis[17] + \\\n",
    "        + l1*Rational(1, 32)*tau_1[2]*B1.row(0)[1]*argyris_basis[18] + \\\n",
    "        - l2*Rational(1, 32)*tau_2[2]*B2.row(0)[1]*argyris_basis[19]"
   ]
  },
  {
   "cell_type": "code",
   "execution_count": 11,
   "id": "0a4d1b12",
   "metadata": {},
   "outputs": [],
   "source": [
    "DN_1 = +DN_B1.row(0)[0]*argyris_basis[18]\n",
    "DN_2 = +DN_B2.row(0)[0]*argyris_basis[19]\n",
    "DN_3 = +DN_B3.row(0)[0]*argyris_basis[20]"
   ]
  },
  {
   "cell_type": "code",
   "execution_count": 12,
   "id": "7ee7b044",
   "metadata": {},
   "outputs": [],
   "source": [
    "ALL_BASIS = \\\n",
    "        [\n",
    "                F_1, F_2, F_3,\n",
    "                DX_1, DX_2, DX_3,\n",
    "                DY_1, DY_2, DY_3,\n",
    "                DXX_1, DXX_2, DXX_3,\n",
    "                DXY_1, DXY_2, DXY_3,\n",
    "                DYY_1, DYY_2, DYY_3,\n",
    "                DN_1, DN_2, DN_3\n",
    "        ]"
   ]
  },
  {
   "cell_type": "code",
   "execution_count": 13,
   "id": "1a7d2f3d",
   "metadata": {},
   "outputs": [],
   "source": [
    "syms = [\n",
    "        *n1, *n2, *n3, \n",
    "        *t1, *t2, *t3,\n",
    "        l1, l2, l3,\n",
    "        *np.array(J.tolist()).flatten(), \n",
    "        *np.array(THETA.tolist()).flatten(),\n",
    "        *np.array(B1.tolist()).flatten(),\n",
    "        *np.array(B2.tolist()).flatten(),\n",
    "        *np.array(B3.tolist()).flatten(),\n",
    "        *np.array(DN_B1.tolist()).flatten(),\n",
    "        *np.array(DN_B2.tolist()).flatten(),\n",
    "        *np.array(DN_B3.tolist()).flatten(),\n",
    "       ]"
   ]
  },
  {
   "cell_type": "markdown",
   "id": "152f212a",
   "metadata": {},
   "source": [
    "# New way"
   ]
  },
  {
   "cell_type": "code",
   "execution_count": 15,
   "id": "a8695abb",
   "metadata": {},
   "outputs": [],
   "source": [
    "N = len(argyris_basis)"
   ]
  },
  {
   "cell_type": "code",
   "execution_count": 17,
   "id": "5662e8fe",
   "metadata": {},
   "outputs": [
    {
     "name": "stderr",
     "output_type": "stream",
     "text": [
      "100%|██████████| 441/441 [09:29<00:00,  1.29s/it]\n"
     ]
    }
   ],
   "source": [
    "result_b = [[0 for i in range(N)] for j in range(N)]\n",
    "result_B = [[0 for i in range(N)] for j in range(N)]\n",
    "\n",
    "\n",
    "for idx, jdx in tqdm([(idx, jdx) for idx in range(N) for jdx in range(N)]):\n",
    "\n",
    "    first = argyris_basis[idx]\n",
    "    second = argyris_basis[jdx]\n",
    "    \n",
    "    u_x = first.diff(x)\n",
    "    u_y = first.diff(y)\n",
    "    \n",
    "    u_xx = u_x.diff(x)\n",
    "    u_xy = u_x.diff(y)\n",
    "    \n",
    "    u_yy = u_y.diff(y)\n",
    "    \n",
    "    v_x = second.diff(x)\n",
    "    v_y = second.diff(y)\n",
    "    \n",
    "    v_xx = v_x.diff(x)\n",
    "    v_xy = v_x.diff(y)\n",
    "    \n",
    "    v_yy = v_y.diff(y)\n",
    "    \n",
    "    A = u_xx * v_xx\n",
    "    B = u_xy * v_xy\n",
    "    b = u_xx * v_yy\n",
    "    C = u_yy * v_yy\n",
    "\n",
    "    sym_int_B = sympy.integrate(A + 2*B + C, (y, 0, 1-x), (x, 0, 1))\n",
    "    sym_int_b = sympy.integrate(A + 2*b + C, (y, 0, 1-x), (x, 0, 1))\n",
    "    \n",
    "    result_B[idx][jdx] = sym_int_B\n",
    "    result_b[idx][jdx] = sym_int_b"
   ]
  },
  {
   "cell_type": "code",
   "execution_count": 18,
   "id": "1f18e36f",
   "metadata": {},
   "outputs": [
    {
     "name": "stderr",
     "output_type": "stream",
     "text": [
      "100%|██████████| 21/21 [00:03<00:00,  6.17it/s]\n"
     ]
    }
   ],
   "source": [
    "result_A = []\n",
    "\n",
    "for basis in tqdm(argyris_basis):\n",
    "\n",
    "    sym_int = sympy.integrate(basis, (y, 0, 1-x), (x, 0, 1))\n",
    "    \n",
    "    result_A.append(sym_int)\n",
    "result_A = sympy.Matrix(result_A)"
   ]
  },
  {
   "cell_type": "markdown",
   "id": "a8c92cab",
   "metadata": {},
   "source": [
    "# Symbolic stuff"
   ]
  },
  {
   "cell_type": "code",
   "execution_count": 19,
   "id": "d049ac56",
   "metadata": {},
   "outputs": [],
   "source": [
    "V_c = sympy.diag(1, J.inv().T, THETA.inv(), 1, J.inv().T, THETA.inv(), 1, J.inv().T, THETA.inv(), B1, B2, B3)"
   ]
  },
  {
   "cell_type": "code",
   "execution_count": 25,
   "id": "c99d6b34",
   "metadata": {},
   "outputs": [],
   "source": [
    "E = np.zeros((21, 24), dtype=int)\n",
    "\n",
    "for i in range(21):\n",
    "    for j in range(24):\n",
    "        if (i <= 18) and (j <= 18) and (i == j):\n",
    "            E[i][j] = 1\n",
    "        elif (i == 19) and (j == 20):\n",
    "            E[i][j] = 1\n",
    "        elif (i == 20) and (j == 22):\n",
    "            E[i][j] = 1\n",
    "E = sympy.Matrix(E)"
   ]
  },
  {
   "cell_type": "code",
   "execution_count": 26,
   "id": "81d94b78",
   "metadata": {},
   "outputs": [],
   "source": [
    "D = sympy.Matrix([\n",
    "[1, 0, 0, 0, 0, 0, 0, 0, 0, 0, 0, 0, 0, 0, 0, 0, 0, 0, 0, 0, 0],\n",
    "[0, 1, 0, 0, 0, 0, 0, 0, 0, 0, 0, 0, 0, 0, 0, 0, 0, 0, 0, 0, 0],\n",
    "[0, 0, 1, 0, 0, 0, 0, 0, 0, 0, 0, 0, 0, 0, 0, 0, 0, 0, 0, 0, 0],\n",
    "[0, 0, 0, 1, 0, 0, 0, 0, 0, 0, 0, 0, 0, 0, 0, 0, 0, 0, 0, 0, 0],\n",
    "[0, 0, 0, 0, 1, 0, 0, 0, 0, 0, 0, 0, 0, 0, 0, 0, 0, 0, 0, 0, 0],\n",
    "[0, 0, 0, 0, 0, 1, 0, 0, 0, 0, 0, 0, 0, 0, 0, 0, 0, 0, 0, 0, 0],\n",
    "[0, 0, 0, 0, 0, 0, 1, 0, 0, 0, 0, 0, 0, 0, 0, 0, 0, 0, 0, 0, 0],\n",
    "[0, 0, 0, 0, 0, 0, 0, 1, 0, 0, 0, 0, 0, 0, 0, 0, 0, 0, 0, 0, 0],\n",
    "[0, 0, 0, 0, 0, 0, 0, 0, 1, 0, 0, 0, 0, 0, 0, 0, 0, 0, 0, 0, 0],\n",
    "[0, 0, 0, 0, 0, 0, 0, 0, 0, 1, 0, 0, 0, 0, 0, 0, 0, 0, 0, 0, 0],\n",
    "[0, 0, 0, 0, 0, 0, 0, 0, 0, 0, 1, 0, 0, 0, 0, 0, 0, 0, 0, 0, 0],\n",
    "[0, 0, 0, 0, 0, 0, 0, 0, 0, 0, 0, 1, 0, 0, 0, 0, 0, 0, 0, 0, 0],\n",
    "[0, 0, 0, 0, 0, 0, 0, 0, 0, 0, 0, 0, 1, 0, 0, 0, 0, 0, 0, 0, 0],\n",
    "[0, 0, 0, 0, 0, 0, 0, 0, 0, 0, 0, 0, 0, 1, 0, 0, 0, 0, 0, 0, 0],\n",
    "[0, 0, 0, 0, 0, 0, 0, 0, 0, 0, 0, 0, 0, 0, 1, 0, 0, 0, 0, 0, 0],\n",
    "[0, 0, 0, 0, 0, 0, 0, 0, 0, 0, 0, 0, 0, 0, 0, 1, 0, 0, 0, 0, 0],\n",
    "[0, 0, 0, 0, 0, 0, 0, 0, 0, 0, 0, 0, 0, 0, 0, 0, 1, 0, 0, 0, 0],\n",
    "[0, 0, 0, 0, 0, 0, 0, 0, 0, 0, 0, 0, 0, 0, 0, 0, 0, 1, 0, 0, 0],\n",
    "\n",
    "[0, 0, 0, 0, 0, 0, 0, 0, 0, 0, 0, 0, 0, 0, 0, 0, 0, 0, 1, 0, 0],\n",
    "[0, 0, 0, 0, 0, 0, -15/(8*l1), -R(7,16)*t1[0], -R(7,16)*t1[1], -l1/32*tau_1[0], -l1/32*tau_1[1], -l1/32*tau_1[2], +15/(8*l1), -R(7,16)*t1[0], -R(7,16)*t1[1], +l1/32*tau_1[0], +l1/32*tau_1[1], +l1/32*tau_1[2], 0, 0, 0],\n",
    "[0, 0, 0, 0, 0, 0, 0, 0, 0, 0, 0, 0, 0, 0, 0, 0, 0, 0, 0, 1, 0],\n",
    "[+15/(8*l2), -R(7,16)*t2[0], -R(7,16)*t2[1], +l2/32*tau_2[0], +l2/32*tau_2[1], +l2/32*tau_2[2], 0, 0, 0, 0, 0, 0, -15/(8*l2), -R(7,16)*t2[0], -R(7,16)*t2[1], -l2/32*tau_2[0], -l2/32*tau_2[1], -l2/32*tau_2[2], 0, 0, 0],\n",
    "[0, 0, 0, 0, 0, 0, 0, 0, 0, 0, 0, 0, 0, 0, 0, 0, 0, 0, 0, 0, 1],\n",
    "[-15/(8*l3), -R(7,16)*t3[0], -R(7,16)*t3[1], -l3/32*tau_3[0], -l3/32*tau_3[1], -l3/32*tau_3[2], +15/(8*l3), -R(7,16)*t3[0], -R(7,16)*t3[1], +l3/32*tau_3[0], +l3/32*tau_3[1], +l3/32*tau_3[2], 0, 0, 0, 0, 0, 0, 0, 0, 0],\n",
    "])"
   ]
  },
  {
   "cell_type": "code",
   "execution_count": 77,
   "id": "1732bd45",
   "metadata": {},
   "outputs": [],
   "source": [
    "M = (E@V_c@D).T"
   ]
  },
  {
   "cell_type": "code",
   "execution_count": 78,
   "id": "14e27347",
   "metadata": {},
   "outputs": [],
   "source": [
    "M[18*21 + 18] = DN_B1[0]\n",
    "M[19*21 + 19] = DN_B2[0]\n",
    "M[20*21 + 20] = DN_B3[0]"
   ]
  },
  {
   "cell_type": "code",
   "execution_count": 80,
   "id": "116880c0",
   "metadata": {},
   "outputs": [],
   "source": [
    "result_b = sympy.Matrix(result_b)\n",
    "result_B = sympy.Matrix(result_B)"
   ]
  },
  {
   "cell_type": "code",
   "execution_count": 81,
   "id": "c37e389c",
   "metadata": {},
   "outputs": [],
   "source": [
    "FUNC_b = sympy.lambdify(syms, M@result_b@M.T)\n",
    "FUNC_B = sympy.lambdify(syms, M@result_B@M.T)"
   ]
  },
  {
   "cell_type": "code",
   "execution_count": 47,
   "id": "c59c521b",
   "metadata": {},
   "outputs": [],
   "source": [
    "dill.dump(FUNC_b, open(\"../calculations/FUNC_b\", \"wb\"))\n",
    "dill.dump(FUNC_B, open(\"../calculations/FUNC_B\", \"wb\"))"
   ]
  },
  {
   "cell_type": "code",
   "execution_count": 48,
   "id": "5aa736f5",
   "metadata": {},
   "outputs": [],
   "source": [
    "FUNC_A = sympy.lambdify(syms, M@result_A)\n",
    "dill.dump(FUNC_A, open(\"../calculations/FUNC_A\", \"wb\"))"
   ]
  },
  {
   "cell_type": "code",
   "execution_count": 49,
   "id": "267b5f50",
   "metadata": {},
   "outputs": [],
   "source": [
    "U = (1-(x**2 + y**2))**2/64"
   ]
  },
  {
   "cell_type": "code",
   "execution_count": 52,
   "id": "923fcfbd",
   "metadata": {},
   "outputs": [
    {
     "data": {
      "text/latex": [
       "$\\displaystyle 1$"
      ],
      "text/plain": [
       "1"
      ]
     },
     "execution_count": 52,
     "metadata": {},
     "output_type": "execute_result"
    }
   ],
   "source": [
    "sympy.diff(U, x, x, x, x)+sympy.diff(U, y, y, y, y) + 2*sympy.diff(U, x, x, y, y)"
   ]
  }
 ],
 "metadata": {
  "kernelspec": {
   "display_name": "Python 3 (ipykernel)",
   "language": "python",
   "name": "python3"
  },
  "language_info": {
   "codemirror_mode": {
    "name": "ipython",
    "version": 3
   },
   "file_extension": ".py",
   "mimetype": "text/x-python",
   "name": "python",
   "nbconvert_exporter": "python",
   "pygments_lexer": "ipython3",
   "version": "3.9.12"
  }
 },
 "nbformat": 4,
 "nbformat_minor": 5
}
