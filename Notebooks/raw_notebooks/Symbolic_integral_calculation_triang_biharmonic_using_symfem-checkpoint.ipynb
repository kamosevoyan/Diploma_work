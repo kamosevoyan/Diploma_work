{
 "cells": [
  {
   "cell_type": "code",
   "execution_count": 1,
   "id": "f08b13c7",
   "metadata": {},
   "outputs": [],
   "source": [
    "import sympy\n",
    "import matplotlib.pyplot as plt\n",
    "import numpy as np\n",
    "from tqdm import tqdm\n",
    "import symfem"
   ]
  },
  {
   "cell_type": "code",
   "execution_count": 2,
   "id": "12b69267",
   "metadata": {},
   "outputs": [],
   "source": [
    "x, y, x_1, y_1, x_2, y_2, x_3, y_3, p_1, p_2, p_3 = sympy.symbols(\"x y x_1 y_1 x_2 y_2 x_3 y_3 p_1 p_2 p_3\")"
   ]
  },
  {
   "cell_type": "code",
   "execution_count": 3,
   "id": "8c5ae4a2",
   "metadata": {},
   "outputs": [],
   "source": [
    "bell_basis = symfem.create_element(\"triangle\", \"Bell\", 5)\n",
    "bell_basis = bell_basis.get_basis_functions()"
   ]
  },
  {
   "cell_type": "code",
   "execution_count": 4,
   "id": "a00c08db",
   "metadata": {},
   "outputs": [],
   "source": [
    "bell_basis = [bell_basis[j].as_sympy() for j in range(21)]"
   ]
  },
  {
   "cell_type": "code",
   "execution_count": 5,
   "id": "0ee2b42c",
   "metadata": {},
   "outputs": [],
   "source": [
    "bell_basis_sympy = [bell_basis[j].subs(x, p_1).subs(y, p_2) for j in range(18)]"
   ]
  },
  {
   "cell_type": "code",
   "execution_count": 6,
   "id": "1e241a31",
   "metadata": {},
   "outputs": [],
   "source": [
    "bell_basis_np = np.array(bell_basis_sympy)"
   ]
  },
  {
   "cell_type": "code",
   "execution_count": 7,
   "id": "b743e108",
   "metadata": {},
   "outputs": [],
   "source": [
    "normals = np.array([bell_basis[j].subs(x, p_1).subs(y, p_2) for j in range(18, 21)])[None, ...]"
   ]
  },
  {
   "cell_type": "code",
   "execution_count": 8,
   "id": "78a59d1f",
   "metadata": {},
   "outputs": [],
   "source": [
    "all_basis_list = np.concatenate([bell_basis_np.reshape(3, 6).T, normals], )"
   ]
  },
  {
   "cell_type": "code",
   "execution_count": 9,
   "id": "b75fef32",
   "metadata": {},
   "outputs": [],
   "source": [
    "all_basis_list = all_basis_list.flatten().tolist()"
   ]
  },
  {
   "cell_type": "code",
   "execution_count": 10,
   "id": "8541a42a",
   "metadata": {},
   "outputs": [
    {
     "name": "stderr",
     "output_type": "stream",
     "text": [
      "100%|█████████████████████████████████████████| 441/441 [28:34<00:00,  3.89s/it]\n"
     ]
    }
   ],
   "source": [
    "P_1_x, P_2_x, P_1_y, P_2_y = sympy.symbols(\"P_1_x P_2_x P_1_y P_2_y\")\n",
    "\n",
    "result = {}\n",
    "\n",
    "N = 21\n",
    "\n",
    "for idx, jdx in tqdm([(idx, jdx) for idx in range(N) for jdx in range(N)]):\n",
    "\n",
    "    first = all_basis_list[idx].copy()\n",
    "    second = all_basis_list[jdx].copy()\n",
    "\n",
    "    u_x = \\\n",
    "    sympy.diff(first, p_1)*P_1_x + \\\n",
    "    sympy.diff(first, p_2)*P_2_x\n",
    "    \n",
    "    u_y = \\\n",
    "    sympy.diff(first, p_1)*P_1_y + \\\n",
    "    sympy.diff(first, p_2)*P_2_y\n",
    "\n",
    "    u_xx = \\\n",
    "    sympy.diff(u_x, p_1)*P_1_x + \\\n",
    "    sympy.diff(u_x, p_2)*P_2_x\n",
    "\n",
    "    u_yy = \\\n",
    "    sympy.diff(u_y, p_1)*P_1_y + \\\n",
    "    sympy.diff(u_y, p_2)*P_2_y\n",
    "\n",
    "    u_xy = \\\n",
    "    sympy.diff(u_x, p_1)*P_1_y + \\\n",
    "    sympy.diff(u_x, p_2)*P_2_y\n",
    "\n",
    "    v_x = \\\n",
    "    sympy.diff(second, p_1)*P_1_x + \\\n",
    "    sympy.diff(second, p_2)*P_2_x\n",
    "\n",
    "    v_y = \\\n",
    "    sympy.diff(second, p_1)*P_1_y + \\\n",
    "    sympy.diff(second, p_2)*P_2_y\n",
    "\n",
    "    v_xx = \\\n",
    "    sympy.diff(v_x, p_1)*P_1_x + \\\n",
    "    sympy.diff(v_x, p_2)*P_2_x\n",
    "\n",
    "    v_yy = \\\n",
    "    sympy.diff(v_y, p_1)*P_1_y + \\\n",
    "    sympy.diff(v_y, p_2)*P_2_y\n",
    "    \n",
    "    v_xy = \\\n",
    "    sympy.diff(v_x, p_1)*P_1_y + \\\n",
    "    sympy.diff(v_x, p_2)*P_2_y\n",
    "\n",
    "    \n",
    "    A = u_xx * v_xx\n",
    "    B = u_xy * v_xy\n",
    "    C = u_yy * v_yy\n",
    "    b = u_xx * v_yy\n",
    "\n",
    "    sym_int = sympy.integrate(A + 2*B + C, (p_2, 0, 1-p_1), (p_1, 0, 1))\n",
    "    sym_int_2 = sympy.integrate(A + 2*b + C, (p_2, 0, 1-p_1), (p_1, 0, 1))\n",
    "\n",
    "    args = [P_1_x, P_2_x, P_1_y, P_2_y]\n",
    "    \n",
    "    result[f\"{idx}_{jdx}\"] = sympy.lambdify(args, sym_int)\n",
    "    result[f\"{idx}_{jdx}_other\"] = sympy.lambdify(args, sym_int_2)    "
   ]
  },
  {
   "cell_type": "code",
   "execution_count": 11,
   "id": "2eb15485",
   "metadata": {},
   "outputs": [],
   "source": [
    "for idx, basis in enumerate(all_basis_list):\n",
    "    basis_norm = basis.copy()\n",
    "    sym_int = sympy.integrate(basis_norm, (p_2, 0, 1-p_1), (p_1, 0, 1))    \n",
    "    result[f\"{idx}\"] = sym_int"
   ]
  },
  {
   "cell_type": "code",
   "execution_count": 12,
   "id": "258fb09b",
   "metadata": {},
   "outputs": [],
   "source": [
    "import dill\n",
    "dill.settings['recurse'] = True\n",
    "dill.dump(result, open(\"final\", \"wb\"))"
   ]
  }
 ],
 "metadata": {
  "kernelspec": {
   "display_name": "Python 3 (ipykernel)",
   "language": "python",
   "name": "python3"
  },
  "language_info": {
   "codemirror_mode": {
    "name": "ipython",
    "version": 3
   },
   "file_extension": ".py",
   "mimetype": "text/x-python",
   "name": "python",
   "nbconvert_exporter": "python",
   "pygments_lexer": "ipython3",
   "version": "3.9.12"
  }
 },
 "nbformat": 4,
 "nbformat_minor": 5
}
