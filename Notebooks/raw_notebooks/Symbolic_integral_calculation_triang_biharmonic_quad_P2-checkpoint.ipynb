{
 "cells": [
  {
   "cell_type": "code",
   "execution_count": 25,
   "id": "f08b13c7",
   "metadata": {},
   "outputs": [],
   "source": [
    "import sympy\n",
    "import matplotlib.pyplot as plt\n",
    "import numpy as np\n",
    "from tqdm import tqdm"
   ]
  },
  {
   "cell_type": "code",
   "execution_count": 26,
   "id": "12b69267",
   "metadata": {},
   "outputs": [],
   "source": [
    "x, y, x_1, y_1, x_2, y_2, x_3, y_3, p_1, p_2, p_3 = sympy.symbols(\"x y x_1 y_1 x_2 y_2 x_3 y_3 p_1 p_2 p_3\")\n",
    "p_1_x, p_2_x, p_1_y, p_2_y = sympy.symbols(\"p_1_x p_2_x p_1_y p_2_y\")"
   ]
  },
  {
   "cell_type": "code",
   "execution_count": 27,
   "id": "bc9fbec8",
   "metadata": {},
   "outputs": [],
   "source": [
    "S2 = (x_2-x_1)*(y_3-y_1)-(y_2-y_1)*(x_3-x_1)"
   ]
  },
  {
   "cell_type": "code",
   "execution_count": 28,
   "id": "365ec5ee",
   "metadata": {},
   "outputs": [],
   "source": [
    "p_1_global = (x_2*y_3 - y_2*x_3 + x*(y_2-y_3)-y*(x_2-x_3)) / S2"
   ]
  },
  {
   "cell_type": "code",
   "execution_count": 29,
   "id": "dfa93ad4",
   "metadata": {},
   "outputs": [],
   "source": [
    "p_2_global = (x_3*y_1 - y_3*x_1 + x*(y_3-y_1)-y*(x_3-x_1)) / S2"
   ]
  },
  {
   "cell_type": "code",
   "execution_count": 30,
   "id": "62909b2c",
   "metadata": {},
   "outputs": [],
   "source": [
    "p_3_global = (x_1*y_2 - y_1*x_2 + x*(y_1-y_2)-y*(x_1-x_2)) / S2"
   ]
  },
  {
   "cell_type": "code",
   "execution_count": 31,
   "id": "860377b7",
   "metadata": {},
   "outputs": [],
   "source": [
    "P_1 = p_1*(sympy.Rational(2)*p_1-sympy.Rational(1))\n",
    "P_2 = p_2*(sympy.Rational(2)*p_2-sympy.Rational(1))\n",
    "P_3 = p_3*(sympy.Rational(2)*p_3-sympy.Rational(1))"
   ]
  },
  {
   "cell_type": "code",
   "execution_count": 32,
   "id": "037830ff",
   "metadata": {},
   "outputs": [],
   "source": [
    "P_4 = sympy.Rational(4)*p_1*p_2\n",
    "P_5 = sympy.Rational(4)*p_2*p_3\n",
    "P_6 = sympy.Rational(4)*p_3*p_1"
   ]
  },
  {
   "cell_type": "code",
   "execution_count": 33,
   "id": "b7b5292c",
   "metadata": {},
   "outputs": [],
   "source": [
    "all_basis = [P_1, P_2, P_3, P_4, P_5, P_6]"
   ]
  },
  {
   "cell_type": "code",
   "execution_count": 34,
   "id": "51abb938",
   "metadata": {},
   "outputs": [],
   "source": [
    "result = {}\n",
    "\n",
    "for i in range(6):\n",
    "    for j in range(6):\n",
    "        \n",
    "        b1 = all_basis[i].subs(p_3, 1-p_1-p_2)\n",
    "        b2 = all_basis[j].subs(p_3, 1-p_1-p_2)\n",
    "        \n",
    "        b1_x = sympy.diff(b1, p_1)*p_1_x + sympy.diff(b1, p_2)*p_2_x\n",
    "        b1_xx = sympy.diff(b1_x, p_1)*p_1_x + sympy.diff(b1_x, p_2)*p_2_x\n",
    "        \n",
    "        b2_x = sympy.diff(b2, p_1)*p_1_x + sympy.diff(b2, p_2)*p_2_x\n",
    "        b2_xx = sympy.diff(b2_x, p_1)*p_1_x + sympy.diff(b2_x, p_2)*p_2_x\n",
    "        \n",
    "        b1_y = sympy.diff(b1, p_1)*p_1_y + sympy.diff(b1, p_2)*p_2_y\n",
    "        b1_yy = sympy.diff(b1_y, p_1)*p_1_y + sympy.diff(b1_y, p_2)*p_2_y\n",
    "        \n",
    "        b2_y = sympy.diff(b2, p_1)*p_1_y + sympy.diff(b2, p_2)*p_2_y\n",
    "        b2_yy = sympy.diff(b2_y, p_1)*p_1_y + sympy.diff(b2_y, p_2)*p_2_y\n",
    "        \n",
    "#         b1_xy = sympy.diff(b1_x, p_1)*p_1_y + sympy.diff(b1_x, p_2)*p_2_y\n",
    "#         b2_xy = sympy.diff(b2_x, p_1)*p_1_y + sympy.diff(b2_x, p_2)*p_2_y\n",
    "        \n",
    "        A = b1_xx*b2_xx\n",
    "        B = b1_xx*b2_yy\n",
    "        C = b1_yy*b2_yy\n",
    "        \n",
    "        INT = sympy.integrate(A + sympy.Rational(2)*B + C, (p_2, 0, 1-p_1), (p_1, 0, 1))\n",
    "        \n",
    "        func = sympy.lambdify((p_1_x, p_2_x, p_1_y, p_2_y), INT)\n",
    "        result[f\"{i}_{j}\"] = func"
   ]
  },
  {
   "cell_type": "code",
   "execution_count": 35,
   "id": "6c846096",
   "metadata": {},
   "outputs": [],
   "source": [
    "for idx, basis in enumerate(all_basis):\n",
    "    basis_norm = basis.copy().subs(p_3, 1-p_1-p_2)\n",
    "    sym_int = sympy.integrate(basis_norm, (p_2, 0, 1-p_1), (p_1, 0, 1))    \n",
    "    result[f\"{idx}\"] = sym_int"
   ]
  },
  {
   "cell_type": "code",
   "execution_count": 36,
   "id": "b6e4716c",
   "metadata": {},
   "outputs": [],
   "source": [
    "import dill\n",
    "dill.settings['recurse'] = True\n",
    "dill.dump(result, open(\"biharmonic_quad_p2\", \"wb\"))"
   ]
  },
  {
   "cell_type": "code",
   "execution_count": 37,
   "id": "d53bb59b",
   "metadata": {},
   "outputs": [
    {
     "data": {
      "text/latex": [
       "$\\displaystyle - p_{1 x}$"
      ],
      "text/plain": [
       "-p_1_x"
      ]
     },
     "execution_count": 37,
     "metadata": {},
     "output_type": "execute_result"
    }
   ],
   "source": [
    "P_1_smpl = P_1.subs(p_3, 1-p_1-p_2)\n",
    "A = sympy.diff(P_1_smpl, p_1)*p_1_x+sympy.diff(P_1_smpl, p_2)*p_2_x\n",
    "A.subs(p_1, 0).subs(p_2, 1)"
   ]
  },
  {
   "cell_type": "code",
   "execution_count": 38,
   "id": "fcd130c9",
   "metadata": {},
   "outputs": [
    {
     "data": {
      "text/latex": [
       "$\\displaystyle - p_{2 x}$"
      ],
      "text/plain": [
       "-p_2_x"
      ]
     },
     "execution_count": 38,
     "metadata": {},
     "output_type": "execute_result"
    }
   ],
   "source": [
    "P_2_smpl = P_2.subs(p_3, 1-p_1-p_2)\n",
    "B = sympy.diff(P_2_smpl, p_1)*p_1_x+sympy.diff(P_2_smpl, p_2)*p_2_x\n",
    "B.subs(p_1, 0).subs(p_2, 0)"
   ]
  },
  {
   "cell_type": "code",
   "execution_count": 39,
   "id": "15898911",
   "metadata": {},
   "outputs": [
    {
     "data": {
      "text/latex": [
       "$\\displaystyle - 1.0 p_{1 x} - 1.0 p_{2 x}$"
      ],
      "text/plain": [
       "-1.0*p_1_x - 1.0*p_2_x"
      ]
     },
     "execution_count": 39,
     "metadata": {},
     "output_type": "execute_result"
    }
   ],
   "source": [
    "P_3_smpl = P_3.subs(p_3, 1-p_1-p_2)\n",
    "C = sympy.diff(P_3_smpl, p_1)*p_1_x+sympy.diff(P_3_smpl, p_2)*p_2_x\n",
    "C.subs(p_1, 1/2).subs(p_2, 0)"
   ]
  },
  {
   "cell_type": "code",
   "execution_count": 40,
   "id": "b0f405fd",
   "metadata": {},
   "outputs": [
    {
     "data": {
      "text/latex": [
       "$\\displaystyle - 4 p_{1} p_{2 x} + p_{1 x} \\left(- 8 p_{1} - 4 p_{2} + 4\\right)$"
      ],
      "text/plain": [
       "-4*p_1*p_2_x + p_1_x*(-8*p_1 - 4*p_2 + 4)"
      ]
     },
     "execution_count": 40,
     "metadata": {},
     "output_type": "execute_result"
    }
   ],
   "source": [
    "P_4_smpl = P_4.subs(p_3, 1-p_1-p_2)\n",
    "sympy.diff(P_4_smpl, p_1)*p_1_x+sympy.diff(P_4_smpl, p_2)*p_2_x\n",
    "\n",
    "P_5_smpl = P_5.subs(p_3, 1-p_1-p_2)\n",
    "sympy.diff(P_5_smpl, p_1)*p_1_x+sympy.diff(P_5_smpl, p_2)*p_2_x\n",
    "\n",
    "P_6_smpl = P_6.subs(p_3, 1-p_1-p_2)\n",
    "sympy.diff(P_6_smpl, p_1)*p_1_x+sympy.diff(P_6_smpl, p_2)*p_2_x"
   ]
  }
 ],
 "metadata": {
  "kernelspec": {
   "display_name": "Python 3 (ipykernel)",
   "language": "python",
   "name": "python3"
  },
  "language_info": {
   "codemirror_mode": {
    "name": "ipython",
    "version": 3
   },
   "file_extension": ".py",
   "mimetype": "text/x-python",
   "name": "python",
   "nbconvert_exporter": "python",
   "pygments_lexer": "ipython3",
   "version": "3.9.12"
  }
 },
 "nbformat": 4,
 "nbformat_minor": 5
}
