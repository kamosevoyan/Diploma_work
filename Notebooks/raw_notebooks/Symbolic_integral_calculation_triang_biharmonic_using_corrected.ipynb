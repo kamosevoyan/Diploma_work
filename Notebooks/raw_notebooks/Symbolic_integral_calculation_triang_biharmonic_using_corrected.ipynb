{
 "cells": [
  {
   "cell_type": "code",
   "execution_count": 48,
   "id": "f08b13c7",
   "metadata": {},
   "outputs": [],
   "source": [
    "import sympy\n",
    "import matplotlib.pyplot as plt\n",
    "import numpy as np\n",
    "from tqdm import tqdm\n",
    "import symfem"
   ]
  },
  {
   "cell_type": "code",
   "execution_count": 49,
   "id": "12b69267",
   "metadata": {},
   "outputs": [],
   "source": [
    "x, y, x_1, y_1, x_2, y_2, x_3, y_3, p_1, p_2, p_3 = sympy.symbols(\"x y x_1 y_1 x_2 y_2 x_3 y_3 p_1 p_2 p_3\")\n",
    "X, Y, u, v = sympy.symbols(\"X Y u v\")\n",
    "P_1_x, P_2_x, P_1_y, P_2_y = sympy.symbols(\"P_1_x P_2_x P_1_y P_2_y\")"
   ]
  },
  {
   "cell_type": "code",
   "execution_count": 50,
   "id": "8c5ae4a2",
   "metadata": {},
   "outputs": [],
   "source": [
    "BELL_BASIS = symfem.create_element(\"triangle\", \"Bell\", 5)\n",
    "BELL_BASIS_reference = BELL_BASIS.get_basis_functions()"
   ]
  },
  {
   "cell_type": "code",
   "execution_count": 51,
   "id": "fde3ab9e",
   "metadata": {},
   "outputs": [],
   "source": [
    "triangle_sym = np.array([\n",
    "    [x_1, y_1],\n",
    "    [x_2, y_2],\n",
    "    [x_3, y_3],\n",
    "    ])"
   ]
  },
  {
   "cell_type": "code",
   "execution_count": 52,
   "id": "48a82211",
   "metadata": {},
   "outputs": [],
   "source": [
    "MAP = BELL_BASIS.reference.get_map_to(triangle_sym)\n",
    "INV_MAP = BELL_BASIS.reference.get_inverse_map_to(triangle_sym)"
   ]
  },
  {
   "cell_type": "code",
   "execution_count": 53,
   "id": "d4608996",
   "metadata": {},
   "outputs": [],
   "source": [
    "U, V = MAP\n",
    "DX1, DY1 = U.diff(x), U.diff(y)\n",
    "DX2, DY2 = V.diff(x), V.diff(y)"
   ]
  },
  {
   "cell_type": "code",
   "execution_count": 54,
   "id": "ea2beecf",
   "metadata": {},
   "outputs": [],
   "source": [
    "U_inv, V_inv = INV_MAP"
   ]
  },
  {
   "cell_type": "code",
   "execution_count": 55,
   "id": "7bccef95",
   "metadata": {},
   "outputs": [],
   "source": [
    "DX_new_1 = (BELL_BASIS_reference[1]*DX1 + BELL_BASIS_reference[2]*DY1)\n",
    "DX_1 = DX_new_1\n",
    "DX_new_2 = (BELL_BASIS_reference[7]*DX1 + BELL_BASIS_reference[8]*DY1)\n",
    "DX_2 = DX_new_2\n",
    "DX_new_3 = (BELL_BASIS_reference[13]*DX1 + BELL_BASIS_reference[14]*DY1)\n",
    "DX_3 = DX_new_3"
   ]
  },
  {
   "cell_type": "code",
   "execution_count": 56,
   "id": "696d1477",
   "metadata": {},
   "outputs": [],
   "source": [
    "DY_new_1 = (BELL_BASIS_reference[1]*DX2 + BELL_BASIS_reference[2]*DY2)\n",
    "DY_1 = DY_new_1\n",
    "DY_new_2 = (BELL_BASIS_reference[7]*DX2 + BELL_BASIS_reference[8]*DY2)\n",
    "DY_2 = DY_new_2\n",
    "DY_new_3 = (BELL_BASIS_reference[13]*DX2 + BELL_BASIS_reference[14]*DY2)\n",
    "DY_3 = DY_new_3"
   ]
  },
  {
   "cell_type": "code",
   "execution_count": 57,
   "id": "72cf2e41",
   "metadata": {},
   "outputs": [],
   "source": [
    "F_1 = BELL_BASIS_reference[0]\n",
    "F_2 = BELL_BASIS_reference[6]\n",
    "F_3 = BELL_BASIS_reference[12]"
   ]
  },
  {
   "cell_type": "code",
   "execution_count": 58,
   "id": "f74cfc83",
   "metadata": {},
   "outputs": [],
   "source": [
    "theta = sympy.Matrix([\n",
    "    [(DX1)**2, (2*DX1*DX2), (DX2)**2],\n",
    "    [(DX1*DY1), (DY1*DX2 + DX1*DY2), (DX2*DY2)],\n",
    "    [(DY1)**2, (2*DY1*DY2), (DY2)**2]\n",
    "])\n",
    "\n",
    "H = theta.T"
   ]
  },
  {
   "cell_type": "code",
   "execution_count": 59,
   "id": "7df1d08b",
   "metadata": {},
   "outputs": [],
   "source": [
    "DXX_new_1 = (BELL_BASIS_reference[3]*H.row(0)[0] + \n",
    "             BELL_BASIS_reference[4]*H.row(0)[1] +\n",
    "             BELL_BASIS_reference[5]*H.row(0)[2])\n",
    "\n",
    "DXX_1 = DXX_new_1"
   ]
  },
  {
   "cell_type": "code",
   "execution_count": 60,
   "id": "ba0d5db2",
   "metadata": {},
   "outputs": [],
   "source": [
    "DXX_new_2 = (BELL_BASIS_reference[9] *H.row(0)[0] +\n",
    "             BELL_BASIS_reference[10]*H.row(0)[1] +\n",
    "             BELL_BASIS_reference[11]*H.row(0)[2])\n",
    "\n",
    "DXX_2 = DXX_new_2"
   ]
  },
  {
   "cell_type": "code",
   "execution_count": 61,
   "id": "c68bb5f2",
   "metadata": {},
   "outputs": [],
   "source": [
    "DXX_new_3 = (BELL_BASIS_reference[15]*H.row(0)[0] +\n",
    "             BELL_BASIS_reference[16]*H.row(0)[1] +\n",
    "             BELL_BASIS_reference[17]*H.row(0)[2])\n",
    "DXX_3 = DXX_new_3"
   ]
  },
  {
   "cell_type": "code",
   "execution_count": 62,
   "id": "3e6fd90c",
   "metadata": {},
   "outputs": [],
   "source": [
    "DXY_new_1 = (BELL_BASIS_reference[3]*H.row(1)[0] +\n",
    "             BELL_BASIS_reference[4]*H.row(1)[1] +\n",
    "             BELL_BASIS_reference[5]*H.row(1)[2])\n",
    "\n",
    "DXY_1 = DXY_new_1"
   ]
  },
  {
   "cell_type": "code",
   "execution_count": 63,
   "id": "ba7cf204",
   "metadata": {},
   "outputs": [],
   "source": [
    "DXY_new_2 = (BELL_BASIS_reference[9] *H.row(1)[0] +\n",
    "             BELL_BASIS_reference[10]*H.row(1)[1] +\n",
    "             BELL_BASIS_reference[11]*H.row(1)[2])\n",
    "\n",
    "DXY_2 = DXY_new_2"
   ]
  },
  {
   "cell_type": "code",
   "execution_count": 64,
   "id": "9d56a071",
   "metadata": {},
   "outputs": [],
   "source": [
    "DXY_new_3 = (BELL_BASIS_reference[15]*H.row(1)[0] +\n",
    "             BELL_BASIS_reference[16]*H.row(1)[1] +\n",
    "             BELL_BASIS_reference[17]*H.row(1)[2])\n",
    "\n",
    "DXY_3 = DXY_new_3"
   ]
  },
  {
   "cell_type": "code",
   "execution_count": 65,
   "id": "0f54506e",
   "metadata": {},
   "outputs": [],
   "source": [
    "DYY_new_1 = (BELL_BASIS_reference[3]*H.row(2)[0] +\n",
    "             BELL_BASIS_reference[4]*H.row(2)[1] +\n",
    "             BELL_BASIS_reference[5]*H.row(2)[2])\n",
    "\n",
    "DYY_1 = DYY_new_1"
   ]
  },
  {
   "cell_type": "code",
   "execution_count": 66,
   "id": "b73d2e6a",
   "metadata": {},
   "outputs": [],
   "source": [
    "DYY_new_2 = (BELL_BASIS_reference[9] *H.row(2)[0] +\n",
    "             BELL_BASIS_reference[10]*H.row(2)[1] +\n",
    "             BELL_BASIS_reference[11]*H.row(2)[2])\n",
    "\n",
    "DYY_2 = DYY_new_2"
   ]
  },
  {
   "cell_type": "code",
   "execution_count": 67,
   "id": "9941d4fe",
   "metadata": {},
   "outputs": [],
   "source": [
    "DYY_new_3 = (BELL_BASIS_reference[15]*H.row(2)[0] +\n",
    "             BELL_BASIS_reference[16]*H.row(2)[1] +\n",
    "             BELL_BASIS_reference[17]*H.row(2)[2])\n",
    "\n",
    "DYY_3 = DYY_new_3"
   ]
  },
  {
   "cell_type": "code",
   "execution_count": 72,
   "id": "4085e3ff",
   "metadata": {},
   "outputs": [],
   "source": [
    "all_basis = [F_1.as_sympy(), F_2.as_sympy(), F_3.as_sympy(), \n",
    "            DX_1.as_sympy(), DX_2.as_sympy(), DX_3.as_sympy(), \n",
    "            DY_1.as_sympy(), DY_2.as_sympy(), DY_3.as_sympy(), \n",
    "            DXX_1.as_sympy(), DXX_2.as_sympy(), DXX_3.as_sympy(),\n",
    "            DXY_1.as_sympy(), DXY_2.as_sympy(), DXY_3.as_sympy(),\n",
    "            DYY_1.as_sympy(), DYY_2.as_sympy(), DYY_3.as_sympy()]"
   ]
  },
  {
   "cell_type": "code",
   "execution_count": 73,
   "id": "8541a42a",
   "metadata": {},
   "outputs": [
    {
     "name": "stderr",
     "output_type": "stream",
     "text": [
      "  2%|▉                                        | 7/324 [01:22<1:02:26, 11.82s/it]\n",
      "\n",
      "KeyboardInterrupt\n",
      "\n"
     ]
    }
   ],
   "source": [
    "result = {}\n",
    "\n",
    "N = len(all_basis)\n",
    "\n",
    "for idx, jdx in tqdm([(idx, jdx) for idx in range(N) for jdx in range(N)]):\n",
    "\n",
    "    first = all_basis[idx].copy()\n",
    "    second = all_basis[jdx].copy()\n",
    "\n",
    "    u_x = \\\n",
    "    sympy.diff(first, x)*P_1_x + \\\n",
    "    sympy.diff(first, y)*P_2_x\n",
    "    \n",
    "    u_xx = \\\n",
    "    sympy.diff(u_x, x)*P_1_x + \\\n",
    "    sympy.diff(u_x, y)*P_2_x\n",
    "\n",
    "    u_y = \\\n",
    "    sympy.diff(first, x)*P_1_y + \\\n",
    "    sympy.diff(first, y)*P_2_y\n",
    "    \n",
    "    u_yy = \\\n",
    "    sympy.diff(u_y, x)*P_1_y + \\\n",
    "    sympy.diff(u_y, y)*P_2_y\n",
    "\n",
    "    u_xy = \\\n",
    "    sympy.diff(u_x, x)*P_1_y + \\\n",
    "    sympy.diff(u_x, y)*P_2_y\n",
    "\n",
    "    \n",
    "    v_x = \\\n",
    "    sympy.diff(second, x)*P_1_x + \\\n",
    "    sympy.diff(second, y)*P_2_x\n",
    "\n",
    "    v_xx = \\\n",
    "    sympy.diff(v_x, x)*P_1_x + \\\n",
    "    sympy.diff(v_x, y)*P_2_x\n",
    "    \n",
    "    v_y = \\\n",
    "    sympy.diff(second, x)*P_1_y + \\\n",
    "    sympy.diff(second, y)*P_2_y\n",
    "\n",
    "    v_yy = \\\n",
    "    sympy.diff(v_y, x)*P_1_y + \\\n",
    "    sympy.diff(v_y, y)*P_2_y\n",
    "    \n",
    "    v_xy = \\\n",
    "    sympy.diff(v_x, x)*P_1_y + \\\n",
    "    sympy.diff(v_x, y)*P_2_y\n",
    "\n",
    "    \n",
    "    A = u_xx * v_xx\n",
    "    B = u_xy * v_xy\n",
    "    C = u_yy * v_yy\n",
    "    b = u_xx * v_yy\n",
    "\n",
    "    sym_int =   sympy.integrate(A + 2*B + C, (y, 0, 1-x), (x, 0, 1))\n",
    "    sym_int_2 = sympy.integrate(A + 2*b + C, (y, 0, 1-x), (x, 0, 1))\n",
    "\n",
    "    args = [P_1_x, P_2_x, P_1_y, P_2_y]\n",
    "    \n",
    "    result[f\"{idx}_{jdx}\"] =       sympy.lambdify(args, sym_int)\n",
    "    result[f\"{idx}_{jdx}_alter\"] = sympy.lambdify(args, sym_int_2)    "
   ]
  },
  {
   "cell_type": "code",
   "execution_count": null,
   "id": "2eb15485",
   "metadata": {},
   "outputs": [],
   "source": [
    "for idx, basis in enumerate(all_basis_list):\n",
    "    basis_norm = basis.copy()\n",
    "    sym_int = sympy.integrate(basis_norm, (y, 0, 1-x), (x, 0, 1))    \n",
    "    result[f\"{idx}\"] = sym_int"
   ]
  },
  {
   "cell_type": "code",
   "execution_count": null,
   "id": "258fb09b",
   "metadata": {},
   "outputs": [],
   "source": [
    "import dill\n",
    "dill.settings['recurse'] = True\n",
    "dill.dump(result, open(\"../calculations/i_think_final\", \"wb\"))"
   ]
  },
  {
   "cell_type": "code",
   "execution_count": null,
   "id": "6ec647b5",
   "metadata": {},
   "outputs": [],
   "source": [
    "P_1_x, P_2_x, P_1_y, P_2_y = sympy.symbols(\"P_1_x P_2_x P_1_y P_2_y\")"
   ]
  },
  {
   "cell_type": "code",
   "execution_count": null,
   "id": "6563a011",
   "metadata": {},
   "outputs": [],
   "source": [
    "for idx, basis in enumerate(all_basis):\n",
    "    \n",
    "    func = basis.subs(x, p_1).subs(y, p_2)\n",
    "\n",
    "    func_x = sympy.diff(func, p_1)*P_1_x + sympy.diff(func, p_2)*P_2_x\n",
    "    func_y = sympy.diff(func, p_1)*P_1_y + sympy.diff(func, p_2)*P_2_y\n",
    "    \n",
    "    func_xx = sympy.diff(func_x, p_1)*P_1_x + sympy.diff(func_x, p_2)*P_2_x + \\\n",
    "              sympy.diff(func_y, p_1)*P_1_x + sympy.diff(func_y, p_2)*P_2_x\n",
    "    \n",
    "    func_yy = sympy.diff(func_y, p_1)*P_1_y + sympy.diff(func_y, p_2)*P_2_y + \\\n",
    "              sympy.diff(func_x, p_1)*P_1_y + sympy.diff(func_x, p_2)*P_2_y\n",
    "    \n",
    "    func_xy = sympy.diff(func_x, p_1)*P_1_y + sympy.diff(func_x, p_2)*P_2_y + \\\n",
    "              sympy.diff(func_y, p_1)*P_1_x + sympy.diff(func_y, p_2)*P_2_x\n",
    "\n",
    "    func = func_x\n",
    "    \n",
    "    val_1 = func.subs(p_1, 0).subs(p_2, 0)\n",
    "    val_2 = func.subs(p_1, 1).subs(p_2, 0)\n",
    "    val_3 = func.subs(p_1, 0).subs(p_2, 1)\n",
    "    \n",
    "    print(idx, \":\", val_1, val_2, val_3)"
   ]
  }
 ],
 "metadata": {
  "kernelspec": {
   "display_name": "Python 3 (ipykernel)",
   "language": "python",
   "name": "python3"
  },
  "language_info": {
   "codemirror_mode": {
    "name": "ipython",
    "version": 3
   },
   "file_extension": ".py",
   "mimetype": "text/x-python",
   "name": "python",
   "nbconvert_exporter": "python",
   "pygments_lexer": "ipython3",
   "version": "3.9.12"
  }
 },
 "nbformat": 4,
 "nbformat_minor": 5
}
