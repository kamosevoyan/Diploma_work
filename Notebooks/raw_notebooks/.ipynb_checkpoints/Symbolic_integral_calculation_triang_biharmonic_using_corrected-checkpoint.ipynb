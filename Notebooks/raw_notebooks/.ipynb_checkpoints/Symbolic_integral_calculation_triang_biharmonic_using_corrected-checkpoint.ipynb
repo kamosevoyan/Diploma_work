{
 "cells": [
  {
   "cell_type": "code",
   "execution_count": 2,
   "id": "f08b13c7",
   "metadata": {},
   "outputs": [],
   "source": [
    "import sympy\n",
    "import matplotlib.pyplot as plt\n",
    "import numpy as np\n",
    "from tqdm import tqdm\n",
    "import symfem\n",
    "from IPython.display import display"
   ]
  },
  {
   "cell_type": "code",
   "execution_count": 3,
   "id": "12b69267",
   "metadata": {},
   "outputs": [],
   "source": [
    "x, y, x1, y1, x2, y2, x3, y3, p_1, p_2, p_3 = sympy.symbols(\"x y x_1 y_1 x_2 y_2 x_3 y_3 p_1 p_2 p_3\")\n",
    "X, Y, u, v = sympy.symbols(\"X Y u v\")\n",
    "P_1_x, P_2_x, P_1_y, P_2_y = sympy.symbols(\"P_1_x P_2_x P_1_y P_2_y\")"
   ]
  },
  {
   "cell_type": "code",
   "execution_count": 4,
   "id": "8c5ae4a2",
   "metadata": {},
   "outputs": [],
   "source": [
    "BELL_BASIS = symfem.create_element(\"triangle\", \"Bell\", 5)\n",
    "BELL_BASIS_reference = BELL_BASIS.get_basis_functions()"
   ]
  },
  {
   "cell_type": "code",
   "execution_count": 6,
   "id": "b234f1c5",
   "metadata": {},
   "outputs": [],
   "source": [
    "triangle_sym = np.array([\n",
    "    [x1, y1],\n",
    "    [x2, y2],\n",
    "    [x3, y3],\n",
    "    ])"
   ]
  },
  {
   "cell_type": "code",
   "execution_count": 7,
   "id": "0dd2861c",
   "metadata": {},
   "outputs": [],
   "source": [
    "MAP = BELL_BASIS.reference.get_map_to(triangle_sym)\n",
    "INV_MAP = BELL_BASIS.reference.get_inverse_map_to(triangle_sym)"
   ]
  },
  {
   "cell_type": "code",
   "execution_count": 8,
   "id": "392809ea",
   "metadata": {},
   "outputs": [],
   "source": [
    "U, V = MAP\n",
    "DX1, DY1 = U.diff(x), U.diff(y)\n",
    "DX2, DY2 = V.diff(x), V.diff(y)"
   ]
  },
  {
   "cell_type": "code",
   "execution_count": 9,
   "id": "5da65f19",
   "metadata": {},
   "outputs": [
    {
     "data": {
      "text/latex": [
       "$\\displaystyle x \\left(- x_{1} + x_{2}\\right) + x_{1} + y \\left(- x_{1} + x_{3}\\right)$"
      ],
      "text/plain": [
       "x*(-x_1 + x_2) + x_1 + y*(-x_1 + x_3)"
      ]
     },
     "metadata": {},
     "output_type": "display_data"
    },
    {
     "data": {
      "text/latex": [
       "$\\displaystyle x \\left(- y_{1} + y_{2}\\right) + y \\left(- y_{1} + y_{3}\\right) + y_{1}$"
      ],
      "text/plain": [
       "x*(-y_1 + y_2) + y*(-y_1 + y_3) + y_1"
      ]
     },
     "metadata": {},
     "output_type": "display_data"
    }
   ],
   "source": [
    "display(U, V)"
   ]
  },
  {
   "cell_type": "code",
   "execution_count": 10,
   "id": "7ca766dd",
   "metadata": {},
   "outputs": [
    {
     "data": {
      "text/latex": [
       "$\\displaystyle \\left[\\begin{matrix}- x_{1} + x_{2} & - x_{1} + x_{3}\\\\- y_{1} + y_{2} & - y_{1} + y_{3}\\end{matrix}\\right]$"
      ],
      "text/plain": [
       "Matrix([\n",
       "[-x_1 + x_2, -x_1 + x_3],\n",
       "[-y_1 + y_2, -y_1 + y_3]])"
      ]
     },
     "metadata": {},
     "output_type": "display_data"
    }
   ],
   "source": [
    "display(sympy.Matrix([\n",
    "[DX1, DY1],\n",
    "[DX2, DY2]]))"
   ]
  },
  {
   "cell_type": "code",
   "execution_count": 11,
   "id": "d8318227",
   "metadata": {},
   "outputs": [
    {
     "data": {
      "text/latex": [
       "$\\displaystyle \\frac{\\left(x - x_{1}\\right) \\left(- y_{1} + y_{3}\\right)}{x_{1} y_{2} - x_{1} y_{3} - x_{2} y_{1} + x_{2} y_{3} + x_{3} y_{1} - x_{3} y_{2}} + \\frac{\\left(x_{1} - x_{3}\\right) \\left(y - y_{1}\\right)}{x_{1} y_{2} - x_{1} y_{3} - x_{2} y_{1} + x_{2} y_{3} + x_{3} y_{1} - x_{3} y_{2}}$"
      ],
      "text/plain": [
       "(x - x_1)*(-y_1 + y_3)/(x_1*y_2 - x_1*y_3 - x_2*y_1 + x_2*y_3 + x_3*y_1 - x_3*y_2) + (x_1 - x_3)*(y - y_1)/(x_1*y_2 - x_1*y_3 - x_2*y_1 + x_2*y_3 + x_3*y_1 - x_3*y_2)"
      ]
     },
     "metadata": {},
     "output_type": "display_data"
    },
    {
     "data": {
      "text/latex": [
       "$\\displaystyle \\frac{\\left(x - x_{1}\\right) \\left(y_{1} - y_{2}\\right)}{x_{1} y_{2} - x_{1} y_{3} - x_{2} y_{1} + x_{2} y_{3} + x_{3} y_{1} - x_{3} y_{2}} + \\frac{\\left(- x_{1} + x_{2}\\right) \\left(y - y_{1}\\right)}{x_{1} y_{2} - x_{1} y_{3} - x_{2} y_{1} + x_{2} y_{3} + x_{3} y_{1} - x_{3} y_{2}}$"
      ],
      "text/plain": [
       "(x - x_1)*(y_1 - y_2)/(x_1*y_2 - x_1*y_3 - x_2*y_1 + x_2*y_3 + x_3*y_1 - x_3*y_2) + (-x_1 + x_2)*(y - y_1)/(x_1*y_2 - x_1*y_3 - x_2*y_1 + x_2*y_3 + x_3*y_1 - x_3*y_2)"
      ]
     },
     "metadata": {},
     "output_type": "display_data"
    }
   ],
   "source": [
    "U_inv, V_inv = INV_MAP\n",
    "display(U_inv, V_inv)"
   ]
  },
  {
   "cell_type": "code",
   "execution_count": 12,
   "id": "8b57711d",
   "metadata": {},
   "outputs": [
    {
     "data": {
      "text/latex": [
       "$\\displaystyle \\frac{x_{1} - x_{3}}{x_{1} y_{2} - x_{1} y_{3} - x_{2} y_{1} + x_{2} y_{3} + x_{3} y_{1} - x_{3} y_{2}}$"
      ],
      "text/plain": [
       "(x_1 - x_3)/(x_1*y_2 - x_1*y_3 - x_2*y_1 + x_2*y_3 + x_3*y_1 - x_3*y_2)"
      ]
     },
     "execution_count": 12,
     "metadata": {},
     "output_type": "execute_result"
    }
   ],
   "source": [
    "U_inv.diff(y)"
   ]
  },
  {
   "cell_type": "code",
   "execution_count": 13,
   "id": "6a57aafb",
   "metadata": {},
   "outputs": [
    {
     "data": {
      "text/latex": [
       "$\\displaystyle \\frac{- x_{1} + x_{2}}{x_{1} y_{2} - x_{1} y_{3} - x_{2} y_{1} + x_{2} y_{3} + x_{3} y_{1} - x_{3} y_{2}}$"
      ],
      "text/plain": [
       "(-x_1 + x_2)/(x_1*y_2 - x_1*y_3 - x_2*y_1 + x_2*y_3 + x_3*y_1 - x_3*y_2)"
      ]
     },
     "execution_count": 13,
     "metadata": {},
     "output_type": "execute_result"
    }
   ],
   "source": [
    "V_inv.diff(y)"
   ]
  },
  {
   "cell_type": "code",
   "execution_count": 14,
   "id": "207e2f7d",
   "metadata": {},
   "outputs": [],
   "source": [
    "DX1, DY1, DX2, DY2 = sympy.symbols(\"DX1, DY1,DX2, DY2\")"
   ]
  },
  {
   "cell_type": "code",
   "execution_count": 15,
   "id": "b34b971b",
   "metadata": {},
   "outputs": [],
   "source": [
    "DX_new_1 = (BELL_BASIS_reference[1]*DX1 + BELL_BASIS_reference[2]*DY1)\n",
    "DX_1 = DX_new_1\n",
    "DX_new_2 = (BELL_BASIS_reference[7]*DX1 + BELL_BASIS_reference[8]*DY1)\n",
    "DX_2 = DX_new_2\n",
    "DX_new_3 = (BELL_BASIS_reference[13]*DX1 + BELL_BASIS_reference[14]*DY1)\n",
    "DX_3 = DX_new_3"
   ]
  },
  {
   "cell_type": "code",
   "execution_count": 16,
   "id": "c41fd1bc",
   "metadata": {},
   "outputs": [],
   "source": [
    "DY_new_1 = (BELL_BASIS_reference[1]*DX2 + BELL_BASIS_reference[2]*DY2)\n",
    "DY_1 = DY_new_1\n",
    "DY_new_2 = (BELL_BASIS_reference[7]*DX2 + BELL_BASIS_reference[8]*DY2)\n",
    "DY_2 = DY_new_2\n",
    "DY_new_3 = (BELL_BASIS_reference[13]*DX2 + BELL_BASIS_reference[14]*DY2)\n",
    "DY_3 = DY_new_3"
   ]
  },
  {
   "cell_type": "code",
   "execution_count": 17,
   "id": "6a1bb1ca",
   "metadata": {},
   "outputs": [],
   "source": [
    "F_1 = BELL_BASIS_reference[0]\n",
    "F_2 = BELL_BASIS_reference[6]\n",
    "F_3 = BELL_BASIS_reference[12]"
   ]
  },
  {
   "cell_type": "code",
   "execution_count": 25,
   "id": "5d73b0d4",
   "metadata": {},
   "outputs": [],
   "source": [
    "theta = sympy.Matrix([\n",
    "    [(DX1)**2, (2*DX1*DX2), (DX2)**2],\n",
    "    [(DX1*DY1), (DY1*DX2 + DX1*DY2), (DX2*DY2)],\n",
    "    [(DY1)**2, (2*DY1*DY2), (DY2)**2]\n",
    "])\n",
    "\n",
    "H = theta.T"
   ]
  },
  {
   "cell_type": "code",
   "execution_count": 26,
   "id": "115b8723",
   "metadata": {},
   "outputs": [],
   "source": [
    "Hij = np.array(sympy.symbols(\"h(1:4)1:4\")).reshape(3, 3)"
   ]
  },
  {
   "cell_type": "code",
   "execution_count": 27,
   "id": "965064d8",
   "metadata": {},
   "outputs": [],
   "source": [
    "H = sympy.Matrix(Hij)"
   ]
  },
  {
   "cell_type": "code",
   "execution_count": 28,
   "id": "ed4f5191",
   "metadata": {},
   "outputs": [],
   "source": [
    "DXX_new_1 = (BELL_BASIS_reference[3]*H.row(0)[0] + \n",
    "             BELL_BASIS_reference[4]*H.row(0)[1] +\n",
    "             BELL_BASIS_reference[5]*H.row(0)[2])\n",
    "\n",
    "DXX_1 = DXX_new_1"
   ]
  },
  {
   "cell_type": "code",
   "execution_count": 29,
   "id": "79e3c3e5",
   "metadata": {},
   "outputs": [],
   "source": [
    "DXX_new_2 = (BELL_BASIS_reference[9] *H.row(0)[0] +\n",
    "             BELL_BASIS_reference[10]*H.row(0)[1] +\n",
    "             BELL_BASIS_reference[11]*H.row(0)[2])\n",
    "\n",
    "DXX_2 = DXX_new_2"
   ]
  },
  {
   "cell_type": "code",
   "execution_count": 30,
   "id": "95bcd62b",
   "metadata": {},
   "outputs": [],
   "source": [
    "DXX_new_3 = (BELL_BASIS_reference[15]*H.row(0)[0] +\n",
    "             BELL_BASIS_reference[16]*H.row(0)[1] +\n",
    "             BELL_BASIS_reference[17]*H.row(0)[2])\n",
    "DXX_3 = DXX_new_3"
   ]
  },
  {
   "cell_type": "code",
   "execution_count": 31,
   "id": "44af5906",
   "metadata": {},
   "outputs": [],
   "source": [
    "DXY_new_1 = (BELL_BASIS_reference[3]*H.row(1)[0] +\n",
    "             BELL_BASIS_reference[4]*H.row(1)[1] +\n",
    "             BELL_BASIS_reference[5]*H.row(1)[2])\n",
    "\n",
    "DXY_1 = DXY_new_1"
   ]
  },
  {
   "cell_type": "code",
   "execution_count": 32,
   "id": "9eb96c2d",
   "metadata": {},
   "outputs": [],
   "source": [
    "DXY_new_2 = (BELL_BASIS_reference[9] *H.row(1)[0] +\n",
    "             BELL_BASIS_reference[10]*H.row(1)[1] +\n",
    "             BELL_BASIS_reference[11]*H.row(1)[2])\n",
    "\n",
    "DXY_2 = DXY_new_2"
   ]
  },
  {
   "cell_type": "code",
   "execution_count": 33,
   "id": "3c84c92f",
   "metadata": {},
   "outputs": [],
   "source": [
    "DXY_new_3 = (BELL_BASIS_reference[15]*H.row(1)[0] +\n",
    "             BELL_BASIS_reference[16]*H.row(1)[1] +\n",
    "             BELL_BASIS_reference[17]*H.row(1)[2])\n",
    "\n",
    "DXY_3 = DXY_new_3"
   ]
  },
  {
   "cell_type": "code",
   "execution_count": 34,
   "id": "78b3864d",
   "metadata": {},
   "outputs": [],
   "source": [
    "DYY_new_1 = (BELL_BASIS_reference[3]*H.row(2)[0] +\n",
    "             BELL_BASIS_reference[4]*H.row(2)[1] +\n",
    "             BELL_BASIS_reference[5]*H.row(2)[2])\n",
    "\n",
    "DYY_1 = DYY_new_1"
   ]
  },
  {
   "cell_type": "code",
   "execution_count": 35,
   "id": "166c49b7",
   "metadata": {},
   "outputs": [],
   "source": [
    "DYY_new_2 = (BELL_BASIS_reference[9] *H.row(2)[0] +\n",
    "             BELL_BASIS_reference[10]*H.row(2)[1] +\n",
    "             BELL_BASIS_reference[11]*H.row(2)[2])\n",
    "\n",
    "DYY_2 = DYY_new_2"
   ]
  },
  {
   "cell_type": "code",
   "execution_count": 36,
   "id": "cea8fb41",
   "metadata": {},
   "outputs": [],
   "source": [
    "DYY_new_3 = (BELL_BASIS_reference[15]*H.row(2)[0] +\n",
    "             BELL_BASIS_reference[16]*H.row(2)[1] +\n",
    "             BELL_BASIS_reference[17]*H.row(2)[2])\n",
    "\n",
    "DYY_3 = DYY_new_3"
   ]
  },
  {
   "cell_type": "code",
   "execution_count": 37,
   "id": "dc40c6ee",
   "metadata": {},
   "outputs": [],
   "source": [
    "all_basis = [F_1.as_sympy(), F_2.as_sympy(), F_3.as_sympy(), \n",
    "            DX_1.as_sympy(), DX_2.as_sympy(), DX_3.as_sympy(), \n",
    "            DY_1.as_sympy(), DY_2.as_sympy(), DY_3.as_sympy(), \n",
    "            DXX_1.as_sympy(), DXX_2.as_sympy(), DXX_3.as_sympy(),\n",
    "            DXY_1.as_sympy(), DXY_2.as_sympy(), DXY_3.as_sympy(),\n",
    "            DYY_1.as_sympy(), DYY_2.as_sympy(), DYY_3.as_sympy()]"
   ]
  },
  {
   "cell_type": "code",
   "execution_count": 38,
   "id": "8541a42a",
   "metadata": {},
   "outputs": [
    {
     "name": "stderr",
     "output_type": "stream",
     "text": [
      "  0%|▌                                                                                                                                                                             | 1/324 [00:06<37:21,  6.94s/it]\n",
      "\n",
      "KeyboardInterrupt\n",
      "\n"
     ]
    }
   ],
   "source": [
    "args = [x1, x2, x3, \n",
    "        y1, y2, y3, \n",
    "        P_1_x, P_2_x, P_1_y, P_2_y,\n",
    "        DX1, DY1,DX2, DY2,\n",
    "        *Hij.flatten()]\n",
    "\n",
    "result = {}\n",
    "\n",
    "N = len(all_basis)\n",
    "\n",
    "for idx, jdx in tqdm([(idx, jdx) for idx in range(N) for jdx in range(N)]):\n",
    "\n",
    "    first = all_basis[idx].copy()\n",
    "    second = all_basis[jdx].copy()\n",
    "\n",
    "    u_x = \\\n",
    "    sympy.diff(first, x)*P_1_x + \\\n",
    "    sympy.diff(first, y)*P_2_x\n",
    "    \n",
    "    u_xx = \\\n",
    "    sympy.diff(u_x, x)*P_1_x + \\\n",
    "    sympy.diff(u_x, y)*P_2_x\n",
    "\n",
    "    u_y = \\\n",
    "    sympy.diff(first, x)*P_1_y + \\\n",
    "    sympy.diff(first, y)*P_2_y\n",
    "    \n",
    "    u_yy = \\\n",
    "    sympy.diff(u_y, x)*P_1_y + \\\n",
    "    sympy.diff(u_y, y)*P_2_y\n",
    "\n",
    "    u_xy = \\\n",
    "    sympy.diff(u_x, x)*P_1_y + \\\n",
    "    sympy.diff(u_x, y)*P_2_y\n",
    "\n",
    "    v_x = \\\n",
    "    sympy.diff(second, x)*P_1_x + \\\n",
    "    sympy.diff(second, y)*P_2_x\n",
    "\n",
    "    v_xx = \\\n",
    "    sympy.diff(v_x, x)*P_1_x + \\\n",
    "    sympy.diff(v_x, y)*P_2_x\n",
    "    \n",
    "    v_y = \\\n",
    "    sympy.diff(second, x)*P_1_y + \\\n",
    "    sympy.diff(second, y)*P_2_y\n",
    "\n",
    "    v_yy = \\\n",
    "    sympy.diff(v_y, x)*P_1_y + \\\n",
    "    sympy.diff(v_y, y)*P_2_y\n",
    "    \n",
    "    v_xy = \\\n",
    "    sympy.diff(v_x, x)*P_1_y + \\\n",
    "    sympy.diff(v_x, y)*P_2_y\n",
    "\n",
    "    \n",
    "    A = u_xx * v_xx\n",
    "    B = u_xy * v_xy\n",
    "    C = u_yy * v_yy\n",
    "#     b = u_xx * v_yy\n",
    "\n",
    "    sym_int =   sympy.integrate(A + 2*B + C, (y, 0, 1-x), (x, 0, 1))\n",
    "#     sym_int_2 = sympy.integrate(A + 2*b + C, (y, 0, 1-x), (x, 0, 1))\n",
    "\n",
    "    result[f\"{idx}_{jdx}\"] =       sympy.lambdify(args, sym_int)\n",
    "#     result[f\"{idx}_{jdx}_alter\"] = sympy.lambdify(args, sym_int_2)    "
   ]
  },
  {
   "cell_type": "code",
   "execution_count": 31,
   "id": "2eb15485",
   "metadata": {},
   "outputs": [],
   "source": [
    "for idx, basis in enumerate(all_basis):\n",
    "    basis_norm = basis.copy()\n",
    "    sym_int = sympy.integrate(basis_norm, (y, 0, 1-x), (x, 0, 1))    \n",
    "    result[f\"{idx}\"] = sym_int"
   ]
  },
  {
   "cell_type": "code",
   "execution_count": 32,
   "id": "258fb09b",
   "metadata": {},
   "outputs": [],
   "source": [
    "import dill\n",
    "dill.settings['recurse'] = True\n",
    "dill.dump(result, open(\"../calculations/i_think_final\", \"wb\"))"
   ]
  },
  {
   "cell_type": "code",
   "execution_count": null,
   "id": "6ec647b5",
   "metadata": {},
   "outputs": [],
   "source": [
    "P_1_x, P_2_x, P_1_y, P_2_y = sympy.symbols(\"P_1_x P_2_x P_1_y P_2_y\")"
   ]
  },
  {
   "cell_type": "code",
   "execution_count": 48,
   "id": "6563a011",
   "metadata": {},
   "outputs": [
    {
     "name": "stdout",
     "output_type": "stream",
     "text": [
      "0 : 1 0 0\n",
      "1 : 0 1 0\n",
      "2 : 0 0 1\n",
      "3 : 0 0 0\n",
      "4 : 0 0 0\n",
      "5 : 0 0 0\n",
      "6 : 0 0 0\n",
      "7 : 0 0 0\n",
      "8 : 0 0 0\n",
      "9 : 0 0 0\n",
      "10 : 0 0 0\n",
      "11 : 0 0 0\n",
      "12 : 0 0 0\n",
      "13 : 0 0 0\n",
      "14 : 0 0 0\n",
      "15 : 0 0 0\n",
      "16 : 0 0 0\n",
      "17 : 0 0 0\n"
     ]
    }
   ],
   "source": [
    "for idx, basis in enumerate(all_basis):\n",
    "    \n",
    "    func = basis.subs(x, p_1).subs(y, p_2)\n",
    "\n",
    "    func_x = sympy.diff(func, p_1)*P_1_x + sympy.diff(func, p_2)*P_2_x\n",
    "    func_y = sympy.diff(func, p_1)*P_1_y + sympy.diff(func, p_2)*P_2_y\n",
    "    \n",
    "    func_xx = sympy.diff(func_x, p_1)*P_1_x + sympy.diff(func_x, p_2)*P_2_x + \\\n",
    "              sympy.diff(func_y, p_1)*P_1_x + sympy.diff(func_y, p_2)*P_2_x\n",
    "    \n",
    "    func_yy = sympy.diff(func_y, p_1)*P_1_y + sympy.diff(func_y, p_2)*P_2_y + \\\n",
    "              sympy.diff(func_x, p_1)*P_1_y + sympy.diff(func_x, p_2)*P_2_y\n",
    "    \n",
    "    func_xy = sympy.diff(func_x, p_1)*P_1_y + sympy.diff(func_x, p_2)*P_2_y + \\\n",
    "              sympy.diff(func_y, p_1)*P_1_x + sympy.diff(func_y, p_2)*P_2_x\n",
    "\n",
    "    func = func\n",
    "    \n",
    "    val_1 = func.subs(p_1, 0).subs(p_2, 0)\n",
    "    val_2 = func.subs(p_1, 1).subs(p_2, 0)\n",
    "    val_3 = func.subs(p_1, 0).subs(p_2, 1)\n",
    "    \n",
    "    print(idx, \":\", val_1, val_2, val_3)"
   ]
  }
 ],
 "metadata": {
  "kernelspec": {
   "display_name": "Python 3 (ipykernel)",
   "language": "python",
   "name": "python3"
  },
  "language_info": {
   "codemirror_mode": {
    "name": "ipython",
    "version": 3
   },
   "file_extension": ".py",
   "mimetype": "text/x-python",
   "name": "python",
   "nbconvert_exporter": "python",
   "pygments_lexer": "ipython3",
   "version": "3.9.12"
  }
 },
 "nbformat": 4,
 "nbformat_minor": 5
}
