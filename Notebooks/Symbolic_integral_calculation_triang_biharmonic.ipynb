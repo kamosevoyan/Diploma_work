{
 "cells": [
  {
   "cell_type": "code",
   "execution_count": 1,
   "id": "f08b13c7",
   "metadata": {},
   "outputs": [],
   "source": [
    "import sympy\n",
    "import matplotlib.pyplot as plt\n",
    "import numpy as np\n",
    "from tqdm import tqdm"
   ]
  },
  {
   "cell_type": "code",
   "execution_count": 2,
   "id": "12b69267",
   "metadata": {},
   "outputs": [],
   "source": [
    "x, y, x_1, y_1, x_2, y_2, x_3, y_3, p_1, p_2, p_3 = sympy.symbols(\"x y x_1 y_1 x_2 y_2 x_3 y_3 p_1 p_2 p_3\")"
   ]
  },
  {
   "cell_type": "code",
   "execution_count": 3,
   "id": "365ec5ee",
   "metadata": {},
   "outputs": [
    {
     "data": {
      "text/latex": [
       "$\\displaystyle p_{1}^{2} \\cdot \\left(6 p_{1}^{3} - 15 p_{1}^{2} + 10 p_{1} + 15 p_{2}^{2} p_{3}\\right)$"
      ],
      "text/plain": [
       "p_1**2*(6*p_1**3 - 15*p_1**2 + 10*p_1 + 15*p_2**2*p_3)"
      ]
     },
     "execution_count": 3,
     "metadata": {},
     "output_type": "execute_result"
    }
   ],
   "source": [
    "phi_1_0_0 = p_1**2*(sympy.Rational(10)*p_1 - sympy.Rational(15)*p_1**2 + sympy.Rational(6)*p_1**3 + sympy.Rational(15)*p_2**2*p_3)\n",
    "phi_1_0_0"
   ]
  },
  {
   "cell_type": "code",
   "execution_count": 4,
   "id": "17eaf96d",
   "metadata": {},
   "outputs": [
    {
     "data": {
      "text/latex": [
       "$\\displaystyle p_{2}^{2} \\cdot \\left(15 p_{1} p_{3}^{2} + 6 p_{2}^{3} - 15 p_{2}^{2} + 10 p_{2}\\right)$"
      ],
      "text/plain": [
       "p_2**2*(15*p_1*p_3**2 + 6*p_2**3 - 15*p_2**2 + 10*p_2)"
      ]
     },
     "execution_count": 4,
     "metadata": {},
     "output_type": "execute_result"
    }
   ],
   "source": [
    "phi_2_0_0 = p_2**2*(sympy.Rational(10)*p_2 - sympy.Rational(15)*p_2**2 + sympy.Rational(6)*p_2**3 + sympy.Rational(15)*p_3**2*p_1)\n",
    "phi_2_0_0"
   ]
  },
  {
   "cell_type": "code",
   "execution_count": 5,
   "id": "3d715329",
   "metadata": {},
   "outputs": [
    {
     "data": {
      "text/latex": [
       "$\\displaystyle p_{3}^{2} \\cdot \\left(30 p_{1} p_{2} \\left(p_{1} + p_{2}\\right) + 6 p_{3}^{3} - 15 p_{3}^{2} + 10 p_{3}\\right)$"
      ],
      "text/plain": [
       "p_3**2*(30*p_1*p_2*(p_1 + p_2) + 6*p_3**3 - 15*p_3**2 + 10*p_3)"
      ]
     },
     "execution_count": 5,
     "metadata": {},
     "output_type": "execute_result"
    }
   ],
   "source": [
    "phi_3_0_0 = p_3**2*(sympy.Rational(10)*p_3 - sympy.Rational(15)*p_3**2 + sympy.Rational(6)*p_3**3 + sympy.Rational(30)*p_1*p_2*(p_1 + p_2))\n",
    "phi_3_0_0"
   ]
  },
  {
   "cell_type": "code",
   "execution_count": 6,
   "id": "555caca3",
   "metadata": {},
   "outputs": [
    {
     "data": {
      "text/latex": [
       "$\\displaystyle p_{1}^{2} \\left(- 3 p_{1}^{3} + 7 p_{1}^{2} - 4 p_{1} - \\frac{15 p_{2}^{2} p_{3}}{2}\\right)$"
      ],
      "text/plain": [
       "p_1**2*(-3*p_1**3 + 7*p_1**2 - 4*p_1 - 15*p_2**2*p_3/2)"
      ]
     },
     "execution_count": 6,
     "metadata": {},
     "output_type": "execute_result"
    }
   ],
   "source": [
    "phi_1_1_0 = p_1**2*(-sympy.Rational(4)*p_1 + sympy.Rational(7)*p_1**2 - sympy.Rational(3)*p_1**3 - sympy.Rational(15, 2)*p_2**2*p_3)\n",
    "phi_1_1_0"
   ]
  },
  {
   "cell_type": "code",
   "execution_count": 7,
   "id": "d6ca8252",
   "metadata": {},
   "outputs": [
    {
     "data": {
      "text/latex": [
       "$\\displaystyle p_{1} p_{2}^{2} \\left(- \\frac{3 p_{1}^{2}}{2} + \\frac{3 p_{1} p_{2}}{2} - \\frac{3 p_{1}}{2} - 2 p_{2} + 3\\right)$"
      ],
      "text/plain": [
       "p_1*p_2**2*(-3*p_1**2/2 + 3*p_1*p_2/2 - 3*p_1/2 - 2*p_2 + 3)"
      ]
     },
     "execution_count": 7,
     "metadata": {},
     "output_type": "execute_result"
    }
   ],
   "source": [
    "phi_2_1_0 = p_1*p_2**2*(sympy.Rational(3) - sympy.Rational(2)*p_2 - sympy.Rational(3, 2)*p_1 - sympy.Rational(3, 2)*p_1**2 + sympy.Rational(3, 2)*p_1*p_2)\n",
    "phi_2_1_0"
   ]
  },
  {
   "cell_type": "code",
   "execution_count": 8,
   "id": "dacae03c",
   "metadata": {},
   "outputs": [
    {
     "data": {
      "text/latex": [
       "$\\displaystyle p_{1} p_{3}^{2} \\left(- 3 p_{1}^{2} + 6 p_{1} p_{2} - 2 p_{3} + 3\\right)$"
      ],
      "text/plain": [
       "p_1*p_3**2*(-3*p_1**2 + 6*p_1*p_2 - 2*p_3 + 3)"
      ]
     },
     "execution_count": 8,
     "metadata": {},
     "output_type": "execute_result"
    }
   ],
   "source": [
    "phi_3_1_0 = p_1*p_3**2*(sympy.Rational(3) - sympy.Rational(2)*p_3 - sympy.Rational(3)*p_1**2 + sympy.Rational(6)*p_1*p_2)\n",
    "phi_3_1_0"
   ]
  },
  {
   "cell_type": "code",
   "execution_count": 9,
   "id": "6ea15e5e",
   "metadata": {},
   "outputs": [
    {
     "data": {
      "text/latex": [
       "$\\displaystyle p_{1}^{2} p_{2} \\cdot \\left(\\frac{3 p_{1} p_{2}}{2} - 2 p_{1} - \\frac{3 p_{2}^{2}}{2} - \\frac{3 p_{2}}{2} + 3\\right)$"
      ],
      "text/plain": [
       "p_1**2*p_2*(3*p_1*p_2/2 - 2*p_1 - 3*p_2**2/2 - 3*p_2/2 + 3)"
      ]
     },
     "execution_count": 9,
     "metadata": {},
     "output_type": "execute_result"
    }
   ],
   "source": [
    "phi_1_0_1 = p_1**2*p_2*(sympy.Rational(3) - sympy.Rational(2)*p_1 - sympy.Rational(3, 2)*p_2 - sympy.Rational(3, 2)*p_2**2 + sympy.Rational(3, 2)*p_1*p_2)\n",
    "phi_1_0_1"
   ]
  },
  {
   "cell_type": "code",
   "execution_count": 10,
   "id": "8f6545ad",
   "metadata": {},
   "outputs": [
    {
     "data": {
      "text/latex": [
       "$\\displaystyle p_{2}^{2} \\left(- \\frac{15 p_{1}^{2} p_{3}}{2} - 3 p_{2}^{3} + 7 p_{2}^{2} - 4 p_{2}\\right)$"
      ],
      "text/plain": [
       "p_2**2*(-15*p_1**2*p_3/2 - 3*p_2**3 + 7*p_2**2 - 4*p_2)"
      ]
     },
     "execution_count": 10,
     "metadata": {},
     "output_type": "execute_result"
    }
   ],
   "source": [
    "phi_2_0_1 = p_2**2*(-sympy.Rational(4)*p_2 + sympy.Rational(7)*p_2**2 - sympy.Rational(3)*p_2**3 - sympy.Rational(15, 2)*p_1**2*p_3)\n",
    "phi_2_0_1"
   ]
  },
  {
   "cell_type": "code",
   "execution_count": 11,
   "id": "21877c5a",
   "metadata": {},
   "outputs": [
    {
     "data": {
      "text/latex": [
       "$\\displaystyle p_{2} p_{3}^{2} \\cdot \\left(6 p_{1} p_{2} - 3 p_{2}^{2} - 2 p_{3} + 3\\right)$"
      ],
      "text/plain": [
       "p_2*p_3**2*(6*p_1*p_2 - 3*p_2**2 - 2*p_3 + 3)"
      ]
     },
     "execution_count": 11,
     "metadata": {},
     "output_type": "execute_result"
    }
   ],
   "source": [
    "phi_3_0_1 = p_2*p_3**2*(sympy.Rational(3) - sympy.Rational(2)*p_3 - sympy.Rational(3)*p_2**2 + sympy.Rational(6)*p_1*p_2)\n",
    "phi_3_0_1"
   ]
  },
  {
   "cell_type": "code",
   "execution_count": 12,
   "id": "0139ab5e",
   "metadata": {},
   "outputs": [
    {
     "data": {
      "text/latex": [
       "$\\displaystyle p_{1}^{2} p_{2} \\left(- \\frac{p_{1} p_{2}}{2} + p_{1} + \\frac{p_{2}^{2}}{2} + \\frac{p_{2}}{2} - 1\\right)$"
      ],
      "text/plain": [
       "p_1**2*p_2*(-p_1*p_2/2 + p_1 + p_2**2/2 + p_2/2 - 1)"
      ]
     },
     "execution_count": 12,
     "metadata": {},
     "output_type": "execute_result"
    }
   ],
   "source": [
    "phi_1_1_1 = p_1**2*p_2*(-sympy.Rational(1) + p_1 + sympy.Rational(1, 2)*p_2 + sympy.Rational(1, 2)*p_2**2 - sympy.Rational(1, 2)*p_1*p_2)\n",
    "phi_1_1_1"
   ]
  },
  {
   "cell_type": "code",
   "execution_count": 13,
   "id": "00ea6b37",
   "metadata": {},
   "outputs": [
    {
     "data": {
      "text/latex": [
       "$\\displaystyle p_{1} p_{2}^{2} \\left(\\frac{p_{1}^{2}}{2} - \\frac{p_{1} p_{2}}{2} + \\frac{p_{1}}{2} + p_{2} - 1\\right)$"
      ],
      "text/plain": [
       "p_1*p_2**2*(p_1**2/2 - p_1*p_2/2 + p_1/2 + p_2 - 1)"
      ]
     },
     "execution_count": 13,
     "metadata": {},
     "output_type": "execute_result"
    }
   ],
   "source": [
    "phi_2_1_1 = p_1*p_2**2*(-sympy.Rational(1) + sympy.Rational(1, 2)*p_1 + p_2 + sympy.Rational(1, 2)*p_1**2 - sympy.Rational(1, 2)*p_1*p_2)\n",
    "phi_2_1_1"
   ]
  },
  {
   "cell_type": "code",
   "execution_count": 14,
   "id": "4cf0d6aa",
   "metadata": {},
   "outputs": [
    {
     "data": {
      "text/latex": [
       "$\\displaystyle p_{1} p_{2} p_{3}^{2}$"
      ],
      "text/plain": [
       "p_1*p_2*p_3**2"
      ]
     },
     "execution_count": 14,
     "metadata": {},
     "output_type": "execute_result"
    }
   ],
   "source": [
    "phi_3_1_1 = p_1*p_2*p_3**2\n",
    "phi_3_1_1"
   ]
  },
  {
   "cell_type": "code",
   "execution_count": 15,
   "id": "2c219fda",
   "metadata": {},
   "outputs": [
    {
     "data": {
      "text/latex": [
       "$\\displaystyle p_{1}^{2} \\left(\\frac{p_{1} \\left(1 - p_{1}\\right)^{2}}{2} + \\frac{5 p_{2}^{2} p_{3}}{4}\\right)$"
      ],
      "text/plain": [
       "p_1**2*(p_1*(1 - p_1)**2/2 + 5*p_2**2*p_3/4)"
      ]
     },
     "execution_count": 15,
     "metadata": {},
     "output_type": "execute_result"
    }
   ],
   "source": [
    "phi_1_2_0 = p_1**2*(sympy.Rational(1, 2)*p_1*(1-p_1)**2 + sympy.Rational(5, 4)*p_2**2*p_3)\n",
    "phi_1_2_0"
   ]
  },
  {
   "cell_type": "code",
   "execution_count": 16,
   "id": "3d57431d",
   "metadata": {},
   "outputs": [
    {
     "data": {
      "text/latex": [
       "$\\displaystyle \\frac{p_{1}^{2} p_{2}^{3}}{2} + \\frac{p_{1}^{2} p_{2}^{2} p_{3}}{4}$"
      ],
      "text/plain": [
       "p_1**2*p_2**3/2 + p_1**2*p_2**2*p_3/4"
      ]
     },
     "execution_count": 16,
     "metadata": {},
     "output_type": "execute_result"
    }
   ],
   "source": [
    "phi_2_2_0 = sympy.Rational(1, 4)*p_1**2*p_2**2*p_3 + sympy.Rational(1, 2)*p_1**2*p_2**3\n",
    "phi_2_2_0"
   ]
  },
  {
   "cell_type": "code",
   "execution_count": 17,
   "id": "57d73518",
   "metadata": {},
   "outputs": [
    {
     "data": {
      "text/latex": [
       "$\\displaystyle \\frac{p_{1}^{2} p_{3}^{2} \\left(- p_{1} + 2 p_{2} + 1\\right)}{2}$"
      ],
      "text/plain": [
       "p_1**2*p_3**2*(-p_1 + 2*p_2 + 1)/2"
      ]
     },
     "execution_count": 17,
     "metadata": {},
     "output_type": "execute_result"
    }
   ],
   "source": [
    "phi_3_2_0 = sympy.Rational(1, 2)*p_1**2*p_3**2*(sympy.Rational(1)-p_1+2*p_2)\n",
    "phi_3_2_0"
   ]
  },
  {
   "cell_type": "code",
   "execution_count": 18,
   "id": "2bfbf367",
   "metadata": {},
   "outputs": [
    {
     "data": {
      "text/latex": [
       "$\\displaystyle \\frac{p_{1}^{3} p_{2}^{2}}{2} + \\frac{p_{1}^{2} p_{2}^{2} p_{3}}{4}$"
      ],
      "text/plain": [
       "p_1**3*p_2**2/2 + p_1**2*p_2**2*p_3/4"
      ]
     },
     "execution_count": 18,
     "metadata": {},
     "output_type": "execute_result"
    }
   ],
   "source": [
    "phi_1_0_2 = sympy.Rational(1, 4)*p_1**2*p_2**2*p_3 + sympy.Rational(1, 2)*p_1**3*p_2**2\n",
    "phi_1_0_2"
   ]
  },
  {
   "cell_type": "code",
   "execution_count": 19,
   "id": "4f05bdc7",
   "metadata": {},
   "outputs": [
    {
     "data": {
      "text/latex": [
       "$\\displaystyle p_{2}^{2} \\cdot \\left(\\frac{5 p_{1}^{2} p_{3}}{4} + \\frac{p_{2} \\left(1 - p_{2}\\right)^{2}}{2}\\right)$"
      ],
      "text/plain": [
       "p_2**2*(5*p_1**2*p_3/4 + p_2*(1 - p_2)**2/2)"
      ]
     },
     "execution_count": 19,
     "metadata": {},
     "output_type": "execute_result"
    }
   ],
   "source": [
    "phi_2_0_2 = p_2**2*(sympy.Rational(1, 2)*p_2*(sympy.Rational(1) - p_2)**2 + sympy.Rational(5, 4)*p_1**2*p_3)\n",
    "phi_2_0_2"
   ]
  },
  {
   "cell_type": "code",
   "execution_count": 20,
   "id": "67d8dc48",
   "metadata": {},
   "outputs": [
    {
     "data": {
      "text/latex": [
       "$\\displaystyle \\frac{p_{2}^{2} p_{3}^{2} \\cdot \\left(2 p_{1} - p_{2} + 1\\right)}{2}$"
      ],
      "text/plain": [
       "p_2**2*p_3**2*(2*p_1 - p_2 + 1)/2"
      ]
     },
     "execution_count": 20,
     "metadata": {},
     "output_type": "execute_result"
    }
   ],
   "source": [
    "phi_3_0_2 = sympy.Rational(1, 2)*p_2**2*p_3**2*(sympy.Rational(1) + sympy.Rational(2)*p_1 - p_2)\n",
    "phi_3_0_2"
   ]
  },
  {
   "cell_type": "code",
   "execution_count": 21,
   "id": "7cd3cb04",
   "metadata": {},
   "outputs": [],
   "source": [
    "all_basis = [\n",
    "phi_1_0_0, phi_2_0_0, phi_3_0_0, \n",
    "phi_1_1_0, phi_2_1_0, phi_3_1_0,\n",
    "phi_1_0_1, phi_2_0_1, phi_3_0_1,\n",
    "phi_1_1_1, phi_2_1_1, phi_3_1_1,\n",
    "phi_1_2_0, phi_2_2_0, phi_3_2_0,\n",
    "phi_1_0_2, phi_2_0_2, phi_3_0_2\n",
    "]"
   ]
  },
  {
   "cell_type": "code",
   "execution_count": 22,
   "id": "8541a42a",
   "metadata": {},
   "outputs": [
    {
     "name": "stderr",
     "output_type": "stream",
     "text": [
      "100%|█████████████████████████████████████████| 324/324 [12:43<00:00,  2.36s/it]\n"
     ]
    }
   ],
   "source": [
    "P_1_x, P_2_x, P_1_y, P_2_y = sympy.symbols(\"P_1_x P_2_x P_1_y P_2_y\")\n",
    "\n",
    "result = {}\n",
    "\n",
    "N = 18\n",
    "\n",
    "for idx,jdx in tqdm([(idx, jdx) for idx in range(18) for jdx in range(18)]):\n",
    "\n",
    "    first = all_basis[idx].subs(p_3, 1 - p_1 - p_2).copy()\n",
    "    second = all_basis[jdx].subs(p_3, 1 - p_1 - p_2).copy()\n",
    "\n",
    "    u_x = \\\n",
    "    sympy.diff(first, p_1)*P_1_x + \\\n",
    "    sympy.diff(first, p_2)*P_2_x\n",
    "    \n",
    "    u_y = \\\n",
    "    sympy.diff(first, p_1)*P_1_y + \\\n",
    "    sympy.diff(first, p_2)*P_2_y\n",
    "\n",
    "    u_xx = \\\n",
    "    sympy.diff(u_x, p_1)*P_1_x + \\\n",
    "    sympy.diff(u_x, p_2)*P_2_x\n",
    "\n",
    "    u_yy = \\\n",
    "    sympy.diff(u_y, p_1)*P_1_y + \\\n",
    "    sympy.diff(u_y, p_2)*P_2_y\n",
    "\n",
    "    u_xy = \\\n",
    "    sympy.diff(u_x, p_1)*P_1_y + \\\n",
    "    sympy.diff(u_x, p_2)*P_2_y\n",
    "\n",
    "    v_x = \\\n",
    "    sympy.diff(second, p_1)*P_1_x + \\\n",
    "    sympy.diff(second, p_2)*P_2_x\n",
    "\n",
    "    v_y = \\\n",
    "    sympy.diff(second, p_1)*P_1_y + \\\n",
    "    sympy.diff(second, p_2)*P_2_y\n",
    "\n",
    "    v_xx = \\\n",
    "    sympy.diff(v_x, p_1)*P_1_x + \\\n",
    "    sympy.diff(v_x, p_2)*P_2_x\n",
    "\n",
    "    v_yy = \\\n",
    "    sympy.diff(v_y, p_1)*P_1_y + \\\n",
    "    sympy.diff(v_y, p_2)*P_2_y\n",
    "    \n",
    "    v_xy = \\\n",
    "    sympy.diff(v_x, p_1)*P_1_y + \\\n",
    "    sympy.diff(v_x, p_2)*P_2_y\n",
    "\n",
    "    \n",
    "    A = u_xx * v_xx\n",
    "    B = u_xy * v_xy\n",
    "    C = u_yy * v_yy\n",
    "\n",
    "    sym_int = sympy.integrate(A + 2*B + C, (p_2, 0, 1-p_1), (p_1, 0, 1))\n",
    "\n",
    "    args = [P_1_x, P_2_x, P_1_y, P_2_y]\n",
    "    \n",
    "    result[f\"{idx}_{jdx}\"] = sympy.lambdify(args, sym_int)"
   ]
  },
  {
   "cell_type": "code",
   "execution_count": 23,
   "id": "2eb15485",
   "metadata": {},
   "outputs": [],
   "source": [
    "for idx, basis in enumerate(all_basis):\n",
    "    basis_norm = basis.copy().subs(p_3, 1-p_1-p_2)\n",
    "    sym_int = sympy.integrate(basis_norm, (p_2, 0, 1-p_1), (p_1, 0, 1))    \n",
    "    result[f\"{idx}\"] = sym_int"
   ]
  },
  {
   "cell_type": "code",
   "execution_count": 25,
   "id": "258fb09b",
   "metadata": {},
   "outputs": [],
   "source": [
    "import dill\n",
    "dill.settings['recurse'] = True\n",
    "dill.dump(result, open(\"final\", \"wb\"))"
   ]
  },
  {
   "cell_type": "code",
   "execution_count": 89,
   "id": "1804ec5a",
   "metadata": {},
   "outputs": [],
   "source": [
    "P_1_x, P_2_x, P_1_y, P_2_y = sympy.symbols(\"P_1_x P_2_x P_1_y P_2_y\")"
   ]
  },
  {
   "cell_type": "code",
   "execution_count": 93,
   "id": "b5842803",
   "metadata": {},
   "outputs": [
    {
     "name": "stdout",
     "output_type": "stream",
     "text": [
      "0 : 0 0 0\n",
      "1 : 0 0 0\n",
      "2 : 0 0 0\n",
      "3 : P_1_x 0 0\n",
      "4 : 0 P_1_x 0\n",
      "5 : 0 0 P_1_x\n",
      "6 : P_2_x 0 0\n",
      "7 : 0 P_2_x 0\n",
      "8 : 0 0 P_2_x\n",
      "9 : 0 0 0\n",
      "10 : 0 0 0\n",
      "11 : 0 0 0\n",
      "12 : 0 0 0\n",
      "13 : 0 0 0\n",
      "14 : 0 0 0\n",
      "15 : 0 0 0\n",
      "16 : 0 0 0\n",
      "17 : 0 0 0\n"
     ]
    }
   ],
   "source": [
    "for idx, basis in enumerate(all_basis):\n",
    "    \n",
    "    func = basis.subs(p_3, 1-p_1-p_2)\n",
    "    func = sympy.diff(func, p_1)*P_1_x + sympy.diff(func, p_2)*P_2_x\n",
    "#     func = sympy.diff(func, p_1)*P_1_x + sympy.diff(func, p_2)*P_2_x\n",
    "    \n",
    "    \n",
    "    val_1 = func.subs(p_1, 1).subs(p_2, 0)\n",
    "    val_2 = func.subs(p_1, 0).subs(p_2, 1)\n",
    "    val_3 = func.subs(p_1, 0).subs(p_2, 0)\n",
    "    \n",
    "    print(idx, \":\", val_1, val_2, val_3)"
   ]
  }
 ],
 "metadata": {
  "kernelspec": {
   "display_name": "Python 3 (ipykernel)",
   "language": "python",
   "name": "python3"
  },
  "language_info": {
   "codemirror_mode": {
    "name": "ipython",
    "version": 3
   },
   "file_extension": ".py",
   "mimetype": "text/x-python",
   "name": "python",
   "nbconvert_exporter": "python",
   "pygments_lexer": "ipython3",
   "version": "3.9.12"
  }
 },
 "nbformat": 4,
 "nbformat_minor": 5
}
