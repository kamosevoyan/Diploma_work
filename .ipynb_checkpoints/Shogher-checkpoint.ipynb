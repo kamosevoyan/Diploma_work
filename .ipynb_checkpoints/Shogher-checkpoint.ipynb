{
 "cells": [
  {
   "cell_type": "code",
   "execution_count": 38,
   "id": "5e7d9b26",
   "metadata": {},
   "outputs": [],
   "source": [
    "import numpy as np\n",
    "from sympy import legendre\n",
    "from sympy import Piecewise, symbols, lambdify, integrate\n",
    "import matplotlib.pyplot as plt\n",
    "from tqdm import tqdm"
   ]
  },
  {
   "cell_type": "code",
   "execution_count": 39,
   "id": "d0d65f15",
   "metadata": {},
   "outputs": [],
   "source": [
    "x = symbols(\"x\")"
   ]
  },
  {
   "cell_type": "code",
   "execution_count": 40,
   "id": "917429ce",
   "metadata": {},
   "outputs": [],
   "source": [
    "f = Piecewise((0, (x > -1) & (x < 0)), (1, (x > 0) & (x < 1)))"
   ]
  },
  {
   "cell_type": "code",
   "execution_count": 41,
   "id": "200bb0da",
   "metadata": {},
   "outputs": [],
   "source": [
    "f_eval = lambdify(x, f)"
   ]
  },
  {
   "cell_type": "code",
   "execution_count": 52,
   "id": "507e5004",
   "metadata": {},
   "outputs": [],
   "source": [
    "N = 20"
   ]
  },
  {
   "cell_type": "code",
   "execution_count": 53,
   "id": "38adecfc",
   "metadata": {},
   "outputs": [],
   "source": [
    "coefs = []"
   ]
  },
  {
   "cell_type": "code",
   "execution_count": 54,
   "id": "0121906a",
   "metadata": {},
   "outputs": [
    {
     "name": "stderr",
     "output_type": "stream",
     "text": [
      "100%|██████████████████████████████████████████████████████████████████████████████████████████████████████████████████████████████████████████████████████████████████████████████| 20/20 [00:02<00:00,  9.46it/s]\n"
     ]
    }
   ],
   "source": [
    "for j in tqdm(range(N)):\n",
    "    \n",
    "    C = (2*j + 1) / 2 * integrate(f * legendre(j, x), (x, -1, 1))\n",
    "    \n",
    "    coefs.append(C)"
   ]
  },
  {
   "cell_type": "code",
   "execution_count": 60,
   "id": "488aebe7",
   "metadata": {},
   "outputs": [],
   "source": [
    "S_n = coefs[0]*legendre(0, x)"
   ]
  },
  {
   "cell_type": "code",
   "execution_count": 61,
   "id": "c6f6b84f",
   "metadata": {},
   "outputs": [],
   "source": [
    "for j in range(1, N):\n",
    "    \n",
    "    S_n += coefs[j]*legendre(j, x)"
   ]
  },
  {
   "cell_type": "code",
   "execution_count": 62,
   "id": "1692210a",
   "metadata": {},
   "outputs": [],
   "source": [
    "S_n_eval = lambdify(x, S_n)"
   ]
  },
  {
   "cell_type": "code",
   "execution_count": 63,
   "id": "f43d0a67",
   "metadata": {},
   "outputs": [],
   "source": [
    "t = np.linspace(-1, 1, 10000)"
   ]
  },
  {
   "cell_type": "code",
   "execution_count": 69,
   "id": "c35460a7",
   "metadata": {},
   "outputs": [
    {
     "data": {
      "image/png": "[encoded data removed]",
      "text/plain": [
       "<Figure size 432x288 with 1 Axes>"
      ]
     },
     "metadata": {
      "needs_background": "light"
     },
     "output_type": "display_data"
    }
   ],
   "source": [
    "fig, ax = plt.subplots()\n",
    "ax.plot(t, f_eval(t))\n",
    "ax.plot(t, S_n_eval(t))\n",
    "ax.legend([\"1\", \"2\"])\n",
    "plt.show()"
   ]
  },
  {
   "cell_type": "code",
   "execution_count": 70,
   "id": "766eec8c",
   "metadata": {},
   "outputs": [
    {
     "data": {
      "text/plain": [
       "<Figure size 432x288 with 0 Axes>"
      ]
     },
     "metadata": {},
     "output_type": "display_data"
    }
   ],
   "source": [
    "manager = plt.get_current_fig_manager()\n"
   ]
  }
 ],
 "metadata": {
  "kernelspec": {
   "display_name": "Python 3 (ipykernel)",
   "language": "python",
   "name": "python3"
  },
  "language_info": {
   "codemirror_mode": {
    "name": "ipython",
    "version": 3
   },
   "file_extension": ".py",
   "mimetype": "text/x-python",
   "name": "python",
   "nbconvert_exporter": "python",
   "pygments_lexer": "ipython3",
   "version": "3.9.12"
  }
 },
 "nbformat": 4,
 "nbformat_minor": 5
}
