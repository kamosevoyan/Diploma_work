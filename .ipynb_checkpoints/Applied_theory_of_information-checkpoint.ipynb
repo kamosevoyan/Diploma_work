{
 "cells": [
  {
   "cell_type": "code",
   "execution_count": 63,
   "id": "b1ca6f8d",
   "metadata": {},
   "outputs": [],
   "source": [
    "import numpy as np"
   ]
  },
  {
   "cell_type": "code",
   "execution_count": 64,
   "id": "439e1aa9",
   "metadata": {},
   "outputs": [],
   "source": [
    "A = np.zeros((5, 5))"
   ]
  },
  {
   "cell_type": "markdown",
   "id": "11d4e4b3",
   "metadata": {},
   "source": [
    "# Հոսքերի մատրից"
   ]
  },
  {
   "cell_type": "code",
   "execution_count": 65,
   "id": "b164be9a",
   "metadata": {},
   "outputs": [],
   "source": [
    "indices = np.array([\n",
    "[0, 1],\n",
    "[0, 2],\n",
    "[1, 3],\n",
    "[2, 3],\n",
    "[3, 4],\n",
    "[0, 4]\n",
    "])"
   ]
  },
  {
   "cell_type": "markdown",
   "id": "b73dc7f9",
   "metadata": {},
   "source": [
    "# Հարևանության մատրից"
   ]
  },
  {
   "cell_type": "code",
   "execution_count": 66,
   "id": "3448a5dd",
   "metadata": {},
   "outputs": [
    {
     "data": {
      "text/plain": [
       "array([[0., 1., 1., 0., 1.],\n",
       "       [0., 0., 0., 1., 0.],\n",
       "       [0., 0., 0., 1., 0.],\n",
       "       [0., 0., 0., 0., 1.],\n",
       "       [0., 0., 0., 0., 0.]])"
      ]
     },
     "execution_count": 66,
     "metadata": {},
     "output_type": "execute_result"
    }
   ],
   "source": [
    "A[indices[:, 0], indices[:, 1]] = 1\n",
    "A"
   ]
  },
  {
   "cell_type": "code",
   "execution_count": 39,
   "id": "6e8c5b30",
   "metadata": {},
   "outputs": [],
   "source": [
    "all_A = np.zeros((0, 5, 5))"
   ]
  },
  {
   "cell_type": "code",
   "execution_count": 40,
   "id": "3a0c1346",
   "metadata": {},
   "outputs": [],
   "source": [
    "tmp = A.copy()\n",
    "\n",
    "while True:\n",
    "    \n",
    "    all_A = np.concatenate((all_A, tmp[None]))\n",
    "    \n",
    "    tmp = A@tmp\n",
    "    \n",
    "    if tmp.sum() == 0:\n",
    "        break\n"
   ]
  },
  {
   "cell_type": "markdown",
   "id": "58aeb298",
   "metadata": {},
   "source": [
    "# Հասանելիության մատրից"
   ]
  },
  {
   "cell_type": "code",
   "execution_count": 61,
   "id": "bc7a5770",
   "metadata": {},
   "outputs": [
    {
     "data": {
      "text/plain": [
       "array([[0., 1., 1., 2., 3.],\n",
       "       [0., 0., 0., 1., 1.],\n",
       "       [0., 0., 0., 1., 1.],\n",
       "       [0., 0., 0., 0., 1.],\n",
       "       [0., 0., 0., 0., 0.]])"
      ]
     },
     "execution_count": 61,
     "metadata": {},
     "output_type": "execute_result"
    }
   ],
   "source": [
    "B = all_A.sum(axis=0)\n",
    "B"
   ]
  },
  {
   "cell_type": "markdown",
   "id": "d7754999",
   "metadata": {},
   "source": [
    "# C մատրից"
   ]
  },
  {
   "cell_type": "code",
   "execution_count": 60,
   "id": "bb16d9cc",
   "metadata": {},
   "outputs": [
    {
     "data": {
      "text/plain": [
       "array([[0, 1, 1, 1, 1],\n",
       "       [0, 0, 0, 1, 1],\n",
       "       [0, 0, 0, 1, 1],\n",
       "       [0, 0, 0, 0, 1],\n",
       "       [0, 0, 0, 0, 0]])"
      ]
     },
     "execution_count": 60,
     "metadata": {},
     "output_type": "execute_result"
    }
   ],
   "source": [
    "C = (B > 0).astype(int)\n",
    "C"
   ]
  },
  {
   "cell_type": "markdown",
   "id": "ade363d4",
   "metadata": {},
   "source": [
    "# D մատրից"
   ]
  },
  {
   "cell_type": "code",
   "execution_count": 59,
   "id": "1cdfebb1",
   "metadata": {},
   "outputs": [
    {
     "data": {
      "text/plain": [
       "array([[0, 0, 0, 0, 0],\n",
       "       [0, 0, 0, 0, 0],\n",
       "       [0, 0, 0, 0, 0],\n",
       "       [0, 0, 0, 0, 0],\n",
       "       [0, 0, 0, 0, 0]])"
      ]
     },
     "execution_count": 59,
     "metadata": {},
     "output_type": "execute_result"
    }
   ],
   "source": [
    "D = ((C == 1) & (C.T == 1)).astype(int)\n",
    "D"
   ]
  },
  {
   "cell_type": "markdown",
   "id": "a91ebf08",
   "metadata": {},
   "source": [
    "# Մուտքային գագաթներ"
   ]
  },
  {
   "cell_type": "code",
   "execution_count": 57,
   "id": "bc1570f4",
   "metadata": {},
   "outputs": [
    {
     "data": {
      "text/plain": [
       "(array([0]),)"
      ]
     },
     "execution_count": 57,
     "metadata": {},
     "output_type": "execute_result"
    }
   ],
   "source": [
    "in_edges = np.where(np.all(A == 0, axis=0))\n",
    "in_edges"
   ]
  },
  {
   "cell_type": "markdown",
   "id": "525be811",
   "metadata": {},
   "source": [
    "# Ելքային գագաթներ"
   ]
  },
  {
   "cell_type": "code",
   "execution_count": 56,
   "id": "9b1c4c18",
   "metadata": {},
   "outputs": [
    {
     "data": {
      "text/plain": [
       "(array([4]),)"
      ]
     },
     "execution_count": 56,
     "metadata": {},
     "output_type": "execute_result"
    }
   ],
   "source": [
    "out_edges = np.where(np.all(A == 0, axis=1))\n",
    "out_edges"
   ]
  },
  {
   "cell_type": "markdown",
   "id": "4f67a756",
   "metadata": {},
   "source": [
    "# Գագաթների ռանգ"
   ]
  },
  {
   "cell_type": "code",
   "execution_count": 55,
   "id": "75710f0e",
   "metadata": {},
   "outputs": [
    {
     "data": {
      "text/plain": [
       "array([0., 1., 1., 2., 2.])"
      ]
     },
     "execution_count": 55,
     "metadata": {},
     "output_type": "execute_result"
    }
   ],
   "source": [
    "sigma = all_A.sum(axis=1).max(axis=0)\n",
    "sigma"
   ]
  },
  {
   "cell_type": "markdown",
   "id": "b23b3578",
   "metadata": {},
   "source": [
    "# Միջանկյալ գագաթներ"
   ]
  },
  {
   "cell_type": "code",
   "execution_count": 85,
   "id": "b3c3da6a",
   "metadata": {},
   "outputs": [
    {
     "data": {
      "text/plain": [
       "array([1, 2, 3])"
      ]
     },
     "execution_count": 85,
     "metadata": {},
     "output_type": "execute_result"
    }
   ],
   "source": [
    "tmp = np.array(list(set(np.arange(A.shape[0])) - (set(in_edges[0].tolist()) | set(out_edges[0].tolist()) )))\n",
    "tmp"
   ]
  }
 ],
 "metadata": {
  "kernelspec": {
   "display_name": "Python 3 (ipykernel)",
   "language": "python",
   "name": "python3"
  },
  "language_info": {
   "codemirror_mode": {
    "name": "ipython",
    "version": 3
   },
   "file_extension": ".py",
   "mimetype": "text/x-python",
   "name": "python",
   "nbconvert_exporter": "python",
   "pygments_lexer": "ipython3",
   "version": "3.9.12"
  }
 },
 "nbformat": 4,
 "nbformat_minor": 5
}
