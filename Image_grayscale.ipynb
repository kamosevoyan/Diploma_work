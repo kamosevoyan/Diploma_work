{
 "cells": [
  {
   "cell_type": "code",
   "execution_count": null,
   "id": "bd529769",
   "metadata": {},
   "outputs": [],
   "source": [
    "import numpy as np\n",
    "import cv2\n",
    "import matplotlib.pyplot as plt"
   ]
  },
  {
   "cell_type": "code",
   "execution_count": null,
   "id": "960b9d40",
   "metadata": {},
   "outputs": [],
   "source": [
    "img_path = \"images/poisson_equation_on_unit_circle_solution.png\""
   ]
  },
  {
   "cell_type": "code",
   "execution_count": null,
   "id": "4cc620f2",
   "metadata": {},
   "outputs": [],
   "source": [
    "image = cv2.imread(img_path)"
   ]
  },
  {
   "cell_type": "code",
   "execution_count": null,
   "id": "247fccad",
   "metadata": {},
   "outputs": [],
   "source": [
    "gray_image = gray = cv2.cvtColor(image[100:-100, 100:-1], cv2.COLOR_BGR2GRAY)"
   ]
  },
  {
   "cell_type": "code",
   "execution_count": null,
   "id": "53fee825",
   "metadata": {},
   "outputs": [],
   "source": [
    "cv2.imwrite(img_path, gray_image)"
   ]
  },
  {
   "cell_type": "code",
   "execution_count": null,
   "id": "f8ccae84",
   "metadata": {},
   "outputs": [],
   "source": [
    "plt.imshow(image[100:-100, 100:-1])"
   ]
  }
 ],
 "metadata": {
  "kernelspec": {
   "display_name": "Python 3 (ipykernel)",
   "language": "python",
   "name": "python3"
  },
  "language_info": {
   "codemirror_mode": {
    "name": "ipython",
    "version": 3
   },
   "file_extension": ".py",
   "mimetype": "text/x-python",
   "name": "python",
   "nbconvert_exporter": "python",
   "pygments_lexer": "ipython3",
   "version": "3.9.12"
  }
 },
 "nbformat": 4,
 "nbformat_minor": 5
}
