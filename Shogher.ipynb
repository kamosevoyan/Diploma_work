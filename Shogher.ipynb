{
 "cells": [
  {
   "cell_type": "code",
   "execution_count": 37,
   "id": "5e7d9b26",
   "metadata": {},
   "outputs": [],
   "source": [
    "import numpy as np\n",
    "from sympy import legendre\n",
    "from sympy import Piecewise, symbols, lambdify, integrate, Rational\n",
    "import matplotlib.pyplot as plt\n",
    "from tqdm import tqdm"
   ]
  },
  {
   "cell_type": "code",
   "execution_count": 45,
   "id": "8b985ca8",
   "metadata": {},
   "outputs": [],
   "source": [
    "degree = 40"
   ]
  },
  {
   "cell_type": "code",
   "execution_count": 46,
   "id": "36f636a6",
   "metadata": {},
   "outputs": [],
   "source": [
    "x = symbols(\"x\")\n",
    "f = Piecewise((0, (x >= -1) & (x < 0)), (1, (x >= 0) & (x <= 1)))\n",
    "f_eval = lambdify(x, f)\n",
    "\n",
    "coefs = []\n",
    "\n",
    "for j in range(degree+1):\n",
    "\n",
    "    C = Rational(2*j + 1, 2) * integrate(f * legendre(j, x), (x, -1, 1))\n",
    "\n",
    "    coefs.append(C)\n",
    "\n",
    "S_n = coefs[0]*legendre(0, x)\n",
    "\n",
    "for j in range(1, degree+1):\n",
    "\n",
    "    S_n += coefs[j]*legendre(j, x)\n",
    "\n",
    "S_n_eval = lambdify(x, S_n)\n",
    "\n",
    "t = np.linspace(-1.5, 1.5, 1000)\n",
    "\n",
    "L2_norm = (f-S_n)**2\n",
    "\n",
    "error = integrate(L2_norm, (x, -1, 1))\n"
   ]
  },
  {
   "cell_type": "code",
   "execution_count": 47,
   "id": "237980f6",
   "metadata": {},
   "outputs": [
    {
     "data": {
      "text/plain": [
       "0.007858904657103061"
      ]
     },
     "execution_count": 47,
     "metadata": {},
     "output_type": "execute_result"
    }
   ],
   "source": [
    "float(error)"
   ]
  },
  {
   "cell_type": "code",
   "execution_count": 48,
   "id": "f43d0a67",
   "metadata": {},
   "outputs": [],
   "source": [
    "t = np.linspace(-1, 1, 10000)"
   ]
  },
  {
   "cell_type": "code",
   "execution_count": 50,
   "id": "c35460a7",
   "metadata": {},
   "outputs": [
    {
     "data": {
      "image/png": "[encoded data removed]",
      "text/plain": [
       "<Figure size 432x288 with 1 Axes>"
      ]
     },
     "metadata": {
      "needs_background": "light"
     },
     "output_type": "display_data"
    }
   ],
   "source": [
    "fig, ax = plt.subplots()\n",
    "ax.plot(t, f_eval(t))\n",
    "ax.plot(t, S_n_eval(t))\n",
    "ax.legend([\"1\", \"2\"])\n",
    "plt.show()"
   ]
  },
  {
   "cell_type": "code",
   "execution_count": null,
   "id": "766eec8c",
   "metadata": {},
   "outputs": [],
   "source": []
  },
  {
   "cell_type": "code",
   "execution_count": null,
   "id": "c5392086",
   "metadata": {},
   "outputs": [],
   "source": []
  }
 ],
 "metadata": {
  "kernelspec": {
   "display_name": "Python 3 (ipykernel)",
   "language": "python",
   "name": "python3"
  },
  "language_info": {
   "codemirror_mode": {
    "name": "ipython",
    "version": 3
   },
   "file_extension": ".py",
   "mimetype": "text/x-python",
   "name": "python",
   "nbconvert_exporter": "python",
   "pygments_lexer": "ipython3",
   "version": "3.9.12"
  }
 },
 "nbformat": 4,
 "nbformat_minor": 5
}
